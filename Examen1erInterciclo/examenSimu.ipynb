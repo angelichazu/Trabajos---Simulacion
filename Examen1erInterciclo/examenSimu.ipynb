{
 "cells": [
  {
   "cell_type": "markdown",
   "id": "408db05c",
   "metadata": {},
   "source": [
    "<div align=\"center\">\n",
    "    <img src=\"https://www.universidades.com.ec/logos/original/logo-universidad-politecnica-salesiana.png\">\n",
    "    <h1 style=\"text-align: center;\"><span style=\"text-align: center; color: #0000ff;\"><strong>EXAMEN DE SIMULACION</strong></span></h1>\n",
    "    <p style=\"text-align: center;\"><span style=\"text-align: center;\"><strong>ESTUDIANTE: ANGEL RUIZ</strong></span></p>\n",
    "</div>"
   ]
  },
  {
   "cell_type": "markdown",
   "id": "9c7ee604",
   "metadata": {},
   "source": [
    "<h2>\n",
    "\t<span style=\"color: #00ff00;\">\n",
    "\t\t Importaci&oacute;n de librerias\n",
    "\t</span>\n",
    "</h2>\n",
    "<p>\n",
    "\t<span>\n",
    "\t</span>\n",
    "\t A continuaci&oacute;n se importaran todas las librer&iacute;as que se utilizaran en el proceso del\n",
    "\t<span class=\"misspelling correction\" data-type=\"misspelling\" data-suggestions=\"[{&quot;value&quot;:&quot;an&aacute;lisis&quot;},{&quot;value&quot;:&quot;ana lisis&quot;}]\" data-rule=\"MORFOLOGIK_RULE_ES\" title=\"Se ha encontrado un posible error ortogr&aacute;fico.\" data-word=\"analisis\">\n",
    "\t\t an&aacute;lisis\n",
    "\t</span>\n",
    "\t y simulaci&oacute;n de los datos.\n",
    "</p>"
   ]
  },
  {
   "cell_type": "code",
   "execution_count": 1,
   "id": "bb7a5fde",
   "metadata": {},
   "outputs": [
    {
     "data": {
      "text/html": [
       "        <script type=\"text/javascript\">\n",
       "        window.PlotlyConfig = {MathJaxConfig: 'local'};\n",
       "        if (window.MathJax) {MathJax.Hub.Config({SVG: {font: \"STIX-Web\"}});}\n",
       "        if (typeof require !== 'undefined') {\n",
       "        require.undef(\"plotly\");\n",
       "        requirejs.config({\n",
       "            paths: {\n",
       "                'plotly': ['https://cdn.plot.ly/plotly-latest.min']\n",
       "            }\n",
       "        });\n",
       "        require(['plotly'], function(Plotly) {\n",
       "            window._Plotly = Plotly;\n",
       "        });\n",
       "        }\n",
       "        </script>\n",
       "        "
      ]
     },
     "metadata": {},
     "output_type": "display_data"
    }
   ],
   "source": [
    "import pandas as pd\n",
    "import json, os\n",
    "import twint\n",
    "import nest_asyncio\n",
    "from mpl_toolkits.mplot3d import Axes3D\n",
    "import random       \n",
    "from matplotlib import pyplot \n",
    "from sklearn.model_selection import train_test_split\n",
    "from sklearn import linear_model\n",
    "import altair as alt\n",
    "import altair_viewer\n",
    "import plotly.express as px\n",
    "import plotly\n",
    "plotly.offline.init_notebook_mode(connected=True)\n",
    "import datetime as dt\n",
    "import simpy\n",
    "from datetime import datetime"
   ]
  },
  {
   "cell_type": "markdown",
   "id": "23738695",
   "metadata": {},
   "source": [
    "<h2><span style=\"color: #00ff00;\"> Extración de datos</span></h2>\n"
   ]
  },
  {
   "cell_type": "code",
   "execution_count": 23,
   "id": "e1dbc7d8",
   "metadata": {},
   "outputs": [
    {
     "name": "stdout",
     "output_type": "stream",
     "text": [
      "1400823866436489221 2021-06-04 09:36:50 -0500 <LassoGuillermo> Qué alegría me da escribirles este mensaje, para contarles que nos han confirmado que este domingo 6 de junio llegarán a nuestro país 204.000 dosis más de vacunas AstraZeneca.  Seguimos avanzando para cumplir con nuestro compromiso. 🇪🇨  #PlanVacunación9100 #JuntosLoLogramos\n",
      "1400626814075215876 2021-06-03 20:33:49 -0500 <LassoGuillermo> Conoce los 5 ejes del Plan Nacional de Desarrollo Educativo. 🇪🇨  ◦ Encontrémonos ◦ ¡Todos! ◦ Libres y flexibles ◦ Fuertes 💪🏼 ◦ Excelencia educativa   #JuntosLoLogramos por un sistema educativo seguro y con oportunidades para todos.  https://t.co/ojqAMrTrCX\n",
      "1400575566374391822 2021-06-03 17:10:11 -0500 <LassoGuillermo> Los gobernadores tienen el compromiso de trabajar por el bien exclusivo de la gente. Es un equipo que va a promover el Ecuador del encuentro con un solo objetivo: atender las necesidades de TODOS los ciudadanos en cada una de las provincias.  #JuntosLoLogramos  https://t.co/17WgCWcnj7\n",
      "1400517392778858496 2021-06-03 13:19:01 -0500 <LassoGuillermo> El retorno a clases voluntario y gradual para 1.301 instituciones educativas empieza el 7 de junio. 🇪🇨  Los niños, las niñas, los jóvenes y los maestros volverán a reencontrarse en un entorno seguro.   El compromiso es de todos, porque solo #JuntosLoLogramos.  https://t.co/dGxbZN792G\n",
      "1400478786504757257 2021-06-03 10:45:36 -0500 <LassoGuillermo> El retorno a clases presenciales es VOLUNTARIO. Por resolución del COE Nacional, será un proceso paulatino en las 1.301 instituciones educativas aprobadas. Estamos comprometidos con su seguridad y bienestar.   🇪🇨🤝  #JuntosLoLogramos\n",
      "1400265436143435779 2021-06-02 20:37:50 -0500 <LassoGuillermo> El Plan Nacional de Desarrollo Educativo asegura un retorno paulatino y voluntario a clases presenciales. Nuestro objetivo es que niños, niñas, jóvenes y maestros se reencuentren en un sistema de educación seguro, moderno e innovador. 🇪🇨  #GobiernoDelEncuentro  #JuntosLoLogramos  https://t.co/wj8Xjncvqy\n",
      "1400230269836161026 2021-06-02 18:18:06 -0500 <LassoGuillermo> Nuestra prioridad: un país seguro que busque el bienestar de todos. Hoy se realizó la primera sesión del COE Nacional con autoridades de Gobierno, donde establecimos una hoja de ruta para la reactivación del país y cuidar la salud de los ecuatorianos. 🇪🇨  #JuntosLoLogramos  https://t.co/hDFvkpHZ2X\n",
      "1400212685858525193 2021-06-02 17:08:13 -0500 <LassoGuillermo> Una economía que funcione para todos, especialmente para los más pobres.  #JuntosLoLogramos  https://t.co/8Cc3x0PWVk\n",
      "1400198268882231306 2021-06-02 16:10:56 -0500 <LassoGuillermo> Las escuelas y colegios son lugares de encuentro por excelencia. Con nuestro Plan de Educación, los niños, las niñas, los jóvenes y los maestros podrán reencontrarse y retomar sus procesos educativos. #JuntosLoLogramos con @mariabrownp y el compromiso de todas las familias. 🇪🇨  https://t.co/D0pWeyiAD7\n",
      "1400151847638384646 2021-06-02 13:06:28 -0500 <LassoGuillermo> La educación es una tarea infinita que exige enfrentar nuevos desafíos cada día, desafíos que debemos enfrentar juntos.   Hoy presentamos el Plan Retorno Gradual a clases presenciales. 🇪🇨  #GobiernoDelEncuentro #JuntosLoLogramos\n",
      "1400118584253296642 2021-06-02 10:54:18 -0500 <LassoGuillermo> ¡Volvimos! 🇪🇨  Qué alegría visitar de nuevo el Mercado Iñaquito y compartir con pequeños comerciantes y vendedores, personas trabajadoras que son el corazón de nuestro país. Gracias por todo su apoyo y cariño. 💪🏼  #JuntosLoLogramos  https://t.co/6erHqTKFZS\n",
      "1399903857606549505 2021-06-01 20:41:03 -0500 <LassoGuillermo> Estamos comprometidos con el #PlanVacunación9100. Juntos cuidamos de la salud de la gente y trabajamos por la reactivación del Ecuador. 🇪🇨  #JuntosLoLogramos  https://t.co/J1rapIw8mF\n",
      "1399882411530457088 2021-06-01 19:15:50 -0500 <LassoGuillermo> ¡El #PlanVacunación9100 avanza!  Recibimos 107.640 dosis más de vacunas para cumplir nuestra meta: 9 millones de personas en 100 días. Este es un trabajo de cooperación y corresponsabilidad. #JuntosLoLogramos por tu familia y todos tus seres queridos. 🇪🇨   https://t.co/jSxa4DcFp5\n",
      "1399846072391016448 2021-06-01 16:51:26 -0500 <LassoGuillermo> “No hay palabras más sinceras, que las expresadas por los niños”. ❤️🇪🇨  Compartí un maravilloso encuentro con niñas y niños de Chimborazo, quienes en este #DíaDelNiño expresaron sus deseos para el Ecuador: bienestar y prosperidad.  Por ellos y su futuro, #JuntosLoLogramos. 💪🏼  https://t.co/apTSeGCGQL\n",
      "1399831358264971267 2021-06-01 15:52:58 -0500 <LassoGuillermo> Ante la Gran Nación Puruhá, reafirmamos nuestro compromiso de:  ◦ Construir caminos vecinales  ◦ Salud y educación de calidad ◦ Impulsar los sectores productivos ◦ Rehabilitar escuelas rurales  ◦ Crear empleos para todos  ¡Su bienestar es la prioridad!   #JuntosLoLogramos  https://t.co/8oSoNTGZ2j\n",
      "1399813290629472258 2021-06-01 14:41:10 -0500 <LassoGuillermo> Con humildad, recibo el Bastón de Mando de los pueblos y comunidades de la Gran Nación Puruhá. Les agradezco por sus buenos deseos y oraciones, han llegado a mi corazón.  Trabajaremos con sabiduría para beneficiar siempre al pueblo ecuatoriano.  #JuntosLoLogramos  https://t.co/ilFJX4FuiN\n",
      "1399794155212132355 2021-06-01 13:25:08 -0500 <LassoGuillermo> Gracias a la Gran Nación Puruhá, a los pueblos y a las comunidades que nos dieron la bienvenida en Colta.  Este es un encuentro lleno de esperanza por el futuro. Es un honor tener la oportunidad de servirles y trabajar junto a ustedes.   ¡#JuntosLoLogramos por el 🇪🇨!  https://t.co/Dwxjv9gaAF\n",
      "1399787981339234311 2021-06-01 13:00:36 -0500 <LassoGuillermo> Los invito a acompañarme en esta especial ceremonia, que se transmitirá en vivo a través de mis redes sociales. Siempre estaré agradecido por todo su apoyo.   ¡Mi compromiso es con su bienestar! 🇪🇨  FB:  https://t.co/bhDJ4ARt0Q YT:  https://t.co/whAwEu4H1M  #JuntosLoLogramos  https://t.co/FjIB65hbHP\n",
      "[!] No more data! Scraping will stop now.\n",
      "found 0 deleted tweets in this search.\n"
     ]
    }
   ],
   "source": [
    "nest_asyncio.apply()\n",
    "c = twint.Config()\n",
    "\n",
    "c.Username = \"lassoguillermo\"\n",
    "c.Since = \"2021-06-01\"\n",
    "c.Store_json = True\n",
    "c.Output = \"data\"\n",
    "\n",
    "twint.run.Search(c)"
   ]
  },
  {
   "cell_type": "markdown",
   "id": "7bb3fb6d",
   "metadata": {},
   "source": [
    "<h2><span style=\"color: #00ff00;\"> Importaci&oacute;n de datos</span></h2>\n",
    "<p>Se importan los datasets que se ultizaran para obtener todos los datos necesarios</p>"
   ]
  },
  {
   "cell_type": "code",
   "execution_count": 24,
   "id": "69ebe52a",
   "metadata": {},
   "outputs": [
    {
     "data": {
      "text/html": [
       "<div>\n",
       "<style scoped>\n",
       "    .dataframe tbody tr th:only-of-type {\n",
       "        vertical-align: middle;\n",
       "    }\n",
       "\n",
       "    .dataframe tbody tr th {\n",
       "        vertical-align: top;\n",
       "    }\n",
       "\n",
       "    .dataframe thead th {\n",
       "        text-align: right;\n",
       "    }\n",
       "</style>\n",
       "<table border=\"1\" class=\"dataframe\">\n",
       "  <thead>\n",
       "    <tr style=\"text-align: right;\">\n",
       "      <th></th>\n",
       "      <th>id</th>\n",
       "      <th>conversation_id</th>\n",
       "      <th>created_at</th>\n",
       "      <th>date</th>\n",
       "      <th>time</th>\n",
       "      <th>timezone</th>\n",
       "      <th>user_id</th>\n",
       "      <th>username</th>\n",
       "      <th>name</th>\n",
       "      <th>place</th>\n",
       "      <th>...</th>\n",
       "      <th>geo</th>\n",
       "      <th>source</th>\n",
       "      <th>user_rt_id</th>\n",
       "      <th>user_rt</th>\n",
       "      <th>retweet_id</th>\n",
       "      <th>reply_to</th>\n",
       "      <th>retweet_date</th>\n",
       "      <th>translate</th>\n",
       "      <th>trans_src</th>\n",
       "      <th>trans_dest</th>\n",
       "    </tr>\n",
       "  </thead>\n",
       "  <tbody>\n",
       "    <tr>\n",
       "      <th>0</th>\n",
       "      <td>1398781708930068486</td>\n",
       "      <td>1398755815880863744</td>\n",
       "      <td>2021-05-29 18:22:02-05:00</td>\n",
       "      <td>2021-05-29</td>\n",
       "      <td>18:22:02</td>\n",
       "      <td>-500</td>\n",
       "      <td>300390462</td>\n",
       "      <td>lassoguillermo</td>\n",
       "      <td>Guillermo Lasso</td>\n",
       "      <td></td>\n",
       "      <td>...</td>\n",
       "      <td></td>\n",
       "      <td></td>\n",
       "      <td></td>\n",
       "      <td></td>\n",
       "      <td></td>\n",
       "      <td>[{'screen_name': 'DeporteEc', 'name': 'Ministe...</td>\n",
       "      <td></td>\n",
       "      <td></td>\n",
       "      <td></td>\n",
       "      <td></td>\n",
       "    </tr>\n",
       "    <tr>\n",
       "      <th>1</th>\n",
       "      <td>1398754778876977153</td>\n",
       "      <td>1398754778876977152</td>\n",
       "      <td>2021-05-29 16:35:01-05:00</td>\n",
       "      <td>2021-05-29</td>\n",
       "      <td>16:35:01</td>\n",
       "      <td>-500</td>\n",
       "      <td>300390462</td>\n",
       "      <td>lassoguillermo</td>\n",
       "      <td>Guillermo Lasso</td>\n",
       "      <td></td>\n",
       "      <td>...</td>\n",
       "      <td></td>\n",
       "      <td></td>\n",
       "      <td></td>\n",
       "      <td></td>\n",
       "      <td></td>\n",
       "      <td>[]</td>\n",
       "      <td></td>\n",
       "      <td></td>\n",
       "      <td></td>\n",
       "      <td></td>\n",
       "    </tr>\n",
       "    <tr>\n",
       "      <th>2</th>\n",
       "      <td>1398428301719478272</td>\n",
       "      <td>1398428301719478272</td>\n",
       "      <td>2021-05-28 18:57:43-05:00</td>\n",
       "      <td>2021-05-28</td>\n",
       "      <td>18:57:43</td>\n",
       "      <td>-500</td>\n",
       "      <td>300390462</td>\n",
       "      <td>lassoguillermo</td>\n",
       "      <td>Guillermo Lasso</td>\n",
       "      <td></td>\n",
       "      <td>...</td>\n",
       "      <td></td>\n",
       "      <td></td>\n",
       "      <td></td>\n",
       "      <td></td>\n",
       "      <td></td>\n",
       "      <td>[]</td>\n",
       "      <td></td>\n",
       "      <td></td>\n",
       "      <td></td>\n",
       "      <td></td>\n",
       "    </tr>\n",
       "    <tr>\n",
       "      <th>3</th>\n",
       "      <td>1398404559706468355</td>\n",
       "      <td>1398404559706468352</td>\n",
       "      <td>2021-05-28 17:23:22-05:00</td>\n",
       "      <td>2021-05-28</td>\n",
       "      <td>17:23:22</td>\n",
       "      <td>-500</td>\n",
       "      <td>300390462</td>\n",
       "      <td>lassoguillermo</td>\n",
       "      <td>Guillermo Lasso</td>\n",
       "      <td></td>\n",
       "      <td>...</td>\n",
       "      <td></td>\n",
       "      <td></td>\n",
       "      <td></td>\n",
       "      <td></td>\n",
       "      <td></td>\n",
       "      <td>[]</td>\n",
       "      <td></td>\n",
       "      <td></td>\n",
       "      <td></td>\n",
       "      <td></td>\n",
       "    </tr>\n",
       "    <tr>\n",
       "      <th>4</th>\n",
       "      <td>1398334078986903565</td>\n",
       "      <td>1398334078986903552</td>\n",
       "      <td>2021-05-28 12:43:18-05:00</td>\n",
       "      <td>2021-05-28</td>\n",
       "      <td>12:43:18</td>\n",
       "      <td>-500</td>\n",
       "      <td>300390462</td>\n",
       "      <td>lassoguillermo</td>\n",
       "      <td>Guillermo Lasso</td>\n",
       "      <td></td>\n",
       "      <td>...</td>\n",
       "      <td></td>\n",
       "      <td></td>\n",
       "      <td></td>\n",
       "      <td></td>\n",
       "      <td></td>\n",
       "      <td>[]</td>\n",
       "      <td></td>\n",
       "      <td></td>\n",
       "      <td></td>\n",
       "      <td></td>\n",
       "    </tr>\n",
       "  </tbody>\n",
       "</table>\n",
       "<p>5 rows × 36 columns</p>\n",
       "</div>"
      ],
      "text/plain": [
       "                    id      conversation_id                created_at  \\\n",
       "0  1398781708930068486  1398755815880863744 2021-05-29 18:22:02-05:00   \n",
       "1  1398754778876977153  1398754778876977152 2021-05-29 16:35:01-05:00   \n",
       "2  1398428301719478272  1398428301719478272 2021-05-28 18:57:43-05:00   \n",
       "3  1398404559706468355  1398404559706468352 2021-05-28 17:23:22-05:00   \n",
       "4  1398334078986903565  1398334078986903552 2021-05-28 12:43:18-05:00   \n",
       "\n",
       "        date      time  timezone    user_id        username             name  \\\n",
       "0 2021-05-29  18:22:02      -500  300390462  lassoguillermo  Guillermo Lasso   \n",
       "1 2021-05-29  16:35:01      -500  300390462  lassoguillermo  Guillermo Lasso   \n",
       "2 2021-05-28  18:57:43      -500  300390462  lassoguillermo  Guillermo Lasso   \n",
       "3 2021-05-28  17:23:22      -500  300390462  lassoguillermo  Guillermo Lasso   \n",
       "4 2021-05-28  12:43:18      -500  300390462  lassoguillermo  Guillermo Lasso   \n",
       "\n",
       "  place  ... geo source user_rt_id user_rt retweet_id  \\\n",
       "0        ...                                            \n",
       "1        ...                                            \n",
       "2        ...                                            \n",
       "3        ...                                            \n",
       "4        ...                                            \n",
       "\n",
       "                                            reply_to  retweet_date  translate  \\\n",
       "0  [{'screen_name': 'DeporteEc', 'name': 'Ministe...                            \n",
       "1                                                 []                            \n",
       "2                                                 []                            \n",
       "3                                                 []                            \n",
       "4                                                 []                            \n",
       "\n",
       "  trans_src trans_dest  \n",
       "0                       \n",
       "1                       \n",
       "2                       \n",
       "3                       \n",
       "4                       \n",
       "\n",
       "[5 rows x 36 columns]"
      ]
     },
     "execution_count": 24,
     "metadata": {},
     "output_type": "execute_result"
    }
   ],
   "source": [
    "df= pd.read_json('data/data.json',lines=True)\n",
    "df.head()"
   ]
  },
  {
   "cell_type": "code",
   "execution_count": 4,
   "id": "50654bd3",
   "metadata": {},
   "outputs": [
    {
     "data": {
      "text/html": [
       "<div>\n",
       "<style scoped>\n",
       "    .dataframe tbody tr th:only-of-type {\n",
       "        vertical-align: middle;\n",
       "    }\n",
       "\n",
       "    .dataframe tbody tr th {\n",
       "        vertical-align: top;\n",
       "    }\n",
       "\n",
       "    .dataframe thead th {\n",
       "        text-align: right;\n",
       "    }\n",
       "</style>\n",
       "<table border=\"1\" class=\"dataframe\">\n",
       "  <thead>\n",
       "    <tr style=\"text-align: right;\">\n",
       "      <th></th>\n",
       "      <th>username</th>\n",
       "      <th>tweet</th>\n",
       "      <th>replies_count</th>\n",
       "      <th>likes_count</th>\n",
       "      <th>retweets_count</th>\n",
       "    </tr>\n",
       "  </thead>\n",
       "  <tbody>\n",
       "    <tr>\n",
       "      <th>0</th>\n",
       "      <td>lassoguillermo</td>\n",
       "      <td>@DeporteEc ¡Grande Marizol! Ecuador es cuna de...</td>\n",
       "      <td>0</td>\n",
       "      <td>48</td>\n",
       "      <td>17</td>\n",
       "    </tr>\n",
       "    <tr>\n",
       "      <th>1</th>\n",
       "      <td>lassoguillermo</td>\n",
       "      <td>¡Felicidades @MorejonGlenda! Ella y más deport...</td>\n",
       "      <td>28</td>\n",
       "      <td>1213</td>\n",
       "      <td>216</td>\n",
       "    </tr>\n",
       "    <tr>\n",
       "      <th>2</th>\n",
       "      <td>lassoguillermo</td>\n",
       "      <td>¡Una buena noticia!  @EmbajadaChinaEc me infor...</td>\n",
       "      <td>638</td>\n",
       "      <td>10703</td>\n",
       "      <td>1542</td>\n",
       "    </tr>\n",
       "    <tr>\n",
       "      <th>3</th>\n",
       "      <td>lassoguillermo</td>\n",
       "      <td>¡Primera visita a Guayas! Nos reunimos en la G...</td>\n",
       "      <td>134</td>\n",
       "      <td>2061</td>\n",
       "      <td>384</td>\n",
       "    </tr>\n",
       "    <tr>\n",
       "      <th>4</th>\n",
       "      <td>lassoguillermo</td>\n",
       "      <td>En la reunión con el presidente del @el_BID, M...</td>\n",
       "      <td>134</td>\n",
       "      <td>1922</td>\n",
       "      <td>402</td>\n",
       "    </tr>\n",
       "  </tbody>\n",
       "</table>\n",
       "</div>"
      ],
      "text/plain": [
       "         username                                              tweet  \\\n",
       "0  lassoguillermo  @DeporteEc ¡Grande Marizol! Ecuador es cuna de...   \n",
       "1  lassoguillermo  ¡Felicidades @MorejonGlenda! Ella y más deport...   \n",
       "2  lassoguillermo  ¡Una buena noticia!  @EmbajadaChinaEc me infor...   \n",
       "3  lassoguillermo  ¡Primera visita a Guayas! Nos reunimos en la G...   \n",
       "4  lassoguillermo  En la reunión con el presidente del @el_BID, M...   \n",
       "\n",
       "   replies_count  likes_count  retweets_count  \n",
       "0              0           48              17  \n",
       "1             28         1213             216  \n",
       "2            638        10703            1542  \n",
       "3            134         2061             384  \n",
       "4            134         1922             402  "
      ]
     },
     "execution_count": 4,
     "metadata": {},
     "output_type": "execute_result"
    }
   ],
   "source": [
    "df_tweets = df[['username', 'tweet', 'replies_count', 'likes_count', 'retweets_count']]\n",
    "df_tweets.head()"
   ]
  },
  {
   "cell_type": "markdown",
   "id": "603859af",
   "metadata": {},
   "source": [
    "<h2><span style=\"color: #00ff00;\"> Modelo Matemático</span></h2>\n",
    "<p>Creamos nuestro modelo matemático de regresión multivariante, utilizando como entradas los replies y likes y así poder predecir cuantos retweets va a tener. Se eligieron estas variables, ya que una vez realizada el análisis de la data podemos observar la correlación que tienen las variables</p>"
   ]
  },
  {
   "cell_type": "code",
   "execution_count": 5,
   "id": "a16bbd65",
   "metadata": {},
   "outputs": [
    {
     "data": {
      "image/png": "[encoded data removed]",
      "text/plain": [
       "<Figure size 576x432 with 1 Axes>"
      ]
     },
     "metadata": {
      "needs_background": "light"
     },
     "output_type": "display_data"
    }
   ],
   "source": [
    "fig = pyplot.figure(figsize=(8, 6))       \n",
    "ax = Axes3D(fig)\n",
    "\n",
    "x1 = df_tweets[\"likes_count\"]                            \n",
    "x2 = df_tweets[\"replies_count\"]                             \n",
    "y = df_tweets[\"retweets_count\"]                               \n",
    "\n",
    "ax.scatter(x1, x2, y, marker='*', c='r')\n",
    "ax.set_xlabel('Num. de Likes')        \n",
    "ax.set_ylabel('Num. Retweets')      \n",
    "ax.set_zlabel('Num. Replies');   "
   ]
  },
  {
   "cell_type": "markdown",
   "id": "610de2de",
   "metadata": {},
   "source": [
    "<h2>Definimos las variables</h2>\n"
   ]
  },
  {
   "cell_type": "code",
   "execution_count": 6,
   "id": "3b1c9cd6",
   "metadata": {},
   "outputs": [],
   "source": [
    "X_multiple = df_tweets[['replies_count', 'likes_count']]\n",
    "y_multiple = df_tweets[['retweets_count']]"
   ]
  },
  {
   "cell_type": "markdown",
   "id": "cb470182",
   "metadata": {},
   "source": [
    "<h2>Separamos los datos para entrenamiento y pruebas</h2>"
   ]
  },
  {
   "cell_type": "code",
   "execution_count": 7,
   "id": "27632e35",
   "metadata": {},
   "outputs": [],
   "source": [
    "X_train, X_test, y_train, y_test = train_test_split(X_multiple, y_multiple, test_size=0.2)"
   ]
  },
  {
   "cell_type": "markdown",
   "id": "6e0d67c7",
   "metadata": {},
   "source": [
    "<h2>Definimos el modelo matemático</h2>"
   ]
  },
  {
   "cell_type": "code",
   "execution_count": 8,
   "id": "057a1935",
   "metadata": {},
   "outputs": [],
   "source": [
    "lr_multiple = linear_model.LinearRegression()"
   ]
  },
  {
   "cell_type": "markdown",
   "id": "fba4510b",
   "metadata": {},
   "source": [
    "<h2>Entrenamos nuestro modelo matemático</h2>"
   ]
  },
  {
   "cell_type": "code",
   "execution_count": 9,
   "id": "0153b0ff",
   "metadata": {},
   "outputs": [
    {
     "data": {
      "text/plain": [
       "LinearRegression()"
      ]
     },
     "execution_count": 9,
     "metadata": {},
     "output_type": "execute_result"
    }
   ],
   "source": [
    "lr_multiple.fit(X_train, y_train)"
   ]
  },
  {
   "cell_type": "code",
   "execution_count": 10,
   "id": "4bc0891a",
   "metadata": {},
   "outputs": [
    {
     "name": "stdout",
     "output_type": "stream",
     "text": [
      "DATOS DEL MODELO REGRESIÓN LINEAL MULTIPLE\n",
      "\n",
      "Valor de las pendientes o coeficientes \"a\":\n",
      "[[0.37070793 0.14055916]]\n",
      "Valor de la intersección o coeficiente \"b\":\n",
      "[7.57060296]\n"
     ]
    }
   ],
   "source": [
    "print('DATOS DEL MODELO REGRESIÓN LINEAL MULTIPLE')\n",
    "print()\n",
    "print('Valor de las pendientes o coeficientes \"a\":')\n",
    "print(lr_multiple.coef_)\n",
    "print('Valor de la intersección o coeficiente \"b\":')\n",
    "print(lr_multiple.intercept_)"
   ]
  },
  {
   "cell_type": "code",
   "execution_count": 11,
   "id": "cf9e1b76",
   "metadata": {},
   "outputs": [
    {
     "name": "stdout",
     "output_type": "stream",
     "text": [
      "Precisión del modelo:\n",
      "0.9124527804960922\n"
     ]
    }
   ],
   "source": [
    "print('Precisión del modelo:')\n",
    "print(lr_multiple.score(X_train, y_train))"
   ]
  },
  {
   "cell_type": "code",
   "execution_count": 25,
   "id": "58ed0c5b",
   "metadata": {},
   "outputs": [
    {
     "data": {
      "text/html": [
       "<div>\n",
       "<style scoped>\n",
       "    .dataframe tbody tr th:only-of-type {\n",
       "        vertical-align: middle;\n",
       "    }\n",
       "\n",
       "    .dataframe tbody tr th {\n",
       "        vertical-align: top;\n",
       "    }\n",
       "\n",
       "    .dataframe thead th {\n",
       "        text-align: right;\n",
       "    }\n",
       "</style>\n",
       "<table border=\"1\" class=\"dataframe\">\n",
       "  <thead>\n",
       "    <tr style=\"text-align: right;\">\n",
       "      <th></th>\n",
       "      <th>replies_count</th>\n",
       "      <th>likes_count</th>\n",
       "    </tr>\n",
       "  </thead>\n",
       "  <tbody>\n",
       "    <tr>\n",
       "      <th>0</th>\n",
       "      <td>126</td>\n",
       "      <td>30</td>\n",
       "    </tr>\n",
       "    <tr>\n",
       "      <th>1</th>\n",
       "      <td>20</td>\n",
       "      <td>1200</td>\n",
       "    </tr>\n",
       "  </tbody>\n",
       "</table>\n",
       "</div>"
      ],
      "text/plain": [
       "   replies_count  likes_count\n",
       "0            126           30\n",
       "1             20         1200"
      ]
     },
     "execution_count": 25,
     "metadata": {},
     "output_type": "execute_result"
    }
   ],
   "source": [
    "df = pd.DataFrame()\n",
    "\n",
    "replies_count = [126,20]\n",
    "likes_count = [30, 1200 ]\n",
    "\n",
    "df['replies_count'] = replies_count\n",
    "df['likes_count'] = likes_count\n",
    "\n",
    "df.head()"
   ]
  },
  {
   "cell_type": "code",
   "execution_count": 26,
   "id": "308890a3",
   "metadata": {},
   "outputs": [
    {
     "data": {
      "text/plain": [
       "array([[ 58.49657696],\n",
       "       [183.65575574]])"
      ]
     },
     "execution_count": 26,
     "metadata": {},
     "output_type": "execute_result"
    }
   ],
   "source": [
    "Y_pred_multiple = lr_multiple.predict(df)\n",
    "\n",
    "Y_pred_multiple"
   ]
  },
  {
   "cell_type": "markdown",
   "id": "94ecf252",
   "metadata": {},
   "source": [
    "<h2><span style=\"color: #00ff00;\">Simulación Covid</span></h2>\n",
    "<p>Creamos una simulación de un recinto de vacunación, específicamente seleccioné el de colisión Jefferson Pérez, para ello primero definimos todas las variables globales que utilizaremos </p>"
   ]
  },
  {
   "cell_type": "code",
   "execution_count": 14,
   "id": "1c31e373",
   "metadata": {},
   "outputs": [],
   "source": [
    "NUM_VACUNAS = 100\n",
    "NUM_PERSONAS_VACUNANDO = 5\n",
    "NUM_TOMANDO_DATOS = 5\n",
    "NUM_CERTIFICADO = 5\n",
    "TIEMPO_SIM = 540\n",
    "TIEMPO_ESPERA = 0\n",
    "INVERTAVALO = 4\n",
    "DATE_SECOND = datetime.now().strftime('%Y/%m/%d')\n",
    "List = []"
   ]
  },
  {
   "cell_type": "markdown",
   "id": "ef930697",
   "metadata": {},
   "source": [
    "Para realizar la simulacion vamos a utilizar clases ya que nos permite tener de forma ordenada nuestro codigo, teniendo en cuenta vamos a realizar las siguientes clases.\n",
    "\n",
    "* Persona: El ciudadano a vacunar\n",
    "* Vacunacion: Proceso de vacunacion\n",
    "* Simulacion : Realiza la simulacion\n",
    "* ProblemaExamen: Clase Exception\n",
    "\n",
    "<h2>Una vez definidas nuestras clases, codificamos toda la logica de nuestra simulación</h2>"
   ]
  },
  {
   "cell_type": "code",
   "execution_count": 15,
   "id": "99c5b7f4",
   "metadata": {},
   "outputs": [],
   "source": [
    "class ProblemaExamen(Exception):\n",
    "    pass\n",
    "\n",
    "\n",
    "class Persona():\n",
    "    def __init__(self, nombre='', problema=0):\n",
    "        self.nombre = nombre\n",
    "        self.problema = problema\n",
    "        self.reagendadaCita = ''\n",
    "        self.sigDosis = ''\n",
    "\n",
    "\n",
    "class VacunaException(Exception):\n",
    "    pass\n",
    "\n",
    "\n",
    "class Vacunacion():\n",
    "    def __init__(self, entorno):\n",
    "        global NUM_PERSONAS_VACUNANDO, NUM_CERTIFICADO, NUM_TOMANDO_DATOS, NUM_VACUNAS\n",
    "        self.entorno = entorno\n",
    "        self.persona_v = simpy.Resource(entorno, NUM_PERSONAS_VACUNANDO)\n",
    "        self.persona_e = simpy.Resource(entorno, NUM_TOMANDO_DATOS)\n",
    "        self.persona_c = simpy.Resource(entorno, NUM_CERTIFICADO)\n",
    "        self.vacunas = NUM_VACUNAS\n",
    "        self.examen = None\n",
    "        self.probabilidad = [0.8, 0.2]\n",
    "        self.examen_result = [0, 1]\n",
    "\n",
    "    def print_process(self, persona, hora, accion):\n",
    "        print(\n",
    "            '[{}] || Hora:[{:,.2f}] || Accion [{}].'.format(persona, hora, accion))\n",
    "\n",
    "    def proceso_examen(self, tiempo):\n",
    "        self.examen = random.choices(\n",
    "            self.examen_result, self.probabilidad, k=1)\n",
    "        yield self.entorno.timeout(tiempo)\n",
    "\n",
    "    def datos_certificados(self, tiempo):\n",
    "        yield self.entorno.timeout(tiempo)\n",
    "\n",
    "    def vacunacion_persona(self, tiempo):\n",
    "        self.vacunas = self.vacunas-1\n",
    "        yield self.entorno.timeout(tiempo)\n",
    "\n",
    "    def proceso_certifcado(self, tiempo):\n",
    "        yield self.entorno.timeout(tiempo)\n",
    "\n",
    "    def proceso_salida(self, tiempo):\n",
    "        yield self.entorno.timeout(tiempo)\n",
    "\n",
    "    def proceso_vacunacion(self, persona):\n",
    "        global List\n",
    "        tiempo_examen = 0\n",
    "        tiempo_datos = 0\n",
    "        tiempo_vacuna = 0\n",
    "        tiempo_certificado = 0\n",
    "        tiempo_salida = 0\n",
    "        resultado_vacuna = 0\n",
    "        tiempo_espera = 0\n",
    "\n",
    "        self.print_process(persona.nombre, self.entorno.now,\n",
    "                           'Llega al recinto')\n",
    "        espera = self.entorno.now\n",
    "        with self.persona_e.request() as mesa:\n",
    "            yield mesa\n",
    "            self.print_process(\n",
    "                persona.nombre, self.entorno.now, 'Llego a la mesa')\n",
    "            self.print_process(persona.nombre, self.entorno.now,\n",
    "                               'Entra al proceso de examen')\n",
    "            tiempo_espera = self.entorno.now - espera\n",
    "            tiempo_examen = 20\n",
    "\n",
    "            yield self.entorno.process(self.proceso_examen(tiempo_examen))\n",
    "\n",
    "        try:\n",
    "            if(self.examen[0] == 0):\n",
    "                resultado_vacuna = 1\n",
    "                self.print_process(\n",
    "                persona.nombre, self.entorno.now, 'Paso el proceso de revisión')\n",
    "\n",
    "                with self.persona_c.request() as certificado:\n",
    "                    self.print_process(persona.nombre, self.entorno.now, 'Entra al proceso de toma de datos')\n",
    "                    yield certificado\n",
    "                    tiempo_datos = random.randint(2, 4)\n",
    "                    yield self.entorno.process(self.datos_certificados(tiempo_datos))\n",
    "                    self.print_process(persona.nombre, self.entorno.now, 'Se tomaron los datos')\n",
    "\n",
    "                    with self.persona_v.request() as vacunacion:\n",
    "                        yield vacunacion\n",
    "\n",
    "                        try:\n",
    "                            if(self.vacunas > 0):\n",
    "                                self.print_process(\n",
    "                                persona.nombre, self.entorno.now, 'Llegó a la vacunacion')\n",
    "                                tiempo_vacuna = random.randint(5, 10)\n",
    "                                yield self.entorno.process(self.vacunacion_persona(tiempo_vacuna))\n",
    "                                self.print_process(\n",
    "                                persona.nombre, self.entorno.now, 'Vacunacion correcta')\n",
    "\n",
    "                                tiempo_certificado = random.randint(1, 3)\n",
    "                                yield self.entorno.process(self.proceso_certifcado(tiempo_certificado))\n",
    "                                persona.sigDosis = datetime.strftime(datetime.strptime(DATE_SECOND, '%Y/%m/%d')+dt.timedelta(days=21), '%Y/%m/%d')\n",
    "                                self.print_process(\n",
    "                                persona.nombre, self.entorno.now, 'Se entrega el certicado, la siguiente cita es {}'.format(persona.reagendadaCita))\n",
    "                            else:\n",
    "                                raise VacunaException\n",
    "                        except VacunaException:\n",
    "                            persona.reagendadaCita = datetime.strftime(datetime.strptime(DATE_SECOND, '%Y/%m/%d')+dt.timedelta(days=random.randint(2,5)), '%Y/%m/%d')\n",
    "                            resultado_vacuna = 0\n",
    "                            self.print_process(\n",
    "                            persona.nombre, self.entorno.now, 'No se realizo la vacunacion, Proxima fecha {}'.format(persona.reagendadaCita))\n",
    "            else:\n",
    "                raise ProblemaExamen\n",
    "        except ProblemaExamen:\n",
    "            persona.reagendadaCita = datetime.strftime(datetime.strptime(DATE_SECOND,'%Y/%m/%d')+dt.timedelta(days=random.randint(2,5)),'%Y/%m/%d')\n",
    "            resultado_vacuna = 0\n",
    "            self.print_process(persona.nombre, self.entorno.now, 'No pasó el proceso de vacunacion, Proxima fecha {}'.format(persona.reagendadaCita))\n",
    "        tiempo_salida = random.randint(1,5)\n",
    "        self.entorno.process(self.proceso_salida(tiempo_salida))\n",
    "        self.print_process(persona.nombre, self.entorno.now, 'Sale del recinto')\n",
    "        List.append((persona.nombre,persona.sigDosis,persona.reagendadaCita,tiempo_examen,tiempo_datos,tiempo_vacuna,tiempo_certificado,tiempo_salida,tiempo_espera,resultado_vacuna))\n",
    "            \n",
    "class Simulacion():\n",
    "    def __init__(self, personas_simulacion):\n",
    "        self.personas_simulacion = personas_simulacion\n",
    "        self.nombre = 'persona_{}'\n",
    "    \n",
    "    def lanzarSimulacion(self,entorno):\n",
    "        global INVERTAVALO\n",
    "        vacunacion = Vacunacion(entorno)\n",
    "    \n",
    "        self.iniciarPersona(entorno,vacunacion)\n",
    "        \n",
    "        while True:\n",
    "            yield entorno.timeout(random.randint(INVERTAVALO-2, INVERTAVALO+2))\n",
    "            nombre = self.nombre.format(self.personas_simulacion)\n",
    "            persona = Persona(nombre)\n",
    "            entorno.process(vacunacion.proceso_vacunacion(persona))\n",
    "            self.personas_simulacion+=1\n",
    "    \n",
    "    def iniciarPersona(self,entorno,vacunacion):\n",
    "        for i in range(self.personas_simulacion):\n",
    "            nombre = self.nombre.format(i)\n",
    "            persona = Persona(nombre)\n",
    "            entorno.process(vacunacion.proceso_vacunacion(persona))\n",
    "            \n"
   ]
  },
  {
   "cell_type": "markdown",
   "id": "c1c7adb3",
   "metadata": {},
   "source": [
    "<h2>Ejecutamos nuestra simulación</h2>"
   ]
  },
  {
   "cell_type": "code",
   "execution_count": 16,
   "id": "261add14",
   "metadata": {},
   "outputs": [
    {
     "name": "stdout",
     "output_type": "stream",
     "text": [
      "[persona_0] || Hora:[0.00] || Accion [Llega al recinto].\n",
      "[persona_1] || Hora:[0.00] || Accion [Llega al recinto].\n",
      "[persona_2] || Hora:[0.00] || Accion [Llega al recinto].\n",
      "[persona_3] || Hora:[0.00] || Accion [Llega al recinto].\n",
      "[persona_4] || Hora:[0.00] || Accion [Llega al recinto].\n",
      "[persona_5] || Hora:[0.00] || Accion [Llega al recinto].\n",
      "[persona_6] || Hora:[0.00] || Accion [Llega al recinto].\n",
      "[persona_0] || Hora:[0.00] || Accion [Llego a la mesa].\n",
      "[persona_0] || Hora:[0.00] || Accion [Entra al proceso de examen].\n",
      "[persona_1] || Hora:[0.00] || Accion [Llego a la mesa].\n",
      "[persona_1] || Hora:[0.00] || Accion [Entra al proceso de examen].\n",
      "[persona_2] || Hora:[0.00] || Accion [Llego a la mesa].\n",
      "[persona_2] || Hora:[0.00] || Accion [Entra al proceso de examen].\n",
      "[persona_3] || Hora:[0.00] || Accion [Llego a la mesa].\n",
      "[persona_3] || Hora:[0.00] || Accion [Entra al proceso de examen].\n",
      "[persona_4] || Hora:[0.00] || Accion [Llego a la mesa].\n",
      "[persona_4] || Hora:[0.00] || Accion [Entra al proceso de examen].\n",
      "[persona_7] || Hora:[5.00] || Accion [Llega al recinto].\n",
      "[persona_8] || Hora:[7.00] || Accion [Llega al recinto].\n",
      "[persona_9] || Hora:[12.00] || Accion [Llega al recinto].\n",
      "[persona_10] || Hora:[16.00] || Accion [Llega al recinto].\n",
      "[persona_11] || Hora:[18.00] || Accion [Llega al recinto].\n",
      "[persona_12] || Hora:[20.00] || Accion [Llega al recinto].\n",
      "[persona_0] || Hora:[20.00] || Accion [Paso el proceso de revisión].\n",
      "[persona_0] || Hora:[20.00] || Accion [Entra al proceso de toma de datos].\n",
      "[persona_1] || Hora:[20.00] || Accion [Paso el proceso de revisión].\n",
      "[persona_1] || Hora:[20.00] || Accion [Entra al proceso de toma de datos].\n",
      "[persona_2] || Hora:[20.00] || Accion [Paso el proceso de revisión].\n",
      "[persona_2] || Hora:[20.00] || Accion [Entra al proceso de toma de datos].\n",
      "[persona_3] || Hora:[20.00] || Accion [Paso el proceso de revisión].\n",
      "[persona_3] || Hora:[20.00] || Accion [Entra al proceso de toma de datos].\n",
      "[persona_4] || Hora:[20.00] || Accion [Paso el proceso de revisión].\n",
      "[persona_4] || Hora:[20.00] || Accion [Entra al proceso de toma de datos].\n",
      "[persona_5] || Hora:[20.00] || Accion [Llego a la mesa].\n",
      "[persona_5] || Hora:[20.00] || Accion [Entra al proceso de examen].\n",
      "[persona_6] || Hora:[20.00] || Accion [Llego a la mesa].\n",
      "[persona_6] || Hora:[20.00] || Accion [Entra al proceso de examen].\n",
      "[persona_7] || Hora:[20.00] || Accion [Llego a la mesa].\n",
      "[persona_7] || Hora:[20.00] || Accion [Entra al proceso de examen].\n",
      "[persona_8] || Hora:[20.00] || Accion [Llego a la mesa].\n",
      "[persona_8] || Hora:[20.00] || Accion [Entra al proceso de examen].\n",
      "[persona_9] || Hora:[20.00] || Accion [Llego a la mesa].\n",
      "[persona_9] || Hora:[20.00] || Accion [Entra al proceso de examen].\n",
      "[persona_13] || Hora:[22.00] || Accion [Llega al recinto].\n",
      "[persona_0] || Hora:[22.00] || Accion [Se tomaron los datos].\n",
      "[persona_1] || Hora:[22.00] || Accion [Se tomaron los datos].\n",
      "[persona_2] || Hora:[22.00] || Accion [Se tomaron los datos].\n",
      "[persona_3] || Hora:[22.00] || Accion [Se tomaron los datos].\n",
      "[persona_0] || Hora:[22.00] || Accion [Llegó a la vacunacion].\n",
      "[persona_1] || Hora:[22.00] || Accion [Llegó a la vacunacion].\n",
      "[persona_2] || Hora:[22.00] || Accion [Llegó a la vacunacion].\n",
      "[persona_3] || Hora:[22.00] || Accion [Llegó a la vacunacion].\n",
      "[persona_4] || Hora:[24.00] || Accion [Se tomaron los datos].\n",
      "[persona_4] || Hora:[24.00] || Accion [Llegó a la vacunacion].\n",
      "[persona_14] || Hora:[26.00] || Accion [Llega al recinto].\n",
      "[persona_0] || Hora:[28.00] || Accion [Vacunacion correcta].\n",
      "[persona_3] || Hora:[28.00] || Accion [Vacunacion correcta].\n",
      "[persona_0] || Hora:[29.00] || Accion [Se entrega el certicado, la siguiente cita es ].\n",
      "[persona_0] || Hora:[29.00] || Accion [Sale del recinto].\n",
      "[persona_2] || Hora:[30.00] || Accion [Vacunacion correcta].\n",
      "[persona_3] || Hora:[30.00] || Accion [Se entrega el certicado, la siguiente cita es ].\n",
      "[persona_3] || Hora:[30.00] || Accion [Sale del recinto].\n",
      "[persona_1] || Hora:[31.00] || Accion [Vacunacion correcta].\n",
      "[persona_15] || Hora:[32.00] || Accion [Llega al recinto].\n",
      "[persona_2] || Hora:[32.00] || Accion [Se entrega el certicado, la siguiente cita es ].\n",
      "[persona_2] || Hora:[32.00] || Accion [Sale del recinto].\n",
      "[persona_4] || Hora:[33.00] || Accion [Vacunacion correcta].\n",
      "[persona_1] || Hora:[34.00] || Accion [Se entrega el certicado, la siguiente cita es ].\n",
      "[persona_1] || Hora:[34.00] || Accion [Sale del recinto].\n",
      "[persona_4] || Hora:[36.00] || Accion [Se entrega el certicado, la siguiente cita es ].\n",
      "[persona_4] || Hora:[36.00] || Accion [Sale del recinto].\n",
      "[persona_16] || Hora:[37.00] || Accion [Llega al recinto].\n",
      "[persona_17] || Hora:[40.00] || Accion [Llega al recinto].\n",
      "[persona_5] || Hora:[40.00] || Accion [Paso el proceso de revisión].\n",
      "[persona_5] || Hora:[40.00] || Accion [Entra al proceso de toma de datos].\n",
      "[persona_6] || Hora:[40.00] || Accion [Paso el proceso de revisión].\n",
      "[persona_6] || Hora:[40.00] || Accion [Entra al proceso de toma de datos].\n",
      "[persona_7] || Hora:[40.00] || Accion [Paso el proceso de revisión].\n",
      "[persona_7] || Hora:[40.00] || Accion [Entra al proceso de toma de datos].\n",
      "[persona_8] || Hora:[40.00] || Accion [Paso el proceso de revisión].\n",
      "[persona_8] || Hora:[40.00] || Accion [Entra al proceso de toma de datos].\n",
      "[persona_9] || Hora:[40.00] || Accion [Paso el proceso de revisión].\n",
      "[persona_9] || Hora:[40.00] || Accion [Entra al proceso de toma de datos].\n",
      "[persona_10] || Hora:[40.00] || Accion [Llego a la mesa].\n",
      "[persona_10] || Hora:[40.00] || Accion [Entra al proceso de examen].\n",
      "[persona_11] || Hora:[40.00] || Accion [Llego a la mesa].\n",
      "[persona_11] || Hora:[40.00] || Accion [Entra al proceso de examen].\n",
      "[persona_12] || Hora:[40.00] || Accion [Llego a la mesa].\n",
      "[persona_12] || Hora:[40.00] || Accion [Entra al proceso de examen].\n",
      "[persona_13] || Hora:[40.00] || Accion [Llego a la mesa].\n",
      "[persona_13] || Hora:[40.00] || Accion [Entra al proceso de examen].\n",
      "[persona_14] || Hora:[40.00] || Accion [Llego a la mesa].\n",
      "[persona_14] || Hora:[40.00] || Accion [Entra al proceso de examen].\n",
      "[persona_5] || Hora:[43.00] || Accion [Se tomaron los datos].\n",
      "[persona_6] || Hora:[43.00] || Accion [Se tomaron los datos].\n",
      "[persona_7] || Hora:[43.00] || Accion [Se tomaron los datos].\n",
      "[persona_8] || Hora:[43.00] || Accion [Se tomaron los datos].\n",
      "[persona_9] || Hora:[43.00] || Accion [Se tomaron los datos].\n",
      "[persona_5] || Hora:[43.00] || Accion [Llegó a la vacunacion].\n",
      "[persona_6] || Hora:[43.00] || Accion [Llegó a la vacunacion].\n",
      "[persona_7] || Hora:[43.00] || Accion [Llegó a la vacunacion].\n",
      "[persona_8] || Hora:[43.00] || Accion [Llegó a la vacunacion].\n",
      "[persona_9] || Hora:[43.00] || Accion [Llegó a la vacunacion].\n",
      "[persona_18] || Hora:[45.00] || Accion [Llega al recinto].\n",
      "[persona_5] || Hora:[48.00] || Accion [Vacunacion correcta].\n",
      "[persona_19] || Hora:[49.00] || Accion [Llega al recinto].\n",
      "[persona_5] || Hora:[51.00] || Accion [Se entrega el certicado, la siguiente cita es ].\n",
      "[persona_5] || Hora:[51.00] || Accion [Sale del recinto].\n",
      "[persona_6] || Hora:[52.00] || Accion [Vacunacion correcta].\n",
      "[persona_8] || Hora:[52.00] || Accion [Vacunacion correcta].\n",
      "[persona_7] || Hora:[53.00] || Accion [Vacunacion correcta].\n",
      "[persona_9] || Hora:[53.00] || Accion [Vacunacion correcta].\n",
      "[persona_6] || Hora:[54.00] || Accion [Se entrega el certicado, la siguiente cita es ].\n",
      "[persona_6] || Hora:[54.00] || Accion [Sale del recinto].\n",
      "[persona_20] || Hora:[55.00] || Accion [Llega al recinto].\n",
      "[persona_8] || Hora:[55.00] || Accion [Se entrega el certicado, la siguiente cita es ].\n",
      "[persona_8] || Hora:[55.00] || Accion [Sale del recinto].\n",
      "[persona_7] || Hora:[55.00] || Accion [Se entrega el certicado, la siguiente cita es ].\n",
      "[persona_7] || Hora:[55.00] || Accion [Sale del recinto].\n",
      "[persona_9] || Hora:[56.00] || Accion [Se entrega el certicado, la siguiente cita es ].\n",
      "[persona_9] || Hora:[56.00] || Accion [Sale del recinto].\n",
      "[persona_21] || Hora:[57.00] || Accion [Llega al recinto].\n",
      "[persona_10] || Hora:[60.00] || Accion [Paso el proceso de revisión].\n",
      "[persona_10] || Hora:[60.00] || Accion [Entra al proceso de toma de datos].\n",
      "[persona_11] || Hora:[60.00] || Accion [Paso el proceso de revisión].\n",
      "[persona_11] || Hora:[60.00] || Accion [Entra al proceso de toma de datos].\n",
      "[persona_12] || Hora:[60.00] || Accion [Paso el proceso de revisión].\n",
      "[persona_12] || Hora:[60.00] || Accion [Entra al proceso de toma de datos].\n",
      "[persona_13] || Hora:[60.00] || Accion [Paso el proceso de revisión].\n",
      "[persona_13] || Hora:[60.00] || Accion [Entra al proceso de toma de datos].\n",
      "[persona_14] || Hora:[60.00] || Accion [Paso el proceso de revisión].\n",
      "[persona_14] || Hora:[60.00] || Accion [Entra al proceso de toma de datos].\n",
      "[persona_15] || Hora:[60.00] || Accion [Llego a la mesa].\n",
      "[persona_15] || Hora:[60.00] || Accion [Entra al proceso de examen].\n",
      "[persona_16] || Hora:[60.00] || Accion [Llego a la mesa].\n",
      "[persona_16] || Hora:[60.00] || Accion [Entra al proceso de examen].\n",
      "[persona_17] || Hora:[60.00] || Accion [Llego a la mesa].\n",
      "[persona_17] || Hora:[60.00] || Accion [Entra al proceso de examen].\n",
      "[persona_18] || Hora:[60.00] || Accion [Llego a la mesa].\n",
      "[persona_18] || Hora:[60.00] || Accion [Entra al proceso de examen].\n",
      "[persona_19] || Hora:[60.00] || Accion [Llego a la mesa].\n",
      "[persona_19] || Hora:[60.00] || Accion [Entra al proceso de examen].\n",
      "[persona_22] || Hora:[61.00] || Accion [Llega al recinto].\n",
      "[persona_10] || Hora:[62.00] || Accion [Se tomaron los datos].\n",
      "[persona_11] || Hora:[62.00] || Accion [Se tomaron los datos].\n",
      "[persona_12] || Hora:[62.00] || Accion [Se tomaron los datos].\n",
      "[persona_14] || Hora:[62.00] || Accion [Se tomaron los datos].\n",
      "[persona_10] || Hora:[62.00] || Accion [Llegó a la vacunacion].\n",
      "[persona_11] || Hora:[62.00] || Accion [Llegó a la vacunacion].\n",
      "[persona_12] || Hora:[62.00] || Accion [Llegó a la vacunacion].\n",
      "[persona_14] || Hora:[62.00] || Accion [Llegó a la vacunacion].\n",
      "[persona_23] || Hora:[63.00] || Accion [Llega al recinto].\n",
      "[persona_13] || Hora:[63.00] || Accion [Se tomaron los datos].\n",
      "[persona_13] || Hora:[63.00] || Accion [Llegó a la vacunacion].\n",
      "[persona_24] || Hora:[67.00] || Accion [Llega al recinto].\n",
      "[persona_10] || Hora:[67.00] || Accion [Vacunacion correcta].\n",
      "[persona_12] || Hora:[67.00] || Accion [Vacunacion correcta].\n",
      "[persona_10] || Hora:[68.00] || Accion [Se entrega el certicado, la siguiente cita es ].\n",
      "[persona_10] || Hora:[68.00] || Accion [Sale del recinto].\n",
      "[persona_12] || Hora:[68.00] || Accion [Se entrega el certicado, la siguiente cita es ].\n",
      "[persona_12] || Hora:[68.00] || Accion [Sale del recinto].\n",
      "[persona_13] || Hora:[69.00] || Accion [Vacunacion correcta].\n",
      "[persona_13] || Hora:[70.00] || Accion [Se entrega el certicado, la siguiente cita es ].\n",
      "[persona_13] || Hora:[70.00] || Accion [Sale del recinto].\n",
      "[persona_11] || Hora:[71.00] || Accion [Vacunacion correcta].\n",
      "[persona_14] || Hora:[72.00] || Accion [Vacunacion correcta].\n",
      "[persona_11] || Hora:[72.00] || Accion [Se entrega el certicado, la siguiente cita es ].\n",
      "[persona_11] || Hora:[72.00] || Accion [Sale del recinto].\n",
      "[persona_25] || Hora:[73.00] || Accion [Llega al recinto].\n",
      "[persona_14] || Hora:[75.00] || Accion [Se entrega el certicado, la siguiente cita es ].\n",
      "[persona_14] || Hora:[75.00] || Accion [Sale del recinto].\n",
      "[persona_26] || Hora:[79.00] || Accion [Llega al recinto].\n",
      "[persona_15] || Hora:[80.00] || Accion [Paso el proceso de revisión].\n",
      "[persona_15] || Hora:[80.00] || Accion [Entra al proceso de toma de datos].\n",
      "[persona_16] || Hora:[80.00] || Accion [Paso el proceso de revisión].\n",
      "[persona_16] || Hora:[80.00] || Accion [Entra al proceso de toma de datos].\n",
      "[persona_17] || Hora:[80.00] || Accion [Paso el proceso de revisión].\n",
      "[persona_17] || Hora:[80.00] || Accion [Entra al proceso de toma de datos].\n",
      "[persona_18] || Hora:[80.00] || Accion [Paso el proceso de revisión].\n",
      "[persona_18] || Hora:[80.00] || Accion [Entra al proceso de toma de datos].\n",
      "[persona_19] || Hora:[80.00] || Accion [Paso el proceso de revisión].\n",
      "[persona_19] || Hora:[80.00] || Accion [Entra al proceso de toma de datos].\n",
      "[persona_20] || Hora:[80.00] || Accion [Llego a la mesa].\n",
      "[persona_20] || Hora:[80.00] || Accion [Entra al proceso de examen].\n",
      "[persona_21] || Hora:[80.00] || Accion [Llego a la mesa].\n",
      "[persona_21] || Hora:[80.00] || Accion [Entra al proceso de examen].\n",
      "[persona_22] || Hora:[80.00] || Accion [Llego a la mesa].\n",
      "[persona_22] || Hora:[80.00] || Accion [Entra al proceso de examen].\n",
      "[persona_23] || Hora:[80.00] || Accion [Llego a la mesa].\n",
      "[persona_23] || Hora:[80.00] || Accion [Entra al proceso de examen].\n",
      "[persona_24] || Hora:[80.00] || Accion [Llego a la mesa].\n",
      "[persona_24] || Hora:[80.00] || Accion [Entra al proceso de examen].\n",
      "[persona_27] || Hora:[82.00] || Accion [Llega al recinto].\n",
      "[persona_17] || Hora:[82.00] || Accion [Se tomaron los datos].\n",
      "[persona_17] || Hora:[82.00] || Accion [Llegó a la vacunacion].\n",
      "[persona_16] || Hora:[83.00] || Accion [Se tomaron los datos].\n",
      "[persona_16] || Hora:[83.00] || Accion [Llegó a la vacunacion].\n",
      "[persona_28] || Hora:[84.00] || Accion [Llega al recinto].\n",
      "[persona_15] || Hora:[84.00] || Accion [Se tomaron los datos].\n",
      "[persona_18] || Hora:[84.00] || Accion [Se tomaron los datos].\n",
      "[persona_19] || Hora:[84.00] || Accion [Se tomaron los datos].\n",
      "[persona_15] || Hora:[84.00] || Accion [Llegó a la vacunacion].\n",
      "[persona_18] || Hora:[84.00] || Accion [Llegó a la vacunacion].\n",
      "[persona_19] || Hora:[84.00] || Accion [Llegó a la vacunacion].\n",
      "[persona_29] || Hora:[86.00] || Accion [Llega al recinto].\n",
      "[persona_30] || Hora:[89.00] || Accion [Llega al recinto].\n",
      "[persona_16] || Hora:[89.00] || Accion [Vacunacion correcta].\n",
      "[persona_19] || Hora:[90.00] || Accion [Vacunacion correcta].\n",
      "[persona_16] || Hora:[90.00] || Accion [Se entrega el certicado, la siguiente cita es ].\n",
      "[persona_16] || Hora:[90.00] || Accion [Sale del recinto].\n",
      "[persona_17] || Hora:[92.00] || Accion [Vacunacion correcta].\n",
      "[persona_15] || Hora:[93.00] || Accion [Vacunacion correcta].\n",
      "[persona_19] || Hora:[93.00] || Accion [Se entrega el certicado, la siguiente cita es ].\n",
      "[persona_19] || Hora:[93.00] || Accion [Sale del recinto].\n",
      "[persona_18] || Hora:[94.00] || Accion [Vacunacion correcta].\n",
      "[persona_15] || Hora:[94.00] || Accion [Se entrega el certicado, la siguiente cita es ].\n",
      "[persona_15] || Hora:[94.00] || Accion [Sale del recinto].\n",
      "[persona_31] || Hora:[95.00] || Accion [Llega al recinto].\n",
      "[persona_17] || Hora:[95.00] || Accion [Se entrega el certicado, la siguiente cita es ].\n",
      "[persona_17] || Hora:[95.00] || Accion [Sale del recinto].\n",
      "[persona_18] || Hora:[95.00] || Accion [Se entrega el certicado, la siguiente cita es ].\n",
      "[persona_18] || Hora:[95.00] || Accion [Sale del recinto].\n",
      "[persona_20] || Hora:[100.00] || Accion [Paso el proceso de revisión].\n",
      "[persona_20] || Hora:[100.00] || Accion [Entra al proceso de toma de datos].\n",
      "[persona_21] || Hora:[100.00] || Accion [Paso el proceso de revisión].\n",
      "[persona_21] || Hora:[100.00] || Accion [Entra al proceso de toma de datos].\n",
      "[persona_22] || Hora:[100.00] || Accion [Paso el proceso de revisión].\n",
      "[persona_22] || Hora:[100.00] || Accion [Entra al proceso de toma de datos].\n",
      "[persona_23] || Hora:[100.00] || Accion [Paso el proceso de revisión].\n",
      "[persona_23] || Hora:[100.00] || Accion [Entra al proceso de toma de datos].\n",
      "[persona_24] || Hora:[100.00] || Accion [Paso el proceso de revisión].\n",
      "[persona_24] || Hora:[100.00] || Accion [Entra al proceso de toma de datos].\n",
      "[persona_25] || Hora:[100.00] || Accion [Llego a la mesa].\n",
      "[persona_25] || Hora:[100.00] || Accion [Entra al proceso de examen].\n",
      "[persona_26] || Hora:[100.00] || Accion [Llego a la mesa].\n",
      "[persona_26] || Hora:[100.00] || Accion [Entra al proceso de examen].\n",
      "[persona_27] || Hora:[100.00] || Accion [Llego a la mesa].\n",
      "[persona_27] || Hora:[100.00] || Accion [Entra al proceso de examen].\n",
      "[persona_28] || Hora:[100.00] || Accion [Llego a la mesa].\n",
      "[persona_28] || Hora:[100.00] || Accion [Entra al proceso de examen].\n",
      "[persona_29] || Hora:[100.00] || Accion [Llego a la mesa].\n",
      "[persona_29] || Hora:[100.00] || Accion [Entra al proceso de examen].\n",
      "[persona_32] || Hora:[101.00] || Accion [Llega al recinto].\n",
      "[persona_22] || Hora:[102.00] || Accion [Se tomaron los datos].\n",
      "[persona_24] || Hora:[102.00] || Accion [Se tomaron los datos].\n",
      "[persona_22] || Hora:[102.00] || Accion [Llegó a la vacunacion].\n",
      "[persona_24] || Hora:[102.00] || Accion [Llegó a la vacunacion].\n",
      "[persona_20] || Hora:[103.00] || Accion [Se tomaron los datos].\n",
      "[persona_20] || Hora:[103.00] || Accion [Llegó a la vacunacion].\n",
      "[persona_21] || Hora:[104.00] || Accion [Se tomaron los datos].\n",
      "[persona_23] || Hora:[104.00] || Accion [Se tomaron los datos].\n",
      "[persona_21] || Hora:[104.00] || Accion [Llegó a la vacunacion].\n",
      "[persona_23] || Hora:[104.00] || Accion [Llegó a la vacunacion].\n",
      "[persona_33] || Hora:[106.00] || Accion [Llega al recinto].\n",
      "[persona_22] || Hora:[109.00] || Accion [Vacunacion correcta].\n",
      "[persona_20] || Hora:[109.00] || Accion [Vacunacion correcta].\n",
      "[persona_24] || Hora:[111.00] || Accion [Vacunacion correcta].\n",
      "[persona_23] || Hora:[111.00] || Accion [Vacunacion correcta].\n",
      "[persona_22] || Hora:[111.00] || Accion [Se entrega el certicado, la siguiente cita es ].\n",
      "[persona_22] || Hora:[111.00] || Accion [Sale del recinto].\n",
      "[persona_34] || Hora:[112.00] || Accion [Llega al recinto].\n",
      "[persona_21] || Hora:[112.00] || Accion [Vacunacion correcta].\n",
      "[persona_20] || Hora:[112.00] || Accion [Se entrega el certicado, la siguiente cita es ].\n",
      "[persona_20] || Hora:[112.00] || Accion [Sale del recinto].\n",
      "[persona_23] || Hora:[112.00] || Accion [Se entrega el certicado, la siguiente cita es ].\n",
      "[persona_23] || Hora:[112.00] || Accion [Sale del recinto].\n",
      "[persona_24] || Hora:[113.00] || Accion [Se entrega el certicado, la siguiente cita es ].\n",
      "[persona_24] || Hora:[113.00] || Accion [Sale del recinto].\n",
      "[persona_21] || Hora:[114.00] || Accion [Se entrega el certicado, la siguiente cita es ].\n",
      "[persona_21] || Hora:[114.00] || Accion [Sale del recinto].\n",
      "[persona_35] || Hora:[118.00] || Accion [Llega al recinto].\n",
      "[persona_25] || Hora:[120.00] || Accion [Paso el proceso de revisión].\n",
      "[persona_25] || Hora:[120.00] || Accion [Entra al proceso de toma de datos].\n",
      "[persona_26] || Hora:[120.00] || Accion [Paso el proceso de revisión].\n",
      "[persona_26] || Hora:[120.00] || Accion [Entra al proceso de toma de datos].\n",
      "[persona_27] || Hora:[120.00] || Accion [Paso el proceso de revisión].\n",
      "[persona_27] || Hora:[120.00] || Accion [Entra al proceso de toma de datos].\n",
      "[persona_28] || Hora:[120.00] || Accion [Paso el proceso de revisión].\n",
      "[persona_28] || Hora:[120.00] || Accion [Entra al proceso de toma de datos].\n",
      "[persona_29] || Hora:[120.00] || Accion [Paso el proceso de revisión].\n",
      "[persona_29] || Hora:[120.00] || Accion [Entra al proceso de toma de datos].\n",
      "[persona_30] || Hora:[120.00] || Accion [Llego a la mesa].\n",
      "[persona_30] || Hora:[120.00] || Accion [Entra al proceso de examen].\n",
      "[persona_31] || Hora:[120.00] || Accion [Llego a la mesa].\n",
      "[persona_31] || Hora:[120.00] || Accion [Entra al proceso de examen].\n",
      "[persona_32] || Hora:[120.00] || Accion [Llego a la mesa].\n",
      "[persona_32] || Hora:[120.00] || Accion [Entra al proceso de examen].\n",
      "[persona_33] || Hora:[120.00] || Accion [Llego a la mesa].\n",
      "[persona_33] || Hora:[120.00] || Accion [Entra al proceso de examen].\n",
      "[persona_34] || Hora:[120.00] || Accion [Llego a la mesa].\n",
      "[persona_34] || Hora:[120.00] || Accion [Entra al proceso de examen].\n",
      "[persona_36] || Hora:[123.00] || Accion [Llega al recinto].\n",
      "[persona_25] || Hora:[123.00] || Accion [Se tomaron los datos].\n",
      "[persona_27] || Hora:[123.00] || Accion [Se tomaron los datos].\n",
      "[persona_28] || Hora:[123.00] || Accion [Se tomaron los datos].\n",
      "[persona_29] || Hora:[123.00] || Accion [Se tomaron los datos].\n",
      "[persona_25] || Hora:[123.00] || Accion [Llegó a la vacunacion].\n",
      "[persona_27] || Hora:[123.00] || Accion [Llegó a la vacunacion].\n",
      "[persona_28] || Hora:[123.00] || Accion [Llegó a la vacunacion].\n",
      "[persona_29] || Hora:[123.00] || Accion [Llegó a la vacunacion].\n",
      "[persona_26] || Hora:[124.00] || Accion [Se tomaron los datos].\n",
      "[persona_26] || Hora:[124.00] || Accion [Llegó a la vacunacion].\n",
      "[persona_37] || Hora:[126.00] || Accion [Llega al recinto].\n",
      "[persona_25] || Hora:[128.00] || Accion [Vacunacion correcta].\n",
      "[persona_27] || Hora:[129.00] || Accion [Vacunacion correcta].\n",
      "[persona_25] || Hora:[129.00] || Accion [Se entrega el certicado, la siguiente cita es ].\n",
      "[persona_25] || Hora:[129.00] || Accion [Sale del recinto].\n",
      "[persona_26] || Hora:[130.00] || Accion [Vacunacion correcta].\n",
      "[persona_27] || Hora:[131.00] || Accion [Se entrega el certicado, la siguiente cita es ].\n",
      "[persona_27] || Hora:[131.00] || Accion [Sale del recinto].\n",
      "[persona_38] || Hora:[132.00] || Accion [Llega al recinto].\n",
      "[persona_28] || Hora:[132.00] || Accion [Vacunacion correcta].\n",
      "[persona_26] || Hora:[132.00] || Accion [Se entrega el certicado, la siguiente cita es ].\n",
      "[persona_26] || Hora:[132.00] || Accion [Sale del recinto].\n",
      "[persona_29] || Hora:[133.00] || Accion [Vacunacion correcta].\n",
      "[persona_28] || Hora:[133.00] || Accion [Se entrega el certicado, la siguiente cita es ].\n",
      "[persona_28] || Hora:[133.00] || Accion [Sale del recinto].\n",
      "[persona_29] || Hora:[135.00] || Accion [Se entrega el certicado, la siguiente cita es ].\n",
      "[persona_29] || Hora:[135.00] || Accion [Sale del recinto].\n",
      "[persona_39] || Hora:[137.00] || Accion [Llega al recinto].\n",
      "[persona_30] || Hora:[140.00] || Accion [No pasó el proceso de vacunacion, Proxima fecha 2021/06/09].\n",
      "[persona_30] || Hora:[140.00] || Accion [Sale del recinto].\n",
      "[persona_31] || Hora:[140.00] || Accion [No pasó el proceso de vacunacion, Proxima fecha 2021/06/09].\n",
      "[persona_31] || Hora:[140.00] || Accion [Sale del recinto].\n",
      "[persona_32] || Hora:[140.00] || Accion [No pasó el proceso de vacunacion, Proxima fecha 2021/06/06].\n",
      "[persona_32] || Hora:[140.00] || Accion [Sale del recinto].\n",
      "[persona_33] || Hora:[140.00] || Accion [No pasó el proceso de vacunacion, Proxima fecha 2021/06/08].\n",
      "[persona_33] || Hora:[140.00] || Accion [Sale del recinto].\n",
      "[persona_34] || Hora:[140.00] || Accion [No pasó el proceso de vacunacion, Proxima fecha 2021/06/07].\n",
      "[persona_34] || Hora:[140.00] || Accion [Sale del recinto].\n",
      "[persona_35] || Hora:[140.00] || Accion [Llego a la mesa].\n",
      "[persona_35] || Hora:[140.00] || Accion [Entra al proceso de examen].\n",
      "[persona_36] || Hora:[140.00] || Accion [Llego a la mesa].\n",
      "[persona_36] || Hora:[140.00] || Accion [Entra al proceso de examen].\n",
      "[persona_37] || Hora:[140.00] || Accion [Llego a la mesa].\n",
      "[persona_37] || Hora:[140.00] || Accion [Entra al proceso de examen].\n",
      "[persona_38] || Hora:[140.00] || Accion [Llego a la mesa].\n",
      "[persona_38] || Hora:[140.00] || Accion [Entra al proceso de examen].\n",
      "[persona_39] || Hora:[140.00] || Accion [Llego a la mesa].\n",
      "[persona_39] || Hora:[140.00] || Accion [Entra al proceso de examen].\n",
      "[persona_40] || Hora:[141.00] || Accion [Llega al recinto].\n",
      "[persona_41] || Hora:[145.00] || Accion [Llega al recinto].\n",
      "[persona_42] || Hora:[150.00] || Accion [Llega al recinto].\n",
      "[persona_43] || Hora:[155.00] || Accion [Llega al recinto].\n",
      "[persona_44] || Hora:[160.00] || Accion [Llega al recinto].\n",
      "[persona_35] || Hora:[160.00] || Accion [Paso el proceso de revisión].\n",
      "[persona_35] || Hora:[160.00] || Accion [Entra al proceso de toma de datos].\n",
      "[persona_36] || Hora:[160.00] || Accion [Paso el proceso de revisión].\n",
      "[persona_36] || Hora:[160.00] || Accion [Entra al proceso de toma de datos].\n",
      "[persona_37] || Hora:[160.00] || Accion [Paso el proceso de revisión].\n",
      "[persona_37] || Hora:[160.00] || Accion [Entra al proceso de toma de datos].\n",
      "[persona_38] || Hora:[160.00] || Accion [Paso el proceso de revisión].\n",
      "[persona_38] || Hora:[160.00] || Accion [Entra al proceso de toma de datos].\n",
      "[persona_39] || Hora:[160.00] || Accion [Paso el proceso de revisión].\n",
      "[persona_39] || Hora:[160.00] || Accion [Entra al proceso de toma de datos].\n",
      "[persona_40] || Hora:[160.00] || Accion [Llego a la mesa].\n",
      "[persona_40] || Hora:[160.00] || Accion [Entra al proceso de examen].\n",
      "[persona_41] || Hora:[160.00] || Accion [Llego a la mesa].\n",
      "[persona_41] || Hora:[160.00] || Accion [Entra al proceso de examen].\n",
      "[persona_42] || Hora:[160.00] || Accion [Llego a la mesa].\n",
      "[persona_42] || Hora:[160.00] || Accion [Entra al proceso de examen].\n",
      "[persona_43] || Hora:[160.00] || Accion [Llego a la mesa].\n",
      "[persona_43] || Hora:[160.00] || Accion [Entra al proceso de examen].\n",
      "[persona_44] || Hora:[160.00] || Accion [Llego a la mesa].\n",
      "[persona_44] || Hora:[160.00] || Accion [Entra al proceso de examen].\n",
      "[persona_35] || Hora:[162.00] || Accion [Se tomaron los datos].\n",
      "[persona_38] || Hora:[162.00] || Accion [Se tomaron los datos].\n",
      "[persona_35] || Hora:[162.00] || Accion [Llegó a la vacunacion].\n",
      "[persona_38] || Hora:[162.00] || Accion [Llegó a la vacunacion].\n",
      "[persona_36] || Hora:[163.00] || Accion [Se tomaron los datos].\n",
      "[persona_36] || Hora:[163.00] || Accion [Llegó a la vacunacion].\n",
      "[persona_45] || Hora:[164.00] || Accion [Llega al recinto].\n",
      "[persona_37] || Hora:[164.00] || Accion [Se tomaron los datos].\n",
      "[persona_39] || Hora:[164.00] || Accion [Se tomaron los datos].\n",
      "[persona_37] || Hora:[164.00] || Accion [Llegó a la vacunacion].\n",
      "[persona_39] || Hora:[164.00] || Accion [Llegó a la vacunacion].\n",
      "[persona_46] || Hora:[168.00] || Accion [Llega al recinto].\n",
      "[persona_38] || Hora:[168.00] || Accion [Vacunacion correcta].\n",
      "[persona_35] || Hora:[169.00] || Accion [Vacunacion correcta].\n",
      "[persona_38] || Hora:[169.00] || Accion [Se entrega el certicado, la siguiente cita es ].\n",
      "[persona_38] || Hora:[169.00] || Accion [Sale del recinto].\n",
      "[persona_36] || Hora:[171.00] || Accion [Vacunacion correcta].\n",
      "[persona_35] || Hora:[171.00] || Accion [Se entrega el certicado, la siguiente cita es ].\n",
      "[persona_35] || Hora:[171.00] || Accion [Sale del recinto].\n",
      "[persona_36] || Hora:[172.00] || Accion [Se entrega el certicado, la siguiente cita es ].\n",
      "[persona_36] || Hora:[172.00] || Accion [Sale del recinto].\n",
      "[persona_37] || Hora:[173.00] || Accion [Vacunacion correcta].\n",
      "[persona_39] || Hora:[173.00] || Accion [Vacunacion correcta].\n",
      "[persona_47] || Hora:[174.00] || Accion [Llega al recinto].\n",
      "[persona_39] || Hora:[175.00] || Accion [Se entrega el certicado, la siguiente cita es ].\n",
      "[persona_39] || Hora:[175.00] || Accion [Sale del recinto].\n",
      "[persona_37] || Hora:[176.00] || Accion [Se entrega el certicado, la siguiente cita es ].\n",
      "[persona_37] || Hora:[176.00] || Accion [Sale del recinto].\n",
      "[persona_48] || Hora:[180.00] || Accion [Llega al recinto].\n",
      "[persona_40] || Hora:[180.00] || Accion [No pasó el proceso de vacunacion, Proxima fecha 2021/06/07].\n",
      "[persona_40] || Hora:[180.00] || Accion [Sale del recinto].\n",
      "[persona_41] || Hora:[180.00] || Accion [No pasó el proceso de vacunacion, Proxima fecha 2021/06/08].\n",
      "[persona_41] || Hora:[180.00] || Accion [Sale del recinto].\n",
      "[persona_42] || Hora:[180.00] || Accion [No pasó el proceso de vacunacion, Proxima fecha 2021/06/08].\n",
      "[persona_42] || Hora:[180.00] || Accion [Sale del recinto].\n",
      "[persona_43] || Hora:[180.00] || Accion [No pasó el proceso de vacunacion, Proxima fecha 2021/06/08].\n",
      "[persona_43] || Hora:[180.00] || Accion [Sale del recinto].\n",
      "[persona_44] || Hora:[180.00] || Accion [No pasó el proceso de vacunacion, Proxima fecha 2021/06/08].\n",
      "[persona_44] || Hora:[180.00] || Accion [Sale del recinto].\n",
      "[persona_45] || Hora:[180.00] || Accion [Llego a la mesa].\n",
      "[persona_45] || Hora:[180.00] || Accion [Entra al proceso de examen].\n",
      "[persona_46] || Hora:[180.00] || Accion [Llego a la mesa].\n",
      "[persona_46] || Hora:[180.00] || Accion [Entra al proceso de examen].\n",
      "[persona_47] || Hora:[180.00] || Accion [Llego a la mesa].\n",
      "[persona_47] || Hora:[180.00] || Accion [Entra al proceso de examen].\n",
      "[persona_48] || Hora:[180.00] || Accion [Llego a la mesa].\n",
      "[persona_48] || Hora:[180.00] || Accion [Entra al proceso de examen].\n",
      "[persona_49] || Hora:[185.00] || Accion [Llega al recinto].\n",
      "[persona_49] || Hora:[185.00] || Accion [Llego a la mesa].\n",
      "[persona_49] || Hora:[185.00] || Accion [Entra al proceso de examen].\n",
      "[persona_50] || Hora:[189.00] || Accion [Llega al recinto].\n",
      "[persona_51] || Hora:[191.00] || Accion [Llega al recinto].\n",
      "[persona_52] || Hora:[197.00] || Accion [Llega al recinto].\n",
      "[persona_45] || Hora:[200.00] || Accion [Paso el proceso de revisión].\n",
      "[persona_45] || Hora:[200.00] || Accion [Entra al proceso de toma de datos].\n",
      "[persona_46] || Hora:[200.00] || Accion [Paso el proceso de revisión].\n",
      "[persona_46] || Hora:[200.00] || Accion [Entra al proceso de toma de datos].\n",
      "[persona_47] || Hora:[200.00] || Accion [Paso el proceso de revisión].\n",
      "[persona_47] || Hora:[200.00] || Accion [Entra al proceso de toma de datos].\n",
      "[persona_48] || Hora:[200.00] || Accion [Paso el proceso de revisión].\n",
      "[persona_48] || Hora:[200.00] || Accion [Entra al proceso de toma de datos].\n",
      "[persona_50] || Hora:[200.00] || Accion [Llego a la mesa].\n",
      "[persona_50] || Hora:[200.00] || Accion [Entra al proceso de examen].\n",
      "[persona_51] || Hora:[200.00] || Accion [Llego a la mesa].\n",
      "[persona_51] || Hora:[200.00] || Accion [Entra al proceso de examen].\n",
      "[persona_52] || Hora:[200.00] || Accion [Llego a la mesa].\n",
      "[persona_52] || Hora:[200.00] || Accion [Entra al proceso de examen].\n",
      "[persona_53] || Hora:[201.00] || Accion [Llega al recinto].\n",
      "[persona_53] || Hora:[201.00] || Accion [Llego a la mesa].\n",
      "[persona_53] || Hora:[201.00] || Accion [Entra al proceso de examen].\n",
      "[persona_45] || Hora:[202.00] || Accion [Se tomaron los datos].\n",
      "[persona_45] || Hora:[202.00] || Accion [Llegó a la vacunacion].\n",
      "[persona_54] || Hora:[203.00] || Accion [Llega al recinto].\n",
      "[persona_46] || Hora:[203.00] || Accion [Se tomaron los datos].\n",
      "[persona_47] || Hora:[203.00] || Accion [Se tomaron los datos].\n",
      "[persona_48] || Hora:[203.00] || Accion [Se tomaron los datos].\n",
      "[persona_46] || Hora:[203.00] || Accion [Llegó a la vacunacion].\n",
      "[persona_47] || Hora:[203.00] || Accion [Llegó a la vacunacion].\n",
      "[persona_48] || Hora:[203.00] || Accion [Llegó a la vacunacion].\n",
      "[persona_49] || Hora:[205.00] || Accion [Paso el proceso de revisión].\n",
      "[persona_49] || Hora:[205.00] || Accion [Entra al proceso de toma de datos].\n",
      "[persona_54] || Hora:[205.00] || Accion [Llego a la mesa].\n",
      "[persona_54] || Hora:[205.00] || Accion [Entra al proceso de examen].\n",
      "[persona_55] || Hora:[207.00] || Accion [Llega al recinto].\n",
      "[persona_49] || Hora:[207.00] || Accion [Se tomaron los datos].\n",
      "[persona_49] || Hora:[207.00] || Accion [Llegó a la vacunacion].\n",
      "[persona_45] || Hora:[209.00] || Accion [Vacunacion correcta].\n",
      "[persona_47] || Hora:[209.00] || Accion [Vacunacion correcta].\n",
      "[persona_45] || Hora:[210.00] || Accion [Se entrega el certicado, la siguiente cita es ].\n",
      "[persona_45] || Hora:[210.00] || Accion [Sale del recinto].\n",
      "[persona_47] || Hora:[210.00] || Accion [Se entrega el certicado, la siguiente cita es ].\n",
      "[persona_47] || Hora:[210.00] || Accion [Sale del recinto].\n",
      "[persona_56] || Hora:[212.00] || Accion [Llega al recinto].\n",
      "[persona_46] || Hora:[212.00] || Accion [Vacunacion correcta].\n",
      "[persona_48] || Hora:[212.00] || Accion [Vacunacion correcta].\n",
      "[persona_49] || Hora:[213.00] || Accion [Vacunacion correcta].\n",
      "[persona_46] || Hora:[214.00] || Accion [Se entrega el certicado, la siguiente cita es ].\n",
      "[persona_46] || Hora:[214.00] || Accion [Sale del recinto].\n",
      "[persona_48] || Hora:[215.00] || Accion [Se entrega el certicado, la siguiente cita es ].\n",
      "[persona_48] || Hora:[215.00] || Accion [Sale del recinto].\n",
      "[persona_49] || Hora:[215.00] || Accion [Se entrega el certicado, la siguiente cita es ].\n",
      "[persona_49] || Hora:[215.00] || Accion [Sale del recinto].\n",
      "[persona_57] || Hora:[217.00] || Accion [Llega al recinto].\n",
      "[persona_58] || Hora:[219.00] || Accion [Llega al recinto].\n",
      "[persona_50] || Hora:[220.00] || Accion [No pasó el proceso de vacunacion, Proxima fecha 2021/06/06].\n",
      "[persona_50] || Hora:[220.00] || Accion [Sale del recinto].\n",
      "[persona_51] || Hora:[220.00] || Accion [No pasó el proceso de vacunacion, Proxima fecha 2021/06/06].\n",
      "[persona_51] || Hora:[220.00] || Accion [Sale del recinto].\n",
      "[persona_52] || Hora:[220.00] || Accion [No pasó el proceso de vacunacion, Proxima fecha 2021/06/07].\n",
      "[persona_52] || Hora:[220.00] || Accion [Sale del recinto].\n",
      "[persona_55] || Hora:[220.00] || Accion [Llego a la mesa].\n",
      "[persona_55] || Hora:[220.00] || Accion [Entra al proceso de examen].\n",
      "[persona_56] || Hora:[220.00] || Accion [Llego a la mesa].\n",
      "[persona_56] || Hora:[220.00] || Accion [Entra al proceso de examen].\n",
      "[persona_57] || Hora:[220.00] || Accion [Llego a la mesa].\n",
      "[persona_57] || Hora:[220.00] || Accion [Entra al proceso de examen].\n",
      "[persona_59] || Hora:[221.00] || Accion [Llega al recinto].\n",
      "[persona_53] || Hora:[221.00] || Accion [Paso el proceso de revisión].\n",
      "[persona_53] || Hora:[221.00] || Accion [Entra al proceso de toma de datos].\n",
      "[persona_58] || Hora:[221.00] || Accion [Llego a la mesa].\n",
      "[persona_58] || Hora:[221.00] || Accion [Entra al proceso de examen].\n",
      "[persona_53] || Hora:[223.00] || Accion [Se tomaron los datos].\n",
      "[persona_53] || Hora:[223.00] || Accion [Llegó a la vacunacion].\n",
      "[persona_54] || Hora:[225.00] || Accion [Paso el proceso de revisión].\n",
      "[persona_54] || Hora:[225.00] || Accion [Entra al proceso de toma de datos].\n",
      "[persona_59] || Hora:[225.00] || Accion [Llego a la mesa].\n",
      "[persona_59] || Hora:[225.00] || Accion [Entra al proceso de examen].\n",
      "[persona_60] || Hora:[226.00] || Accion [Llega al recinto].\n",
      "[persona_54] || Hora:[228.00] || Accion [Se tomaron los datos].\n",
      "[persona_54] || Hora:[228.00] || Accion [Llegó a la vacunacion].\n",
      "[persona_61] || Hora:[229.00] || Accion [Llega al recinto].\n",
      "[persona_62] || Hora:[232.00] || Accion [Llega al recinto].\n",
      "[persona_53] || Hora:[232.00] || Accion [Vacunacion correcta].\n",
      "[persona_53] || Hora:[235.00] || Accion [Se entrega el certicado, la siguiente cita es ].\n",
      "[persona_53] || Hora:[235.00] || Accion [Sale del recinto].\n",
      "[persona_63] || Hora:[238.00] || Accion [Llega al recinto].\n",
      "[persona_54] || Hora:[238.00] || Accion [Vacunacion correcta].\n",
      "[persona_55] || Hora:[240.00] || Accion [Paso el proceso de revisión].\n",
      "[persona_55] || Hora:[240.00] || Accion [Entra al proceso de toma de datos].\n",
      "[persona_56] || Hora:[240.00] || Accion [Paso el proceso de revisión].\n",
      "[persona_56] || Hora:[240.00] || Accion [Entra al proceso de toma de datos].\n",
      "[persona_57] || Hora:[240.00] || Accion [Paso el proceso de revisión].\n",
      "[persona_57] || Hora:[240.00] || Accion [Entra al proceso de toma de datos].\n",
      "[persona_54] || Hora:[240.00] || Accion [Se entrega el certicado, la siguiente cita es ].\n",
      "[persona_54] || Hora:[240.00] || Accion [Sale del recinto].\n",
      "[persona_60] || Hora:[240.00] || Accion [Llego a la mesa].\n",
      "[persona_60] || Hora:[240.00] || Accion [Entra al proceso de examen].\n",
      "[persona_61] || Hora:[240.00] || Accion [Llego a la mesa].\n",
      "[persona_61] || Hora:[240.00] || Accion [Entra al proceso de examen].\n",
      "[persona_62] || Hora:[240.00] || Accion [Llego a la mesa].\n",
      "[persona_62] || Hora:[240.00] || Accion [Entra al proceso de examen].\n",
      "[persona_64] || Hora:[241.00] || Accion [Llega al recinto].\n",
      "[persona_58] || Hora:[241.00] || Accion [Paso el proceso de revisión].\n",
      "[persona_58] || Hora:[241.00] || Accion [Entra al proceso de toma de datos].\n",
      "[persona_63] || Hora:[241.00] || Accion [Llego a la mesa].\n",
      "[persona_63] || Hora:[241.00] || Accion [Entra al proceso de examen].\n",
      "[persona_57] || Hora:[243.00] || Accion [Se tomaron los datos].\n",
      "[persona_57] || Hora:[243.00] || Accion [Llegó a la vacunacion].\n",
      "[persona_65] || Hora:[244.00] || Accion [Llega al recinto].\n",
      "[persona_55] || Hora:[244.00] || Accion [Se tomaron los datos].\n",
      "[persona_56] || Hora:[244.00] || Accion [Se tomaron los datos].\n",
      "[persona_55] || Hora:[244.00] || Accion [Llegó a la vacunacion].\n",
      "[persona_56] || Hora:[244.00] || Accion [Llegó a la vacunacion].\n",
      "[persona_59] || Hora:[245.00] || Accion [Paso el proceso de revisión].\n",
      "[persona_59] || Hora:[245.00] || Accion [Entra al proceso de toma de datos].\n",
      "[persona_58] || Hora:[245.00] || Accion [Se tomaron los datos].\n",
      "[persona_58] || Hora:[245.00] || Accion [Llegó a la vacunacion].\n",
      "[persona_64] || Hora:[245.00] || Accion [Llego a la mesa].\n",
      "[persona_64] || Hora:[245.00] || Accion [Entra al proceso de examen].\n",
      "[persona_66] || Hora:[246.00] || Accion [Llega al recinto].\n",
      "[persona_59] || Hora:[247.00] || Accion [Se tomaron los datos].\n",
      "[persona_59] || Hora:[247.00] || Accion [Llegó a la vacunacion].\n",
      "[persona_57] || Hora:[248.00] || Accion [Vacunacion correcta].\n",
      "[persona_67] || Hora:[249.00] || Accion [Llega al recinto].\n",
      "[persona_56] || Hora:[249.00] || Accion [Vacunacion correcta].\n",
      "[persona_57] || Hora:[249.00] || Accion [Se entrega el certicado, la siguiente cita es ].\n",
      "[persona_57] || Hora:[249.00] || Accion [Sale del recinto].\n",
      "[persona_56] || Hora:[250.00] || Accion [Se entrega el certicado, la siguiente cita es ].\n",
      "[persona_56] || Hora:[250.00] || Accion [Sale del recinto].\n",
      "[persona_55] || Hora:[254.00] || Accion [Vacunacion correcta].\n",
      "[persona_58] || Hora:[254.00] || Accion [Vacunacion correcta].\n",
      "[persona_68] || Hora:[255.00] || Accion [Llega al recinto].\n",
      "[persona_55] || Hora:[255.00] || Accion [Se entrega el certicado, la siguiente cita es ].\n",
      "[persona_55] || Hora:[255.00] || Accion [Sale del recinto].\n",
      "[persona_58] || Hora:[255.00] || Accion [Se entrega el certicado, la siguiente cita es ].\n",
      "[persona_58] || Hora:[255.00] || Accion [Sale del recinto].\n",
      "[persona_59] || Hora:[257.00] || Accion [Vacunacion correcta].\n",
      "[persona_59] || Hora:[258.00] || Accion [Se entrega el certicado, la siguiente cita es ].\n",
      "[persona_59] || Hora:[258.00] || Accion [Sale del recinto].\n",
      "[persona_60] || Hora:[260.00] || Accion [Paso el proceso de revisión].\n",
      "[persona_60] || Hora:[260.00] || Accion [Entra al proceso de toma de datos].\n",
      "[persona_61] || Hora:[260.00] || Accion [Paso el proceso de revisión].\n",
      "[persona_61] || Hora:[260.00] || Accion [Entra al proceso de toma de datos].\n",
      "[persona_62] || Hora:[260.00] || Accion [Paso el proceso de revisión].\n",
      "[persona_62] || Hora:[260.00] || Accion [Entra al proceso de toma de datos].\n",
      "[persona_65] || Hora:[260.00] || Accion [Llego a la mesa].\n",
      "[persona_65] || Hora:[260.00] || Accion [Entra al proceso de examen].\n",
      "[persona_66] || Hora:[260.00] || Accion [Llego a la mesa].\n",
      "[persona_66] || Hora:[260.00] || Accion [Entra al proceso de examen].\n",
      "[persona_67] || Hora:[260.00] || Accion [Llego a la mesa].\n",
      "[persona_67] || Hora:[260.00] || Accion [Entra al proceso de examen].\n",
      "[persona_69] || Hora:[261.00] || Accion [Llega al recinto].\n",
      "[persona_63] || Hora:[261.00] || Accion [Paso el proceso de revisión].\n",
      "[persona_63] || Hora:[261.00] || Accion [Entra al proceso de toma de datos].\n",
      "[persona_68] || Hora:[261.00] || Accion [Llego a la mesa].\n",
      "[persona_68] || Hora:[261.00] || Accion [Entra al proceso de examen].\n",
      "[persona_60] || Hora:[262.00] || Accion [Se tomaron los datos].\n",
      "[persona_60] || Hora:[262.00] || Accion [Llegó a la vacunacion].\n",
      "[persona_70] || Hora:[263.00] || Accion [Llega al recinto].\n",
      "[persona_61] || Hora:[263.00] || Accion [Se tomaron los datos].\n",
      "[persona_63] || Hora:[263.00] || Accion [Se tomaron los datos].\n",
      "[persona_61] || Hora:[263.00] || Accion [Llegó a la vacunacion].\n",
      "[persona_63] || Hora:[263.00] || Accion [Llegó a la vacunacion].\n",
      "[persona_62] || Hora:[264.00] || Accion [Se tomaron los datos].\n",
      "[persona_62] || Hora:[264.00] || Accion [Llegó a la vacunacion].\n",
      "[persona_64] || Hora:[265.00] || Accion [Paso el proceso de revisión].\n",
      "[persona_64] || Hora:[265.00] || Accion [Entra al proceso de toma de datos].\n",
      "[persona_69] || Hora:[265.00] || Accion [Llego a la mesa].\n",
      "[persona_69] || Hora:[265.00] || Accion [Entra al proceso de examen].\n",
      "[persona_71] || Hora:[266.00] || Accion [Llega al recinto].\n",
      "[persona_72] || Hora:[268.00] || Accion [Llega al recinto].\n",
      "[persona_61] || Hora:[269.00] || Accion [Vacunacion correcta].\n",
      "[persona_64] || Hora:[269.00] || Accion [Se tomaron los datos].\n",
      "[persona_64] || Hora:[269.00] || Accion [Llegó a la vacunacion].\n",
      "[persona_73] || Hora:[270.00] || Accion [Llega al recinto].\n",
      "[persona_60] || Hora:[270.00] || Accion [Vacunacion correcta].\n",
      "[persona_61] || Hora:[271.00] || Accion [Se entrega el certicado, la siguiente cita es ].\n",
      "[persona_61] || Hora:[271.00] || Accion [Sale del recinto].\n",
      "[persona_74] || Hora:[273.00] || Accion [Llega al recinto].\n",
      "[persona_63] || Hora:[273.00] || Accion [Vacunacion correcta].\n",
      "[persona_60] || Hora:[273.00] || Accion [Se entrega el certicado, la siguiente cita es ].\n",
      "[persona_60] || Hora:[273.00] || Accion [Sale del recinto].\n",
      "[persona_62] || Hora:[274.00] || Accion [Vacunacion correcta].\n",
      "[persona_63] || Hora:[276.00] || Accion [Se entrega el certicado, la siguiente cita es ].\n",
      "[persona_63] || Hora:[276.00] || Accion [Sale del recinto].\n",
      "[persona_62] || Hora:[276.00] || Accion [Se entrega el certicado, la siguiente cita es ].\n",
      "[persona_62] || Hora:[276.00] || Accion [Sale del recinto].\n",
      "[persona_75] || Hora:[277.00] || Accion [Llega al recinto].\n",
      "[persona_64] || Hora:[278.00] || Accion [Vacunacion correcta].\n",
      "[persona_76] || Hora:[279.00] || Accion [Llega al recinto].\n",
      "[persona_64] || Hora:[279.00] || Accion [Se entrega el certicado, la siguiente cita es ].\n",
      "[persona_64] || Hora:[279.00] || Accion [Sale del recinto].\n",
      "[persona_65] || Hora:[280.00] || Accion [Paso el proceso de revisión].\n",
      "[persona_65] || Hora:[280.00] || Accion [Entra al proceso de toma de datos].\n",
      "[persona_66] || Hora:[280.00] || Accion [Paso el proceso de revisión].\n",
      "[persona_66] || Hora:[280.00] || Accion [Entra al proceso de toma de datos].\n",
      "[persona_67] || Hora:[280.00] || Accion [Paso el proceso de revisión].\n",
      "[persona_67] || Hora:[280.00] || Accion [Entra al proceso de toma de datos].\n",
      "[persona_70] || Hora:[280.00] || Accion [Llego a la mesa].\n",
      "[persona_70] || Hora:[280.00] || Accion [Entra al proceso de examen].\n",
      "[persona_71] || Hora:[280.00] || Accion [Llego a la mesa].\n",
      "[persona_71] || Hora:[280.00] || Accion [Entra al proceso de examen].\n",
      "[persona_72] || Hora:[280.00] || Accion [Llego a la mesa].\n",
      "[persona_72] || Hora:[280.00] || Accion [Entra al proceso de examen].\n",
      "[persona_68] || Hora:[281.00] || Accion [No pasó el proceso de vacunacion, Proxima fecha 2021/06/08].\n",
      "[persona_68] || Hora:[281.00] || Accion [Sale del recinto].\n",
      "[persona_73] || Hora:[281.00] || Accion [Llego a la mesa].\n",
      "[persona_73] || Hora:[281.00] || Accion [Entra al proceso de examen].\n",
      "[persona_77] || Hora:[283.00] || Accion [Llega al recinto].\n",
      "[persona_65] || Hora:[284.00] || Accion [Se tomaron los datos].\n",
      "[persona_66] || Hora:[284.00] || Accion [Se tomaron los datos].\n",
      "[persona_67] || Hora:[284.00] || Accion [Se tomaron los datos].\n",
      "[persona_65] || Hora:[284.00] || Accion [Llegó a la vacunacion].\n",
      "[persona_66] || Hora:[284.00] || Accion [Llegó a la vacunacion].\n",
      "[persona_67] || Hora:[284.00] || Accion [Llegó a la vacunacion].\n",
      "[persona_69] || Hora:[285.00] || Accion [Paso el proceso de revisión].\n",
      "[persona_69] || Hora:[285.00] || Accion [Entra al proceso de toma de datos].\n",
      "[persona_74] || Hora:[285.00] || Accion [Llego a la mesa].\n",
      "[persona_74] || Hora:[285.00] || Accion [Entra al proceso de examen].\n",
      "[persona_78] || Hora:[287.00] || Accion [Llega al recinto].\n",
      "[persona_69] || Hora:[288.00] || Accion [Se tomaron los datos].\n",
      "[persona_69] || Hora:[288.00] || Accion [Llegó a la vacunacion].\n",
      "[persona_79] || Hora:[289.00] || Accion [Llega al recinto].\n",
      "[persona_80] || Hora:[292.00] || Accion [Llega al recinto].\n",
      "[persona_66] || Hora:[292.00] || Accion [Vacunacion correcta].\n",
      "[persona_67] || Hora:[292.00] || Accion [Vacunacion correcta].\n",
      "[persona_67] || Hora:[293.00] || Accion [Se entrega el certicado, la siguiente cita es ].\n",
      "[persona_67] || Hora:[293.00] || Accion [Sale del recinto].\n",
      "[persona_65] || Hora:[294.00] || Accion [Vacunacion correcta].\n",
      "[persona_66] || Hora:[294.00] || Accion [Se entrega el certicado, la siguiente cita es ].\n",
      "[persona_66] || Hora:[294.00] || Accion [Sale del recinto].\n",
      "[persona_69] || Hora:[295.00] || Accion [Vacunacion correcta].\n",
      "[persona_65] || Hora:[297.00] || Accion [Se entrega el certicado, la siguiente cita es ].\n",
      "[persona_65] || Hora:[297.00] || Accion [Sale del recinto].\n",
      "[persona_69] || Hora:[297.00] || Accion [Se entrega el certicado, la siguiente cita es ].\n",
      "[persona_69] || Hora:[297.00] || Accion [Sale del recinto].\n",
      "[persona_81] || Hora:[298.00] || Accion [Llega al recinto].\n",
      "[persona_82] || Hora:[300.00] || Accion [Llega al recinto].\n",
      "[persona_70] || Hora:[300.00] || Accion [Paso el proceso de revisión].\n",
      "[persona_70] || Hora:[300.00] || Accion [Entra al proceso de toma de datos].\n",
      "[persona_71] || Hora:[300.00] || Accion [Paso el proceso de revisión].\n",
      "[persona_71] || Hora:[300.00] || Accion [Entra al proceso de toma de datos].\n",
      "[persona_72] || Hora:[300.00] || Accion [Paso el proceso de revisión].\n",
      "[persona_72] || Hora:[300.00] || Accion [Entra al proceso de toma de datos].\n",
      "[persona_75] || Hora:[300.00] || Accion [Llego a la mesa].\n",
      "[persona_75] || Hora:[300.00] || Accion [Entra al proceso de examen].\n",
      "[persona_76] || Hora:[300.00] || Accion [Llego a la mesa].\n",
      "[persona_76] || Hora:[300.00] || Accion [Entra al proceso de examen].\n",
      "[persona_77] || Hora:[300.00] || Accion [Llego a la mesa].\n",
      "[persona_77] || Hora:[300.00] || Accion [Entra al proceso de examen].\n",
      "[persona_73] || Hora:[301.00] || Accion [Paso el proceso de revisión].\n",
      "[persona_73] || Hora:[301.00] || Accion [Entra al proceso de toma de datos].\n",
      "[persona_78] || Hora:[301.00] || Accion [Llego a la mesa].\n",
      "[persona_78] || Hora:[301.00] || Accion [Entra al proceso de examen].\n",
      "[persona_83] || Hora:[303.00] || Accion [Llega al recinto].\n",
      "[persona_72] || Hora:[303.00] || Accion [Se tomaron los datos].\n",
      "[persona_73] || Hora:[303.00] || Accion [Se tomaron los datos].\n",
      "[persona_72] || Hora:[303.00] || Accion [Llegó a la vacunacion].\n",
      "[persona_73] || Hora:[303.00] || Accion [Llegó a la vacunacion].\n",
      "[persona_70] || Hora:[304.00] || Accion [Se tomaron los datos].\n",
      "[persona_71] || Hora:[304.00] || Accion [Se tomaron los datos].\n",
      "[persona_70] || Hora:[304.00] || Accion [Llegó a la vacunacion].\n",
      "[persona_71] || Hora:[304.00] || Accion [Llegó a la vacunacion].\n",
      "[persona_84] || Hora:[305.00] || Accion [Llega al recinto].\n",
      "[persona_74] || Hora:[305.00] || Accion [Paso el proceso de revisión].\n",
      "[persona_74] || Hora:[305.00] || Accion [Entra al proceso de toma de datos].\n",
      "[persona_79] || Hora:[305.00] || Accion [Llego a la mesa].\n",
      "[persona_79] || Hora:[305.00] || Accion [Entra al proceso de examen].\n",
      "[persona_74] || Hora:[307.00] || Accion [Se tomaron los datos].\n",
      "[persona_74] || Hora:[307.00] || Accion [Llegó a la vacunacion].\n",
      "[persona_85] || Hora:[309.00] || Accion [Llega al recinto].\n",
      "[persona_72] || Hora:[310.00] || Accion [Vacunacion correcta].\n",
      "[persona_71] || Hora:[311.00] || Accion [Vacunacion correcta].\n",
      "[persona_72] || Hora:[311.00] || Accion [Se entrega el certicado, la siguiente cita es ].\n",
      "[persona_72] || Hora:[311.00] || Accion [Sale del recinto].\n",
      "[persona_73] || Hora:[312.00] || Accion [Vacunacion correcta].\n",
      "[persona_86] || Hora:[313.00] || Accion [Llega al recinto].\n",
      "[persona_71] || Hora:[313.00] || Accion [Se entrega el certicado, la siguiente cita es ].\n",
      "[persona_71] || Hora:[313.00] || Accion [Sale del recinto].\n",
      "[persona_70] || Hora:[314.00] || Accion [Vacunacion correcta].\n",
      "[persona_73] || Hora:[314.00] || Accion [Se entrega el certicado, la siguiente cita es ].\n",
      "[persona_73] || Hora:[314.00] || Accion [Sale del recinto].\n",
      "[persona_87] || Hora:[316.00] || Accion [Llega al recinto].\n",
      "[persona_74] || Hora:[316.00] || Accion [Vacunacion correcta].\n",
      "[persona_70] || Hora:[316.00] || Accion [Se entrega el certicado, la siguiente cita es ].\n",
      "[persona_70] || Hora:[316.00] || Accion [Sale del recinto].\n",
      "[persona_74] || Hora:[318.00] || Accion [Se entrega el certicado, la siguiente cita es ].\n",
      "[persona_74] || Hora:[318.00] || Accion [Sale del recinto].\n",
      "[persona_75] || Hora:[320.00] || Accion [Paso el proceso de revisión].\n",
      "[persona_75] || Hora:[320.00] || Accion [Entra al proceso de toma de datos].\n",
      "[persona_76] || Hora:[320.00] || Accion [Paso el proceso de revisión].\n",
      "[persona_76] || Hora:[320.00] || Accion [Entra al proceso de toma de datos].\n",
      "[persona_77] || Hora:[320.00] || Accion [Paso el proceso de revisión].\n",
      "[persona_77] || Hora:[320.00] || Accion [Entra al proceso de toma de datos].\n",
      "[persona_80] || Hora:[320.00] || Accion [Llego a la mesa].\n",
      "[persona_80] || Hora:[320.00] || Accion [Entra al proceso de examen].\n",
      "[persona_81] || Hora:[320.00] || Accion [Llego a la mesa].\n",
      "[persona_81] || Hora:[320.00] || Accion [Entra al proceso de examen].\n",
      "[persona_82] || Hora:[320.00] || Accion [Llego a la mesa].\n",
      "[persona_82] || Hora:[320.00] || Accion [Entra al proceso de examen].\n",
      "[persona_78] || Hora:[321.00] || Accion [Paso el proceso de revisión].\n",
      "[persona_78] || Hora:[321.00] || Accion [Entra al proceso de toma de datos].\n",
      "[persona_83] || Hora:[321.00] || Accion [Llego a la mesa].\n",
      "[persona_83] || Hora:[321.00] || Accion [Entra al proceso de examen].\n",
      "[persona_88] || Hora:[322.00] || Accion [Llega al recinto].\n",
      "[persona_76] || Hora:[322.00] || Accion [Se tomaron los datos].\n",
      "[persona_76] || Hora:[322.00] || Accion [Llegó a la vacunacion].\n",
      "[persona_75] || Hora:[323.00] || Accion [Se tomaron los datos].\n",
      "[persona_75] || Hora:[323.00] || Accion [Llegó a la vacunacion].\n",
      "[persona_77] || Hora:[324.00] || Accion [Se tomaron los datos].\n",
      "[persona_78] || Hora:[324.00] || Accion [Se tomaron los datos].\n",
      "[persona_77] || Hora:[324.00] || Accion [Llegó a la vacunacion].\n",
      "[persona_78] || Hora:[324.00] || Accion [Llegó a la vacunacion].\n",
      "[persona_79] || Hora:[325.00] || Accion [Paso el proceso de revisión].\n",
      "[persona_79] || Hora:[325.00] || Accion [Entra al proceso de toma de datos].\n",
      "[persona_84] || Hora:[325.00] || Accion [Llego a la mesa].\n",
      "[persona_84] || Hora:[325.00] || Accion [Entra al proceso de examen].\n",
      "[persona_89] || Hora:[327.00] || Accion [Llega al recinto].\n",
      "[persona_79] || Hora:[328.00] || Accion [Se tomaron los datos].\n",
      "[persona_79] || Hora:[328.00] || Accion [Llegó a la vacunacion].\n",
      "[persona_76] || Hora:[331.00] || Accion [Vacunacion correcta].\n",
      "[persona_75] || Hora:[331.00] || Accion [Vacunacion correcta].\n",
      "[persona_78] || Hora:[332.00] || Accion [Vacunacion correcta].\n",
      "[persona_76] || Hora:[332.00] || Accion [Se entrega el certicado, la siguiente cita es ].\n",
      "[persona_76] || Hora:[332.00] || Accion [Sale del recinto].\n",
      "[persona_75] || Hora:[332.00] || Accion [Se entrega el certicado, la siguiente cita es ].\n",
      "[persona_75] || Hora:[332.00] || Accion [Sale del recinto].\n",
      "[persona_90] || Hora:[333.00] || Accion [Llega al recinto].\n",
      "[persona_77] || Hora:[333.00] || Accion [Vacunacion correcta].\n",
      "[persona_78] || Hora:[333.00] || Accion [Se entrega el certicado, la siguiente cita es ].\n",
      "[persona_78] || Hora:[333.00] || Accion [Sale del recinto].\n",
      "[persona_79] || Hora:[336.00] || Accion [Vacunacion correcta].\n",
      "[persona_77] || Hora:[336.00] || Accion [Se entrega el certicado, la siguiente cita es ].\n",
      "[persona_77] || Hora:[336.00] || Accion [Sale del recinto].\n",
      "[persona_91] || Hora:[339.00] || Accion [Llega al recinto].\n",
      "[persona_79] || Hora:[339.00] || Accion [Se entrega el certicado, la siguiente cita es ].\n",
      "[persona_79] || Hora:[339.00] || Accion [Sale del recinto].\n",
      "[persona_80] || Hora:[340.00] || Accion [Paso el proceso de revisión].\n",
      "[persona_80] || Hora:[340.00] || Accion [Entra al proceso de toma de datos].\n",
      "[persona_81] || Hora:[340.00] || Accion [Paso el proceso de revisión].\n",
      "[persona_81] || Hora:[340.00] || Accion [Entra al proceso de toma de datos].\n",
      "[persona_82] || Hora:[340.00] || Accion [Paso el proceso de revisión].\n",
      "[persona_82] || Hora:[340.00] || Accion [Entra al proceso de toma de datos].\n",
      "[persona_85] || Hora:[340.00] || Accion [Llego a la mesa].\n",
      "[persona_85] || Hora:[340.00] || Accion [Entra al proceso de examen].\n",
      "[persona_86] || Hora:[340.00] || Accion [Llego a la mesa].\n",
      "[persona_86] || Hora:[340.00] || Accion [Entra al proceso de examen].\n",
      "[persona_87] || Hora:[340.00] || Accion [Llego a la mesa].\n",
      "[persona_87] || Hora:[340.00] || Accion [Entra al proceso de examen].\n",
      "[persona_92] || Hora:[341.00] || Accion [Llega al recinto].\n",
      "[persona_83] || Hora:[341.00] || Accion [Paso el proceso de revisión].\n",
      "[persona_83] || Hora:[341.00] || Accion [Entra al proceso de toma de datos].\n",
      "[persona_88] || Hora:[341.00] || Accion [Llego a la mesa].\n",
      "[persona_88] || Hora:[341.00] || Accion [Entra al proceso de examen].\n",
      "[persona_81] || Hora:[342.00] || Accion [Se tomaron los datos].\n",
      "[persona_81] || Hora:[342.00] || Accion [Llegó a la vacunacion].\n",
      "[persona_80] || Hora:[343.00] || Accion [Se tomaron los datos].\n",
      "[persona_80] || Hora:[343.00] || Accion [Llegó a la vacunacion].\n",
      "[persona_82] || Hora:[344.00] || Accion [Se tomaron los datos].\n",
      "[persona_83] || Hora:[344.00] || Accion [Se tomaron los datos].\n",
      "[persona_82] || Hora:[344.00] || Accion [Llegó a la vacunacion].\n",
      "[persona_83] || Hora:[344.00] || Accion [Llegó a la vacunacion].\n",
      "[persona_93] || Hora:[345.00] || Accion [Llega al recinto].\n",
      "[persona_84] || Hora:[345.00] || Accion [Paso el proceso de revisión].\n",
      "[persona_84] || Hora:[345.00] || Accion [Entra al proceso de toma de datos].\n",
      "[persona_89] || Hora:[345.00] || Accion [Llego a la mesa].\n",
      "[persona_89] || Hora:[345.00] || Accion [Entra al proceso de examen].\n",
      "[persona_84] || Hora:[347.00] || Accion [Se tomaron los datos].\n",
      "[persona_84] || Hora:[347.00] || Accion [Llegó a la vacunacion].\n",
      "[persona_80] || Hora:[350.00] || Accion [Vacunacion correcta].\n",
      "[persona_82] || Hora:[350.00] || Accion [Vacunacion correcta].\n",
      "[persona_83] || Hora:[350.00] || Accion [Vacunacion correcta].\n",
      "[persona_94] || Hora:[351.00] || Accion [Llega al recinto].\n",
      "[persona_81] || Hora:[351.00] || Accion [Vacunacion correcta].\n",
      "[persona_80] || Hora:[351.00] || Accion [Se entrega el certicado, la siguiente cita es ].\n",
      "[persona_80] || Hora:[351.00] || Accion [Sale del recinto].\n",
      "[persona_84] || Hora:[353.00] || Accion [Vacunacion correcta].\n",
      "[persona_82] || Hora:[353.00] || Accion [Se entrega el certicado, la siguiente cita es ].\n",
      "[persona_82] || Hora:[353.00] || Accion [Sale del recinto].\n",
      "[persona_83] || Hora:[353.00] || Accion [Se entrega el certicado, la siguiente cita es ].\n",
      "[persona_83] || Hora:[353.00] || Accion [Sale del recinto].\n",
      "[persona_81] || Hora:[353.00] || Accion [Se entrega el certicado, la siguiente cita es ].\n",
      "[persona_81] || Hora:[353.00] || Accion [Sale del recinto].\n",
      "[persona_84] || Hora:[355.00] || Accion [Se entrega el certicado, la siguiente cita es ].\n",
      "[persona_84] || Hora:[355.00] || Accion [Sale del recinto].\n",
      "[persona_95] || Hora:[357.00] || Accion [Llega al recinto].\n",
      "[persona_85] || Hora:[360.00] || Accion [Paso el proceso de revisión].\n",
      "[persona_85] || Hora:[360.00] || Accion [Entra al proceso de toma de datos].\n",
      "[persona_86] || Hora:[360.00] || Accion [Paso el proceso de revisión].\n",
      "[persona_86] || Hora:[360.00] || Accion [Entra al proceso de toma de datos].\n",
      "[persona_87] || Hora:[360.00] || Accion [Paso el proceso de revisión].\n",
      "[persona_87] || Hora:[360.00] || Accion [Entra al proceso de toma de datos].\n",
      "[persona_90] || Hora:[360.00] || Accion [Llego a la mesa].\n",
      "[persona_90] || Hora:[360.00] || Accion [Entra al proceso de examen].\n",
      "[persona_91] || Hora:[360.00] || Accion [Llego a la mesa].\n",
      "[persona_91] || Hora:[360.00] || Accion [Entra al proceso de examen].\n",
      "[persona_92] || Hora:[360.00] || Accion [Llego a la mesa].\n",
      "[persona_92] || Hora:[360.00] || Accion [Entra al proceso de examen].\n",
      "[persona_88] || Hora:[361.00] || Accion [Paso el proceso de revisión].\n",
      "[persona_88] || Hora:[361.00] || Accion [Entra al proceso de toma de datos].\n",
      "[persona_93] || Hora:[361.00] || Accion [Llego a la mesa].\n",
      "[persona_93] || Hora:[361.00] || Accion [Entra al proceso de examen].\n",
      "[persona_96] || Hora:[362.00] || Accion [Llega al recinto].\n",
      "[persona_85] || Hora:[362.00] || Accion [Se tomaron los datos].\n",
      "[persona_85] || Hora:[362.00] || Accion [Llegó a la vacunacion].\n",
      "[persona_88] || Hora:[363.00] || Accion [Se tomaron los datos].\n",
      "[persona_88] || Hora:[363.00] || Accion [Llegó a la vacunacion].\n",
      "[persona_86] || Hora:[364.00] || Accion [Se tomaron los datos].\n",
      "[persona_87] || Hora:[364.00] || Accion [Se tomaron los datos].\n",
      "[persona_86] || Hora:[364.00] || Accion [Llegó a la vacunacion].\n",
      "[persona_87] || Hora:[364.00] || Accion [Llegó a la vacunacion].\n",
      "[persona_89] || Hora:[365.00] || Accion [Paso el proceso de revisión].\n",
      "[persona_89] || Hora:[365.00] || Accion [Entra al proceso de toma de datos].\n",
      "[persona_94] || Hora:[365.00] || Accion [Llego a la mesa].\n",
      "[persona_94] || Hora:[365.00] || Accion [Entra al proceso de examen].\n",
      "[persona_97] || Hora:[366.00] || Accion [Llega al recinto].\n",
      "[persona_85] || Hora:[368.00] || Accion [Vacunacion correcta].\n",
      "[persona_98] || Hora:[369.00] || Accion [Llega al recinto].\n",
      "[persona_89] || Hora:[369.00] || Accion [Se tomaron los datos].\n",
      "[persona_85] || Hora:[369.00] || Accion [Se entrega el certicado, la siguiente cita es ].\n",
      "[persona_85] || Hora:[369.00] || Accion [Sale del recinto].\n",
      "[persona_89] || Hora:[369.00] || Accion [Llegó a la vacunacion].\n",
      "[persona_88] || Hora:[372.00] || Accion [Vacunacion correcta].\n",
      "[persona_86] || Hora:[372.00] || Accion [Vacunacion correcta].\n",
      "[persona_87] || Hora:[374.00] || Accion [Vacunacion correcta].\n",
      "[persona_99] || Hora:[375.00] || Accion [Llega al recinto].\n",
      "[persona_88] || Hora:[375.00] || Accion [Se entrega el certicado, la siguiente cita es ].\n",
      "[persona_88] || Hora:[375.00] || Accion [Sale del recinto].\n",
      "[persona_86] || Hora:[375.00] || Accion [Se entrega el certicado, la siguiente cita es ].\n",
      "[persona_86] || Hora:[375.00] || Accion [Sale del recinto].\n",
      "[persona_87] || Hora:[377.00] || Accion [Se entrega el certicado, la siguiente cita es ].\n",
      "[persona_87] || Hora:[377.00] || Accion [Sale del recinto].\n",
      "[persona_89] || Hora:[379.00] || Accion [Vacunacion correcta].\n",
      "[persona_90] || Hora:[380.00] || Accion [Paso el proceso de revisión].\n",
      "[persona_90] || Hora:[380.00] || Accion [Entra al proceso de toma de datos].\n",
      "[persona_91] || Hora:[380.00] || Accion [Paso el proceso de revisión].\n",
      "[persona_91] || Hora:[380.00] || Accion [Entra al proceso de toma de datos].\n",
      "[persona_92] || Hora:[380.00] || Accion [Paso el proceso de revisión].\n",
      "[persona_92] || Hora:[380.00] || Accion [Entra al proceso de toma de datos].\n",
      "[persona_95] || Hora:[380.00] || Accion [Llego a la mesa].\n",
      "[persona_95] || Hora:[380.00] || Accion [Entra al proceso de examen].\n",
      "[persona_96] || Hora:[380.00] || Accion [Llego a la mesa].\n",
      "[persona_96] || Hora:[380.00] || Accion [Entra al proceso de examen].\n",
      "[persona_97] || Hora:[380.00] || Accion [Llego a la mesa].\n",
      "[persona_97] || Hora:[380.00] || Accion [Entra al proceso de examen].\n",
      "[persona_100] || Hora:[381.00] || Accion [Llega al recinto].\n",
      "[persona_93] || Hora:[381.00] || Accion [Paso el proceso de revisión].\n",
      "[persona_93] || Hora:[381.00] || Accion [Entra al proceso de toma de datos].\n",
      "[persona_98] || Hora:[381.00] || Accion [Llego a la mesa].\n",
      "[persona_98] || Hora:[381.00] || Accion [Entra al proceso de examen].\n",
      "[persona_89] || Hora:[382.00] || Accion [Se entrega el certicado, la siguiente cita es ].\n",
      "[persona_89] || Hora:[382.00] || Accion [Sale del recinto].\n",
      "[persona_90] || Hora:[383.00] || Accion [Se tomaron los datos].\n",
      "[persona_91] || Hora:[383.00] || Accion [Se tomaron los datos].\n",
      "[persona_90] || Hora:[383.00] || Accion [Llegó a la vacunacion].\n",
      "[persona_91] || Hora:[383.00] || Accion [Llegó a la vacunacion].\n",
      "[persona_92] || Hora:[384.00] || Accion [Se tomaron los datos].\n",
      "[persona_93] || Hora:[384.00] || Accion [Se tomaron los datos].\n",
      "[persona_92] || Hora:[384.00] || Accion [Llegó a la vacunacion].\n",
      "[persona_93] || Hora:[384.00] || Accion [Llegó a la vacunacion].\n",
      "[persona_94] || Hora:[385.00] || Accion [No pasó el proceso de vacunacion, Proxima fecha 2021/06/06].\n",
      "[persona_94] || Hora:[385.00] || Accion [Sale del recinto].\n",
      "[persona_99] || Hora:[385.00] || Accion [Llego a la mesa].\n",
      "[persona_99] || Hora:[385.00] || Accion [Entra al proceso de examen].\n",
      "[persona_101] || Hora:[387.00] || Accion [Llega al recinto].\n",
      "[persona_90] || Hora:[392.00] || Accion [Vacunacion correcta].\n",
      "[persona_91] || Hora:[392.00] || Accion [Vacunacion correcta].\n",
      "[persona_92] || Hora:[392.00] || Accion [Vacunacion correcta].\n",
      "[persona_102] || Hora:[393.00] || Accion [Llega al recinto].\n",
      "[persona_90] || Hora:[393.00] || Accion [Se entrega el certicado, la siguiente cita es ].\n",
      "[persona_90] || Hora:[393.00] || Accion [Sale del recinto].\n",
      "[persona_91] || Hora:[393.00] || Accion [Se entrega el certicado, la siguiente cita es ].\n",
      "[persona_91] || Hora:[393.00] || Accion [Sale del recinto].\n",
      "[persona_93] || Hora:[394.00] || Accion [Vacunacion correcta].\n",
      "[persona_92] || Hora:[394.00] || Accion [Se entrega el certicado, la siguiente cita es ].\n",
      "[persona_92] || Hora:[394.00] || Accion [Sale del recinto].\n",
      "[persona_93] || Hora:[397.00] || Accion [Se entrega el certicado, la siguiente cita es ].\n",
      "[persona_93] || Hora:[397.00] || Accion [Sale del recinto].\n",
      "[persona_103] || Hora:[399.00] || Accion [Llega al recinto].\n",
      "[persona_95] || Hora:[400.00] || Accion [Paso el proceso de revisión].\n",
      "[persona_95] || Hora:[400.00] || Accion [Entra al proceso de toma de datos].\n",
      "[persona_96] || Hora:[400.00] || Accion [Paso el proceso de revisión].\n",
      "[persona_96] || Hora:[400.00] || Accion [Entra al proceso de toma de datos].\n",
      "[persona_97] || Hora:[400.00] || Accion [Paso el proceso de revisión].\n",
      "[persona_97] || Hora:[400.00] || Accion [Entra al proceso de toma de datos].\n",
      "[persona_100] || Hora:[400.00] || Accion [Llego a la mesa].\n",
      "[persona_100] || Hora:[400.00] || Accion [Entra al proceso de examen].\n",
      "[persona_101] || Hora:[400.00] || Accion [Llego a la mesa].\n",
      "[persona_101] || Hora:[400.00] || Accion [Entra al proceso de examen].\n",
      "[persona_102] || Hora:[400.00] || Accion [Llego a la mesa].\n",
      "[persona_102] || Hora:[400.00] || Accion [Entra al proceso de examen].\n",
      "[persona_98] || Hora:[401.00] || Accion [No pasó el proceso de vacunacion, Proxima fecha 2021/06/09].\n",
      "[persona_98] || Hora:[401.00] || Accion [Sale del recinto].\n",
      "[persona_103] || Hora:[401.00] || Accion [Llego a la mesa].\n",
      "[persona_103] || Hora:[401.00] || Accion [Entra al proceso de examen].\n",
      "[persona_96] || Hora:[402.00] || Accion [Se tomaron los datos].\n",
      "[persona_97] || Hora:[402.00] || Accion [Se tomaron los datos].\n",
      "[persona_96] || Hora:[402.00] || Accion [Llegó a la vacunacion].\n",
      "[persona_97] || Hora:[402.00] || Accion [Llegó a la vacunacion].\n",
      "[persona_95] || Hora:[403.00] || Accion [Se tomaron los datos].\n",
      "[persona_95] || Hora:[403.00] || Accion [Llegó a la vacunacion].\n",
      "[persona_104] || Hora:[405.00] || Accion [Llega al recinto].\n",
      "[persona_99] || Hora:[405.00] || Accion [Paso el proceso de revisión].\n",
      "[persona_99] || Hora:[405.00] || Accion [Entra al proceso de toma de datos].\n",
      "[persona_104] || Hora:[405.00] || Accion [Llego a la mesa].\n",
      "[persona_104] || Hora:[405.00] || Accion [Entra al proceso de examen].\n",
      "[persona_99] || Hora:[407.00] || Accion [Se tomaron los datos].\n",
      "[persona_99] || Hora:[407.00] || Accion [Llegó a la vacunacion].\n",
      "[persona_95] || Hora:[408.00] || Accion [Vacunacion correcta].\n",
      "[persona_105] || Hora:[409.00] || Accion [Llega al recinto].\n",
      "[persona_96] || Hora:[409.00] || Accion [Vacunacion correcta].\n",
      "[persona_95] || Hora:[409.00] || Accion [Se entrega el certicado, la siguiente cita es ].\n",
      "[persona_95] || Hora:[409.00] || Accion [Sale del recinto].\n",
      "[persona_96] || Hora:[411.00] || Accion [Se entrega el certicado, la siguiente cita es ].\n",
      "[persona_96] || Hora:[411.00] || Accion [Sale del recinto].\n",
      "[persona_97] || Hora:[412.00] || Accion [Vacunacion correcta].\n",
      "[persona_97] || Hora:[413.00] || Accion [Se entrega el certicado, la siguiente cita es ].\n",
      "[persona_97] || Hora:[413.00] || Accion [Sale del recinto].\n",
      "[persona_106] || Hora:[414.00] || Accion [Llega al recinto].\n",
      "[persona_99] || Hora:[414.00] || Accion [Vacunacion correcta].\n",
      "[persona_99] || Hora:[417.00] || Accion [Se entrega el certicado, la siguiente cita es ].\n",
      "[persona_99] || Hora:[417.00] || Accion [Sale del recinto].\n",
      "[persona_107] || Hora:[418.00] || Accion [Llega al recinto].\n",
      "[persona_100] || Hora:[420.00] || Accion [Paso el proceso de revisión].\n",
      "[persona_100] || Hora:[420.00] || Accion [Entra al proceso de toma de datos].\n",
      "[persona_101] || Hora:[420.00] || Accion [Paso el proceso de revisión].\n",
      "[persona_101] || Hora:[420.00] || Accion [Entra al proceso de toma de datos].\n",
      "[persona_102] || Hora:[420.00] || Accion [Paso el proceso de revisión].\n",
      "[persona_102] || Hora:[420.00] || Accion [Entra al proceso de toma de datos].\n",
      "[persona_105] || Hora:[420.00] || Accion [Llego a la mesa].\n",
      "[persona_105] || Hora:[420.00] || Accion [Entra al proceso de examen].\n",
      "[persona_106] || Hora:[420.00] || Accion [Llego a la mesa].\n",
      "[persona_106] || Hora:[420.00] || Accion [Entra al proceso de examen].\n",
      "[persona_107] || Hora:[420.00] || Accion [Llego a la mesa].\n",
      "[persona_107] || Hora:[420.00] || Accion [Entra al proceso de examen].\n",
      "[persona_103] || Hora:[421.00] || Accion [Paso el proceso de revisión].\n",
      "[persona_103] || Hora:[421.00] || Accion [Entra al proceso de toma de datos].\n",
      "[persona_108] || Hora:[422.00] || Accion [Llega al recinto].\n",
      "[persona_108] || Hora:[422.00] || Accion [Llego a la mesa].\n",
      "[persona_108] || Hora:[422.00] || Accion [Entra al proceso de examen].\n",
      "[persona_100] || Hora:[422.00] || Accion [Se tomaron los datos].\n",
      "[persona_101] || Hora:[422.00] || Accion [Se tomaron los datos].\n",
      "[persona_100] || Hora:[422.00] || Accion [Llegó a la vacunacion].\n",
      "[persona_101] || Hora:[422.00] || Accion [Llegó a la vacunacion].\n",
      "[persona_102] || Hora:[423.00] || Accion [Se tomaron los datos].\n",
      "[persona_102] || Hora:[423.00] || Accion [Llegó a la vacunacion].\n",
      "[persona_103] || Hora:[424.00] || Accion [Se tomaron los datos].\n",
      "[persona_103] || Hora:[424.00] || Accion [Llegó a la vacunacion].\n",
      "[persona_109] || Hora:[425.00] || Accion [Llega al recinto].\n",
      "[persona_104] || Hora:[425.00] || Accion [Paso el proceso de revisión].\n",
      "[persona_104] || Hora:[425.00] || Accion [Entra al proceso de toma de datos].\n",
      "[persona_109] || Hora:[425.00] || Accion [Llego a la mesa].\n",
      "[persona_109] || Hora:[425.00] || Accion [Entra al proceso de examen].\n",
      "[persona_101] || Hora:[428.00] || Accion [Vacunacion correcta].\n",
      "[persona_104] || Hora:[428.00] || Accion [Se tomaron los datos].\n",
      "[persona_104] || Hora:[428.00] || Accion [Llegó a la vacunacion].\n",
      "[persona_110] || Hora:[429.00] || Accion [Llega al recinto].\n",
      "[persona_101] || Hora:[429.00] || Accion [Se entrega el certicado, la siguiente cita es ].\n",
      "[persona_101] || Hora:[429.00] || Accion [Sale del recinto].\n",
      "[persona_100] || Hora:[430.00] || Accion [Vacunacion correcta].\n",
      "[persona_102] || Hora:[432.00] || Accion [Vacunacion correcta].\n",
      "[persona_100] || Hora:[432.00] || Accion [Se entrega el certicado, la siguiente cita es ].\n",
      "[persona_100] || Hora:[432.00] || Accion [Sale del recinto].\n",
      "[persona_103] || Hora:[433.00] || Accion [Vacunacion correcta].\n",
      "[persona_102] || Hora:[433.00] || Accion [Se entrega el certicado, la siguiente cita es ].\n",
      "[persona_102] || Hora:[433.00] || Accion [Sale del recinto].\n",
      "[persona_104] || Hora:[434.00] || Accion [Vacunacion correcta].\n",
      "[persona_103] || Hora:[434.00] || Accion [Se entrega el certicado, la siguiente cita es ].\n",
      "[persona_103] || Hora:[434.00] || Accion [Sale del recinto].\n",
      "[persona_111] || Hora:[435.00] || Accion [Llega al recinto].\n",
      "[persona_104] || Hora:[435.00] || Accion [Se entrega el certicado, la siguiente cita es ].\n",
      "[persona_104] || Hora:[435.00] || Accion [Sale del recinto].\n",
      "[persona_112] || Hora:[438.00] || Accion [Llega al recinto].\n",
      "[persona_105] || Hora:[440.00] || Accion [Paso el proceso de revisión].\n",
      "[persona_105] || Hora:[440.00] || Accion [Entra al proceso de toma de datos].\n",
      "[persona_106] || Hora:[440.00] || Accion [Paso el proceso de revisión].\n",
      "[persona_106] || Hora:[440.00] || Accion [Entra al proceso de toma de datos].\n",
      "[persona_107] || Hora:[440.00] || Accion [Paso el proceso de revisión].\n",
      "[persona_107] || Hora:[440.00] || Accion [Entra al proceso de toma de datos].\n",
      "[persona_110] || Hora:[440.00] || Accion [Llego a la mesa].\n",
      "[persona_110] || Hora:[440.00] || Accion [Entra al proceso de examen].\n",
      "[persona_111] || Hora:[440.00] || Accion [Llego a la mesa].\n",
      "[persona_111] || Hora:[440.00] || Accion [Entra al proceso de examen].\n",
      "[persona_112] || Hora:[440.00] || Accion [Llego a la mesa].\n",
      "[persona_112] || Hora:[440.00] || Accion [Entra al proceso de examen].\n",
      "[persona_108] || Hora:[442.00] || Accion [Paso el proceso de revisión].\n",
      "[persona_108] || Hora:[442.00] || Accion [Entra al proceso de toma de datos].\n",
      "[persona_107] || Hora:[442.00] || Accion [Se tomaron los datos].\n",
      "[persona_107] || Hora:[442.00] || Accion [Llegó a la vacunacion].\n",
      "[persona_106] || Hora:[443.00] || Accion [Se tomaron los datos].\n",
      "[persona_106] || Hora:[443.00] || Accion [Llegó a la vacunacion].\n",
      "[persona_113] || Hora:[444.00] || Accion [Llega al recinto].\n",
      "[persona_113] || Hora:[444.00] || Accion [Llego a la mesa].\n",
      "[persona_113] || Hora:[444.00] || Accion [Entra al proceso de examen].\n",
      "[persona_105] || Hora:[444.00] || Accion [Se tomaron los datos].\n",
      "[persona_105] || Hora:[444.00] || Accion [Llegó a la vacunacion].\n",
      "[persona_109] || Hora:[445.00] || Accion [Paso el proceso de revisión].\n",
      "[persona_109] || Hora:[445.00] || Accion [Entra al proceso de toma de datos].\n",
      "[persona_108] || Hora:[446.00] || Accion [Se tomaron los datos].\n",
      "[persona_108] || Hora:[446.00] || Accion [Llegó a la vacunacion].\n",
      "[persona_114] || Hora:[449.00] || Accion [Llega al recinto].\n",
      "[persona_107] || Hora:[449.00] || Accion [Vacunacion correcta].\n",
      "[persona_114] || Hora:[449.00] || Accion [Llego a la mesa].\n",
      "[persona_114] || Hora:[449.00] || Accion [Entra al proceso de examen].\n",
      "[persona_109] || Hora:[449.00] || Accion [Se tomaron los datos].\n",
      "[persona_109] || Hora:[449.00] || Accion [Llegó a la vacunacion].\n",
      "[persona_115] || Hora:[451.00] || Accion [Llega al recinto].\n",
      "[persona_106] || Hora:[451.00] || Accion [Vacunacion correcta].\n",
      "[persona_105] || Hora:[451.00] || Accion [Vacunacion correcta].\n",
      "[persona_107] || Hora:[452.00] || Accion [Se entrega el certicado, la siguiente cita es ].\n",
      "[persona_107] || Hora:[452.00] || Accion [Sale del recinto].\n",
      "[persona_106] || Hora:[452.00] || Accion [Se entrega el certicado, la siguiente cita es ].\n",
      "[persona_106] || Hora:[452.00] || Accion [Sale del recinto].\n",
      "[persona_105] || Hora:[454.00] || Accion [Se entrega el certicado, la siguiente cita es ].\n",
      "[persona_105] || Hora:[454.00] || Accion [Sale del recinto].\n",
      "[persona_108] || Hora:[455.00] || Accion [Vacunacion correcta].\n",
      "[persona_116] || Hora:[456.00] || Accion [Llega al recinto].\n",
      "[persona_117] || Hora:[458.00] || Accion [Llega al recinto].\n",
      "[persona_109] || Hora:[458.00] || Accion [Vacunacion correcta].\n",
      "[persona_108] || Hora:[458.00] || Accion [Se entrega el certicado, la siguiente cita es ].\n",
      "[persona_108] || Hora:[458.00] || Accion [Sale del recinto].\n",
      "[persona_110] || Hora:[460.00] || Accion [Paso el proceso de revisión].\n",
      "[persona_110] || Hora:[460.00] || Accion [Entra al proceso de toma de datos].\n",
      "[persona_111] || Hora:[460.00] || Accion [Paso el proceso de revisión].\n",
      "[persona_111] || Hora:[460.00] || Accion [Entra al proceso de toma de datos].\n",
      "[persona_112] || Hora:[460.00] || Accion [Paso el proceso de revisión].\n",
      "[persona_112] || Hora:[460.00] || Accion [Entra al proceso de toma de datos].\n",
      "[persona_109] || Hora:[460.00] || Accion [Se entrega el certicado, la siguiente cita es ].\n",
      "[persona_109] || Hora:[460.00] || Accion [Sale del recinto].\n",
      "[persona_115] || Hora:[460.00] || Accion [Llego a la mesa].\n",
      "[persona_115] || Hora:[460.00] || Accion [Entra al proceso de examen].\n",
      "[persona_116] || Hora:[460.00] || Accion [Llego a la mesa].\n",
      "[persona_116] || Hora:[460.00] || Accion [Entra al proceso de examen].\n",
      "[persona_117] || Hora:[460.00] || Accion [Llego a la mesa].\n",
      "[persona_117] || Hora:[460.00] || Accion [Entra al proceso de examen].\n",
      "[persona_118] || Hora:[461.00] || Accion [Llega al recinto].\n",
      "[persona_112] || Hora:[462.00] || Accion [Se tomaron los datos].\n",
      "[persona_112] || Hora:[462.00] || Accion [Llegó a la vacunacion].\n",
      "[persona_119] || Hora:[463.00] || Accion [Llega al recinto].\n",
      "[persona_113] || Hora:[464.00] || Accion [Paso el proceso de revisión].\n",
      "[persona_113] || Hora:[464.00] || Accion [Entra al proceso de toma de datos].\n",
      "[persona_110] || Hora:[464.00] || Accion [Se tomaron los datos].\n",
      "[persona_111] || Hora:[464.00] || Accion [Se tomaron los datos].\n",
      "[persona_110] || Hora:[464.00] || Accion [Llegó a la vacunacion].\n",
      "[persona_111] || Hora:[464.00] || Accion [Llegó a la vacunacion].\n",
      "[persona_118] || Hora:[464.00] || Accion [Llego a la mesa].\n",
      "[persona_118] || Hora:[464.00] || Accion [Entra al proceso de examen].\n",
      "[persona_120] || Hora:[466.00] || Accion [Llega al recinto].\n",
      "[persona_113] || Hora:[468.00] || Accion [Se tomaron los datos].\n",
      "[persona_113] || Hora:[468.00] || Accion [Llegó a la vacunacion].\n",
      "[persona_114] || Hora:[469.00] || Accion [Paso el proceso de revisión].\n",
      "[persona_114] || Hora:[469.00] || Accion [Entra al proceso de toma de datos].\n",
      "[persona_112] || Hora:[469.00] || Accion [Vacunacion correcta].\n",
      "[persona_119] || Hora:[469.00] || Accion [Llego a la mesa].\n",
      "[persona_119] || Hora:[469.00] || Accion [Entra al proceso de examen].\n",
      "[persona_112] || Hora:[470.00] || Accion [Se entrega el certicado, la siguiente cita es ].\n",
      "[persona_112] || Hora:[470.00] || Accion [Sale del recinto].\n",
      "[persona_111] || Hora:[471.00] || Accion [Vacunacion correcta].\n",
      "[persona_121] || Hora:[472.00] || Accion [Llega al recinto].\n",
      "[persona_110] || Hora:[472.00] || Accion [Vacunacion correcta].\n",
      "[persona_114] || Hora:[472.00] || Accion [Se tomaron los datos].\n",
      "[persona_111] || Hora:[472.00] || Accion [Se entrega el certicado, la siguiente cita es ].\n",
      "[persona_111] || Hora:[472.00] || Accion [Sale del recinto].\n",
      "[persona_114] || Hora:[472.00] || Accion [Llegó a la vacunacion].\n",
      "[persona_122] || Hora:[474.00] || Accion [Llega al recinto].\n",
      "[persona_110] || Hora:[474.00] || Accion [Se entrega el certicado, la siguiente cita es ].\n",
      "[persona_110] || Hora:[474.00] || Accion [Sale del recinto].\n",
      "[persona_113] || Hora:[476.00] || Accion [Vacunacion correcta].\n",
      "[persona_113] || Hora:[479.00] || Accion [Se entrega el certicado, la siguiente cita es ].\n",
      "[persona_113] || Hora:[479.00] || Accion [Sale del recinto].\n",
      "[persona_123] || Hora:[480.00] || Accion [Llega al recinto].\n",
      "[persona_115] || Hora:[480.00] || Accion [Paso el proceso de revisión].\n",
      "[persona_115] || Hora:[480.00] || Accion [Entra al proceso de toma de datos].\n",
      "[persona_116] || Hora:[480.00] || Accion [Paso el proceso de revisión].\n",
      "[persona_116] || Hora:[480.00] || Accion [Entra al proceso de toma de datos].\n",
      "[persona_117] || Hora:[480.00] || Accion [Paso el proceso de revisión].\n",
      "[persona_117] || Hora:[480.00] || Accion [Entra al proceso de toma de datos].\n",
      "[persona_114] || Hora:[480.00] || Accion [Vacunacion correcta].\n",
      "[persona_120] || Hora:[480.00] || Accion [Llego a la mesa].\n",
      "[persona_120] || Hora:[480.00] || Accion [Entra al proceso de examen].\n",
      "[persona_121] || Hora:[480.00] || Accion [Llego a la mesa].\n",
      "[persona_121] || Hora:[480.00] || Accion [Entra al proceso de examen].\n",
      "[persona_122] || Hora:[480.00] || Accion [Llego a la mesa].\n",
      "[persona_122] || Hora:[480.00] || Accion [Entra al proceso de examen].\n",
      "[persona_114] || Hora:[482.00] || Accion [Se entrega el certicado, la siguiente cita es ].\n",
      "[persona_114] || Hora:[482.00] || Accion [Sale del recinto].\n",
      "[persona_116] || Hora:[482.00] || Accion [Se tomaron los datos].\n",
      "[persona_116] || Hora:[482.00] || Accion [Llegó a la vacunacion].\n",
      "[persona_115] || Hora:[483.00] || Accion [Se tomaron los datos].\n",
      "[persona_115] || Hora:[483.00] || Accion [No se realizo la vacunacion, Proxima fecha 2021/06/08].\n",
      "[persona_115] || Hora:[483.00] || Accion [Sale del recinto].\n",
      "[persona_118] || Hora:[484.00] || Accion [Paso el proceso de revisión].\n",
      "[persona_118] || Hora:[484.00] || Accion [Entra al proceso de toma de datos].\n",
      "[persona_117] || Hora:[484.00] || Accion [Se tomaron los datos].\n",
      "[persona_117] || Hora:[484.00] || Accion [No se realizo la vacunacion, Proxima fecha 2021/06/06].\n",
      "[persona_117] || Hora:[484.00] || Accion [Sale del recinto].\n",
      "[persona_123] || Hora:[484.00] || Accion [Llego a la mesa].\n",
      "[persona_123] || Hora:[484.00] || Accion [Entra al proceso de examen].\n",
      "[persona_124] || Hora:[485.00] || Accion [Llega al recinto].\n",
      "[persona_118] || Hora:[487.00] || Accion [Se tomaron los datos].\n",
      "[persona_118] || Hora:[487.00] || Accion [No se realizo la vacunacion, Proxima fecha 2021/06/07].\n",
      "[persona_118] || Hora:[487.00] || Accion [Sale del recinto].\n",
      "[persona_125] || Hora:[489.00] || Accion [Llega al recinto].\n",
      "[persona_119] || Hora:[489.00] || Accion [Paso el proceso de revisión].\n",
      "[persona_119] || Hora:[489.00] || Accion [Entra al proceso de toma de datos].\n",
      "[persona_124] || Hora:[489.00] || Accion [Llego a la mesa].\n",
      "[persona_124] || Hora:[489.00] || Accion [Entra al proceso de examen].\n",
      "[persona_116] || Hora:[490.00] || Accion [Vacunacion correcta].\n",
      "[persona_119] || Hora:[492.00] || Accion [Se tomaron los datos].\n",
      "[persona_119] || Hora:[492.00] || Accion [No se realizo la vacunacion, Proxima fecha 2021/06/09].\n",
      "[persona_119] || Hora:[492.00] || Accion [Sale del recinto].\n",
      "[persona_126] || Hora:[493.00] || Accion [Llega al recinto].\n",
      "[persona_116] || Hora:[493.00] || Accion [Se entrega el certicado, la siguiente cita es ].\n",
      "[persona_116] || Hora:[493.00] || Accion [Sale del recinto].\n",
      "[persona_127] || Hora:[497.00] || Accion [Llega al recinto].\n",
      "[persona_120] || Hora:[500.00] || Accion [Paso el proceso de revisión].\n",
      "[persona_120] || Hora:[500.00] || Accion [Entra al proceso de toma de datos].\n",
      "[persona_121] || Hora:[500.00] || Accion [Paso el proceso de revisión].\n",
      "[persona_121] || Hora:[500.00] || Accion [Entra al proceso de toma de datos].\n",
      "[persona_122] || Hora:[500.00] || Accion [Paso el proceso de revisión].\n",
      "[persona_122] || Hora:[500.00] || Accion [Entra al proceso de toma de datos].\n",
      "[persona_125] || Hora:[500.00] || Accion [Llego a la mesa].\n",
      "[persona_125] || Hora:[500.00] || Accion [Entra al proceso de examen].\n",
      "[persona_126] || Hora:[500.00] || Accion [Llego a la mesa].\n",
      "[persona_126] || Hora:[500.00] || Accion [Entra al proceso de examen].\n",
      "[persona_127] || Hora:[500.00] || Accion [Llego a la mesa].\n",
      "[persona_127] || Hora:[500.00] || Accion [Entra al proceso de examen].\n",
      "[persona_128] || Hora:[502.00] || Accion [Llega al recinto].\n",
      "[persona_121] || Hora:[502.00] || Accion [Se tomaron los datos].\n",
      "[persona_122] || Hora:[502.00] || Accion [Se tomaron los datos].\n",
      "[persona_121] || Hora:[502.00] || Accion [No se realizo la vacunacion, Proxima fecha 2021/06/06].\n",
      "[persona_121] || Hora:[502.00] || Accion [Sale del recinto].\n",
      "[persona_122] || Hora:[502.00] || Accion [No se realizo la vacunacion, Proxima fecha 2021/06/07].\n",
      "[persona_122] || Hora:[502.00] || Accion [Sale del recinto].\n",
      "[persona_120] || Hora:[503.00] || Accion [Se tomaron los datos].\n",
      "[persona_120] || Hora:[503.00] || Accion [No se realizo la vacunacion, Proxima fecha 2021/06/08].\n",
      "[persona_120] || Hora:[503.00] || Accion [Sale del recinto].\n",
      "[persona_123] || Hora:[504.00] || Accion [Paso el proceso de revisión].\n",
      "[persona_123] || Hora:[504.00] || Accion [Entra al proceso de toma de datos].\n",
      "[persona_128] || Hora:[504.00] || Accion [Llego a la mesa].\n",
      "[persona_128] || Hora:[504.00] || Accion [Entra al proceso de examen].\n",
      "[persona_129] || Hora:[505.00] || Accion [Llega al recinto].\n",
      "[persona_123] || Hora:[506.00] || Accion [Se tomaron los datos].\n",
      "[persona_123] || Hora:[506.00] || Accion [No se realizo la vacunacion, Proxima fecha 2021/06/07].\n",
      "[persona_123] || Hora:[506.00] || Accion [Sale del recinto].\n",
      "[persona_124] || Hora:[509.00] || Accion [Paso el proceso de revisión].\n",
      "[persona_124] || Hora:[509.00] || Accion [Entra al proceso de toma de datos].\n",
      "[persona_129] || Hora:[509.00] || Accion [Llego a la mesa].\n",
      "[persona_129] || Hora:[509.00] || Accion [Entra al proceso de examen].\n",
      "[persona_130] || Hora:[510.00] || Accion [Llega al recinto].\n",
      "[persona_124] || Hora:[512.00] || Accion [Se tomaron los datos].\n",
      "[persona_124] || Hora:[512.00] || Accion [No se realizo la vacunacion, Proxima fecha 2021/06/07].\n",
      "[persona_124] || Hora:[512.00] || Accion [Sale del recinto].\n",
      "[persona_131] || Hora:[515.00] || Accion [Llega al recinto].\n",
      "[persona_132] || Hora:[520.00] || Accion [Llega al recinto].\n",
      "[persona_125] || Hora:[520.00] || Accion [Paso el proceso de revisión].\n",
      "[persona_125] || Hora:[520.00] || Accion [Entra al proceso de toma de datos].\n",
      "[persona_126] || Hora:[520.00] || Accion [Paso el proceso de revisión].\n",
      "[persona_126] || Hora:[520.00] || Accion [Entra al proceso de toma de datos].\n",
      "[persona_127] || Hora:[520.00] || Accion [Paso el proceso de revisión].\n",
      "[persona_127] || Hora:[520.00] || Accion [Entra al proceso de toma de datos].\n",
      "[persona_130] || Hora:[520.00] || Accion [Llego a la mesa].\n",
      "[persona_130] || Hora:[520.00] || Accion [Entra al proceso de examen].\n",
      "[persona_131] || Hora:[520.00] || Accion [Llego a la mesa].\n",
      "[persona_131] || Hora:[520.00] || Accion [Entra al proceso de examen].\n",
      "[persona_132] || Hora:[520.00] || Accion [Llego a la mesa].\n",
      "[persona_132] || Hora:[520.00] || Accion [Entra al proceso de examen].\n",
      "[persona_125] || Hora:[523.00] || Accion [Se tomaron los datos].\n",
      "[persona_126] || Hora:[523.00] || Accion [Se tomaron los datos].\n",
      "[persona_127] || Hora:[523.00] || Accion [Se tomaron los datos].\n",
      "[persona_125] || Hora:[523.00] || Accion [No se realizo la vacunacion, Proxima fecha 2021/06/07].\n",
      "[persona_125] || Hora:[523.00] || Accion [Sale del recinto].\n",
      "[persona_126] || Hora:[523.00] || Accion [No se realizo la vacunacion, Proxima fecha 2021/06/07].\n",
      "[persona_126] || Hora:[523.00] || Accion [Sale del recinto].\n",
      "[persona_127] || Hora:[523.00] || Accion [No se realizo la vacunacion, Proxima fecha 2021/06/08].\n",
      "[persona_127] || Hora:[523.00] || Accion [Sale del recinto].\n",
      "[persona_133] || Hora:[524.00] || Accion [Llega al recinto].\n",
      "[persona_128] || Hora:[524.00] || Accion [Paso el proceso de revisión].\n",
      "[persona_128] || Hora:[524.00] || Accion [Entra al proceso de toma de datos].\n",
      "[persona_133] || Hora:[524.00] || Accion [Llego a la mesa].\n",
      "[persona_133] || Hora:[524.00] || Accion [Entra al proceso de examen].\n",
      "[persona_128] || Hora:[526.00] || Accion [Se tomaron los datos].\n",
      "[persona_128] || Hora:[526.00] || Accion [No se realizo la vacunacion, Proxima fecha 2021/06/07].\n",
      "[persona_128] || Hora:[526.00] || Accion [Sale del recinto].\n",
      "[persona_134] || Hora:[528.00] || Accion [Llega al recinto].\n",
      "[persona_129] || Hora:[529.00] || Accion [Paso el proceso de revisión].\n",
      "[persona_129] || Hora:[529.00] || Accion [Entra al proceso de toma de datos].\n",
      "[persona_134] || Hora:[529.00] || Accion [Llego a la mesa].\n",
      "[persona_134] || Hora:[529.00] || Accion [Entra al proceso de examen].\n",
      "[persona_135] || Hora:[531.00] || Accion [Llega al recinto].\n",
      "[persona_129] || Hora:[533.00] || Accion [Se tomaron los datos].\n",
      "[persona_129] || Hora:[533.00] || Accion [No se realizo la vacunacion, Proxima fecha 2021/06/09].\n",
      "[persona_129] || Hora:[533.00] || Accion [Sale del recinto].\n",
      "[persona_136] || Hora:[535.00] || Accion [Llega al recinto].\n",
      "[persona_137] || Hora:[539.00] || Accion [Llega al recinto].\n"
     ]
    }
   ],
   "source": [
    "entorno = simpy.Environment()\n",
    "simulacion = Simulacion(7)\n",
    "entorno.process(simulacion.lanzarSimulacion(entorno))\n",
    "entorno.run(until=TIEMPO_SIM)"
   ]
  },
  {
   "cell_type": "markdown",
   "id": "20a7f87f",
   "metadata": {},
   "source": [
    "<h2>Con los datos obtenidos de nuestra simulación, creamos un DataFrame para su facil tratamiento</h2>"
   ]
  },
  {
   "cell_type": "code",
   "execution_count": 17,
   "id": "452f63a6",
   "metadata": {},
   "outputs": [
    {
     "data": {
      "text/html": [
       "<div>\n",
       "<style scoped>\n",
       "    .dataframe tbody tr th:only-of-type {\n",
       "        vertical-align: middle;\n",
       "    }\n",
       "\n",
       "    .dataframe tbody tr th {\n",
       "        vertical-align: top;\n",
       "    }\n",
       "\n",
       "    .dataframe thead th {\n",
       "        text-align: right;\n",
       "    }\n",
       "</style>\n",
       "<table border=\"1\" class=\"dataframe\">\n",
       "  <thead>\n",
       "    <tr style=\"text-align: right;\">\n",
       "      <th></th>\n",
       "      <th>id</th>\n",
       "      <th>nombre</th>\n",
       "      <th>Siguiente Dosis</th>\n",
       "      <th>Cita Reagendada</th>\n",
       "      <th>tiempo_exam</th>\n",
       "      <th>tiempo_datos</th>\n",
       "      <th>tiempo_vacuna</th>\n",
       "      <th>tiempo_certificado</th>\n",
       "      <th>tiempo_salida</th>\n",
       "      <th>tiempo_espera</th>\n",
       "      <th>resultado_vacuna</th>\n",
       "      <th>tiempo_total</th>\n",
       "    </tr>\n",
       "  </thead>\n",
       "  <tbody>\n",
       "    <tr>\n",
       "      <th>0</th>\n",
       "      <td>0</td>\n",
       "      <td>persona_0</td>\n",
       "      <td>2021/06/25</td>\n",
       "      <td></td>\n",
       "      <td>20</td>\n",
       "      <td>2</td>\n",
       "      <td>6</td>\n",
       "      <td>1</td>\n",
       "      <td>1</td>\n",
       "      <td>0</td>\n",
       "      <td>1</td>\n",
       "      <td>30</td>\n",
       "    </tr>\n",
       "    <tr>\n",
       "      <th>1</th>\n",
       "      <td>3</td>\n",
       "      <td>persona_3</td>\n",
       "      <td>2021/06/25</td>\n",
       "      <td></td>\n",
       "      <td>20</td>\n",
       "      <td>2</td>\n",
       "      <td>6</td>\n",
       "      <td>2</td>\n",
       "      <td>5</td>\n",
       "      <td>0</td>\n",
       "      <td>1</td>\n",
       "      <td>35</td>\n",
       "    </tr>\n",
       "    <tr>\n",
       "      <th>2</th>\n",
       "      <td>2</td>\n",
       "      <td>persona_2</td>\n",
       "      <td>2021/06/25</td>\n",
       "      <td></td>\n",
       "      <td>20</td>\n",
       "      <td>2</td>\n",
       "      <td>8</td>\n",
       "      <td>2</td>\n",
       "      <td>4</td>\n",
       "      <td>0</td>\n",
       "      <td>1</td>\n",
       "      <td>36</td>\n",
       "    </tr>\n",
       "    <tr>\n",
       "      <th>3</th>\n",
       "      <td>1</td>\n",
       "      <td>persona_1</td>\n",
       "      <td>2021/06/25</td>\n",
       "      <td></td>\n",
       "      <td>20</td>\n",
       "      <td>2</td>\n",
       "      <td>9</td>\n",
       "      <td>3</td>\n",
       "      <td>2</td>\n",
       "      <td>0</td>\n",
       "      <td>1</td>\n",
       "      <td>36</td>\n",
       "    </tr>\n",
       "    <tr>\n",
       "      <th>4</th>\n",
       "      <td>4</td>\n",
       "      <td>persona_4</td>\n",
       "      <td>2021/06/25</td>\n",
       "      <td></td>\n",
       "      <td>20</td>\n",
       "      <td>4</td>\n",
       "      <td>9</td>\n",
       "      <td>3</td>\n",
       "      <td>2</td>\n",
       "      <td>0</td>\n",
       "      <td>1</td>\n",
       "      <td>38</td>\n",
       "    </tr>\n",
       "    <tr>\n",
       "      <th>...</th>\n",
       "      <td>...</td>\n",
       "      <td>...</td>\n",
       "      <td>...</td>\n",
       "      <td>...</td>\n",
       "      <td>...</td>\n",
       "      <td>...</td>\n",
       "      <td>...</td>\n",
       "      <td>...</td>\n",
       "      <td>...</td>\n",
       "      <td>...</td>\n",
       "      <td>...</td>\n",
       "      <td>...</td>\n",
       "    </tr>\n",
       "    <tr>\n",
       "      <th>125</th>\n",
       "      <td>125</td>\n",
       "      <td>persona_125</td>\n",
       "      <td></td>\n",
       "      <td>2021/06/07</td>\n",
       "      <td>20</td>\n",
       "      <td>3</td>\n",
       "      <td>0</td>\n",
       "      <td>0</td>\n",
       "      <td>5</td>\n",
       "      <td>11</td>\n",
       "      <td>0</td>\n",
       "      <td>28</td>\n",
       "    </tr>\n",
       "    <tr>\n",
       "      <th>126</th>\n",
       "      <td>126</td>\n",
       "      <td>persona_126</td>\n",
       "      <td></td>\n",
       "      <td>2021/06/07</td>\n",
       "      <td>20</td>\n",
       "      <td>3</td>\n",
       "      <td>0</td>\n",
       "      <td>0</td>\n",
       "      <td>5</td>\n",
       "      <td>7</td>\n",
       "      <td>0</td>\n",
       "      <td>28</td>\n",
       "    </tr>\n",
       "    <tr>\n",
       "      <th>127</th>\n",
       "      <td>127</td>\n",
       "      <td>persona_127</td>\n",
       "      <td></td>\n",
       "      <td>2021/06/08</td>\n",
       "      <td>20</td>\n",
       "      <td>3</td>\n",
       "      <td>0</td>\n",
       "      <td>0</td>\n",
       "      <td>3</td>\n",
       "      <td>3</td>\n",
       "      <td>0</td>\n",
       "      <td>26</td>\n",
       "    </tr>\n",
       "    <tr>\n",
       "      <th>128</th>\n",
       "      <td>128</td>\n",
       "      <td>persona_128</td>\n",
       "      <td></td>\n",
       "      <td>2021/06/07</td>\n",
       "      <td>20</td>\n",
       "      <td>2</td>\n",
       "      <td>0</td>\n",
       "      <td>0</td>\n",
       "      <td>2</td>\n",
       "      <td>2</td>\n",
       "      <td>0</td>\n",
       "      <td>24</td>\n",
       "    </tr>\n",
       "    <tr>\n",
       "      <th>129</th>\n",
       "      <td>129</td>\n",
       "      <td>persona_129</td>\n",
       "      <td></td>\n",
       "      <td>2021/06/09</td>\n",
       "      <td>20</td>\n",
       "      <td>4</td>\n",
       "      <td>0</td>\n",
       "      <td>0</td>\n",
       "      <td>1</td>\n",
       "      <td>4</td>\n",
       "      <td>0</td>\n",
       "      <td>25</td>\n",
       "    </tr>\n",
       "  </tbody>\n",
       "</table>\n",
       "<p>130 rows × 12 columns</p>\n",
       "</div>"
      ],
      "text/plain": [
       "      id       nombre Siguiente Dosis Cita Reagendada  tiempo_exam  \\\n",
       "0      0    persona_0      2021/06/25                           20   \n",
       "1      3    persona_3      2021/06/25                           20   \n",
       "2      2    persona_2      2021/06/25                           20   \n",
       "3      1    persona_1      2021/06/25                           20   \n",
       "4      4    persona_4      2021/06/25                           20   \n",
       "..   ...          ...             ...             ...          ...   \n",
       "125  125  persona_125                      2021/06/07           20   \n",
       "126  126  persona_126                      2021/06/07           20   \n",
       "127  127  persona_127                      2021/06/08           20   \n",
       "128  128  persona_128                      2021/06/07           20   \n",
       "129  129  persona_129                      2021/06/09           20   \n",
       "\n",
       "     tiempo_datos  tiempo_vacuna  tiempo_certificado  tiempo_salida  \\\n",
       "0               2              6                   1              1   \n",
       "1               2              6                   2              5   \n",
       "2               2              8                   2              4   \n",
       "3               2              9                   3              2   \n",
       "4               4              9                   3              2   \n",
       "..            ...            ...                 ...            ...   \n",
       "125             3              0                   0              5   \n",
       "126             3              0                   0              5   \n",
       "127             3              0                   0              3   \n",
       "128             2              0                   0              2   \n",
       "129             4              0                   0              1   \n",
       "\n",
       "     tiempo_espera  resultado_vacuna  tiempo_total  \n",
       "0                0                 1            30  \n",
       "1                0                 1            35  \n",
       "2                0                 1            36  \n",
       "3                0                 1            36  \n",
       "4                0                 1            38  \n",
       "..             ...               ...           ...  \n",
       "125             11                 0            28  \n",
       "126              7                 0            28  \n",
       "127              3                 0            26  \n",
       "128              2                 0            24  \n",
       "129              4                 0            25  \n",
       "\n",
       "[130 rows x 12 columns]"
      ]
     },
     "execution_count": 17,
     "metadata": {},
     "output_type": "execute_result"
    }
   ],
   "source": [
    "df_data = pd.DataFrame(List, columns=['nombre','Siguiente Dosis','Cita Reagendada','tiempo_exam','tiempo_datos','tiempo_vacuna','tiempo_certificado','tiempo_salida', 'tiempo_espera' , 'resultado_vacuna'])\n",
    "df_data['id'] = df_data['nombre'].apply(lambda x:int(x.split('_')[1]))\n",
    "df_data.set_index('id', inplace=True)\n",
    "df_data.reset_index(inplace=True)\n",
    "df_data = df_data.convert_dtypes()\n",
    "df_data['tiempo_total'] = df_data['tiempo_exam']+df_data['tiempo_datos']+df_data['tiempo_vacuna']+df_data['tiempo_certificado']+df_data['tiempo_salida']\n",
    "df_data"
   ]
  },
  {
   "cell_type": "markdown",
   "id": "2ab8d585",
   "metadata": {},
   "source": [
    "<h2><span style=\"color: #00ff00;\">Gráficos</span></h2>"
   ]
  },
  {
   "cell_type": "markdown",
   "id": "21e887c7",
   "metadata": {},
   "source": [
    "<h2>Total de de personas que realizaron el proceso de vacunación.</h2>"
   ]
  },
  {
   "cell_type": "code",
   "execution_count": 18,
   "id": "669582a4",
   "metadata": {},
   "outputs": [
    {
     "data": {
      "text/html": [
       "\n",
       "<div id=\"altair-viz-c5c66716db6a406ba1dc74e61921a6f1\"></div>\n",
       "<script type=\"text/javascript\">\n",
       "  (function(spec, embedOpt){\n",
       "    let outputDiv = document.currentScript.previousElementSibling;\n",
       "    if (outputDiv.id !== \"altair-viz-c5c66716db6a406ba1dc74e61921a6f1\") {\n",
       "      outputDiv = document.getElementById(\"altair-viz-c5c66716db6a406ba1dc74e61921a6f1\");\n",
       "    }\n",
       "    const paths = {\n",
       "      \"vega\": \"https://cdn.jsdelivr.net/npm//vega@5?noext\",\n",
       "      \"vega-lib\": \"https://cdn.jsdelivr.net/npm//vega-lib?noext\",\n",
       "      \"vega-lite\": \"https://cdn.jsdelivr.net/npm//vega-lite@4.8.1?noext\",\n",
       "      \"vega-embed\": \"https://cdn.jsdelivr.net/npm//vega-embed@6?noext\",\n",
       "    };\n",
       "\n",
       "    function loadScript(lib) {\n",
       "      return new Promise(function(resolve, reject) {\n",
       "        var s = document.createElement('script');\n",
       "        s.src = paths[lib];\n",
       "        s.async = true;\n",
       "        s.onload = () => resolve(paths[lib]);\n",
       "        s.onerror = () => reject(`Error loading script: ${paths[lib]}`);\n",
       "        document.getElementsByTagName(\"head\")[0].appendChild(s);\n",
       "      });\n",
       "    }\n",
       "\n",
       "    function showError(err) {\n",
       "      outputDiv.innerHTML = `<div class=\"error\" style=\"color:red;\">${err}</div>`;\n",
       "      throw err;\n",
       "    }\n",
       "\n",
       "    function displayChart(vegaEmbed) {\n",
       "      vegaEmbed(outputDiv, spec, embedOpt)\n",
       "        .catch(err => showError(`Javascript Error: ${err.message}<br>This usually means there's a typo in your chart specification. See the javascript console for the full traceback.`));\n",
       "    }\n",
       "\n",
       "    if(typeof define === \"function\" && define.amd) {\n",
       "      requirejs.config({paths});\n",
       "      require([\"vega-embed\"], displayChart, err => showError(`Error loading script: ${err.message}`));\n",
       "    } else if (typeof vegaEmbed === \"function\") {\n",
       "      displayChart(vegaEmbed);\n",
       "    } else {\n",
       "      loadScript(\"vega\")\n",
       "        .then(() => loadScript(\"vega-lite\"))\n",
       "        .then(() => loadScript(\"vega-embed\"))\n",
       "        .catch(showError)\n",
       "        .then(() => displayChart(vegaEmbed));\n",
       "    }\n",
       "  })({\"config\": {\"view\": {\"continuousWidth\": 400, \"continuousHeight\": 300}}, \"layer\": [{\"data\": {\"name\": \"data-6fe4178b1377c1b4c0f6d0353880caca\"}, \"mark\": {\"type\": \"bar\", \"color\": \"orange\"}, \"encoding\": {\"x\": {\"type\": \"nominal\", \"field\": \"nombre\", \"sort\": {\"field\": \"id\", \"op\": \"count\", \"order\": \"ascending\"}}, \"y\": {\"type\": \"quantitative\", \"field\": \"tiempo_total\"}}}, {\"data\": {\"name\": \"data-6fe4178b1377c1b4c0f6d0353880caca\"}, \"mark\": {\"type\": \"point\", \"color\": \"green\"}, \"encoding\": {\"x\": {\"type\": \"nominal\", \"field\": \"nombre\", \"sort\": {\"field\": \"id\", \"op\": \"count\", \"order\": \"ascending\"}}, \"y\": {\"type\": \"quantitative\", \"field\": \"tiempo_total\"}}, \"selection\": {\"selector001\": {\"type\": \"interval\", \"bind\": \"scales\", \"encodings\": [\"x\", \"y\"]}}, \"title\": \"Tiempo total - Recinto Jefferson Perez\"}], \"$schema\": \"https://vega.github.io/schema/vega-lite/v4.8.1.json\", \"datasets\": {\"data-6fe4178b1377c1b4c0f6d0353880caca\": [{\"id\": 0, \"nombre\": \"persona_0\", \"Siguiente Dosis\": \"2021/06/25\", \"Cita Reagendada\": \"\", \"tiempo_exam\": 20, \"tiempo_datos\": 2, \"tiempo_vacuna\": 6, \"tiempo_certificado\": 1, \"tiempo_salida\": 1, \"tiempo_espera\": 0, \"resultado_vacuna\": 1, \"tiempo_total\": 30}, {\"id\": 3, \"nombre\": \"persona_3\", \"Siguiente Dosis\": \"2021/06/25\", \"Cita Reagendada\": \"\", \"tiempo_exam\": 20, \"tiempo_datos\": 2, \"tiempo_vacuna\": 6, \"tiempo_certificado\": 2, \"tiempo_salida\": 5, \"tiempo_espera\": 0, \"resultado_vacuna\": 1, \"tiempo_total\": 35}, {\"id\": 2, \"nombre\": \"persona_2\", \"Siguiente Dosis\": \"2021/06/25\", \"Cita Reagendada\": \"\", \"tiempo_exam\": 20, \"tiempo_datos\": 2, \"tiempo_vacuna\": 8, \"tiempo_certificado\": 2, \"tiempo_salida\": 4, \"tiempo_espera\": 0, \"resultado_vacuna\": 1, \"tiempo_total\": 36}, {\"id\": 1, \"nombre\": \"persona_1\", \"Siguiente Dosis\": \"2021/06/25\", \"Cita Reagendada\": \"\", \"tiempo_exam\": 20, \"tiempo_datos\": 2, \"tiempo_vacuna\": 9, \"tiempo_certificado\": 3, \"tiempo_salida\": 2, \"tiempo_espera\": 0, \"resultado_vacuna\": 1, \"tiempo_total\": 36}, {\"id\": 4, \"nombre\": \"persona_4\", \"Siguiente Dosis\": \"2021/06/25\", \"Cita Reagendada\": \"\", \"tiempo_exam\": 20, \"tiempo_datos\": 4, \"tiempo_vacuna\": 9, \"tiempo_certificado\": 3, \"tiempo_salida\": 2, \"tiempo_espera\": 0, \"resultado_vacuna\": 1, \"tiempo_total\": 38}, {\"id\": 5, \"nombre\": \"persona_5\", \"Siguiente Dosis\": \"2021/06/25\", \"Cita Reagendada\": \"\", \"tiempo_exam\": 20, \"tiempo_datos\": 3, \"tiempo_vacuna\": 5, \"tiempo_certificado\": 3, \"tiempo_salida\": 2, \"tiempo_espera\": 20, \"resultado_vacuna\": 1, \"tiempo_total\": 33}, {\"id\": 6, \"nombre\": \"persona_6\", \"Siguiente Dosis\": \"2021/06/25\", \"Cita Reagendada\": \"\", \"tiempo_exam\": 20, \"tiempo_datos\": 3, \"tiempo_vacuna\": 9, \"tiempo_certificado\": 2, \"tiempo_salida\": 5, \"tiempo_espera\": 20, \"resultado_vacuna\": 1, \"tiempo_total\": 39}, {\"id\": 8, \"nombre\": \"persona_8\", \"Siguiente Dosis\": \"2021/06/25\", \"Cita Reagendada\": \"\", \"tiempo_exam\": 20, \"tiempo_datos\": 3, \"tiempo_vacuna\": 9, \"tiempo_certificado\": 3, \"tiempo_salida\": 3, \"tiempo_espera\": 13, \"resultado_vacuna\": 1, \"tiempo_total\": 38}, {\"id\": 7, \"nombre\": \"persona_7\", \"Siguiente Dosis\": \"2021/06/25\", \"Cita Reagendada\": \"\", \"tiempo_exam\": 20, \"tiempo_datos\": 3, \"tiempo_vacuna\": 10, \"tiempo_certificado\": 2, \"tiempo_salida\": 2, \"tiempo_espera\": 15, \"resultado_vacuna\": 1, \"tiempo_total\": 37}, {\"id\": 9, \"nombre\": \"persona_9\", \"Siguiente Dosis\": \"2021/06/25\", \"Cita Reagendada\": \"\", \"tiempo_exam\": 20, \"tiempo_datos\": 3, \"tiempo_vacuna\": 10, \"tiempo_certificado\": 3, \"tiempo_salida\": 4, \"tiempo_espera\": 8, \"resultado_vacuna\": 1, \"tiempo_total\": 40}, {\"id\": 10, \"nombre\": \"persona_10\", \"Siguiente Dosis\": \"2021/06/25\", \"Cita Reagendada\": \"\", \"tiempo_exam\": 20, \"tiempo_datos\": 2, \"tiempo_vacuna\": 5, \"tiempo_certificado\": 1, \"tiempo_salida\": 2, \"tiempo_espera\": 24, \"resultado_vacuna\": 1, \"tiempo_total\": 30}, {\"id\": 12, \"nombre\": \"persona_12\", \"Siguiente Dosis\": \"2021/06/25\", \"Cita Reagendada\": \"\", \"tiempo_exam\": 20, \"tiempo_datos\": 2, \"tiempo_vacuna\": 5, \"tiempo_certificado\": 1, \"tiempo_salida\": 1, \"tiempo_espera\": 20, \"resultado_vacuna\": 1, \"tiempo_total\": 29}, {\"id\": 13, \"nombre\": \"persona_13\", \"Siguiente Dosis\": \"2021/06/25\", \"Cita Reagendada\": \"\", \"tiempo_exam\": 20, \"tiempo_datos\": 3, \"tiempo_vacuna\": 6, \"tiempo_certificado\": 1, \"tiempo_salida\": 3, \"tiempo_espera\": 18, \"resultado_vacuna\": 1, \"tiempo_total\": 33}, {\"id\": 11, \"nombre\": \"persona_11\", \"Siguiente Dosis\": \"2021/06/25\", \"Cita Reagendada\": \"\", \"tiempo_exam\": 20, \"tiempo_datos\": 2, \"tiempo_vacuna\": 9, \"tiempo_certificado\": 1, \"tiempo_salida\": 4, \"tiempo_espera\": 22, \"resultado_vacuna\": 1, \"tiempo_total\": 36}, {\"id\": 14, \"nombre\": \"persona_14\", \"Siguiente Dosis\": \"2021/06/25\", \"Cita Reagendada\": \"\", \"tiempo_exam\": 20, \"tiempo_datos\": 2, \"tiempo_vacuna\": 10, \"tiempo_certificado\": 3, \"tiempo_salida\": 3, \"tiempo_espera\": 14, \"resultado_vacuna\": 1, \"tiempo_total\": 38}, {\"id\": 16, \"nombre\": \"persona_16\", \"Siguiente Dosis\": \"2021/06/25\", \"Cita Reagendada\": \"\", \"tiempo_exam\": 20, \"tiempo_datos\": 3, \"tiempo_vacuna\": 6, \"tiempo_certificado\": 1, \"tiempo_salida\": 5, \"tiempo_espera\": 23, \"resultado_vacuna\": 1, \"tiempo_total\": 35}, {\"id\": 19, \"nombre\": \"persona_19\", \"Siguiente Dosis\": \"2021/06/25\", \"Cita Reagendada\": \"\", \"tiempo_exam\": 20, \"tiempo_datos\": 4, \"tiempo_vacuna\": 6, \"tiempo_certificado\": 3, \"tiempo_salida\": 4, \"tiempo_espera\": 11, \"resultado_vacuna\": 1, \"tiempo_total\": 37}, {\"id\": 15, \"nombre\": \"persona_15\", \"Siguiente Dosis\": \"2021/06/25\", \"Cita Reagendada\": \"\", \"tiempo_exam\": 20, \"tiempo_datos\": 4, \"tiempo_vacuna\": 9, \"tiempo_certificado\": 1, \"tiempo_salida\": 2, \"tiempo_espera\": 28, \"resultado_vacuna\": 1, \"tiempo_total\": 36}, {\"id\": 17, \"nombre\": \"persona_17\", \"Siguiente Dosis\": \"2021/06/25\", \"Cita Reagendada\": \"\", \"tiempo_exam\": 20, \"tiempo_datos\": 2, \"tiempo_vacuna\": 10, \"tiempo_certificado\": 3, \"tiempo_salida\": 4, \"tiempo_espera\": 20, \"resultado_vacuna\": 1, \"tiempo_total\": 39}, {\"id\": 18, \"nombre\": \"persona_18\", \"Siguiente Dosis\": \"2021/06/25\", \"Cita Reagendada\": \"\", \"tiempo_exam\": 20, \"tiempo_datos\": 4, \"tiempo_vacuna\": 10, \"tiempo_certificado\": 1, \"tiempo_salida\": 5, \"tiempo_espera\": 15, \"resultado_vacuna\": 1, \"tiempo_total\": 40}, {\"id\": 22, \"nombre\": \"persona_22\", \"Siguiente Dosis\": \"2021/06/25\", \"Cita Reagendada\": \"\", \"tiempo_exam\": 20, \"tiempo_datos\": 2, \"tiempo_vacuna\": 7, \"tiempo_certificado\": 2, \"tiempo_salida\": 1, \"tiempo_espera\": 19, \"resultado_vacuna\": 1, \"tiempo_total\": 32}, {\"id\": 20, \"nombre\": \"persona_20\", \"Siguiente Dosis\": \"2021/06/25\", \"Cita Reagendada\": \"\", \"tiempo_exam\": 20, \"tiempo_datos\": 3, \"tiempo_vacuna\": 6, \"tiempo_certificado\": 3, \"tiempo_salida\": 5, \"tiempo_espera\": 25, \"resultado_vacuna\": 1, \"tiempo_total\": 37}, {\"id\": 23, \"nombre\": \"persona_23\", \"Siguiente Dosis\": \"2021/06/25\", \"Cita Reagendada\": \"\", \"tiempo_exam\": 20, \"tiempo_datos\": 4, \"tiempo_vacuna\": 7, \"tiempo_certificado\": 1, \"tiempo_salida\": 1, \"tiempo_espera\": 17, \"resultado_vacuna\": 1, \"tiempo_total\": 33}, {\"id\": 24, \"nombre\": \"persona_24\", \"Siguiente Dosis\": \"2021/06/25\", \"Cita Reagendada\": \"\", \"tiempo_exam\": 20, \"tiempo_datos\": 2, \"tiempo_vacuna\": 9, \"tiempo_certificado\": 2, \"tiempo_salida\": 2, \"tiempo_espera\": 13, \"resultado_vacuna\": 1, \"tiempo_total\": 35}, {\"id\": 21, \"nombre\": \"persona_21\", \"Siguiente Dosis\": \"2021/06/25\", \"Cita Reagendada\": \"\", \"tiempo_exam\": 20, \"tiempo_datos\": 4, \"tiempo_vacuna\": 8, \"tiempo_certificado\": 2, \"tiempo_salida\": 3, \"tiempo_espera\": 23, \"resultado_vacuna\": 1, \"tiempo_total\": 37}, {\"id\": 25, \"nombre\": \"persona_25\", \"Siguiente Dosis\": \"2021/06/25\", \"Cita Reagendada\": \"\", \"tiempo_exam\": 20, \"tiempo_datos\": 3, \"tiempo_vacuna\": 5, \"tiempo_certificado\": 1, \"tiempo_salida\": 1, \"tiempo_espera\": 27, \"resultado_vacuna\": 1, \"tiempo_total\": 30}, {\"id\": 27, \"nombre\": \"persona_27\", \"Siguiente Dosis\": \"2021/06/25\", \"Cita Reagendada\": \"\", \"tiempo_exam\": 20, \"tiempo_datos\": 3, \"tiempo_vacuna\": 6, \"tiempo_certificado\": 2, \"tiempo_salida\": 2, \"tiempo_espera\": 18, \"resultado_vacuna\": 1, \"tiempo_total\": 33}, {\"id\": 26, \"nombre\": \"persona_26\", \"Siguiente Dosis\": \"2021/06/25\", \"Cita Reagendada\": \"\", \"tiempo_exam\": 20, \"tiempo_datos\": 4, \"tiempo_vacuna\": 6, \"tiempo_certificado\": 2, \"tiempo_salida\": 2, \"tiempo_espera\": 21, \"resultado_vacuna\": 1, \"tiempo_total\": 34}, {\"id\": 28, \"nombre\": \"persona_28\", \"Siguiente Dosis\": \"2021/06/25\", \"Cita Reagendada\": \"\", \"tiempo_exam\": 20, \"tiempo_datos\": 3, \"tiempo_vacuna\": 9, \"tiempo_certificado\": 1, \"tiempo_salida\": 3, \"tiempo_espera\": 16, \"resultado_vacuna\": 1, \"tiempo_total\": 36}, {\"id\": 29, \"nombre\": \"persona_29\", \"Siguiente Dosis\": \"2021/06/25\", \"Cita Reagendada\": \"\", \"tiempo_exam\": 20, \"tiempo_datos\": 3, \"tiempo_vacuna\": 10, \"tiempo_certificado\": 2, \"tiempo_salida\": 3, \"tiempo_espera\": 14, \"resultado_vacuna\": 1, \"tiempo_total\": 38}, {\"id\": 38, \"nombre\": \"persona_38\", \"Siguiente Dosis\": \"2021/06/25\", \"Cita Reagendada\": \"\", \"tiempo_exam\": 20, \"tiempo_datos\": 2, \"tiempo_vacuna\": 6, \"tiempo_certificado\": 1, \"tiempo_salida\": 5, \"tiempo_espera\": 8, \"resultado_vacuna\": 1, \"tiempo_total\": 34}, {\"id\": 35, \"nombre\": \"persona_35\", \"Siguiente Dosis\": \"2021/06/25\", \"Cita Reagendada\": \"\", \"tiempo_exam\": 20, \"tiempo_datos\": 2, \"tiempo_vacuna\": 7, \"tiempo_certificado\": 2, \"tiempo_salida\": 1, \"tiempo_espera\": 22, \"resultado_vacuna\": 1, \"tiempo_total\": 32}, {\"id\": 36, \"nombre\": \"persona_36\", \"Siguiente Dosis\": \"2021/06/25\", \"Cita Reagendada\": \"\", \"tiempo_exam\": 20, \"tiempo_datos\": 3, \"tiempo_vacuna\": 8, \"tiempo_certificado\": 1, \"tiempo_salida\": 5, \"tiempo_espera\": 17, \"resultado_vacuna\": 1, \"tiempo_total\": 37}, {\"id\": 39, \"nombre\": \"persona_39\", \"Siguiente Dosis\": \"2021/06/25\", \"Cita Reagendada\": \"\", \"tiempo_exam\": 20, \"tiempo_datos\": 4, \"tiempo_vacuna\": 9, \"tiempo_certificado\": 2, \"tiempo_salida\": 4, \"tiempo_espera\": 3, \"resultado_vacuna\": 1, \"tiempo_total\": 39}, {\"id\": 37, \"nombre\": \"persona_37\", \"Siguiente Dosis\": \"2021/06/25\", \"Cita Reagendada\": \"\", \"tiempo_exam\": 20, \"tiempo_datos\": 4, \"tiempo_vacuna\": 9, \"tiempo_certificado\": 3, \"tiempo_salida\": 3, \"tiempo_espera\": 14, \"resultado_vacuna\": 1, \"tiempo_total\": 39}, {\"id\": 45, \"nombre\": \"persona_45\", \"Siguiente Dosis\": \"2021/06/25\", \"Cita Reagendada\": \"\", \"tiempo_exam\": 20, \"tiempo_datos\": 2, \"tiempo_vacuna\": 7, \"tiempo_certificado\": 1, \"tiempo_salida\": 2, \"tiempo_espera\": 16, \"resultado_vacuna\": 1, \"tiempo_total\": 32}, {\"id\": 47, \"nombre\": \"persona_47\", \"Siguiente Dosis\": \"2021/06/25\", \"Cita Reagendada\": \"\", \"tiempo_exam\": 20, \"tiempo_datos\": 3, \"tiempo_vacuna\": 6, \"tiempo_certificado\": 1, \"tiempo_salida\": 3, \"tiempo_espera\": 6, \"resultado_vacuna\": 1, \"tiempo_total\": 33}, {\"id\": 46, \"nombre\": \"persona_46\", \"Siguiente Dosis\": \"2021/06/25\", \"Cita Reagendada\": \"\", \"tiempo_exam\": 20, \"tiempo_datos\": 3, \"tiempo_vacuna\": 9, \"tiempo_certificado\": 2, \"tiempo_salida\": 3, \"tiempo_espera\": 12, \"resultado_vacuna\": 1, \"tiempo_total\": 37}, {\"id\": 48, \"nombre\": \"persona_48\", \"Siguiente Dosis\": \"2021/06/25\", \"Cita Reagendada\": \"\", \"tiempo_exam\": 20, \"tiempo_datos\": 3, \"tiempo_vacuna\": 9, \"tiempo_certificado\": 3, \"tiempo_salida\": 4, \"tiempo_espera\": 0, \"resultado_vacuna\": 1, \"tiempo_total\": 39}, {\"id\": 49, \"nombre\": \"persona_49\", \"Siguiente Dosis\": \"2021/06/25\", \"Cita Reagendada\": \"\", \"tiempo_exam\": 20, \"tiempo_datos\": 2, \"tiempo_vacuna\": 6, \"tiempo_certificado\": 2, \"tiempo_salida\": 4, \"tiempo_espera\": 0, \"resultado_vacuna\": 1, \"tiempo_total\": 34}, {\"id\": 53, \"nombre\": \"persona_53\", \"Siguiente Dosis\": \"2021/06/25\", \"Cita Reagendada\": \"\", \"tiempo_exam\": 20, \"tiempo_datos\": 2, \"tiempo_vacuna\": 9, \"tiempo_certificado\": 3, \"tiempo_salida\": 5, \"tiempo_espera\": 0, \"resultado_vacuna\": 1, \"tiempo_total\": 39}, {\"id\": 54, \"nombre\": \"persona_54\", \"Siguiente Dosis\": \"2021/06/25\", \"Cita Reagendada\": \"\", \"tiempo_exam\": 20, \"tiempo_datos\": 3, \"tiempo_vacuna\": 10, \"tiempo_certificado\": 2, \"tiempo_salida\": 2, \"tiempo_espera\": 2, \"resultado_vacuna\": 1, \"tiempo_total\": 37}, {\"id\": 57, \"nombre\": \"persona_57\", \"Siguiente Dosis\": \"2021/06/25\", \"Cita Reagendada\": \"\", \"tiempo_exam\": 20, \"tiempo_datos\": 3, \"tiempo_vacuna\": 5, \"tiempo_certificado\": 1, \"tiempo_salida\": 1, \"tiempo_espera\": 3, \"resultado_vacuna\": 1, \"tiempo_total\": 30}, {\"id\": 56, \"nombre\": \"persona_56\", \"Siguiente Dosis\": \"2021/06/25\", \"Cita Reagendada\": \"\", \"tiempo_exam\": 20, \"tiempo_datos\": 4, \"tiempo_vacuna\": 5, \"tiempo_certificado\": 1, \"tiempo_salida\": 1, \"tiempo_espera\": 8, \"resultado_vacuna\": 1, \"tiempo_total\": 31}, {\"id\": 55, \"nombre\": \"persona_55\", \"Siguiente Dosis\": \"2021/06/25\", \"Cita Reagendada\": \"\", \"tiempo_exam\": 20, \"tiempo_datos\": 4, \"tiempo_vacuna\": 10, \"tiempo_certificado\": 1, \"tiempo_salida\": 3, \"tiempo_espera\": 13, \"resultado_vacuna\": 1, \"tiempo_total\": 38}, {\"id\": 58, \"nombre\": \"persona_58\", \"Siguiente Dosis\": \"2021/06/25\", \"Cita Reagendada\": \"\", \"tiempo_exam\": 20, \"tiempo_datos\": 4, \"tiempo_vacuna\": 9, \"tiempo_certificado\": 1, \"tiempo_salida\": 5, \"tiempo_espera\": 2, \"resultado_vacuna\": 1, \"tiempo_total\": 39}, {\"id\": 59, \"nombre\": \"persona_59\", \"Siguiente Dosis\": \"2021/06/25\", \"Cita Reagendada\": \"\", \"tiempo_exam\": 20, \"tiempo_datos\": 2, \"tiempo_vacuna\": 10, \"tiempo_certificado\": 1, \"tiempo_salida\": 2, \"tiempo_espera\": 4, \"resultado_vacuna\": 1, \"tiempo_total\": 35}, {\"id\": 61, \"nombre\": \"persona_61\", \"Siguiente Dosis\": \"2021/06/25\", \"Cita Reagendada\": \"\", \"tiempo_exam\": 20, \"tiempo_datos\": 3, \"tiempo_vacuna\": 6, \"tiempo_certificado\": 2, \"tiempo_salida\": 4, \"tiempo_espera\": 11, \"resultado_vacuna\": 1, \"tiempo_total\": 35}, {\"id\": 60, \"nombre\": \"persona_60\", \"Siguiente Dosis\": \"2021/06/25\", \"Cita Reagendada\": \"\", \"tiempo_exam\": 20, \"tiempo_datos\": 2, \"tiempo_vacuna\": 8, \"tiempo_certificado\": 3, \"tiempo_salida\": 5, \"tiempo_espera\": 14, \"resultado_vacuna\": 1, \"tiempo_total\": 38}, {\"id\": 63, \"nombre\": \"persona_63\", \"Siguiente Dosis\": \"2021/06/25\", \"Cita Reagendada\": \"\", \"tiempo_exam\": 20, \"tiempo_datos\": 2, \"tiempo_vacuna\": 10, \"tiempo_certificado\": 3, \"tiempo_salida\": 4, \"tiempo_espera\": 3, \"resultado_vacuna\": 1, \"tiempo_total\": 39}, {\"id\": 62, \"nombre\": \"persona_62\", \"Siguiente Dosis\": \"2021/06/25\", \"Cita Reagendada\": \"\", \"tiempo_exam\": 20, \"tiempo_datos\": 4, \"tiempo_vacuna\": 10, \"tiempo_certificado\": 2, \"tiempo_salida\": 5, \"tiempo_espera\": 8, \"resultado_vacuna\": 1, \"tiempo_total\": 41}, {\"id\": 64, \"nombre\": \"persona_64\", \"Siguiente Dosis\": \"2021/06/25\", \"Cita Reagendada\": \"\", \"tiempo_exam\": 20, \"tiempo_datos\": 4, \"tiempo_vacuna\": 9, \"tiempo_certificado\": 1, \"tiempo_salida\": 3, \"tiempo_espera\": 4, \"resultado_vacuna\": 1, \"tiempo_total\": 37}, {\"id\": 67, \"nombre\": \"persona_67\", \"Siguiente Dosis\": \"2021/06/25\", \"Cita Reagendada\": \"\", \"tiempo_exam\": 20, \"tiempo_datos\": 4, \"tiempo_vacuna\": 8, \"tiempo_certificado\": 1, \"tiempo_salida\": 5, \"tiempo_espera\": 11, \"resultado_vacuna\": 1, \"tiempo_total\": 38}, {\"id\": 66, \"nombre\": \"persona_66\", \"Siguiente Dosis\": \"2021/06/25\", \"Cita Reagendada\": \"\", \"tiempo_exam\": 20, \"tiempo_datos\": 4, \"tiempo_vacuna\": 8, \"tiempo_certificado\": 2, \"tiempo_salida\": 5, \"tiempo_espera\": 14, \"resultado_vacuna\": 1, \"tiempo_total\": 39}, {\"id\": 65, \"nombre\": \"persona_65\", \"Siguiente Dosis\": \"2021/06/25\", \"Cita Reagendada\": \"\", \"tiempo_exam\": 20, \"tiempo_datos\": 4, \"tiempo_vacuna\": 10, \"tiempo_certificado\": 3, \"tiempo_salida\": 5, \"tiempo_espera\": 16, \"resultado_vacuna\": 1, \"tiempo_total\": 42}, {\"id\": 69, \"nombre\": \"persona_69\", \"Siguiente Dosis\": \"2021/06/25\", \"Cita Reagendada\": \"\", \"tiempo_exam\": 20, \"tiempo_datos\": 3, \"tiempo_vacuna\": 7, \"tiempo_certificado\": 2, \"tiempo_salida\": 2, \"tiempo_espera\": 4, \"resultado_vacuna\": 1, \"tiempo_total\": 34}, {\"id\": 72, \"nombre\": \"persona_72\", \"Siguiente Dosis\": \"2021/06/25\", \"Cita Reagendada\": \"\", \"tiempo_exam\": 20, \"tiempo_datos\": 3, \"tiempo_vacuna\": 7, \"tiempo_certificado\": 1, \"tiempo_salida\": 2, \"tiempo_espera\": 12, \"resultado_vacuna\": 1, \"tiempo_total\": 33}, {\"id\": 71, \"nombre\": \"persona_71\", \"Siguiente Dosis\": \"2021/06/25\", \"Cita Reagendada\": \"\", \"tiempo_exam\": 20, \"tiempo_datos\": 4, \"tiempo_vacuna\": 7, \"tiempo_certificado\": 2, \"tiempo_salida\": 5, \"tiempo_espera\": 14, \"resultado_vacuna\": 1, \"tiempo_total\": 38}, {\"id\": 73, \"nombre\": \"persona_73\", \"Siguiente Dosis\": \"2021/06/25\", \"Cita Reagendada\": \"\", \"tiempo_exam\": 20, \"tiempo_datos\": 2, \"tiempo_vacuna\": 9, \"tiempo_certificado\": 2, \"tiempo_salida\": 1, \"tiempo_espera\": 11, \"resultado_vacuna\": 1, \"tiempo_total\": 34}, {\"id\": 70, \"nombre\": \"persona_70\", \"Siguiente Dosis\": \"2021/06/25\", \"Cita Reagendada\": \"\", \"tiempo_exam\": 20, \"tiempo_datos\": 4, \"tiempo_vacuna\": 10, \"tiempo_certificado\": 2, \"tiempo_salida\": 3, \"tiempo_espera\": 17, \"resultado_vacuna\": 1, \"tiempo_total\": 39}, {\"id\": 74, \"nombre\": \"persona_74\", \"Siguiente Dosis\": \"2021/06/25\", \"Cita Reagendada\": \"\", \"tiempo_exam\": 20, \"tiempo_datos\": 2, \"tiempo_vacuna\": 9, \"tiempo_certificado\": 2, \"tiempo_salida\": 5, \"tiempo_espera\": 12, \"resultado_vacuna\": 1, \"tiempo_total\": 38}, {\"id\": 76, \"nombre\": \"persona_76\", \"Siguiente Dosis\": \"2021/06/25\", \"Cita Reagendada\": \"\", \"tiempo_exam\": 20, \"tiempo_datos\": 2, \"tiempo_vacuna\": 9, \"tiempo_certificado\": 1, \"tiempo_salida\": 1, \"tiempo_espera\": 21, \"resultado_vacuna\": 1, \"tiempo_total\": 33}, {\"id\": 75, \"nombre\": \"persona_75\", \"Siguiente Dosis\": \"2021/06/25\", \"Cita Reagendada\": \"\", \"tiempo_exam\": 20, \"tiempo_datos\": 3, \"tiempo_vacuna\": 8, \"tiempo_certificado\": 1, \"tiempo_salida\": 3, \"tiempo_espera\": 23, \"resultado_vacuna\": 1, \"tiempo_total\": 35}, {\"id\": 78, \"nombre\": \"persona_78\", \"Siguiente Dosis\": \"2021/06/25\", \"Cita Reagendada\": \"\", \"tiempo_exam\": 20, \"tiempo_datos\": 3, \"tiempo_vacuna\": 8, \"tiempo_certificado\": 1, \"tiempo_salida\": 1, \"tiempo_espera\": 14, \"resultado_vacuna\": 1, \"tiempo_total\": 33}, {\"id\": 77, \"nombre\": \"persona_77\", \"Siguiente Dosis\": \"2021/06/25\", \"Cita Reagendada\": \"\", \"tiempo_exam\": 20, \"tiempo_datos\": 4, \"tiempo_vacuna\": 9, \"tiempo_certificado\": 3, \"tiempo_salida\": 4, \"tiempo_espera\": 17, \"resultado_vacuna\": 1, \"tiempo_total\": 40}, {\"id\": 79, \"nombre\": \"persona_79\", \"Siguiente Dosis\": \"2021/06/25\", \"Cita Reagendada\": \"\", \"tiempo_exam\": 20, \"tiempo_datos\": 3, \"tiempo_vacuna\": 8, \"tiempo_certificado\": 3, \"tiempo_salida\": 2, \"tiempo_espera\": 16, \"resultado_vacuna\": 1, \"tiempo_total\": 36}, {\"id\": 80, \"nombre\": \"persona_80\", \"Siguiente Dosis\": \"2021/06/25\", \"Cita Reagendada\": \"\", \"tiempo_exam\": 20, \"tiempo_datos\": 3, \"tiempo_vacuna\": 7, \"tiempo_certificado\": 1, \"tiempo_salida\": 4, \"tiempo_espera\": 28, \"resultado_vacuna\": 1, \"tiempo_total\": 35}, {\"id\": 82, \"nombre\": \"persona_82\", \"Siguiente Dosis\": \"2021/06/25\", \"Cita Reagendada\": \"\", \"tiempo_exam\": 20, \"tiempo_datos\": 4, \"tiempo_vacuna\": 6, \"tiempo_certificado\": 3, \"tiempo_salida\": 1, \"tiempo_espera\": 20, \"resultado_vacuna\": 1, \"tiempo_total\": 34}, {\"id\": 83, \"nombre\": \"persona_83\", \"Siguiente Dosis\": \"2021/06/25\", \"Cita Reagendada\": \"\", \"tiempo_exam\": 20, \"tiempo_datos\": 3, \"tiempo_vacuna\": 6, \"tiempo_certificado\": 3, \"tiempo_salida\": 1, \"tiempo_espera\": 18, \"resultado_vacuna\": 1, \"tiempo_total\": 33}, {\"id\": 81, \"nombre\": \"persona_81\", \"Siguiente Dosis\": \"2021/06/25\", \"Cita Reagendada\": \"\", \"tiempo_exam\": 20, \"tiempo_datos\": 2, \"tiempo_vacuna\": 9, \"tiempo_certificado\": 2, \"tiempo_salida\": 1, \"tiempo_espera\": 22, \"resultado_vacuna\": 1, \"tiempo_total\": 34}, {\"id\": 84, \"nombre\": \"persona_84\", \"Siguiente Dosis\": \"2021/06/25\", \"Cita Reagendada\": \"\", \"tiempo_exam\": 20, \"tiempo_datos\": 2, \"tiempo_vacuna\": 6, \"tiempo_certificado\": 2, \"tiempo_salida\": 2, \"tiempo_espera\": 20, \"resultado_vacuna\": 1, \"tiempo_total\": 32}, {\"id\": 85, \"nombre\": \"persona_85\", \"Siguiente Dosis\": \"2021/06/25\", \"Cita Reagendada\": \"\", \"tiempo_exam\": 20, \"tiempo_datos\": 2, \"tiempo_vacuna\": 6, \"tiempo_certificado\": 1, \"tiempo_salida\": 5, \"tiempo_espera\": 31, \"resultado_vacuna\": 1, \"tiempo_total\": 34}, {\"id\": 88, \"nombre\": \"persona_88\", \"Siguiente Dosis\": \"2021/06/25\", \"Cita Reagendada\": \"\", \"tiempo_exam\": 20, \"tiempo_datos\": 2, \"tiempo_vacuna\": 9, \"tiempo_certificado\": 3, \"tiempo_salida\": 4, \"tiempo_espera\": 19, \"resultado_vacuna\": 1, \"tiempo_total\": 38}, {\"id\": 86, \"nombre\": \"persona_86\", \"Siguiente Dosis\": \"2021/06/25\", \"Cita Reagendada\": \"\", \"tiempo_exam\": 20, \"tiempo_datos\": 4, \"tiempo_vacuna\": 8, \"tiempo_certificado\": 3, \"tiempo_salida\": 2, \"tiempo_espera\": 27, \"resultado_vacuna\": 1, \"tiempo_total\": 37}, {\"id\": 87, \"nombre\": \"persona_87\", \"Siguiente Dosis\": \"2021/06/25\", \"Cita Reagendada\": \"\", \"tiempo_exam\": 20, \"tiempo_datos\": 4, \"tiempo_vacuna\": 10, \"tiempo_certificado\": 3, \"tiempo_salida\": 4, \"tiempo_espera\": 24, \"resultado_vacuna\": 1, \"tiempo_total\": 41}, {\"id\": 89, \"nombre\": \"persona_89\", \"Siguiente Dosis\": \"2021/06/25\", \"Cita Reagendada\": \"\", \"tiempo_exam\": 20, \"tiempo_datos\": 4, \"tiempo_vacuna\": 10, \"tiempo_certificado\": 3, \"tiempo_salida\": 2, \"tiempo_espera\": 18, \"resultado_vacuna\": 1, \"tiempo_total\": 39}, {\"id\": 90, \"nombre\": \"persona_90\", \"Siguiente Dosis\": \"2021/06/25\", \"Cita Reagendada\": \"\", \"tiempo_exam\": 20, \"tiempo_datos\": 3, \"tiempo_vacuna\": 9, \"tiempo_certificado\": 1, \"tiempo_salida\": 4, \"tiempo_espera\": 27, \"resultado_vacuna\": 1, \"tiempo_total\": 37}, {\"id\": 91, \"nombre\": \"persona_91\", \"Siguiente Dosis\": \"2021/06/25\", \"Cita Reagendada\": \"\", \"tiempo_exam\": 20, \"tiempo_datos\": 3, \"tiempo_vacuna\": 9, \"tiempo_certificado\": 1, \"tiempo_salida\": 5, \"tiempo_espera\": 21, \"resultado_vacuna\": 1, \"tiempo_total\": 38}, {\"id\": 92, \"nombre\": \"persona_92\", \"Siguiente Dosis\": \"2021/06/25\", \"Cita Reagendada\": \"\", \"tiempo_exam\": 20, \"tiempo_datos\": 4, \"tiempo_vacuna\": 8, \"tiempo_certificado\": 2, \"tiempo_salida\": 3, \"tiempo_espera\": 19, \"resultado_vacuna\": 1, \"tiempo_total\": 37}, {\"id\": 93, \"nombre\": \"persona_93\", \"Siguiente Dosis\": \"2021/06/25\", \"Cita Reagendada\": \"\", \"tiempo_exam\": 20, \"tiempo_datos\": 3, \"tiempo_vacuna\": 10, \"tiempo_certificado\": 3, \"tiempo_salida\": 4, \"tiempo_espera\": 16, \"resultado_vacuna\": 1, \"tiempo_total\": 40}, {\"id\": 95, \"nombre\": \"persona_95\", \"Siguiente Dosis\": \"2021/06/25\", \"Cita Reagendada\": \"\", \"tiempo_exam\": 20, \"tiempo_datos\": 3, \"tiempo_vacuna\": 5, \"tiempo_certificado\": 1, \"tiempo_salida\": 4, \"tiempo_espera\": 23, \"resultado_vacuna\": 1, \"tiempo_total\": 33}, {\"id\": 96, \"nombre\": \"persona_96\", \"Siguiente Dosis\": \"2021/06/25\", \"Cita Reagendada\": \"\", \"tiempo_exam\": 20, \"tiempo_datos\": 2, \"tiempo_vacuna\": 7, \"tiempo_certificado\": 2, \"tiempo_salida\": 2, \"tiempo_espera\": 18, \"resultado_vacuna\": 1, \"tiempo_total\": 33}, {\"id\": 97, \"nombre\": \"persona_97\", \"Siguiente Dosis\": \"2021/06/25\", \"Cita Reagendada\": \"\", \"tiempo_exam\": 20, \"tiempo_datos\": 2, \"tiempo_vacuna\": 10, \"tiempo_certificado\": 1, \"tiempo_salida\": 5, \"tiempo_espera\": 14, \"resultado_vacuna\": 1, \"tiempo_total\": 38}, {\"id\": 99, \"nombre\": \"persona_99\", \"Siguiente Dosis\": \"2021/06/25\", \"Cita Reagendada\": \"\", \"tiempo_exam\": 20, \"tiempo_datos\": 2, \"tiempo_vacuna\": 7, \"tiempo_certificado\": 3, \"tiempo_salida\": 5, \"tiempo_espera\": 10, \"resultado_vacuna\": 1, \"tiempo_total\": 37}, {\"id\": 101, \"nombre\": \"persona_101\", \"Siguiente Dosis\": \"2021/06/25\", \"Cita Reagendada\": \"\", \"tiempo_exam\": 20, \"tiempo_datos\": 2, \"tiempo_vacuna\": 6, \"tiempo_certificado\": 1, \"tiempo_salida\": 1, \"tiempo_espera\": 13, \"resultado_vacuna\": 1, \"tiempo_total\": 30}, {\"id\": 100, \"nombre\": \"persona_100\", \"Siguiente Dosis\": \"2021/06/25\", \"Cita Reagendada\": \"\", \"tiempo_exam\": 20, \"tiempo_datos\": 2, \"tiempo_vacuna\": 8, \"tiempo_certificado\": 2, \"tiempo_salida\": 1, \"tiempo_espera\": 19, \"resultado_vacuna\": 1, \"tiempo_total\": 33}, {\"id\": 102, \"nombre\": \"persona_102\", \"Siguiente Dosis\": \"2021/06/25\", \"Cita Reagendada\": \"\", \"tiempo_exam\": 20, \"tiempo_datos\": 3, \"tiempo_vacuna\": 9, \"tiempo_certificado\": 1, \"tiempo_salida\": 3, \"tiempo_espera\": 7, \"resultado_vacuna\": 1, \"tiempo_total\": 36}, {\"id\": 103, \"nombre\": \"persona_103\", \"Siguiente Dosis\": \"2021/06/25\", \"Cita Reagendada\": \"\", \"tiempo_exam\": 20, \"tiempo_datos\": 3, \"tiempo_vacuna\": 9, \"tiempo_certificado\": 1, \"tiempo_salida\": 3, \"tiempo_espera\": 2, \"resultado_vacuna\": 1, \"tiempo_total\": 36}, {\"id\": 104, \"nombre\": \"persona_104\", \"Siguiente Dosis\": \"2021/06/25\", \"Cita Reagendada\": \"\", \"tiempo_exam\": 20, \"tiempo_datos\": 3, \"tiempo_vacuna\": 6, \"tiempo_certificado\": 1, \"tiempo_salida\": 2, \"tiempo_espera\": 0, \"resultado_vacuna\": 1, \"tiempo_total\": 32}, {\"id\": 107, \"nombre\": \"persona_107\", \"Siguiente Dosis\": \"2021/06/25\", \"Cita Reagendada\": \"\", \"tiempo_exam\": 20, \"tiempo_datos\": 2, \"tiempo_vacuna\": 7, \"tiempo_certificado\": 3, \"tiempo_salida\": 5, \"tiempo_espera\": 2, \"resultado_vacuna\": 1, \"tiempo_total\": 37}, {\"id\": 106, \"nombre\": \"persona_106\", \"Siguiente Dosis\": \"2021/06/25\", \"Cita Reagendada\": \"\", \"tiempo_exam\": 20, \"tiempo_datos\": 3, \"tiempo_vacuna\": 8, \"tiempo_certificado\": 1, \"tiempo_salida\": 3, \"tiempo_espera\": 6, \"resultado_vacuna\": 1, \"tiempo_total\": 35}, {\"id\": 105, \"nombre\": \"persona_105\", \"Siguiente Dosis\": \"2021/06/25\", \"Cita Reagendada\": \"\", \"tiempo_exam\": 20, \"tiempo_datos\": 4, \"tiempo_vacuna\": 7, \"tiempo_certificado\": 3, \"tiempo_salida\": 2, \"tiempo_espera\": 11, \"resultado_vacuna\": 1, \"tiempo_total\": 36}, {\"id\": 108, \"nombre\": \"persona_108\", \"Siguiente Dosis\": \"2021/06/25\", \"Cita Reagendada\": \"\", \"tiempo_exam\": 20, \"tiempo_datos\": 4, \"tiempo_vacuna\": 9, \"tiempo_certificado\": 3, \"tiempo_salida\": 5, \"tiempo_espera\": 0, \"resultado_vacuna\": 1, \"tiempo_total\": 41}, {\"id\": 109, \"nombre\": \"persona_109\", \"Siguiente Dosis\": \"2021/06/25\", \"Cita Reagendada\": \"\", \"tiempo_exam\": 20, \"tiempo_datos\": 4, \"tiempo_vacuna\": 9, \"tiempo_certificado\": 2, \"tiempo_salida\": 3, \"tiempo_espera\": 0, \"resultado_vacuna\": 1, \"tiempo_total\": 38}, {\"id\": 112, \"nombre\": \"persona_112\", \"Siguiente Dosis\": \"2021/06/25\", \"Cita Reagendada\": \"\", \"tiempo_exam\": 20, \"tiempo_datos\": 2, \"tiempo_vacuna\": 7, \"tiempo_certificado\": 1, \"tiempo_salida\": 5, \"tiempo_espera\": 2, \"resultado_vacuna\": 1, \"tiempo_total\": 35}, {\"id\": 111, \"nombre\": \"persona_111\", \"Siguiente Dosis\": \"2021/06/25\", \"Cita Reagendada\": \"\", \"tiempo_exam\": 20, \"tiempo_datos\": 4, \"tiempo_vacuna\": 7, \"tiempo_certificado\": 1, \"tiempo_salida\": 5, \"tiempo_espera\": 5, \"resultado_vacuna\": 1, \"tiempo_total\": 37}, {\"id\": 110, \"nombre\": \"persona_110\", \"Siguiente Dosis\": \"2021/06/25\", \"Cita Reagendada\": \"\", \"tiempo_exam\": 20, \"tiempo_datos\": 4, \"tiempo_vacuna\": 8, \"tiempo_certificado\": 2, \"tiempo_salida\": 2, \"tiempo_espera\": 11, \"resultado_vacuna\": 1, \"tiempo_total\": 36}, {\"id\": 113, \"nombre\": \"persona_113\", \"Siguiente Dosis\": \"2021/06/25\", \"Cita Reagendada\": \"\", \"tiempo_exam\": 20, \"tiempo_datos\": 4, \"tiempo_vacuna\": 8, \"tiempo_certificado\": 3, \"tiempo_salida\": 3, \"tiempo_espera\": 0, \"resultado_vacuna\": 1, \"tiempo_total\": 38}, {\"id\": 114, \"nombre\": \"persona_114\", \"Siguiente Dosis\": \"2021/06/25\", \"Cita Reagendada\": \"\", \"tiempo_exam\": 20, \"tiempo_datos\": 3, \"tiempo_vacuna\": 8, \"tiempo_certificado\": 2, \"tiempo_salida\": 5, \"tiempo_espera\": 0, \"resultado_vacuna\": 1, \"tiempo_total\": 38}, {\"id\": 116, \"nombre\": \"persona_116\", \"Siguiente Dosis\": \"2021/06/25\", \"Cita Reagendada\": \"\", \"tiempo_exam\": 20, \"tiempo_datos\": 2, \"tiempo_vacuna\": 8, \"tiempo_certificado\": 3, \"tiempo_salida\": 2, \"tiempo_espera\": 4, \"resultado_vacuna\": 1, \"tiempo_total\": 35}]}}, {\"mode\": \"vega-lite\"});\n",
       "</script>"
      ],
      "text/plain": [
       "alt.LayerChart(...)"
      ]
     },
     "execution_count": 18,
     "metadata": {},
     "output_type": "execute_result"
    }
   ],
   "source": [
    "alt.Chart(df_data[df_data['resultado_vacuna']==1]).mark_bar(color='orange').encode(\n",
    "    x=alt.X('nombre',sort=alt.EncodingSortField(field=\"id\", op=\"count\", order='ascending')),\n",
    "    y='tiempo_total'\n",
    "    )+alt.Chart(df_data[df_data['resultado_vacuna']==1]).mark_point(color='green').encode(\n",
    "        x=alt.X('nombre',sort=alt.EncodingSortField(field=\"id\", op=\"count\", order='ascending')),\n",
    "        y='tiempo_total').properties(title='Tiempo total - Recinto Jefferson Perez').interactive()"
   ]
  },
  {
   "cell_type": "markdown",
   "id": "9ade23ab",
   "metadata": {},
   "source": [
    "<h2>Grafico del porcentaje de personas que no recibieron la vacuna.</h2>"
   ]
  },
  {
   "cell_type": "code",
   "execution_count": 19,
   "id": "0ff67947",
   "metadata": {},
   "outputs": [
    {
     "data": {
      "text/html": [
       "<div>\n",
       "<style scoped>\n",
       "    .dataframe tbody tr th:only-of-type {\n",
       "        vertical-align: middle;\n",
       "    }\n",
       "\n",
       "    .dataframe tbody tr th {\n",
       "        vertical-align: top;\n",
       "    }\n",
       "\n",
       "    .dataframe thead th {\n",
       "        text-align: right;\n",
       "    }\n",
       "</style>\n",
       "<table border=\"1\" class=\"dataframe\">\n",
       "  <thead>\n",
       "    <tr style=\"text-align: right;\">\n",
       "      <th></th>\n",
       "      <th>vacunados</th>\n",
       "      <th>values</th>\n",
       "    </tr>\n",
       "  </thead>\n",
       "  <tbody>\n",
       "    <tr>\n",
       "      <th>0</th>\n",
       "      <td>Si</td>\n",
       "      <td>0.769231</td>\n",
       "    </tr>\n",
       "    <tr>\n",
       "      <th>1</th>\n",
       "      <td>No</td>\n",
       "      <td>0.230769</td>\n",
       "    </tr>\n",
       "  </tbody>\n",
       "</table>\n",
       "</div>"
      ],
      "text/plain": [
       "  vacunados    values\n",
       "0        Si  0.769231\n",
       "1        No  0.230769"
      ]
     },
     "execution_count": 19,
     "metadata": {},
     "output_type": "execute_result"
    }
   ],
   "source": [
    "dict_vacunas = {'vacunados':['Si','No'],\n",
    "               'values':[df_data.query('resultado_vacuna == \"1\"').count()[0]/len(df_data),\n",
    "                         df_data.query('resultado_vacuna == \"0\" ').count()[0]/len(df_data)]}\n",
    "dict_vacunas=pd.DataFrame(dict_vacunas)\n",
    "dict_vacunas"
   ]
  },
  {
   "cell_type": "code",
   "execution_count": 20,
   "id": "e99fe259",
   "metadata": {},
   "outputs": [
    {
     "data": {
      "application/vnd.plotly.v1+json": {
       "config": {
        "plotlyServerURL": "https://plot.ly"
       },
       "data": [
        {
         "domain": {
          "x": [
           0,
           1
          ],
          "y": [
           0,
           1
          ]
         },
         "hovertemplate": "vacunados=%{label}<br>value=%{value}<extra></extra>",
         "labels": [
          "Si",
          "No"
         ],
         "legendgroup": "",
         "name": "",
         "showlegend": true,
         "type": "pie",
         "values": [
          0.7692307692307693,
          0.23076923076923078
         ]
        }
       ],
       "layout": {
        "height": 500,
        "legend": {
         "tracegroupgap": 0
        },
        "margin": {
         "t": 60
        },
        "piecolorway": [
         "rgb(237, 239, 93)",
         "rgb(169, 220, 103)",
         "rgb(110, 197, 116)",
         "rgb(57, 171, 126)",
         "rgb(13, 143, 129)",
         "rgb(15, 114, 121)",
         "rgb(36, 86, 104)"
        ],
        "template": {
         "data": {
          "bar": [
           {
            "error_x": {
             "color": "#2a3f5f"
            },
            "error_y": {
             "color": "#2a3f5f"
            },
            "marker": {
             "line": {
              "color": "#E5ECF6",
              "width": 0.5
             }
            },
            "type": "bar"
           }
          ],
          "barpolar": [
           {
            "marker": {
             "line": {
              "color": "#E5ECF6",
              "width": 0.5
             }
            },
            "type": "barpolar"
           }
          ],
          "carpet": [
           {
            "aaxis": {
             "endlinecolor": "#2a3f5f",
             "gridcolor": "white",
             "linecolor": "white",
             "minorgridcolor": "white",
             "startlinecolor": "#2a3f5f"
            },
            "baxis": {
             "endlinecolor": "#2a3f5f",
             "gridcolor": "white",
             "linecolor": "white",
             "minorgridcolor": "white",
             "startlinecolor": "#2a3f5f"
            },
            "type": "carpet"
           }
          ],
          "choropleth": [
           {
            "colorbar": {
             "outlinewidth": 0,
             "ticks": ""
            },
            "type": "choropleth"
           }
          ],
          "contour": [
           {
            "colorbar": {
             "outlinewidth": 0,
             "ticks": ""
            },
            "colorscale": [
             [
              0,
              "#0d0887"
             ],
             [
              0.1111111111111111,
              "#46039f"
             ],
             [
              0.2222222222222222,
              "#7201a8"
             ],
             [
              0.3333333333333333,
              "#9c179e"
             ],
             [
              0.4444444444444444,
              "#bd3786"
             ],
             [
              0.5555555555555556,
              "#d8576b"
             ],
             [
              0.6666666666666666,
              "#ed7953"
             ],
             [
              0.7777777777777778,
              "#fb9f3a"
             ],
             [
              0.8888888888888888,
              "#fdca26"
             ],
             [
              1,
              "#f0f921"
             ]
            ],
            "type": "contour"
           }
          ],
          "contourcarpet": [
           {
            "colorbar": {
             "outlinewidth": 0,
             "ticks": ""
            },
            "type": "contourcarpet"
           }
          ],
          "heatmap": [
           {
            "colorbar": {
             "outlinewidth": 0,
             "ticks": ""
            },
            "colorscale": [
             [
              0,
              "#0d0887"
             ],
             [
              0.1111111111111111,
              "#46039f"
             ],
             [
              0.2222222222222222,
              "#7201a8"
             ],
             [
              0.3333333333333333,
              "#9c179e"
             ],
             [
              0.4444444444444444,
              "#bd3786"
             ],
             [
              0.5555555555555556,
              "#d8576b"
             ],
             [
              0.6666666666666666,
              "#ed7953"
             ],
             [
              0.7777777777777778,
              "#fb9f3a"
             ],
             [
              0.8888888888888888,
              "#fdca26"
             ],
             [
              1,
              "#f0f921"
             ]
            ],
            "type": "heatmap"
           }
          ],
          "heatmapgl": [
           {
            "colorbar": {
             "outlinewidth": 0,
             "ticks": ""
            },
            "colorscale": [
             [
              0,
              "#0d0887"
             ],
             [
              0.1111111111111111,
              "#46039f"
             ],
             [
              0.2222222222222222,
              "#7201a8"
             ],
             [
              0.3333333333333333,
              "#9c179e"
             ],
             [
              0.4444444444444444,
              "#bd3786"
             ],
             [
              0.5555555555555556,
              "#d8576b"
             ],
             [
              0.6666666666666666,
              "#ed7953"
             ],
             [
              0.7777777777777778,
              "#fb9f3a"
             ],
             [
              0.8888888888888888,
              "#fdca26"
             ],
             [
              1,
              "#f0f921"
             ]
            ],
            "type": "heatmapgl"
           }
          ],
          "histogram": [
           {
            "marker": {
             "colorbar": {
              "outlinewidth": 0,
              "ticks": ""
             }
            },
            "type": "histogram"
           }
          ],
          "histogram2d": [
           {
            "colorbar": {
             "outlinewidth": 0,
             "ticks": ""
            },
            "colorscale": [
             [
              0,
              "#0d0887"
             ],
             [
              0.1111111111111111,
              "#46039f"
             ],
             [
              0.2222222222222222,
              "#7201a8"
             ],
             [
              0.3333333333333333,
              "#9c179e"
             ],
             [
              0.4444444444444444,
              "#bd3786"
             ],
             [
              0.5555555555555556,
              "#d8576b"
             ],
             [
              0.6666666666666666,
              "#ed7953"
             ],
             [
              0.7777777777777778,
              "#fb9f3a"
             ],
             [
              0.8888888888888888,
              "#fdca26"
             ],
             [
              1,
              "#f0f921"
             ]
            ],
            "type": "histogram2d"
           }
          ],
          "histogram2dcontour": [
           {
            "colorbar": {
             "outlinewidth": 0,
             "ticks": ""
            },
            "colorscale": [
             [
              0,
              "#0d0887"
             ],
             [
              0.1111111111111111,
              "#46039f"
             ],
             [
              0.2222222222222222,
              "#7201a8"
             ],
             [
              0.3333333333333333,
              "#9c179e"
             ],
             [
              0.4444444444444444,
              "#bd3786"
             ],
             [
              0.5555555555555556,
              "#d8576b"
             ],
             [
              0.6666666666666666,
              "#ed7953"
             ],
             [
              0.7777777777777778,
              "#fb9f3a"
             ],
             [
              0.8888888888888888,
              "#fdca26"
             ],
             [
              1,
              "#f0f921"
             ]
            ],
            "type": "histogram2dcontour"
           }
          ],
          "mesh3d": [
           {
            "colorbar": {
             "outlinewidth": 0,
             "ticks": ""
            },
            "type": "mesh3d"
           }
          ],
          "parcoords": [
           {
            "line": {
             "colorbar": {
              "outlinewidth": 0,
              "ticks": ""
             }
            },
            "type": "parcoords"
           }
          ],
          "pie": [
           {
            "automargin": true,
            "type": "pie"
           }
          ],
          "scatter": [
           {
            "marker": {
             "colorbar": {
              "outlinewidth": 0,
              "ticks": ""
             }
            },
            "type": "scatter"
           }
          ],
          "scatter3d": [
           {
            "line": {
             "colorbar": {
              "outlinewidth": 0,
              "ticks": ""
             }
            },
            "marker": {
             "colorbar": {
              "outlinewidth": 0,
              "ticks": ""
             }
            },
            "type": "scatter3d"
           }
          ],
          "scattercarpet": [
           {
            "marker": {
             "colorbar": {
              "outlinewidth": 0,
              "ticks": ""
             }
            },
            "type": "scattercarpet"
           }
          ],
          "scattergeo": [
           {
            "marker": {
             "colorbar": {
              "outlinewidth": 0,
              "ticks": ""
             }
            },
            "type": "scattergeo"
           }
          ],
          "scattergl": [
           {
            "marker": {
             "colorbar": {
              "outlinewidth": 0,
              "ticks": ""
             }
            },
            "type": "scattergl"
           }
          ],
          "scattermapbox": [
           {
            "marker": {
             "colorbar": {
              "outlinewidth": 0,
              "ticks": ""
             }
            },
            "type": "scattermapbox"
           }
          ],
          "scatterpolar": [
           {
            "marker": {
             "colorbar": {
              "outlinewidth": 0,
              "ticks": ""
             }
            },
            "type": "scatterpolar"
           }
          ],
          "scatterpolargl": [
           {
            "marker": {
             "colorbar": {
              "outlinewidth": 0,
              "ticks": ""
             }
            },
            "type": "scatterpolargl"
           }
          ],
          "scatterternary": [
           {
            "marker": {
             "colorbar": {
              "outlinewidth": 0,
              "ticks": ""
             }
            },
            "type": "scatterternary"
           }
          ],
          "surface": [
           {
            "colorbar": {
             "outlinewidth": 0,
             "ticks": ""
            },
            "colorscale": [
             [
              0,
              "#0d0887"
             ],
             [
              0.1111111111111111,
              "#46039f"
             ],
             [
              0.2222222222222222,
              "#7201a8"
             ],
             [
              0.3333333333333333,
              "#9c179e"
             ],
             [
              0.4444444444444444,
              "#bd3786"
             ],
             [
              0.5555555555555556,
              "#d8576b"
             ],
             [
              0.6666666666666666,
              "#ed7953"
             ],
             [
              0.7777777777777778,
              "#fb9f3a"
             ],
             [
              0.8888888888888888,
              "#fdca26"
             ],
             [
              1,
              "#f0f921"
             ]
            ],
            "type": "surface"
           }
          ],
          "table": [
           {
            "cells": {
             "fill": {
              "color": "#EBF0F8"
             },
             "line": {
              "color": "white"
             }
            },
            "header": {
             "fill": {
              "color": "#C8D4E3"
             },
             "line": {
              "color": "white"
             }
            },
            "type": "table"
           }
          ]
         },
         "layout": {
          "annotationdefaults": {
           "arrowcolor": "#2a3f5f",
           "arrowhead": 0,
           "arrowwidth": 1
          },
          "autotypenumbers": "strict",
          "coloraxis": {
           "colorbar": {
            "outlinewidth": 0,
            "ticks": ""
           }
          },
          "colorscale": {
           "diverging": [
            [
             0,
             "#8e0152"
            ],
            [
             0.1,
             "#c51b7d"
            ],
            [
             0.2,
             "#de77ae"
            ],
            [
             0.3,
             "#f1b6da"
            ],
            [
             0.4,
             "#fde0ef"
            ],
            [
             0.5,
             "#f7f7f7"
            ],
            [
             0.6,
             "#e6f5d0"
            ],
            [
             0.7,
             "#b8e186"
            ],
            [
             0.8,
             "#7fbc41"
            ],
            [
             0.9,
             "#4d9221"
            ],
            [
             1,
             "#276419"
            ]
           ],
           "sequential": [
            [
             0,
             "#0d0887"
            ],
            [
             0.1111111111111111,
             "#46039f"
            ],
            [
             0.2222222222222222,
             "#7201a8"
            ],
            [
             0.3333333333333333,
             "#9c179e"
            ],
            [
             0.4444444444444444,
             "#bd3786"
            ],
            [
             0.5555555555555556,
             "#d8576b"
            ],
            [
             0.6666666666666666,
             "#ed7953"
            ],
            [
             0.7777777777777778,
             "#fb9f3a"
            ],
            [
             0.8888888888888888,
             "#fdca26"
            ],
            [
             1,
             "#f0f921"
            ]
           ],
           "sequentialminus": [
            [
             0,
             "#0d0887"
            ],
            [
             0.1111111111111111,
             "#46039f"
            ],
            [
             0.2222222222222222,
             "#7201a8"
            ],
            [
             0.3333333333333333,
             "#9c179e"
            ],
            [
             0.4444444444444444,
             "#bd3786"
            ],
            [
             0.5555555555555556,
             "#d8576b"
            ],
            [
             0.6666666666666666,
             "#ed7953"
            ],
            [
             0.7777777777777778,
             "#fb9f3a"
            ],
            [
             0.8888888888888888,
             "#fdca26"
            ],
            [
             1,
             "#f0f921"
            ]
           ]
          },
          "colorway": [
           "#636efa",
           "#EF553B",
           "#00cc96",
           "#ab63fa",
           "#FFA15A",
           "#19d3f3",
           "#FF6692",
           "#B6E880",
           "#FF97FF",
           "#FECB52"
          ],
          "font": {
           "color": "#2a3f5f"
          },
          "geo": {
           "bgcolor": "white",
           "lakecolor": "white",
           "landcolor": "#E5ECF6",
           "showlakes": true,
           "showland": true,
           "subunitcolor": "white"
          },
          "hoverlabel": {
           "align": "left"
          },
          "hovermode": "closest",
          "mapbox": {
           "style": "light"
          },
          "paper_bgcolor": "white",
          "plot_bgcolor": "#E5ECF6",
          "polar": {
           "angularaxis": {
            "gridcolor": "white",
            "linecolor": "white",
            "ticks": ""
           },
           "bgcolor": "#E5ECF6",
           "radialaxis": {
            "gridcolor": "white",
            "linecolor": "white",
            "ticks": ""
           }
          },
          "scene": {
           "xaxis": {
            "backgroundcolor": "#E5ECF6",
            "gridcolor": "white",
            "gridwidth": 2,
            "linecolor": "white",
            "showbackground": true,
            "ticks": "",
            "zerolinecolor": "white"
           },
           "yaxis": {
            "backgroundcolor": "#E5ECF6",
            "gridcolor": "white",
            "gridwidth": 2,
            "linecolor": "white",
            "showbackground": true,
            "ticks": "",
            "zerolinecolor": "white"
           },
           "zaxis": {
            "backgroundcolor": "#E5ECF6",
            "gridcolor": "white",
            "gridwidth": 2,
            "linecolor": "white",
            "showbackground": true,
            "ticks": "",
            "zerolinecolor": "white"
           }
          },
          "shapedefaults": {
           "line": {
            "color": "#2a3f5f"
           }
          },
          "ternary": {
           "aaxis": {
            "gridcolor": "white",
            "linecolor": "white",
            "ticks": ""
           },
           "baxis": {
            "gridcolor": "white",
            "linecolor": "white",
            "ticks": ""
           },
           "bgcolor": "#E5ECF6",
           "caxis": {
            "gridcolor": "white",
            "linecolor": "white",
            "ticks": ""
           }
          },
          "title": {
           "x": 0.05
          },
          "xaxis": {
           "automargin": true,
           "gridcolor": "white",
           "linecolor": "white",
           "ticks": "",
           "title": {
            "standoff": 15
           },
           "zerolinecolor": "white",
           "zerolinewidth": 2
          },
          "yaxis": {
           "automargin": true,
           "gridcolor": "white",
           "linecolor": "white",
           "ticks": "",
           "title": {
            "standoff": 15
           },
           "zerolinecolor": "white",
           "zerolinewidth": 2
          }
         }
        },
        "title": {
         "text": "% De Personas Vacunadas",
         "x": 0.5
        },
        "width": 500
       }
      },
      "image/png": "[encoded data removed]",
      "text/html": [
       "<div>                            <div id=\"427869d0-11f9-465e-9661-a342af9d59d1\" class=\"plotly-graph-div\" style=\"height:500px; width:500px;\"></div>            <script type=\"text/javascript\">                require([\"plotly\"], function(Plotly) {                    window.PLOTLYENV=window.PLOTLYENV || {};                                    if (document.getElementById(\"427869d0-11f9-465e-9661-a342af9d59d1\")) {                    Plotly.newPlot(                        \"427869d0-11f9-465e-9661-a342af9d59d1\",                        [{\"domain\": {\"x\": [0.0, 1.0], \"y\": [0.0, 1.0]}, \"hovertemplate\": \"vacunados=%{label}<br>value=%{value}<extra></extra>\", \"labels\": [\"Si\", \"No\"], \"legendgroup\": \"\", \"name\": \"\", \"showlegend\": true, \"type\": \"pie\", \"values\": [0.7692307692307693, 0.23076923076923078]}],                        {\"height\": 500, \"legend\": {\"tracegroupgap\": 0}, \"margin\": {\"t\": 60}, \"piecolorway\": [\"rgb(237, 239, 93)\", \"rgb(169, 220, 103)\", \"rgb(110, 197, 116)\", \"rgb(57, 171, 126)\", \"rgb(13, 143, 129)\", \"rgb(15, 114, 121)\", \"rgb(36, 86, 104)\"], \"template\": {\"data\": {\"bar\": [{\"error_x\": {\"color\": \"#2a3f5f\"}, \"error_y\": {\"color\": \"#2a3f5f\"}, \"marker\": {\"line\": {\"color\": \"#E5ECF6\", \"width\": 0.5}}, \"type\": \"bar\"}], \"barpolar\": [{\"marker\": {\"line\": {\"color\": \"#E5ECF6\", \"width\": 0.5}}, \"type\": \"barpolar\"}], \"carpet\": [{\"aaxis\": {\"endlinecolor\": \"#2a3f5f\", \"gridcolor\": \"white\", \"linecolor\": \"white\", \"minorgridcolor\": \"white\", \"startlinecolor\": \"#2a3f5f\"}, \"baxis\": {\"endlinecolor\": \"#2a3f5f\", \"gridcolor\": \"white\", \"linecolor\": \"white\", \"minorgridcolor\": \"white\", \"startlinecolor\": \"#2a3f5f\"}, \"type\": \"carpet\"}], \"choropleth\": [{\"colorbar\": {\"outlinewidth\": 0, \"ticks\": \"\"}, \"type\": \"choropleth\"}], \"contour\": [{\"colorbar\": {\"outlinewidth\": 0, \"ticks\": \"\"}, \"colorscale\": [[0.0, \"#0d0887\"], [0.1111111111111111, \"#46039f\"], [0.2222222222222222, \"#7201a8\"], [0.3333333333333333, \"#9c179e\"], [0.4444444444444444, \"#bd3786\"], [0.5555555555555556, \"#d8576b\"], [0.6666666666666666, \"#ed7953\"], [0.7777777777777778, \"#fb9f3a\"], [0.8888888888888888, \"#fdca26\"], [1.0, \"#f0f921\"]], \"type\": \"contour\"}], \"contourcarpet\": [{\"colorbar\": {\"outlinewidth\": 0, \"ticks\": \"\"}, \"type\": \"contourcarpet\"}], \"heatmap\": [{\"colorbar\": {\"outlinewidth\": 0, \"ticks\": \"\"}, \"colorscale\": [[0.0, \"#0d0887\"], [0.1111111111111111, \"#46039f\"], [0.2222222222222222, \"#7201a8\"], [0.3333333333333333, \"#9c179e\"], [0.4444444444444444, \"#bd3786\"], [0.5555555555555556, \"#d8576b\"], [0.6666666666666666, \"#ed7953\"], [0.7777777777777778, \"#fb9f3a\"], [0.8888888888888888, \"#fdca26\"], [1.0, \"#f0f921\"]], \"type\": \"heatmap\"}], \"heatmapgl\": [{\"colorbar\": {\"outlinewidth\": 0, \"ticks\": \"\"}, \"colorscale\": [[0.0, \"#0d0887\"], [0.1111111111111111, \"#46039f\"], [0.2222222222222222, \"#7201a8\"], [0.3333333333333333, \"#9c179e\"], [0.4444444444444444, \"#bd3786\"], [0.5555555555555556, \"#d8576b\"], [0.6666666666666666, \"#ed7953\"], [0.7777777777777778, \"#fb9f3a\"], [0.8888888888888888, \"#fdca26\"], [1.0, \"#f0f921\"]], \"type\": \"heatmapgl\"}], \"histogram\": [{\"marker\": {\"colorbar\": {\"outlinewidth\": 0, \"ticks\": \"\"}}, \"type\": \"histogram\"}], \"histogram2d\": [{\"colorbar\": {\"outlinewidth\": 0, \"ticks\": \"\"}, \"colorscale\": [[0.0, \"#0d0887\"], [0.1111111111111111, \"#46039f\"], [0.2222222222222222, \"#7201a8\"], [0.3333333333333333, \"#9c179e\"], [0.4444444444444444, \"#bd3786\"], [0.5555555555555556, \"#d8576b\"], [0.6666666666666666, \"#ed7953\"], [0.7777777777777778, \"#fb9f3a\"], [0.8888888888888888, \"#fdca26\"], [1.0, \"#f0f921\"]], \"type\": \"histogram2d\"}], \"histogram2dcontour\": [{\"colorbar\": {\"outlinewidth\": 0, \"ticks\": \"\"}, \"colorscale\": [[0.0, \"#0d0887\"], [0.1111111111111111, \"#46039f\"], [0.2222222222222222, \"#7201a8\"], [0.3333333333333333, \"#9c179e\"], [0.4444444444444444, \"#bd3786\"], [0.5555555555555556, \"#d8576b\"], [0.6666666666666666, \"#ed7953\"], [0.7777777777777778, \"#fb9f3a\"], [0.8888888888888888, \"#fdca26\"], [1.0, \"#f0f921\"]], \"type\": \"histogram2dcontour\"}], \"mesh3d\": [{\"colorbar\": {\"outlinewidth\": 0, \"ticks\": \"\"}, \"type\": \"mesh3d\"}], \"parcoords\": [{\"line\": {\"colorbar\": {\"outlinewidth\": 0, \"ticks\": \"\"}}, \"type\": \"parcoords\"}], \"pie\": [{\"automargin\": true, \"type\": \"pie\"}], \"scatter\": [{\"marker\": {\"colorbar\": {\"outlinewidth\": 0, \"ticks\": \"\"}}, \"type\": \"scatter\"}], \"scatter3d\": [{\"line\": {\"colorbar\": {\"outlinewidth\": 0, \"ticks\": \"\"}}, \"marker\": {\"colorbar\": {\"outlinewidth\": 0, \"ticks\": \"\"}}, \"type\": \"scatter3d\"}], \"scattercarpet\": [{\"marker\": {\"colorbar\": {\"outlinewidth\": 0, \"ticks\": \"\"}}, \"type\": \"scattercarpet\"}], \"scattergeo\": [{\"marker\": {\"colorbar\": {\"outlinewidth\": 0, \"ticks\": \"\"}}, \"type\": \"scattergeo\"}], \"scattergl\": [{\"marker\": {\"colorbar\": {\"outlinewidth\": 0, \"ticks\": \"\"}}, \"type\": \"scattergl\"}], \"scattermapbox\": [{\"marker\": {\"colorbar\": {\"outlinewidth\": 0, \"ticks\": \"\"}}, \"type\": \"scattermapbox\"}], \"scatterpolar\": [{\"marker\": {\"colorbar\": {\"outlinewidth\": 0, \"ticks\": \"\"}}, \"type\": \"scatterpolar\"}], \"scatterpolargl\": [{\"marker\": {\"colorbar\": {\"outlinewidth\": 0, \"ticks\": \"\"}}, \"type\": \"scatterpolargl\"}], \"scatterternary\": [{\"marker\": {\"colorbar\": {\"outlinewidth\": 0, \"ticks\": \"\"}}, \"type\": \"scatterternary\"}], \"surface\": [{\"colorbar\": {\"outlinewidth\": 0, \"ticks\": \"\"}, \"colorscale\": [[0.0, \"#0d0887\"], [0.1111111111111111, \"#46039f\"], [0.2222222222222222, \"#7201a8\"], [0.3333333333333333, \"#9c179e\"], [0.4444444444444444, \"#bd3786\"], [0.5555555555555556, \"#d8576b\"], [0.6666666666666666, \"#ed7953\"], [0.7777777777777778, \"#fb9f3a\"], [0.8888888888888888, \"#fdca26\"], [1.0, \"#f0f921\"]], \"type\": \"surface\"}], \"table\": [{\"cells\": {\"fill\": {\"color\": \"#EBF0F8\"}, \"line\": {\"color\": \"white\"}}, \"header\": {\"fill\": {\"color\": \"#C8D4E3\"}, \"line\": {\"color\": \"white\"}}, \"type\": \"table\"}]}, \"layout\": {\"annotationdefaults\": {\"arrowcolor\": \"#2a3f5f\", \"arrowhead\": 0, \"arrowwidth\": 1}, \"autotypenumbers\": \"strict\", \"coloraxis\": {\"colorbar\": {\"outlinewidth\": 0, \"ticks\": \"\"}}, \"colorscale\": {\"diverging\": [[0, \"#8e0152\"], [0.1, \"#c51b7d\"], [0.2, \"#de77ae\"], [0.3, \"#f1b6da\"], [0.4, \"#fde0ef\"], [0.5, \"#f7f7f7\"], [0.6, \"#e6f5d0\"], [0.7, \"#b8e186\"], [0.8, \"#7fbc41\"], [0.9, \"#4d9221\"], [1, \"#276419\"]], \"sequential\": [[0.0, \"#0d0887\"], [0.1111111111111111, \"#46039f\"], [0.2222222222222222, \"#7201a8\"], [0.3333333333333333, \"#9c179e\"], [0.4444444444444444, \"#bd3786\"], [0.5555555555555556, \"#d8576b\"], [0.6666666666666666, \"#ed7953\"], [0.7777777777777778, \"#fb9f3a\"], [0.8888888888888888, \"#fdca26\"], [1.0, \"#f0f921\"]], \"sequentialminus\": [[0.0, \"#0d0887\"], [0.1111111111111111, \"#46039f\"], [0.2222222222222222, \"#7201a8\"], [0.3333333333333333, \"#9c179e\"], [0.4444444444444444, \"#bd3786\"], [0.5555555555555556, \"#d8576b\"], [0.6666666666666666, \"#ed7953\"], [0.7777777777777778, \"#fb9f3a\"], [0.8888888888888888, \"#fdca26\"], [1.0, \"#f0f921\"]]}, \"colorway\": [\"#636efa\", \"#EF553B\", \"#00cc96\", \"#ab63fa\", \"#FFA15A\", \"#19d3f3\", \"#FF6692\", \"#B6E880\", \"#FF97FF\", \"#FECB52\"], \"font\": {\"color\": \"#2a3f5f\"}, \"geo\": {\"bgcolor\": \"white\", \"lakecolor\": \"white\", \"landcolor\": \"#E5ECF6\", \"showlakes\": true, \"showland\": true, \"subunitcolor\": \"white\"}, \"hoverlabel\": {\"align\": \"left\"}, \"hovermode\": \"closest\", \"mapbox\": {\"style\": \"light\"}, \"paper_bgcolor\": \"white\", \"plot_bgcolor\": \"#E5ECF6\", \"polar\": {\"angularaxis\": {\"gridcolor\": \"white\", \"linecolor\": \"white\", \"ticks\": \"\"}, \"bgcolor\": \"#E5ECF6\", \"radialaxis\": {\"gridcolor\": \"white\", \"linecolor\": \"white\", \"ticks\": \"\"}}, \"scene\": {\"xaxis\": {\"backgroundcolor\": \"#E5ECF6\", \"gridcolor\": \"white\", \"gridwidth\": 2, \"linecolor\": \"white\", \"showbackground\": true, \"ticks\": \"\", \"zerolinecolor\": \"white\"}, \"yaxis\": {\"backgroundcolor\": \"#E5ECF6\", \"gridcolor\": \"white\", \"gridwidth\": 2, \"linecolor\": \"white\", \"showbackground\": true, \"ticks\": \"\", \"zerolinecolor\": \"white\"}, \"zaxis\": {\"backgroundcolor\": \"#E5ECF6\", \"gridcolor\": \"white\", \"gridwidth\": 2, \"linecolor\": \"white\", \"showbackground\": true, \"ticks\": \"\", \"zerolinecolor\": \"white\"}}, \"shapedefaults\": {\"line\": {\"color\": \"#2a3f5f\"}}, \"ternary\": {\"aaxis\": {\"gridcolor\": \"white\", \"linecolor\": \"white\", \"ticks\": \"\"}, \"baxis\": {\"gridcolor\": \"white\", \"linecolor\": \"white\", \"ticks\": \"\"}, \"bgcolor\": \"#E5ECF6\", \"caxis\": {\"gridcolor\": \"white\", \"linecolor\": \"white\", \"ticks\": \"\"}}, \"title\": {\"x\": 0.05}, \"xaxis\": {\"automargin\": true, \"gridcolor\": \"white\", \"linecolor\": \"white\", \"ticks\": \"\", \"title\": {\"standoff\": 15}, \"zerolinecolor\": \"white\", \"zerolinewidth\": 2}, \"yaxis\": {\"automargin\": true, \"gridcolor\": \"white\", \"linecolor\": \"white\", \"ticks\": \"\", \"title\": {\"standoff\": 15}, \"zerolinecolor\": \"white\", \"zerolinewidth\": 2}}}, \"title\": {\"text\": \"% De Personas Vacunadas\", \"x\": 0.5}, \"width\": 500},                        {\"responsive\": true}                    ).then(function(){\n",
       "                            \n",
       "var gd = document.getElementById('427869d0-11f9-465e-9661-a342af9d59d1');\n",
       "var x = new MutationObserver(function (mutations, observer) {{\n",
       "        var display = window.getComputedStyle(gd).display;\n",
       "        if (!display || display === 'none') {{\n",
       "            console.log([gd, 'removed!']);\n",
       "            Plotly.purge(gd);\n",
       "            observer.disconnect();\n",
       "        }}\n",
       "}});\n",
       "\n",
       "// Listen for the removal of the full notebook cells\n",
       "var notebookContainer = gd.closest('#notebook-container');\n",
       "if (notebookContainer) {{\n",
       "    x.observe(notebookContainer, {childList: true});\n",
       "}}\n",
       "\n",
       "// Listen for the clearing of the current output cell\n",
       "var outputEl = gd.closest('.output');\n",
       "if (outputEl) {{\n",
       "    x.observe(outputEl, {childList: true});\n",
       "}}\n",
       "\n",
       "                        })                };                });            </script>        </div>"
      ]
     },
     "metadata": {},
     "output_type": "display_data"
    }
   ],
   "source": [
    "fig = px.pie(dict_vacunas, values=\"values\",\n",
    "             names=\"vacunados\", \n",
    "             color_discrete_sequence=px.colors.sequential.Aggrnyl_r,width=500,height=500)\n",
    "fig.update_layout(title_text='% De Personas Vacunadas', title_x=0.5)"
   ]
  },
  {
   "cell_type": "markdown",
   "id": "14230ad0",
   "metadata": {},
   "source": [
    "<h2>Tiempo promedio de espera.</h2>"
   ]
  },
  {
   "cell_type": "code",
   "execution_count": 21,
   "id": "225aa666",
   "metadata": {},
   "outputs": [
    {
     "name": "stdout",
     "output_type": "stream",
     "text": [
      "Tiempo promedio de la espera es de 12.13\n"
     ]
    }
   ],
   "source": [
    "print('Tiempo promedio de la espera es de {:.2f}'.format(df_data['tiempo_espera'].mean()))"
   ]
  },
  {
   "cell_type": "code",
   "execution_count": 22,
   "id": "bd747afc",
   "metadata": {},
   "outputs": [
    {
     "data": {
      "text/html": [
       "\n",
       "<div id=\"altair-viz-fcb42c3382c944eb9d49ffce170131f7\"></div>\n",
       "<script type=\"text/javascript\">\n",
       "  (function(spec, embedOpt){\n",
       "    let outputDiv = document.currentScript.previousElementSibling;\n",
       "    if (outputDiv.id !== \"altair-viz-fcb42c3382c944eb9d49ffce170131f7\") {\n",
       "      outputDiv = document.getElementById(\"altair-viz-fcb42c3382c944eb9d49ffce170131f7\");\n",
       "    }\n",
       "    const paths = {\n",
       "      \"vega\": \"https://cdn.jsdelivr.net/npm//vega@5?noext\",\n",
       "      \"vega-lib\": \"https://cdn.jsdelivr.net/npm//vega-lib?noext\",\n",
       "      \"vega-lite\": \"https://cdn.jsdelivr.net/npm//vega-lite@4.8.1?noext\",\n",
       "      \"vega-embed\": \"https://cdn.jsdelivr.net/npm//vega-embed@6?noext\",\n",
       "    };\n",
       "\n",
       "    function loadScript(lib) {\n",
       "      return new Promise(function(resolve, reject) {\n",
       "        var s = document.createElement('script');\n",
       "        s.src = paths[lib];\n",
       "        s.async = true;\n",
       "        s.onload = () => resolve(paths[lib]);\n",
       "        s.onerror = () => reject(`Error loading script: ${paths[lib]}`);\n",
       "        document.getElementsByTagName(\"head\")[0].appendChild(s);\n",
       "      });\n",
       "    }\n",
       "\n",
       "    function showError(err) {\n",
       "      outputDiv.innerHTML = `<div class=\"error\" style=\"color:red;\">${err}</div>`;\n",
       "      throw err;\n",
       "    }\n",
       "\n",
       "    function displayChart(vegaEmbed) {\n",
       "      vegaEmbed(outputDiv, spec, embedOpt)\n",
       "        .catch(err => showError(`Javascript Error: ${err.message}<br>This usually means there's a typo in your chart specification. See the javascript console for the full traceback.`));\n",
       "    }\n",
       "\n",
       "    if(typeof define === \"function\" && define.amd) {\n",
       "      requirejs.config({paths});\n",
       "      require([\"vega-embed\"], displayChart, err => showError(`Error loading script: ${err.message}`));\n",
       "    } else if (typeof vegaEmbed === \"function\") {\n",
       "      displayChart(vegaEmbed);\n",
       "    } else {\n",
       "      loadScript(\"vega\")\n",
       "        .then(() => loadScript(\"vega-lite\"))\n",
       "        .then(() => loadScript(\"vega-embed\"))\n",
       "        .catch(showError)\n",
       "        .then(() => displayChart(vegaEmbed));\n",
       "    }\n",
       "  })({\"config\": {\"view\": {\"continuousWidth\": 400, \"continuousHeight\": 300}}, \"layer\": [{\"data\": {\"name\": \"data-6fe4178b1377c1b4c0f6d0353880caca\"}, \"mark\": {\"type\": \"bar\", \"color\": \"orange\"}, \"encoding\": {\"x\": {\"type\": \"nominal\", \"field\": \"nombre\", \"sort\": {\"field\": \"id\", \"op\": \"count\", \"order\": \"ascending\"}}, \"y\": {\"type\": \"quantitative\", \"field\": \"tiempo_espera\"}}}, {\"data\": {\"name\": \"data-6fe4178b1377c1b4c0f6d0353880caca\"}, \"mark\": {\"type\": \"point\", \"color\": \"green\"}, \"encoding\": {\"x\": {\"type\": \"nominal\", \"field\": \"nombre\", \"sort\": {\"field\": \"id\", \"op\": \"count\", \"order\": \"ascending\"}}, \"y\": {\"type\": \"quantitative\", \"field\": \"tiempo_espera\"}}, \"selection\": {\"selector002\": {\"type\": \"interval\", \"bind\": \"scales\", \"encodings\": [\"x\", \"y\"]}}, \"title\": \"Tiempo de espera - Recinto Jefferson Perez\"}], \"$schema\": \"https://vega.github.io/schema/vega-lite/v4.8.1.json\", \"datasets\": {\"data-6fe4178b1377c1b4c0f6d0353880caca\": [{\"id\": 0, \"nombre\": \"persona_0\", \"Siguiente Dosis\": \"2021/06/25\", \"Cita Reagendada\": \"\", \"tiempo_exam\": 20, \"tiempo_datos\": 2, \"tiempo_vacuna\": 6, \"tiempo_certificado\": 1, \"tiempo_salida\": 1, \"tiempo_espera\": 0, \"resultado_vacuna\": 1, \"tiempo_total\": 30}, {\"id\": 3, \"nombre\": \"persona_3\", \"Siguiente Dosis\": \"2021/06/25\", \"Cita Reagendada\": \"\", \"tiempo_exam\": 20, \"tiempo_datos\": 2, \"tiempo_vacuna\": 6, \"tiempo_certificado\": 2, \"tiempo_salida\": 5, \"tiempo_espera\": 0, \"resultado_vacuna\": 1, \"tiempo_total\": 35}, {\"id\": 2, \"nombre\": \"persona_2\", \"Siguiente Dosis\": \"2021/06/25\", \"Cita Reagendada\": \"\", \"tiempo_exam\": 20, \"tiempo_datos\": 2, \"tiempo_vacuna\": 8, \"tiempo_certificado\": 2, \"tiempo_salida\": 4, \"tiempo_espera\": 0, \"resultado_vacuna\": 1, \"tiempo_total\": 36}, {\"id\": 1, \"nombre\": \"persona_1\", \"Siguiente Dosis\": \"2021/06/25\", \"Cita Reagendada\": \"\", \"tiempo_exam\": 20, \"tiempo_datos\": 2, \"tiempo_vacuna\": 9, \"tiempo_certificado\": 3, \"tiempo_salida\": 2, \"tiempo_espera\": 0, \"resultado_vacuna\": 1, \"tiempo_total\": 36}, {\"id\": 4, \"nombre\": \"persona_4\", \"Siguiente Dosis\": \"2021/06/25\", \"Cita Reagendada\": \"\", \"tiempo_exam\": 20, \"tiempo_datos\": 4, \"tiempo_vacuna\": 9, \"tiempo_certificado\": 3, \"tiempo_salida\": 2, \"tiempo_espera\": 0, \"resultado_vacuna\": 1, \"tiempo_total\": 38}, {\"id\": 5, \"nombre\": \"persona_5\", \"Siguiente Dosis\": \"2021/06/25\", \"Cita Reagendada\": \"\", \"tiempo_exam\": 20, \"tiempo_datos\": 3, \"tiempo_vacuna\": 5, \"tiempo_certificado\": 3, \"tiempo_salida\": 2, \"tiempo_espera\": 20, \"resultado_vacuna\": 1, \"tiempo_total\": 33}, {\"id\": 6, \"nombre\": \"persona_6\", \"Siguiente Dosis\": \"2021/06/25\", \"Cita Reagendada\": \"\", \"tiempo_exam\": 20, \"tiempo_datos\": 3, \"tiempo_vacuna\": 9, \"tiempo_certificado\": 2, \"tiempo_salida\": 5, \"tiempo_espera\": 20, \"resultado_vacuna\": 1, \"tiempo_total\": 39}, {\"id\": 8, \"nombre\": \"persona_8\", \"Siguiente Dosis\": \"2021/06/25\", \"Cita Reagendada\": \"\", \"tiempo_exam\": 20, \"tiempo_datos\": 3, \"tiempo_vacuna\": 9, \"tiempo_certificado\": 3, \"tiempo_salida\": 3, \"tiempo_espera\": 13, \"resultado_vacuna\": 1, \"tiempo_total\": 38}, {\"id\": 7, \"nombre\": \"persona_7\", \"Siguiente Dosis\": \"2021/06/25\", \"Cita Reagendada\": \"\", \"tiempo_exam\": 20, \"tiempo_datos\": 3, \"tiempo_vacuna\": 10, \"tiempo_certificado\": 2, \"tiempo_salida\": 2, \"tiempo_espera\": 15, \"resultado_vacuna\": 1, \"tiempo_total\": 37}, {\"id\": 9, \"nombre\": \"persona_9\", \"Siguiente Dosis\": \"2021/06/25\", \"Cita Reagendada\": \"\", \"tiempo_exam\": 20, \"tiempo_datos\": 3, \"tiempo_vacuna\": 10, \"tiempo_certificado\": 3, \"tiempo_salida\": 4, \"tiempo_espera\": 8, \"resultado_vacuna\": 1, \"tiempo_total\": 40}, {\"id\": 10, \"nombre\": \"persona_10\", \"Siguiente Dosis\": \"2021/06/25\", \"Cita Reagendada\": \"\", \"tiempo_exam\": 20, \"tiempo_datos\": 2, \"tiempo_vacuna\": 5, \"tiempo_certificado\": 1, \"tiempo_salida\": 2, \"tiempo_espera\": 24, \"resultado_vacuna\": 1, \"tiempo_total\": 30}, {\"id\": 12, \"nombre\": \"persona_12\", \"Siguiente Dosis\": \"2021/06/25\", \"Cita Reagendada\": \"\", \"tiempo_exam\": 20, \"tiempo_datos\": 2, \"tiempo_vacuna\": 5, \"tiempo_certificado\": 1, \"tiempo_salida\": 1, \"tiempo_espera\": 20, \"resultado_vacuna\": 1, \"tiempo_total\": 29}, {\"id\": 13, \"nombre\": \"persona_13\", \"Siguiente Dosis\": \"2021/06/25\", \"Cita Reagendada\": \"\", \"tiempo_exam\": 20, \"tiempo_datos\": 3, \"tiempo_vacuna\": 6, \"tiempo_certificado\": 1, \"tiempo_salida\": 3, \"tiempo_espera\": 18, \"resultado_vacuna\": 1, \"tiempo_total\": 33}, {\"id\": 11, \"nombre\": \"persona_11\", \"Siguiente Dosis\": \"2021/06/25\", \"Cita Reagendada\": \"\", \"tiempo_exam\": 20, \"tiempo_datos\": 2, \"tiempo_vacuna\": 9, \"tiempo_certificado\": 1, \"tiempo_salida\": 4, \"tiempo_espera\": 22, \"resultado_vacuna\": 1, \"tiempo_total\": 36}, {\"id\": 14, \"nombre\": \"persona_14\", \"Siguiente Dosis\": \"2021/06/25\", \"Cita Reagendada\": \"\", \"tiempo_exam\": 20, \"tiempo_datos\": 2, \"tiempo_vacuna\": 10, \"tiempo_certificado\": 3, \"tiempo_salida\": 3, \"tiempo_espera\": 14, \"resultado_vacuna\": 1, \"tiempo_total\": 38}, {\"id\": 16, \"nombre\": \"persona_16\", \"Siguiente Dosis\": \"2021/06/25\", \"Cita Reagendada\": \"\", \"tiempo_exam\": 20, \"tiempo_datos\": 3, \"tiempo_vacuna\": 6, \"tiempo_certificado\": 1, \"tiempo_salida\": 5, \"tiempo_espera\": 23, \"resultado_vacuna\": 1, \"tiempo_total\": 35}, {\"id\": 19, \"nombre\": \"persona_19\", \"Siguiente Dosis\": \"2021/06/25\", \"Cita Reagendada\": \"\", \"tiempo_exam\": 20, \"tiempo_datos\": 4, \"tiempo_vacuna\": 6, \"tiempo_certificado\": 3, \"tiempo_salida\": 4, \"tiempo_espera\": 11, \"resultado_vacuna\": 1, \"tiempo_total\": 37}, {\"id\": 15, \"nombre\": \"persona_15\", \"Siguiente Dosis\": \"2021/06/25\", \"Cita Reagendada\": \"\", \"tiempo_exam\": 20, \"tiempo_datos\": 4, \"tiempo_vacuna\": 9, \"tiempo_certificado\": 1, \"tiempo_salida\": 2, \"tiempo_espera\": 28, \"resultado_vacuna\": 1, \"tiempo_total\": 36}, {\"id\": 17, \"nombre\": \"persona_17\", \"Siguiente Dosis\": \"2021/06/25\", \"Cita Reagendada\": \"\", \"tiempo_exam\": 20, \"tiempo_datos\": 2, \"tiempo_vacuna\": 10, \"tiempo_certificado\": 3, \"tiempo_salida\": 4, \"tiempo_espera\": 20, \"resultado_vacuna\": 1, \"tiempo_total\": 39}, {\"id\": 18, \"nombre\": \"persona_18\", \"Siguiente Dosis\": \"2021/06/25\", \"Cita Reagendada\": \"\", \"tiempo_exam\": 20, \"tiempo_datos\": 4, \"tiempo_vacuna\": 10, \"tiempo_certificado\": 1, \"tiempo_salida\": 5, \"tiempo_espera\": 15, \"resultado_vacuna\": 1, \"tiempo_total\": 40}, {\"id\": 22, \"nombre\": \"persona_22\", \"Siguiente Dosis\": \"2021/06/25\", \"Cita Reagendada\": \"\", \"tiempo_exam\": 20, \"tiempo_datos\": 2, \"tiempo_vacuna\": 7, \"tiempo_certificado\": 2, \"tiempo_salida\": 1, \"tiempo_espera\": 19, \"resultado_vacuna\": 1, \"tiempo_total\": 32}, {\"id\": 20, \"nombre\": \"persona_20\", \"Siguiente Dosis\": \"2021/06/25\", \"Cita Reagendada\": \"\", \"tiempo_exam\": 20, \"tiempo_datos\": 3, \"tiempo_vacuna\": 6, \"tiempo_certificado\": 3, \"tiempo_salida\": 5, \"tiempo_espera\": 25, \"resultado_vacuna\": 1, \"tiempo_total\": 37}, {\"id\": 23, \"nombre\": \"persona_23\", \"Siguiente Dosis\": \"2021/06/25\", \"Cita Reagendada\": \"\", \"tiempo_exam\": 20, \"tiempo_datos\": 4, \"tiempo_vacuna\": 7, \"tiempo_certificado\": 1, \"tiempo_salida\": 1, \"tiempo_espera\": 17, \"resultado_vacuna\": 1, \"tiempo_total\": 33}, {\"id\": 24, \"nombre\": \"persona_24\", \"Siguiente Dosis\": \"2021/06/25\", \"Cita Reagendada\": \"\", \"tiempo_exam\": 20, \"tiempo_datos\": 2, \"tiempo_vacuna\": 9, \"tiempo_certificado\": 2, \"tiempo_salida\": 2, \"tiempo_espera\": 13, \"resultado_vacuna\": 1, \"tiempo_total\": 35}, {\"id\": 21, \"nombre\": \"persona_21\", \"Siguiente Dosis\": \"2021/06/25\", \"Cita Reagendada\": \"\", \"tiempo_exam\": 20, \"tiempo_datos\": 4, \"tiempo_vacuna\": 8, \"tiempo_certificado\": 2, \"tiempo_salida\": 3, \"tiempo_espera\": 23, \"resultado_vacuna\": 1, \"tiempo_total\": 37}, {\"id\": 25, \"nombre\": \"persona_25\", \"Siguiente Dosis\": \"2021/06/25\", \"Cita Reagendada\": \"\", \"tiempo_exam\": 20, \"tiempo_datos\": 3, \"tiempo_vacuna\": 5, \"tiempo_certificado\": 1, \"tiempo_salida\": 1, \"tiempo_espera\": 27, \"resultado_vacuna\": 1, \"tiempo_total\": 30}, {\"id\": 27, \"nombre\": \"persona_27\", \"Siguiente Dosis\": \"2021/06/25\", \"Cita Reagendada\": \"\", \"tiempo_exam\": 20, \"tiempo_datos\": 3, \"tiempo_vacuna\": 6, \"tiempo_certificado\": 2, \"tiempo_salida\": 2, \"tiempo_espera\": 18, \"resultado_vacuna\": 1, \"tiempo_total\": 33}, {\"id\": 26, \"nombre\": \"persona_26\", \"Siguiente Dosis\": \"2021/06/25\", \"Cita Reagendada\": \"\", \"tiempo_exam\": 20, \"tiempo_datos\": 4, \"tiempo_vacuna\": 6, \"tiempo_certificado\": 2, \"tiempo_salida\": 2, \"tiempo_espera\": 21, \"resultado_vacuna\": 1, \"tiempo_total\": 34}, {\"id\": 28, \"nombre\": \"persona_28\", \"Siguiente Dosis\": \"2021/06/25\", \"Cita Reagendada\": \"\", \"tiempo_exam\": 20, \"tiempo_datos\": 3, \"tiempo_vacuna\": 9, \"tiempo_certificado\": 1, \"tiempo_salida\": 3, \"tiempo_espera\": 16, \"resultado_vacuna\": 1, \"tiempo_total\": 36}, {\"id\": 29, \"nombre\": \"persona_29\", \"Siguiente Dosis\": \"2021/06/25\", \"Cita Reagendada\": \"\", \"tiempo_exam\": 20, \"tiempo_datos\": 3, \"tiempo_vacuna\": 10, \"tiempo_certificado\": 2, \"tiempo_salida\": 3, \"tiempo_espera\": 14, \"resultado_vacuna\": 1, \"tiempo_total\": 38}, {\"id\": 38, \"nombre\": \"persona_38\", \"Siguiente Dosis\": \"2021/06/25\", \"Cita Reagendada\": \"\", \"tiempo_exam\": 20, \"tiempo_datos\": 2, \"tiempo_vacuna\": 6, \"tiempo_certificado\": 1, \"tiempo_salida\": 5, \"tiempo_espera\": 8, \"resultado_vacuna\": 1, \"tiempo_total\": 34}, {\"id\": 35, \"nombre\": \"persona_35\", \"Siguiente Dosis\": \"2021/06/25\", \"Cita Reagendada\": \"\", \"tiempo_exam\": 20, \"tiempo_datos\": 2, \"tiempo_vacuna\": 7, \"tiempo_certificado\": 2, \"tiempo_salida\": 1, \"tiempo_espera\": 22, \"resultado_vacuna\": 1, \"tiempo_total\": 32}, {\"id\": 36, \"nombre\": \"persona_36\", \"Siguiente Dosis\": \"2021/06/25\", \"Cita Reagendada\": \"\", \"tiempo_exam\": 20, \"tiempo_datos\": 3, \"tiempo_vacuna\": 8, \"tiempo_certificado\": 1, \"tiempo_salida\": 5, \"tiempo_espera\": 17, \"resultado_vacuna\": 1, \"tiempo_total\": 37}, {\"id\": 39, \"nombre\": \"persona_39\", \"Siguiente Dosis\": \"2021/06/25\", \"Cita Reagendada\": \"\", \"tiempo_exam\": 20, \"tiempo_datos\": 4, \"tiempo_vacuna\": 9, \"tiempo_certificado\": 2, \"tiempo_salida\": 4, \"tiempo_espera\": 3, \"resultado_vacuna\": 1, \"tiempo_total\": 39}, {\"id\": 37, \"nombre\": \"persona_37\", \"Siguiente Dosis\": \"2021/06/25\", \"Cita Reagendada\": \"\", \"tiempo_exam\": 20, \"tiempo_datos\": 4, \"tiempo_vacuna\": 9, \"tiempo_certificado\": 3, \"tiempo_salida\": 3, \"tiempo_espera\": 14, \"resultado_vacuna\": 1, \"tiempo_total\": 39}, {\"id\": 45, \"nombre\": \"persona_45\", \"Siguiente Dosis\": \"2021/06/25\", \"Cita Reagendada\": \"\", \"tiempo_exam\": 20, \"tiempo_datos\": 2, \"tiempo_vacuna\": 7, \"tiempo_certificado\": 1, \"tiempo_salida\": 2, \"tiempo_espera\": 16, \"resultado_vacuna\": 1, \"tiempo_total\": 32}, {\"id\": 47, \"nombre\": \"persona_47\", \"Siguiente Dosis\": \"2021/06/25\", \"Cita Reagendada\": \"\", \"tiempo_exam\": 20, \"tiempo_datos\": 3, \"tiempo_vacuna\": 6, \"tiempo_certificado\": 1, \"tiempo_salida\": 3, \"tiempo_espera\": 6, \"resultado_vacuna\": 1, \"tiempo_total\": 33}, {\"id\": 46, \"nombre\": \"persona_46\", \"Siguiente Dosis\": \"2021/06/25\", \"Cita Reagendada\": \"\", \"tiempo_exam\": 20, \"tiempo_datos\": 3, \"tiempo_vacuna\": 9, \"tiempo_certificado\": 2, \"tiempo_salida\": 3, \"tiempo_espera\": 12, \"resultado_vacuna\": 1, \"tiempo_total\": 37}, {\"id\": 48, \"nombre\": \"persona_48\", \"Siguiente Dosis\": \"2021/06/25\", \"Cita Reagendada\": \"\", \"tiempo_exam\": 20, \"tiempo_datos\": 3, \"tiempo_vacuna\": 9, \"tiempo_certificado\": 3, \"tiempo_salida\": 4, \"tiempo_espera\": 0, \"resultado_vacuna\": 1, \"tiempo_total\": 39}, {\"id\": 49, \"nombre\": \"persona_49\", \"Siguiente Dosis\": \"2021/06/25\", \"Cita Reagendada\": \"\", \"tiempo_exam\": 20, \"tiempo_datos\": 2, \"tiempo_vacuna\": 6, \"tiempo_certificado\": 2, \"tiempo_salida\": 4, \"tiempo_espera\": 0, \"resultado_vacuna\": 1, \"tiempo_total\": 34}, {\"id\": 53, \"nombre\": \"persona_53\", \"Siguiente Dosis\": \"2021/06/25\", \"Cita Reagendada\": \"\", \"tiempo_exam\": 20, \"tiempo_datos\": 2, \"tiempo_vacuna\": 9, \"tiempo_certificado\": 3, \"tiempo_salida\": 5, \"tiempo_espera\": 0, \"resultado_vacuna\": 1, \"tiempo_total\": 39}, {\"id\": 54, \"nombre\": \"persona_54\", \"Siguiente Dosis\": \"2021/06/25\", \"Cita Reagendada\": \"\", \"tiempo_exam\": 20, \"tiempo_datos\": 3, \"tiempo_vacuna\": 10, \"tiempo_certificado\": 2, \"tiempo_salida\": 2, \"tiempo_espera\": 2, \"resultado_vacuna\": 1, \"tiempo_total\": 37}, {\"id\": 57, \"nombre\": \"persona_57\", \"Siguiente Dosis\": \"2021/06/25\", \"Cita Reagendada\": \"\", \"tiempo_exam\": 20, \"tiempo_datos\": 3, \"tiempo_vacuna\": 5, \"tiempo_certificado\": 1, \"tiempo_salida\": 1, \"tiempo_espera\": 3, \"resultado_vacuna\": 1, \"tiempo_total\": 30}, {\"id\": 56, \"nombre\": \"persona_56\", \"Siguiente Dosis\": \"2021/06/25\", \"Cita Reagendada\": \"\", \"tiempo_exam\": 20, \"tiempo_datos\": 4, \"tiempo_vacuna\": 5, \"tiempo_certificado\": 1, \"tiempo_salida\": 1, \"tiempo_espera\": 8, \"resultado_vacuna\": 1, \"tiempo_total\": 31}, {\"id\": 55, \"nombre\": \"persona_55\", \"Siguiente Dosis\": \"2021/06/25\", \"Cita Reagendada\": \"\", \"tiempo_exam\": 20, \"tiempo_datos\": 4, \"tiempo_vacuna\": 10, \"tiempo_certificado\": 1, \"tiempo_salida\": 3, \"tiempo_espera\": 13, \"resultado_vacuna\": 1, \"tiempo_total\": 38}, {\"id\": 58, \"nombre\": \"persona_58\", \"Siguiente Dosis\": \"2021/06/25\", \"Cita Reagendada\": \"\", \"tiempo_exam\": 20, \"tiempo_datos\": 4, \"tiempo_vacuna\": 9, \"tiempo_certificado\": 1, \"tiempo_salida\": 5, \"tiempo_espera\": 2, \"resultado_vacuna\": 1, \"tiempo_total\": 39}, {\"id\": 59, \"nombre\": \"persona_59\", \"Siguiente Dosis\": \"2021/06/25\", \"Cita Reagendada\": \"\", \"tiempo_exam\": 20, \"tiempo_datos\": 2, \"tiempo_vacuna\": 10, \"tiempo_certificado\": 1, \"tiempo_salida\": 2, \"tiempo_espera\": 4, \"resultado_vacuna\": 1, \"tiempo_total\": 35}, {\"id\": 61, \"nombre\": \"persona_61\", \"Siguiente Dosis\": \"2021/06/25\", \"Cita Reagendada\": \"\", \"tiempo_exam\": 20, \"tiempo_datos\": 3, \"tiempo_vacuna\": 6, \"tiempo_certificado\": 2, \"tiempo_salida\": 4, \"tiempo_espera\": 11, \"resultado_vacuna\": 1, \"tiempo_total\": 35}, {\"id\": 60, \"nombre\": \"persona_60\", \"Siguiente Dosis\": \"2021/06/25\", \"Cita Reagendada\": \"\", \"tiempo_exam\": 20, \"tiempo_datos\": 2, \"tiempo_vacuna\": 8, \"tiempo_certificado\": 3, \"tiempo_salida\": 5, \"tiempo_espera\": 14, \"resultado_vacuna\": 1, \"tiempo_total\": 38}, {\"id\": 63, \"nombre\": \"persona_63\", \"Siguiente Dosis\": \"2021/06/25\", \"Cita Reagendada\": \"\", \"tiempo_exam\": 20, \"tiempo_datos\": 2, \"tiempo_vacuna\": 10, \"tiempo_certificado\": 3, \"tiempo_salida\": 4, \"tiempo_espera\": 3, \"resultado_vacuna\": 1, \"tiempo_total\": 39}, {\"id\": 62, \"nombre\": \"persona_62\", \"Siguiente Dosis\": \"2021/06/25\", \"Cita Reagendada\": \"\", \"tiempo_exam\": 20, \"tiempo_datos\": 4, \"tiempo_vacuna\": 10, \"tiempo_certificado\": 2, \"tiempo_salida\": 5, \"tiempo_espera\": 8, \"resultado_vacuna\": 1, \"tiempo_total\": 41}, {\"id\": 64, \"nombre\": \"persona_64\", \"Siguiente Dosis\": \"2021/06/25\", \"Cita Reagendada\": \"\", \"tiempo_exam\": 20, \"tiempo_datos\": 4, \"tiempo_vacuna\": 9, \"tiempo_certificado\": 1, \"tiempo_salida\": 3, \"tiempo_espera\": 4, \"resultado_vacuna\": 1, \"tiempo_total\": 37}, {\"id\": 67, \"nombre\": \"persona_67\", \"Siguiente Dosis\": \"2021/06/25\", \"Cita Reagendada\": \"\", \"tiempo_exam\": 20, \"tiempo_datos\": 4, \"tiempo_vacuna\": 8, \"tiempo_certificado\": 1, \"tiempo_salida\": 5, \"tiempo_espera\": 11, \"resultado_vacuna\": 1, \"tiempo_total\": 38}, {\"id\": 66, \"nombre\": \"persona_66\", \"Siguiente Dosis\": \"2021/06/25\", \"Cita Reagendada\": \"\", \"tiempo_exam\": 20, \"tiempo_datos\": 4, \"tiempo_vacuna\": 8, \"tiempo_certificado\": 2, \"tiempo_salida\": 5, \"tiempo_espera\": 14, \"resultado_vacuna\": 1, \"tiempo_total\": 39}, {\"id\": 65, \"nombre\": \"persona_65\", \"Siguiente Dosis\": \"2021/06/25\", \"Cita Reagendada\": \"\", \"tiempo_exam\": 20, \"tiempo_datos\": 4, \"tiempo_vacuna\": 10, \"tiempo_certificado\": 3, \"tiempo_salida\": 5, \"tiempo_espera\": 16, \"resultado_vacuna\": 1, \"tiempo_total\": 42}, {\"id\": 69, \"nombre\": \"persona_69\", \"Siguiente Dosis\": \"2021/06/25\", \"Cita Reagendada\": \"\", \"tiempo_exam\": 20, \"tiempo_datos\": 3, \"tiempo_vacuna\": 7, \"tiempo_certificado\": 2, \"tiempo_salida\": 2, \"tiempo_espera\": 4, \"resultado_vacuna\": 1, \"tiempo_total\": 34}, {\"id\": 72, \"nombre\": \"persona_72\", \"Siguiente Dosis\": \"2021/06/25\", \"Cita Reagendada\": \"\", \"tiempo_exam\": 20, \"tiempo_datos\": 3, \"tiempo_vacuna\": 7, \"tiempo_certificado\": 1, \"tiempo_salida\": 2, \"tiempo_espera\": 12, \"resultado_vacuna\": 1, \"tiempo_total\": 33}, {\"id\": 71, \"nombre\": \"persona_71\", \"Siguiente Dosis\": \"2021/06/25\", \"Cita Reagendada\": \"\", \"tiempo_exam\": 20, \"tiempo_datos\": 4, \"tiempo_vacuna\": 7, \"tiempo_certificado\": 2, \"tiempo_salida\": 5, \"tiempo_espera\": 14, \"resultado_vacuna\": 1, \"tiempo_total\": 38}, {\"id\": 73, \"nombre\": \"persona_73\", \"Siguiente Dosis\": \"2021/06/25\", \"Cita Reagendada\": \"\", \"tiempo_exam\": 20, \"tiempo_datos\": 2, \"tiempo_vacuna\": 9, \"tiempo_certificado\": 2, \"tiempo_salida\": 1, \"tiempo_espera\": 11, \"resultado_vacuna\": 1, \"tiempo_total\": 34}, {\"id\": 70, \"nombre\": \"persona_70\", \"Siguiente Dosis\": \"2021/06/25\", \"Cita Reagendada\": \"\", \"tiempo_exam\": 20, \"tiempo_datos\": 4, \"tiempo_vacuna\": 10, \"tiempo_certificado\": 2, \"tiempo_salida\": 3, \"tiempo_espera\": 17, \"resultado_vacuna\": 1, \"tiempo_total\": 39}, {\"id\": 74, \"nombre\": \"persona_74\", \"Siguiente Dosis\": \"2021/06/25\", \"Cita Reagendada\": \"\", \"tiempo_exam\": 20, \"tiempo_datos\": 2, \"tiempo_vacuna\": 9, \"tiempo_certificado\": 2, \"tiempo_salida\": 5, \"tiempo_espera\": 12, \"resultado_vacuna\": 1, \"tiempo_total\": 38}, {\"id\": 76, \"nombre\": \"persona_76\", \"Siguiente Dosis\": \"2021/06/25\", \"Cita Reagendada\": \"\", \"tiempo_exam\": 20, \"tiempo_datos\": 2, \"tiempo_vacuna\": 9, \"tiempo_certificado\": 1, \"tiempo_salida\": 1, \"tiempo_espera\": 21, \"resultado_vacuna\": 1, \"tiempo_total\": 33}, {\"id\": 75, \"nombre\": \"persona_75\", \"Siguiente Dosis\": \"2021/06/25\", \"Cita Reagendada\": \"\", \"tiempo_exam\": 20, \"tiempo_datos\": 3, \"tiempo_vacuna\": 8, \"tiempo_certificado\": 1, \"tiempo_salida\": 3, \"tiempo_espera\": 23, \"resultado_vacuna\": 1, \"tiempo_total\": 35}, {\"id\": 78, \"nombre\": \"persona_78\", \"Siguiente Dosis\": \"2021/06/25\", \"Cita Reagendada\": \"\", \"tiempo_exam\": 20, \"tiempo_datos\": 3, \"tiempo_vacuna\": 8, \"tiempo_certificado\": 1, \"tiempo_salida\": 1, \"tiempo_espera\": 14, \"resultado_vacuna\": 1, \"tiempo_total\": 33}, {\"id\": 77, \"nombre\": \"persona_77\", \"Siguiente Dosis\": \"2021/06/25\", \"Cita Reagendada\": \"\", \"tiempo_exam\": 20, \"tiempo_datos\": 4, \"tiempo_vacuna\": 9, \"tiempo_certificado\": 3, \"tiempo_salida\": 4, \"tiempo_espera\": 17, \"resultado_vacuna\": 1, \"tiempo_total\": 40}, {\"id\": 79, \"nombre\": \"persona_79\", \"Siguiente Dosis\": \"2021/06/25\", \"Cita Reagendada\": \"\", \"tiempo_exam\": 20, \"tiempo_datos\": 3, \"tiempo_vacuna\": 8, \"tiempo_certificado\": 3, \"tiempo_salida\": 2, \"tiempo_espera\": 16, \"resultado_vacuna\": 1, \"tiempo_total\": 36}, {\"id\": 80, \"nombre\": \"persona_80\", \"Siguiente Dosis\": \"2021/06/25\", \"Cita Reagendada\": \"\", \"tiempo_exam\": 20, \"tiempo_datos\": 3, \"tiempo_vacuna\": 7, \"tiempo_certificado\": 1, \"tiempo_salida\": 4, \"tiempo_espera\": 28, \"resultado_vacuna\": 1, \"tiempo_total\": 35}, {\"id\": 82, \"nombre\": \"persona_82\", \"Siguiente Dosis\": \"2021/06/25\", \"Cita Reagendada\": \"\", \"tiempo_exam\": 20, \"tiempo_datos\": 4, \"tiempo_vacuna\": 6, \"tiempo_certificado\": 3, \"tiempo_salida\": 1, \"tiempo_espera\": 20, \"resultado_vacuna\": 1, \"tiempo_total\": 34}, {\"id\": 83, \"nombre\": \"persona_83\", \"Siguiente Dosis\": \"2021/06/25\", \"Cita Reagendada\": \"\", \"tiempo_exam\": 20, \"tiempo_datos\": 3, \"tiempo_vacuna\": 6, \"tiempo_certificado\": 3, \"tiempo_salida\": 1, \"tiempo_espera\": 18, \"resultado_vacuna\": 1, \"tiempo_total\": 33}, {\"id\": 81, \"nombre\": \"persona_81\", \"Siguiente Dosis\": \"2021/06/25\", \"Cita Reagendada\": \"\", \"tiempo_exam\": 20, \"tiempo_datos\": 2, \"tiempo_vacuna\": 9, \"tiempo_certificado\": 2, \"tiempo_salida\": 1, \"tiempo_espera\": 22, \"resultado_vacuna\": 1, \"tiempo_total\": 34}, {\"id\": 84, \"nombre\": \"persona_84\", \"Siguiente Dosis\": \"2021/06/25\", \"Cita Reagendada\": \"\", \"tiempo_exam\": 20, \"tiempo_datos\": 2, \"tiempo_vacuna\": 6, \"tiempo_certificado\": 2, \"tiempo_salida\": 2, \"tiempo_espera\": 20, \"resultado_vacuna\": 1, \"tiempo_total\": 32}, {\"id\": 85, \"nombre\": \"persona_85\", \"Siguiente Dosis\": \"2021/06/25\", \"Cita Reagendada\": \"\", \"tiempo_exam\": 20, \"tiempo_datos\": 2, \"tiempo_vacuna\": 6, \"tiempo_certificado\": 1, \"tiempo_salida\": 5, \"tiempo_espera\": 31, \"resultado_vacuna\": 1, \"tiempo_total\": 34}, {\"id\": 88, \"nombre\": \"persona_88\", \"Siguiente Dosis\": \"2021/06/25\", \"Cita Reagendada\": \"\", \"tiempo_exam\": 20, \"tiempo_datos\": 2, \"tiempo_vacuna\": 9, \"tiempo_certificado\": 3, \"tiempo_salida\": 4, \"tiempo_espera\": 19, \"resultado_vacuna\": 1, \"tiempo_total\": 38}, {\"id\": 86, \"nombre\": \"persona_86\", \"Siguiente Dosis\": \"2021/06/25\", \"Cita Reagendada\": \"\", \"tiempo_exam\": 20, \"tiempo_datos\": 4, \"tiempo_vacuna\": 8, \"tiempo_certificado\": 3, \"tiempo_salida\": 2, \"tiempo_espera\": 27, \"resultado_vacuna\": 1, \"tiempo_total\": 37}, {\"id\": 87, \"nombre\": \"persona_87\", \"Siguiente Dosis\": \"2021/06/25\", \"Cita Reagendada\": \"\", \"tiempo_exam\": 20, \"tiempo_datos\": 4, \"tiempo_vacuna\": 10, \"tiempo_certificado\": 3, \"tiempo_salida\": 4, \"tiempo_espera\": 24, \"resultado_vacuna\": 1, \"tiempo_total\": 41}, {\"id\": 89, \"nombre\": \"persona_89\", \"Siguiente Dosis\": \"2021/06/25\", \"Cita Reagendada\": \"\", \"tiempo_exam\": 20, \"tiempo_datos\": 4, \"tiempo_vacuna\": 10, \"tiempo_certificado\": 3, \"tiempo_salida\": 2, \"tiempo_espera\": 18, \"resultado_vacuna\": 1, \"tiempo_total\": 39}, {\"id\": 90, \"nombre\": \"persona_90\", \"Siguiente Dosis\": \"2021/06/25\", \"Cita Reagendada\": \"\", \"tiempo_exam\": 20, \"tiempo_datos\": 3, \"tiempo_vacuna\": 9, \"tiempo_certificado\": 1, \"tiempo_salida\": 4, \"tiempo_espera\": 27, \"resultado_vacuna\": 1, \"tiempo_total\": 37}, {\"id\": 91, \"nombre\": \"persona_91\", \"Siguiente Dosis\": \"2021/06/25\", \"Cita Reagendada\": \"\", \"tiempo_exam\": 20, \"tiempo_datos\": 3, \"tiempo_vacuna\": 9, \"tiempo_certificado\": 1, \"tiempo_salida\": 5, \"tiempo_espera\": 21, \"resultado_vacuna\": 1, \"tiempo_total\": 38}, {\"id\": 92, \"nombre\": \"persona_92\", \"Siguiente Dosis\": \"2021/06/25\", \"Cita Reagendada\": \"\", \"tiempo_exam\": 20, \"tiempo_datos\": 4, \"tiempo_vacuna\": 8, \"tiempo_certificado\": 2, \"tiempo_salida\": 3, \"tiempo_espera\": 19, \"resultado_vacuna\": 1, \"tiempo_total\": 37}, {\"id\": 93, \"nombre\": \"persona_93\", \"Siguiente Dosis\": \"2021/06/25\", \"Cita Reagendada\": \"\", \"tiempo_exam\": 20, \"tiempo_datos\": 3, \"tiempo_vacuna\": 10, \"tiempo_certificado\": 3, \"tiempo_salida\": 4, \"tiempo_espera\": 16, \"resultado_vacuna\": 1, \"tiempo_total\": 40}, {\"id\": 95, \"nombre\": \"persona_95\", \"Siguiente Dosis\": \"2021/06/25\", \"Cita Reagendada\": \"\", \"tiempo_exam\": 20, \"tiempo_datos\": 3, \"tiempo_vacuna\": 5, \"tiempo_certificado\": 1, \"tiempo_salida\": 4, \"tiempo_espera\": 23, \"resultado_vacuna\": 1, \"tiempo_total\": 33}, {\"id\": 96, \"nombre\": \"persona_96\", \"Siguiente Dosis\": \"2021/06/25\", \"Cita Reagendada\": \"\", \"tiempo_exam\": 20, \"tiempo_datos\": 2, \"tiempo_vacuna\": 7, \"tiempo_certificado\": 2, \"tiempo_salida\": 2, \"tiempo_espera\": 18, \"resultado_vacuna\": 1, \"tiempo_total\": 33}, {\"id\": 97, \"nombre\": \"persona_97\", \"Siguiente Dosis\": \"2021/06/25\", \"Cita Reagendada\": \"\", \"tiempo_exam\": 20, \"tiempo_datos\": 2, \"tiempo_vacuna\": 10, \"tiempo_certificado\": 1, \"tiempo_salida\": 5, \"tiempo_espera\": 14, \"resultado_vacuna\": 1, \"tiempo_total\": 38}, {\"id\": 99, \"nombre\": \"persona_99\", \"Siguiente Dosis\": \"2021/06/25\", \"Cita Reagendada\": \"\", \"tiempo_exam\": 20, \"tiempo_datos\": 2, \"tiempo_vacuna\": 7, \"tiempo_certificado\": 3, \"tiempo_salida\": 5, \"tiempo_espera\": 10, \"resultado_vacuna\": 1, \"tiempo_total\": 37}, {\"id\": 101, \"nombre\": \"persona_101\", \"Siguiente Dosis\": \"2021/06/25\", \"Cita Reagendada\": \"\", \"tiempo_exam\": 20, \"tiempo_datos\": 2, \"tiempo_vacuna\": 6, \"tiempo_certificado\": 1, \"tiempo_salida\": 1, \"tiempo_espera\": 13, \"resultado_vacuna\": 1, \"tiempo_total\": 30}, {\"id\": 100, \"nombre\": \"persona_100\", \"Siguiente Dosis\": \"2021/06/25\", \"Cita Reagendada\": \"\", \"tiempo_exam\": 20, \"tiempo_datos\": 2, \"tiempo_vacuna\": 8, \"tiempo_certificado\": 2, \"tiempo_salida\": 1, \"tiempo_espera\": 19, \"resultado_vacuna\": 1, \"tiempo_total\": 33}, {\"id\": 102, \"nombre\": \"persona_102\", \"Siguiente Dosis\": \"2021/06/25\", \"Cita Reagendada\": \"\", \"tiempo_exam\": 20, \"tiempo_datos\": 3, \"tiempo_vacuna\": 9, \"tiempo_certificado\": 1, \"tiempo_salida\": 3, \"tiempo_espera\": 7, \"resultado_vacuna\": 1, \"tiempo_total\": 36}, {\"id\": 103, \"nombre\": \"persona_103\", \"Siguiente Dosis\": \"2021/06/25\", \"Cita Reagendada\": \"\", \"tiempo_exam\": 20, \"tiempo_datos\": 3, \"tiempo_vacuna\": 9, \"tiempo_certificado\": 1, \"tiempo_salida\": 3, \"tiempo_espera\": 2, \"resultado_vacuna\": 1, \"tiempo_total\": 36}, {\"id\": 104, \"nombre\": \"persona_104\", \"Siguiente Dosis\": \"2021/06/25\", \"Cita Reagendada\": \"\", \"tiempo_exam\": 20, \"tiempo_datos\": 3, \"tiempo_vacuna\": 6, \"tiempo_certificado\": 1, \"tiempo_salida\": 2, \"tiempo_espera\": 0, \"resultado_vacuna\": 1, \"tiempo_total\": 32}, {\"id\": 107, \"nombre\": \"persona_107\", \"Siguiente Dosis\": \"2021/06/25\", \"Cita Reagendada\": \"\", \"tiempo_exam\": 20, \"tiempo_datos\": 2, \"tiempo_vacuna\": 7, \"tiempo_certificado\": 3, \"tiempo_salida\": 5, \"tiempo_espera\": 2, \"resultado_vacuna\": 1, \"tiempo_total\": 37}, {\"id\": 106, \"nombre\": \"persona_106\", \"Siguiente Dosis\": \"2021/06/25\", \"Cita Reagendada\": \"\", \"tiempo_exam\": 20, \"tiempo_datos\": 3, \"tiempo_vacuna\": 8, \"tiempo_certificado\": 1, \"tiempo_salida\": 3, \"tiempo_espera\": 6, \"resultado_vacuna\": 1, \"tiempo_total\": 35}, {\"id\": 105, \"nombre\": \"persona_105\", \"Siguiente Dosis\": \"2021/06/25\", \"Cita Reagendada\": \"\", \"tiempo_exam\": 20, \"tiempo_datos\": 4, \"tiempo_vacuna\": 7, \"tiempo_certificado\": 3, \"tiempo_salida\": 2, \"tiempo_espera\": 11, \"resultado_vacuna\": 1, \"tiempo_total\": 36}, {\"id\": 108, \"nombre\": \"persona_108\", \"Siguiente Dosis\": \"2021/06/25\", \"Cita Reagendada\": \"\", \"tiempo_exam\": 20, \"tiempo_datos\": 4, \"tiempo_vacuna\": 9, \"tiempo_certificado\": 3, \"tiempo_salida\": 5, \"tiempo_espera\": 0, \"resultado_vacuna\": 1, \"tiempo_total\": 41}, {\"id\": 109, \"nombre\": \"persona_109\", \"Siguiente Dosis\": \"2021/06/25\", \"Cita Reagendada\": \"\", \"tiempo_exam\": 20, \"tiempo_datos\": 4, \"tiempo_vacuna\": 9, \"tiempo_certificado\": 2, \"tiempo_salida\": 3, \"tiempo_espera\": 0, \"resultado_vacuna\": 1, \"tiempo_total\": 38}, {\"id\": 112, \"nombre\": \"persona_112\", \"Siguiente Dosis\": \"2021/06/25\", \"Cita Reagendada\": \"\", \"tiempo_exam\": 20, \"tiempo_datos\": 2, \"tiempo_vacuna\": 7, \"tiempo_certificado\": 1, \"tiempo_salida\": 5, \"tiempo_espera\": 2, \"resultado_vacuna\": 1, \"tiempo_total\": 35}, {\"id\": 111, \"nombre\": \"persona_111\", \"Siguiente Dosis\": \"2021/06/25\", \"Cita Reagendada\": \"\", \"tiempo_exam\": 20, \"tiempo_datos\": 4, \"tiempo_vacuna\": 7, \"tiempo_certificado\": 1, \"tiempo_salida\": 5, \"tiempo_espera\": 5, \"resultado_vacuna\": 1, \"tiempo_total\": 37}, {\"id\": 110, \"nombre\": \"persona_110\", \"Siguiente Dosis\": \"2021/06/25\", \"Cita Reagendada\": \"\", \"tiempo_exam\": 20, \"tiempo_datos\": 4, \"tiempo_vacuna\": 8, \"tiempo_certificado\": 2, \"tiempo_salida\": 2, \"tiempo_espera\": 11, \"resultado_vacuna\": 1, \"tiempo_total\": 36}, {\"id\": 113, \"nombre\": \"persona_113\", \"Siguiente Dosis\": \"2021/06/25\", \"Cita Reagendada\": \"\", \"tiempo_exam\": 20, \"tiempo_datos\": 4, \"tiempo_vacuna\": 8, \"tiempo_certificado\": 3, \"tiempo_salida\": 3, \"tiempo_espera\": 0, \"resultado_vacuna\": 1, \"tiempo_total\": 38}, {\"id\": 114, \"nombre\": \"persona_114\", \"Siguiente Dosis\": \"2021/06/25\", \"Cita Reagendada\": \"\", \"tiempo_exam\": 20, \"tiempo_datos\": 3, \"tiempo_vacuna\": 8, \"tiempo_certificado\": 2, \"tiempo_salida\": 5, \"tiempo_espera\": 0, \"resultado_vacuna\": 1, \"tiempo_total\": 38}, {\"id\": 116, \"nombre\": \"persona_116\", \"Siguiente Dosis\": \"2021/06/25\", \"Cita Reagendada\": \"\", \"tiempo_exam\": 20, \"tiempo_datos\": 2, \"tiempo_vacuna\": 8, \"tiempo_certificado\": 3, \"tiempo_salida\": 2, \"tiempo_espera\": 4, \"resultado_vacuna\": 1, \"tiempo_total\": 35}]}}, {\"mode\": \"vega-lite\"});\n",
       "</script>"
      ],
      "text/plain": [
       "alt.LayerChart(...)"
      ]
     },
     "execution_count": 22,
     "metadata": {},
     "output_type": "execute_result"
    }
   ],
   "source": [
    "alt.Chart(df_data[df_data['resultado_vacuna']==1]).mark_bar(color='orange').encode(\n",
    "    x=alt.X('nombre',sort=alt.EncodingSortField(field=\"id\", op=\"count\", order='ascending')),\n",
    "    y='tiempo_espera'\n",
    "    )+alt.Chart(df_data[df_data['resultado_vacuna']==1]).mark_point(color='green').encode(\n",
    "        x=alt.X('nombre',sort=alt.EncodingSortField(field=\"id\", op=\"count\", order='ascending')),\n",
    "        y='tiempo_espera').properties(title='Tiempo de espera - Recinto Jefferson Perez').interactive()"
   ]
  }
 ],
 "metadata": {
  "kernelspec": {
   "display_name": "Python 3",
   "language": "python",
   "name": "python3"
  },
  "language_info": {
   "codemirror_mode": {
    "name": "ipython",
    "version": 3
   },
   "file_extension": ".py",
   "mimetype": "text/x-python",
   "name": "python",
   "nbconvert_exporter": "python",
   "pygments_lexer": "ipython3",
   "version": "3.8.5"
  }
 },
 "nbformat": 4,
 "nbformat_minor": 5
}
