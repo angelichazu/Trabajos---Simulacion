{
 "cells": [
  {
   "cell_type": "markdown",
   "id": "1749ba7c",
   "metadata": {},
   "source": [
    "<div align=\"center\">\n",
    "    <img src=\"https://www.universidades.com.ec/logos/original/logo-universidad-politecnica-salesiana.png\">\n",
    "    <h1 style=\"text-align: center;\"><span style=\"text-align: center; color: #0000ff;\"><strong>EXAMEN DE SIMULACION</strong></span></h1>\n",
    "    <p style=\"text-align: center;\"><span style=\"text-align: center;\"><strong>ESTUDIANTE: ANGEL RUIZ</strong></span></p>\n",
    "</div>"
   ]
  },
  {
   "cell_type": "markdown",
   "id": "ddace66a",
   "metadata": {},
   "source": [
    "<h2>\n",
    "\t<span style=\"color: #00ff00;\">\n",
    "\t\t Importaci&oacute;n de librerias\n",
    "\t</span>\n",
    "</h2>\n",
    "<p>\n",
    "\t<span>\n",
    "\t</span>\n",
    "\t A continuaci&oacute;n se importaran todas las librer&iacute;as que se utilizaran en el proceso del\n",
    "\t<span class=\"misspelling correction\" data-type=\"misspelling\" data-suggestions=\"[{&quot;value&quot;:&quot;an&aacute;lisis&quot;},{&quot;value&quot;:&quot;ana lisis&quot;}]\" data-rule=\"MORFOLOGIK_RULE_ES\" title=\"Se ha encontrado un posible error ortogr&aacute;fico.\" data-word=\"analisis\">\n",
    "\t\t an&aacute;lisis\n",
    "\t</span>\n",
    "\t y simulaci&oacute;n de los datos.\n",
    "</p>"
   ]
  },
  {
   "cell_type": "code",
   "execution_count": 1,
   "id": "747f458f",
   "metadata": {},
   "outputs": [
    {
     "data": {
      "text/html": [
       "        <script type=\"text/javascript\">\n",
       "        window.PlotlyConfig = {MathJaxConfig: 'local'};\n",
       "        if (window.MathJax) {MathJax.Hub.Config({SVG: {font: \"STIX-Web\"}});}\n",
       "        if (typeof require !== 'undefined') {\n",
       "        require.undef(\"plotly\");\n",
       "        requirejs.config({\n",
       "            paths: {\n",
       "                'plotly': ['https://cdn.plot.ly/plotly-latest.min']\n",
       "            }\n",
       "        });\n",
       "        require(['plotly'], function(Plotly) {\n",
       "            window._Plotly = Plotly;\n",
       "        });\n",
       "        }\n",
       "        </script>\n",
       "        "
      ]
     },
     "metadata": {},
     "output_type": "display_data"
    }
   ],
   "source": [
    "import pandas as pd\n",
    "import json, os\n",
    "from mpl_toolkits.mplot3d import Axes3D\n",
    "import random       \n",
    "from matplotlib import pyplot \n",
    "from sklearn.model_selection import train_test_split\n",
    "from sklearn import linear_model\n",
    "import altair as alt\n",
    "import altair_viewer\n",
    "import plotly.express as px\n",
    "import plotly\n",
    "plotly.offline.init_notebook_mode(connected=True)\n",
    "import datetime as dt\n",
    "import simpy\n",
    "from datetime import datetime"
   ]
  },
  {
   "cell_type": "markdown",
   "id": "995dc248",
   "metadata": {},
   "source": [
    "<h2><span style=\"color: #00ff00;\"> Importaci&oacute;n de datos</span></h2>\n",
    "<p>Se importan los datasets que se ultizaran para obtener todos los datos necesarios</p>"
   ]
  },
  {
   "cell_type": "code",
   "execution_count": 2,
   "id": "2a7f5e3a",
   "metadata": {},
   "outputs": [
    {
     "data": {
      "text/html": [
       "<div>\n",
       "<style scoped>\n",
       "    .dataframe tbody tr th:only-of-type {\n",
       "        vertical-align: middle;\n",
       "    }\n",
       "\n",
       "    .dataframe tbody tr th {\n",
       "        vertical-align: top;\n",
       "    }\n",
       "\n",
       "    .dataframe thead th {\n",
       "        text-align: right;\n",
       "    }\n",
       "</style>\n",
       "<table border=\"1\" class=\"dataframe\">\n",
       "  <thead>\n",
       "    <tr style=\"text-align: right;\">\n",
       "      <th></th>\n",
       "      <th>id</th>\n",
       "      <th>conversation_id</th>\n",
       "      <th>created_at</th>\n",
       "      <th>date</th>\n",
       "      <th>time</th>\n",
       "      <th>timezone</th>\n",
       "      <th>user_id</th>\n",
       "      <th>username</th>\n",
       "      <th>name</th>\n",
       "      <th>place</th>\n",
       "      <th>...</th>\n",
       "      <th>geo</th>\n",
       "      <th>source</th>\n",
       "      <th>user_rt_id</th>\n",
       "      <th>user_rt</th>\n",
       "      <th>retweet_id</th>\n",
       "      <th>reply_to</th>\n",
       "      <th>retweet_date</th>\n",
       "      <th>translate</th>\n",
       "      <th>trans_src</th>\n",
       "      <th>trans_dest</th>\n",
       "    </tr>\n",
       "  </thead>\n",
       "  <tbody>\n",
       "    <tr>\n",
       "      <th>0</th>\n",
       "      <td>1398781708930068486</td>\n",
       "      <td>1398755815880863744</td>\n",
       "      <td>2021-05-29 18:22:02-05:00</td>\n",
       "      <td>2021-05-29</td>\n",
       "      <td>18:22:02</td>\n",
       "      <td>-500</td>\n",
       "      <td>300390462</td>\n",
       "      <td>lassoguillermo</td>\n",
       "      <td>Guillermo Lasso</td>\n",
       "      <td></td>\n",
       "      <td>...</td>\n",
       "      <td></td>\n",
       "      <td></td>\n",
       "      <td></td>\n",
       "      <td></td>\n",
       "      <td></td>\n",
       "      <td>[{'screen_name': 'DeporteEc', 'name': 'Ministe...</td>\n",
       "      <td></td>\n",
       "      <td></td>\n",
       "      <td></td>\n",
       "      <td></td>\n",
       "    </tr>\n",
       "    <tr>\n",
       "      <th>1</th>\n",
       "      <td>1398754778876977153</td>\n",
       "      <td>1398754778876977152</td>\n",
       "      <td>2021-05-29 16:35:01-05:00</td>\n",
       "      <td>2021-05-29</td>\n",
       "      <td>16:35:01</td>\n",
       "      <td>-500</td>\n",
       "      <td>300390462</td>\n",
       "      <td>lassoguillermo</td>\n",
       "      <td>Guillermo Lasso</td>\n",
       "      <td></td>\n",
       "      <td>...</td>\n",
       "      <td></td>\n",
       "      <td></td>\n",
       "      <td></td>\n",
       "      <td></td>\n",
       "      <td></td>\n",
       "      <td>[]</td>\n",
       "      <td></td>\n",
       "      <td></td>\n",
       "      <td></td>\n",
       "      <td></td>\n",
       "    </tr>\n",
       "    <tr>\n",
       "      <th>2</th>\n",
       "      <td>1398428301719478272</td>\n",
       "      <td>1398428301719478272</td>\n",
       "      <td>2021-05-28 18:57:43-05:00</td>\n",
       "      <td>2021-05-28</td>\n",
       "      <td>18:57:43</td>\n",
       "      <td>-500</td>\n",
       "      <td>300390462</td>\n",
       "      <td>lassoguillermo</td>\n",
       "      <td>Guillermo Lasso</td>\n",
       "      <td></td>\n",
       "      <td>...</td>\n",
       "      <td></td>\n",
       "      <td></td>\n",
       "      <td></td>\n",
       "      <td></td>\n",
       "      <td></td>\n",
       "      <td>[]</td>\n",
       "      <td></td>\n",
       "      <td></td>\n",
       "      <td></td>\n",
       "      <td></td>\n",
       "    </tr>\n",
       "    <tr>\n",
       "      <th>3</th>\n",
       "      <td>1398404559706468355</td>\n",
       "      <td>1398404559706468352</td>\n",
       "      <td>2021-05-28 17:23:22-05:00</td>\n",
       "      <td>2021-05-28</td>\n",
       "      <td>17:23:22</td>\n",
       "      <td>-500</td>\n",
       "      <td>300390462</td>\n",
       "      <td>lassoguillermo</td>\n",
       "      <td>Guillermo Lasso</td>\n",
       "      <td></td>\n",
       "      <td>...</td>\n",
       "      <td></td>\n",
       "      <td></td>\n",
       "      <td></td>\n",
       "      <td></td>\n",
       "      <td></td>\n",
       "      <td>[]</td>\n",
       "      <td></td>\n",
       "      <td></td>\n",
       "      <td></td>\n",
       "      <td></td>\n",
       "    </tr>\n",
       "    <tr>\n",
       "      <th>4</th>\n",
       "      <td>1398334078986903565</td>\n",
       "      <td>1398334078986903552</td>\n",
       "      <td>2021-05-28 12:43:18-05:00</td>\n",
       "      <td>2021-05-28</td>\n",
       "      <td>12:43:18</td>\n",
       "      <td>-500</td>\n",
       "      <td>300390462</td>\n",
       "      <td>lassoguillermo</td>\n",
       "      <td>Guillermo Lasso</td>\n",
       "      <td></td>\n",
       "      <td>...</td>\n",
       "      <td></td>\n",
       "      <td></td>\n",
       "      <td></td>\n",
       "      <td></td>\n",
       "      <td></td>\n",
       "      <td>[]</td>\n",
       "      <td></td>\n",
       "      <td></td>\n",
       "      <td></td>\n",
       "      <td></td>\n",
       "    </tr>\n",
       "  </tbody>\n",
       "</table>\n",
       "<p>5 rows × 36 columns</p>\n",
       "</div>"
      ],
      "text/plain": [
       "                    id      conversation_id                created_at  \\\n",
       "0  1398781708930068486  1398755815880863744 2021-05-29 18:22:02-05:00   \n",
       "1  1398754778876977153  1398754778876977152 2021-05-29 16:35:01-05:00   \n",
       "2  1398428301719478272  1398428301719478272 2021-05-28 18:57:43-05:00   \n",
       "3  1398404559706468355  1398404559706468352 2021-05-28 17:23:22-05:00   \n",
       "4  1398334078986903565  1398334078986903552 2021-05-28 12:43:18-05:00   \n",
       "\n",
       "        date      time  timezone    user_id        username             name  \\\n",
       "0 2021-05-29  18:22:02      -500  300390462  lassoguillermo  Guillermo Lasso   \n",
       "1 2021-05-29  16:35:01      -500  300390462  lassoguillermo  Guillermo Lasso   \n",
       "2 2021-05-28  18:57:43      -500  300390462  lassoguillermo  Guillermo Lasso   \n",
       "3 2021-05-28  17:23:22      -500  300390462  lassoguillermo  Guillermo Lasso   \n",
       "4 2021-05-28  12:43:18      -500  300390462  lassoguillermo  Guillermo Lasso   \n",
       "\n",
       "  place  ... geo source user_rt_id user_rt retweet_id  \\\n",
       "0        ...                                            \n",
       "1        ...                                            \n",
       "2        ...                                            \n",
       "3        ...                                            \n",
       "4        ...                                            \n",
       "\n",
       "                                            reply_to  retweet_date  translate  \\\n",
       "0  [{'screen_name': 'DeporteEc', 'name': 'Ministe...                            \n",
       "1                                                 []                            \n",
       "2                                                 []                            \n",
       "3                                                 []                            \n",
       "4                                                 []                            \n",
       "\n",
       "  trans_src trans_dest  \n",
       "0                       \n",
       "1                       \n",
       "2                       \n",
       "3                       \n",
       "4                       \n",
       "\n",
       "[5 rows x 36 columns]"
      ]
     },
     "execution_count": 2,
     "metadata": {},
     "output_type": "execute_result"
    }
   ],
   "source": [
    "df= pd.read_json('./data.json',lines=True)\n",
    "df.head()"
   ]
  },
  {
   "cell_type": "code",
   "execution_count": 3,
   "id": "69b1bbd2",
   "metadata": {},
   "outputs": [
    {
     "data": {
      "text/html": [
       "<div>\n",
       "<style scoped>\n",
       "    .dataframe tbody tr th:only-of-type {\n",
       "        vertical-align: middle;\n",
       "    }\n",
       "\n",
       "    .dataframe tbody tr th {\n",
       "        vertical-align: top;\n",
       "    }\n",
       "\n",
       "    .dataframe thead th {\n",
       "        text-align: right;\n",
       "    }\n",
       "</style>\n",
       "<table border=\"1\" class=\"dataframe\">\n",
       "  <thead>\n",
       "    <tr style=\"text-align: right;\">\n",
       "      <th></th>\n",
       "      <th>username</th>\n",
       "      <th>tweet</th>\n",
       "      <th>replies_count</th>\n",
       "      <th>likes_count</th>\n",
       "      <th>retweets_count</th>\n",
       "    </tr>\n",
       "  </thead>\n",
       "  <tbody>\n",
       "    <tr>\n",
       "      <th>0</th>\n",
       "      <td>lassoguillermo</td>\n",
       "      <td>@DeporteEc ¡Grande Marizol! Ecuador es cuna de...</td>\n",
       "      <td>0</td>\n",
       "      <td>48</td>\n",
       "      <td>17</td>\n",
       "    </tr>\n",
       "    <tr>\n",
       "      <th>1</th>\n",
       "      <td>lassoguillermo</td>\n",
       "      <td>¡Felicidades @MorejonGlenda! Ella y más deport...</td>\n",
       "      <td>28</td>\n",
       "      <td>1213</td>\n",
       "      <td>216</td>\n",
       "    </tr>\n",
       "    <tr>\n",
       "      <th>2</th>\n",
       "      <td>lassoguillermo</td>\n",
       "      <td>¡Una buena noticia!  @EmbajadaChinaEc me infor...</td>\n",
       "      <td>638</td>\n",
       "      <td>10703</td>\n",
       "      <td>1542</td>\n",
       "    </tr>\n",
       "    <tr>\n",
       "      <th>3</th>\n",
       "      <td>lassoguillermo</td>\n",
       "      <td>¡Primera visita a Guayas! Nos reunimos en la G...</td>\n",
       "      <td>134</td>\n",
       "      <td>2061</td>\n",
       "      <td>384</td>\n",
       "    </tr>\n",
       "    <tr>\n",
       "      <th>4</th>\n",
       "      <td>lassoguillermo</td>\n",
       "      <td>En la reunión con el presidente del @el_BID, M...</td>\n",
       "      <td>134</td>\n",
       "      <td>1922</td>\n",
       "      <td>402</td>\n",
       "    </tr>\n",
       "  </tbody>\n",
       "</table>\n",
       "</div>"
      ],
      "text/plain": [
       "         username                                              tweet  \\\n",
       "0  lassoguillermo  @DeporteEc ¡Grande Marizol! Ecuador es cuna de...   \n",
       "1  lassoguillermo  ¡Felicidades @MorejonGlenda! Ella y más deport...   \n",
       "2  lassoguillermo  ¡Una buena noticia!  @EmbajadaChinaEc me infor...   \n",
       "3  lassoguillermo  ¡Primera visita a Guayas! Nos reunimos en la G...   \n",
       "4  lassoguillermo  En la reunión con el presidente del @el_BID, M...   \n",
       "\n",
       "   replies_count  likes_count  retweets_count  \n",
       "0              0           48              17  \n",
       "1             28         1213             216  \n",
       "2            638        10703            1542  \n",
       "3            134         2061             384  \n",
       "4            134         1922             402  "
      ]
     },
     "execution_count": 3,
     "metadata": {},
     "output_type": "execute_result"
    }
   ],
   "source": [
    "df_tweets = df[['username', 'tweet', 'replies_count', 'likes_count', 'retweets_count']]\n",
    "df_tweets.head()"
   ]
  },
  {
   "cell_type": "markdown",
   "id": "6bbbc218",
   "metadata": {},
   "source": [
    "<h2><span style=\"color: #00ff00;\"> Modelo Matemático</span></h2>\n",
    "<p>Creamos nuestro modelo matemático de regresión multivariante, utilizando como entradas los replies y likes y así poder predecir cuantos retweets va a tener. Se eligieron estas variables, ya que una vez realizada el análisis de la data podemos observar la correlación que tienen las variables</p>"
   ]
  },
  {
   "cell_type": "code",
   "execution_count": 4,
   "id": "d6733a8c",
   "metadata": {},
   "outputs": [
    {
     "data": {
      "image/png": "[encoded data removed]",
      "text/plain": [
       "<Figure size 576x432 with 1 Axes>"
      ]
     },
     "metadata": {
      "needs_background": "light"
     },
     "output_type": "display_data"
    }
   ],
   "source": [
    "fig = pyplot.figure(figsize=(8, 6))       \n",
    "ax = Axes3D(fig)\n",
    "\n",
    "x1 = df_tweets[\"likes_count\"]                            \n",
    "x2 = df_tweets[\"replies_count\"]                             \n",
    "y = df_tweets[\"retweets_count\"]                               \n",
    "\n",
    "ax.scatter(x1, x2, y, marker='*', c='r')\n",
    "ax.set_xlabel('Num. de Likes')        \n",
    "ax.set_ylabel('Num. Retweets')      \n",
    "ax.set_zlabel('Num. Replies');   "
   ]
  },
  {
   "cell_type": "markdown",
   "id": "dd1dcbdb",
   "metadata": {},
   "source": [
    "<h2>Definimos las variables</h2>\n"
   ]
  },
  {
   "cell_type": "code",
   "execution_count": 5,
   "id": "a5a186a6",
   "metadata": {},
   "outputs": [],
   "source": [
    "X_multiple = df_tweets[['replies_count', 'likes_count']]\n",
    "y_multiple = df_tweets[['retweets_count']]"
   ]
  },
  {
   "cell_type": "markdown",
   "id": "64f92309",
   "metadata": {},
   "source": [
    "<h2>Separamos los datos para entrenamiento y pruebas</h2>"
   ]
  },
  {
   "cell_type": "code",
   "execution_count": 6,
   "id": "dc588d4b",
   "metadata": {},
   "outputs": [],
   "source": [
    "X_train, X_test, y_train, y_test = train_test_split(X_multiple, y_multiple, test_size=0.2)"
   ]
  },
  {
   "cell_type": "markdown",
   "id": "fc9a4918",
   "metadata": {},
   "source": [
    "<h2>Definimos el modelo matemático</h2>"
   ]
  },
  {
   "cell_type": "code",
   "execution_count": 7,
   "id": "e3a97a0e",
   "metadata": {},
   "outputs": [],
   "source": [
    "lr_multiple = linear_model.LinearRegression()"
   ]
  },
  {
   "cell_type": "markdown",
   "id": "a1d202a7",
   "metadata": {},
   "source": [
    "<h2>Entrenamos nuestro modelo matemático</h2>"
   ]
  },
  {
   "cell_type": "code",
   "execution_count": 8,
   "id": "c70d8300",
   "metadata": {},
   "outputs": [
    {
     "data": {
      "text/plain": [
       "LinearRegression()"
      ]
     },
     "execution_count": 8,
     "metadata": {},
     "output_type": "execute_result"
    }
   ],
   "source": [
    "lr_multiple.fit(X_train, y_train)"
   ]
  },
  {
   "cell_type": "code",
   "execution_count": 9,
   "id": "c78efe84",
   "metadata": {},
   "outputs": [],
   "source": [
    "Y_pred_multiple = lr_multiple.predict(X_test)"
   ]
  },
  {
   "cell_type": "code",
   "execution_count": 10,
   "id": "cc7e2cc9",
   "metadata": {},
   "outputs": [
    {
     "name": "stdout",
     "output_type": "stream",
     "text": [
      "DATOS DEL MODELO REGRESIÓN LINEAL MULTIPLE\n",
      "\n",
      "Valor de las pendientes o coeficientes \"a\":\n",
      "[[0.3384146  0.14684669]]\n",
      "Valor de la intersección o coeficiente \"b\":\n",
      "[6.84083779]\n"
     ]
    }
   ],
   "source": [
    "print('DATOS DEL MODELO REGRESIÓN LINEAL MULTIPLE')\n",
    "print()\n",
    "print('Valor de las pendientes o coeficientes \"a\":')\n",
    "print(lr_multiple.coef_)\n",
    "print('Valor de la intersección o coeficiente \"b\":')\n",
    "print(lr_multiple.intercept_)"
   ]
  },
  {
   "cell_type": "code",
   "execution_count": 11,
   "id": "97d97fa6",
   "metadata": {},
   "outputs": [
    {
     "name": "stdout",
     "output_type": "stream",
     "text": [
      "Precisión del modelo:\n",
      "0.9129187632830382\n"
     ]
    }
   ],
   "source": [
    "print('Precisión del modelo:')\n",
    "print(lr_multiple.score(X_train, y_train))"
   ]
  },
  {
   "cell_type": "markdown",
   "id": "b2cad623",
   "metadata": {},
   "source": [
    "<h2><span style=\"color: #00ff00;\">Simulación Covid</span></h2>\n",
    "<p>Creamos una simulación de un recinto de vacunación, específicamente seleccioné el de colisión Jefferson Pérez, para ello primero definimos todas las variables globales que utilizaremos </p>"
   ]
  },
  {
   "cell_type": "code",
   "execution_count": 12,
   "id": "099802b5",
   "metadata": {},
   "outputs": [],
   "source": [
    "NUM_VACUNAS = 80\n",
    "NUM_PERSONAS_VACUNANDO = 5\n",
    "NUM_TOMANDO_DATOS = 5\n",
    "NUM_CERTIFICADO = 5\n",
    "TIEMPO_SIM = 540\n",
    "TIEMPO_ESPERA = 0\n",
    "INVERTAVALO = 5\n",
    "DATE_SECOND = datetime.now().strftime('%Y/%m/%d')\n",
    "List = []"
   ]
  },
  {
   "cell_type": "markdown",
   "id": "85ad5401",
   "metadata": {},
   "source": [
    "Para realizar la simulacion vamos a utilizar clases ya que nos permite tener de forma ordenada nuestro codigo, teniendo en cuenta vamos a realizar las siguientes clases.\n",
    "\n",
    "* Persona: El ciudadano a vacunar\n",
    "* Vacunacion: Proceso de vacunacion\n",
    "* Simulacion : Realiza la simulacion\n",
    "* ProblemaExamen: Clase Exception\n",
    "\n",
    "<h2>Una vez definidas nuestras clases, codificamos toda la logica de nuestra simulación</h2>"
   ]
  },
  {
   "cell_type": "code",
   "execution_count": 13,
   "id": "73fa9658",
   "metadata": {},
   "outputs": [],
   "source": [
    "class ProblemaExamen(Exception):\n",
    "    pass\n",
    "\n",
    "\n",
    "class Persona():\n",
    "    def __init__(self, nombre='', problema=0):\n",
    "        self.nombre = nombre\n",
    "        self.problema = problema\n",
    "        self.reagendadaCita = ''\n",
    "        self.sigDosis = ''\n",
    "\n",
    "\n",
    "class VacunaException(Exception):\n",
    "    pass\n",
    "\n",
    "\n",
    "class Vacunacion():\n",
    "    def __init__(self, entorno):\n",
    "        global NUM_PERSONAS_VACUNANDO, NUM_CERTIFICADO, NUM_TOMANDO_DATOS, NUM_VACUNAS\n",
    "        self.entorno = entorno\n",
    "        self.persona_v = simpy.Resource(entorno, NUM_PERSONAS_VACUNANDO)\n",
    "        self.persona_e = simpy.Resource(entorno, NUM_TOMANDO_DATOS)\n",
    "        self.persona_c = simpy.Resource(entorno, NUM_CERTIFICADO)\n",
    "        self.vacunas = NUM_VACUNAS\n",
    "        self.examen = None\n",
    "        self.probabilidad = [0.8, 0.2]\n",
    "        self.examen_result = [0, 1]\n",
    "\n",
    "    def print_process(self, persona, hora, accion):\n",
    "        print(\n",
    "            'Persona:[{}] - hora:[{:,.2f}] - accion [{}].'.format(persona, hora, accion))\n",
    "\n",
    "    def proceso_examen(self, tiempo):\n",
    "        self.examen = random.choices(\n",
    "            self.examen_result, self.probabilidad, k=1)\n",
    "        yield self.entorno.timeout(tiempo)\n",
    "\n",
    "    def datos_certificados(self, tiempo):\n",
    "        yield self.entorno.timeout(tiempo)\n",
    "\n",
    "    def vacunacion_persona(self, tiempo):\n",
    "        self.vacunas = self.vacunas-1\n",
    "        yield self.entorno.timeout(tiempo)\n",
    "\n",
    "    def proceso_certifcado(self, tiempo):\n",
    "        yield self.entorno.timeout(tiempo)\n",
    "\n",
    "    def proceso_salida(self, tiempo):\n",
    "        yield self.entorno.timeout(tiempo)\n",
    "\n",
    "    def proceso_vacunacion(self, persona):\n",
    "        global List\n",
    "        tiempo_examen = 0\n",
    "        tiempo_datos = 0\n",
    "        tiempo_vacuna = 0\n",
    "        tiempo_certificado = 0\n",
    "        tiempo_salida = 0\n",
    "        resultado_vacuna = 0\n",
    "        tiempo_espera = 0\n",
    "\n",
    "        self.print_process(persona.nombre, self.entorno.now,\n",
    "                           'Llega al recinto')\n",
    "        espera = self.entorno.now\n",
    "        with self.persona_e.request() as mesa:\n",
    "            yield mesa\n",
    "            self.print_process(\n",
    "                persona.nombre, self.entorno.now, 'Llego a la mesa')\n",
    "            self.print_process(persona.nombre, self.entorno.now,\n",
    "                               'Entra al proceso de examen')\n",
    "            tiempo_espera = self.entorno.now - espera\n",
    "            tiempo_examen = 20\n",
    "\n",
    "            yield self.entorno.process(self.proceso_examen(tiempo_examen))\n",
    "\n",
    "        try:\n",
    "            if(self.examen[0] == 0):\n",
    "                resultado_vacuna = 1\n",
    "                self.print_process(\n",
    "                persona.nombre, self.entorno.now, 'Paso el proceso de revisión')\n",
    "\n",
    "                with self.persona_c.request() as certificado:\n",
    "                    self.print_process(persona.nombre, self.entorno.now, 'Entra al proceso de toma de datos')\n",
    "                    yield certificado\n",
    "                    tiempo_datos = random.randint(2, 4)\n",
    "                    yield self.entorno.process(self.datos_certificados(tiempo_datos))\n",
    "                    self.print_process(persona.nombre, self.entorno.now, 'Se tomaron los datos')\n",
    "\n",
    "                    with self.persona_v.request() as vacunacion:\n",
    "                        yield vacunacion\n",
    "\n",
    "                        try:\n",
    "                            if(self.vacunas > 0):\n",
    "                                self.print_process(\n",
    "                                persona.nombre, self.entorno.now, 'Llegó a la vacunacion')\n",
    "                                tiempo_vacuna = random.randint(5, 10)\n",
    "                                yield self.entorno.process(self.vacunacion_persona(tiempo_vacuna))\n",
    "                                self.print_process(\n",
    "                                persona.nombre, self.entorno.now, 'Vacunacion correcta')\n",
    "\n",
    "                                tiempo_certificado = random.randint(1, 3)\n",
    "                                yield self.entorno.process(self.proceso_certifcado(tiempo_certificado))\n",
    "                                persona.sigDosis = datetime.strftime(datetime.strptime(DATE_SECOND, '%Y/%m/%d')+dt.timedelta(days=21), '%Y/%m/%d')\n",
    "                                self.print_process(\n",
    "                                persona.nombre, self.entorno.now, 'Se entrega el certicado, la siguiente cita es {}'.format(persona.reagendadaCita))\n",
    "                            else:\n",
    "                                raise VacunaException\n",
    "                        except VacunaException:\n",
    "                            persona.reagendadaCita = datetime.strftime(datetime.strptime(DATE_SECOND, '%Y/%m/%d')+dt.timedelta(days=random.randint(2,5)), '%Y/%m/%d')\n",
    "                            resultado_vacuna = 0\n",
    "                            self.print_process(\n",
    "                            persona.nombre, self.entorno.now, 'No se realizo la vacunacion, Proxima fecha {}'.format(persona.reagendadaCita))\n",
    "            else:\n",
    "                raise ProblemaExamen\n",
    "        except ProblemaExamen:\n",
    "            persona.reagendadaCita = datetime.strftime(datetime.strptime(DATE_SECOND,'%Y/%m/%d')+dt.timedelta(days=random.randint(2,5)),'%Y/%m/%d')\n",
    "            resultado_vacuna = 0\n",
    "            self.print_process(persona.nombre, self.entorno.now, 'No pasó el proceso de vacunacion, Proxima fecha {}'.format(persona.reagendadaCita))\n",
    "        tiempo_salida = random.randint(1,5)\n",
    "        self.entorno.process(self.proceso_salida(tiempo_salida))\n",
    "        self.print_process(persona.nombre, self.entorno.now, 'Sale del recinto')\n",
    "        List.append((persona.nombre,persona.sigDosis,persona.reagendadaCita,tiempo_examen,tiempo_datos,tiempo_vacuna,tiempo_certificado,tiempo_salida,tiempo_espera,resultado_vacuna))\n",
    "            \n",
    "class Simulacion():\n",
    "    def __init__(self, personas_simulacion):\n",
    "        self.personas_simulacion = personas_simulacion\n",
    "        self.nombre = 'persona_{}'\n",
    "    \n",
    "    def lanzarSimulacion(self,entorno):\n",
    "        global INVERTAVALO\n",
    "        vacunacion = Vacunacion(entorno)\n",
    "    \n",
    "        self.iniciarPersona(entorno,vacunacion)\n",
    "        \n",
    "        while True:\n",
    "            yield entorno.timeout(random.randint(INVERTAVALO-1, INVERTAVALO))\n",
    "            nombre = self.nombre.format(self.personas_simulacion)\n",
    "            persona = Persona(nombre)\n",
    "            entorno.process(vacunacion.proceso_vacunacion(persona))\n",
    "            self.personas_simulacion+=1\n",
    "    \n",
    "    def iniciarPersona(self,entorno,vacunacion):\n",
    "        for i in range(self.personas_simulacion):\n",
    "            nombre = self.nombre.format(i)\n",
    "            persona = Persona(nombre)\n",
    "            entorno.process(vacunacion.proceso_vacunacion(persona))\n",
    "            \n"
   ]
  },
  {
   "cell_type": "markdown",
   "id": "0040e0a0",
   "metadata": {},
   "source": [
    "<h2>Ejecutamos nuestra simulación</h2>"
   ]
  },
  {
   "cell_type": "code",
   "execution_count": 14,
   "id": "c05fda57",
   "metadata": {},
   "outputs": [
    {
     "name": "stdout",
     "output_type": "stream",
     "text": [
      "Persona:[persona_0] - hora:[0.00] - accion [Llega al recinto].\n",
      "Persona:[persona_1] - hora:[0.00] - accion [Llega al recinto].\n",
      "Persona:[persona_2] - hora:[0.00] - accion [Llega al recinto].\n",
      "Persona:[persona_3] - hora:[0.00] - accion [Llega al recinto].\n",
      "Persona:[persona_4] - hora:[0.00] - accion [Llega al recinto].\n",
      "Persona:[persona_5] - hora:[0.00] - accion [Llega al recinto].\n",
      "Persona:[persona_6] - hora:[0.00] - accion [Llega al recinto].\n",
      "Persona:[persona_0] - hora:[0.00] - accion [Llego a la mesa].\n",
      "Persona:[persona_0] - hora:[0.00] - accion [Entra al proceso de examen].\n",
      "Persona:[persona_1] - hora:[0.00] - accion [Llego a la mesa].\n",
      "Persona:[persona_1] - hora:[0.00] - accion [Entra al proceso de examen].\n",
      "Persona:[persona_2] - hora:[0.00] - accion [Llego a la mesa].\n",
      "Persona:[persona_2] - hora:[0.00] - accion [Entra al proceso de examen].\n",
      "Persona:[persona_3] - hora:[0.00] - accion [Llego a la mesa].\n",
      "Persona:[persona_3] - hora:[0.00] - accion [Entra al proceso de examen].\n",
      "Persona:[persona_4] - hora:[0.00] - accion [Llego a la mesa].\n",
      "Persona:[persona_4] - hora:[0.00] - accion [Entra al proceso de examen].\n",
      "Persona:[persona_7] - hora:[4.00] - accion [Llega al recinto].\n",
      "Persona:[persona_8] - hora:[8.00] - accion [Llega al recinto].\n",
      "Persona:[persona_9] - hora:[12.00] - accion [Llega al recinto].\n",
      "Persona:[persona_10] - hora:[17.00] - accion [Llega al recinto].\n",
      "Persona:[persona_0] - hora:[20.00] - accion [Paso el proceso de revisión].\n",
      "Persona:[persona_0] - hora:[20.00] - accion [Entra al proceso de toma de datos].\n",
      "Persona:[persona_1] - hora:[20.00] - accion [Paso el proceso de revisión].\n",
      "Persona:[persona_1] - hora:[20.00] - accion [Entra al proceso de toma de datos].\n",
      "Persona:[persona_2] - hora:[20.00] - accion [Paso el proceso de revisión].\n",
      "Persona:[persona_2] - hora:[20.00] - accion [Entra al proceso de toma de datos].\n",
      "Persona:[persona_3] - hora:[20.00] - accion [Paso el proceso de revisión].\n",
      "Persona:[persona_3] - hora:[20.00] - accion [Entra al proceso de toma de datos].\n",
      "Persona:[persona_4] - hora:[20.00] - accion [Paso el proceso de revisión].\n",
      "Persona:[persona_4] - hora:[20.00] - accion [Entra al proceso de toma de datos].\n",
      "Persona:[persona_5] - hora:[20.00] - accion [Llego a la mesa].\n",
      "Persona:[persona_5] - hora:[20.00] - accion [Entra al proceso de examen].\n",
      "Persona:[persona_6] - hora:[20.00] - accion [Llego a la mesa].\n",
      "Persona:[persona_6] - hora:[20.00] - accion [Entra al proceso de examen].\n",
      "Persona:[persona_7] - hora:[20.00] - accion [Llego a la mesa].\n",
      "Persona:[persona_7] - hora:[20.00] - accion [Entra al proceso de examen].\n",
      "Persona:[persona_8] - hora:[20.00] - accion [Llego a la mesa].\n",
      "Persona:[persona_8] - hora:[20.00] - accion [Entra al proceso de examen].\n",
      "Persona:[persona_9] - hora:[20.00] - accion [Llego a la mesa].\n",
      "Persona:[persona_9] - hora:[20.00] - accion [Entra al proceso de examen].\n",
      "Persona:[persona_11] - hora:[22.00] - accion [Llega al recinto].\n",
      "Persona:[persona_1] - hora:[22.00] - accion [Se tomaron los datos].\n",
      "Persona:[persona_2] - hora:[22.00] - accion [Se tomaron los datos].\n",
      "Persona:[persona_3] - hora:[22.00] - accion [Se tomaron los datos].\n",
      "Persona:[persona_4] - hora:[22.00] - accion [Se tomaron los datos].\n",
      "Persona:[persona_1] - hora:[22.00] - accion [Llegó a la vacunacion].\n",
      "Persona:[persona_2] - hora:[22.00] - accion [Llegó a la vacunacion].\n",
      "Persona:[persona_3] - hora:[22.00] - accion [Llegó a la vacunacion].\n",
      "Persona:[persona_4] - hora:[22.00] - accion [Llegó a la vacunacion].\n",
      "Persona:[persona_0] - hora:[24.00] - accion [Se tomaron los datos].\n",
      "Persona:[persona_0] - hora:[24.00] - accion [Llegó a la vacunacion].\n",
      "Persona:[persona_12] - hora:[26.00] - accion [Llega al recinto].\n",
      "Persona:[persona_2] - hora:[28.00] - accion [Vacunacion correcta].\n",
      "Persona:[persona_3] - hora:[28.00] - accion [Vacunacion correcta].\n",
      "Persona:[persona_4] - hora:[28.00] - accion [Vacunacion correcta].\n",
      "Persona:[persona_1] - hora:[29.00] - accion [Vacunacion correcta].\n",
      "Persona:[persona_4] - hora:[29.00] - accion [Se entrega el certicado, la siguiente cita es ].\n",
      "Persona:[persona_4] - hora:[29.00] - accion [Sale del recinto].\n",
      "Persona:[persona_13] - hora:[30.00] - accion [Llega al recinto].\n",
      "Persona:[persona_3] - hora:[30.00] - accion [Se entrega el certicado, la siguiente cita es ].\n",
      "Persona:[persona_3] - hora:[30.00] - accion [Sale del recinto].\n",
      "Persona:[persona_0] - hora:[31.00] - accion [Vacunacion correcta].\n",
      "Persona:[persona_2] - hora:[31.00] - accion [Se entrega el certicado, la siguiente cita es ].\n",
      "Persona:[persona_2] - hora:[31.00] - accion [Sale del recinto].\n",
      "Persona:[persona_1] - hora:[32.00] - accion [Se entrega el certicado, la siguiente cita es ].\n",
      "Persona:[persona_1] - hora:[32.00] - accion [Sale del recinto].\n",
      "Persona:[persona_14] - hora:[34.00] - accion [Llega al recinto].\n",
      "Persona:[persona_0] - hora:[34.00] - accion [Se entrega el certicado, la siguiente cita es ].\n",
      "Persona:[persona_0] - hora:[34.00] - accion [Sale del recinto].\n",
      "Persona:[persona_15] - hora:[39.00] - accion [Llega al recinto].\n",
      "Persona:[persona_5] - hora:[40.00] - accion [Paso el proceso de revisión].\n",
      "Persona:[persona_5] - hora:[40.00] - accion [Entra al proceso de toma de datos].\n",
      "Persona:[persona_6] - hora:[40.00] - accion [Paso el proceso de revisión].\n",
      "Persona:[persona_6] - hora:[40.00] - accion [Entra al proceso de toma de datos].\n",
      "Persona:[persona_7] - hora:[40.00] - accion [Paso el proceso de revisión].\n",
      "Persona:[persona_7] - hora:[40.00] - accion [Entra al proceso de toma de datos].\n",
      "Persona:[persona_8] - hora:[40.00] - accion [Paso el proceso de revisión].\n",
      "Persona:[persona_8] - hora:[40.00] - accion [Entra al proceso de toma de datos].\n",
      "Persona:[persona_9] - hora:[40.00] - accion [Paso el proceso de revisión].\n",
      "Persona:[persona_9] - hora:[40.00] - accion [Entra al proceso de toma de datos].\n",
      "Persona:[persona_10] - hora:[40.00] - accion [Llego a la mesa].\n",
      "Persona:[persona_10] - hora:[40.00] - accion [Entra al proceso de examen].\n",
      "Persona:[persona_11] - hora:[40.00] - accion [Llego a la mesa].\n",
      "Persona:[persona_11] - hora:[40.00] - accion [Entra al proceso de examen].\n",
      "Persona:[persona_12] - hora:[40.00] - accion [Llego a la mesa].\n",
      "Persona:[persona_12] - hora:[40.00] - accion [Entra al proceso de examen].\n",
      "Persona:[persona_13] - hora:[40.00] - accion [Llego a la mesa].\n",
      "Persona:[persona_13] - hora:[40.00] - accion [Entra al proceso de examen].\n",
      "Persona:[persona_14] - hora:[40.00] - accion [Llego a la mesa].\n",
      "Persona:[persona_14] - hora:[40.00] - accion [Entra al proceso de examen].\n",
      "Persona:[persona_6] - hora:[42.00] - accion [Se tomaron los datos].\n",
      "Persona:[persona_7] - hora:[42.00] - accion [Se tomaron los datos].\n",
      "Persona:[persona_8] - hora:[42.00] - accion [Se tomaron los datos].\n",
      "Persona:[persona_9] - hora:[42.00] - accion [Se tomaron los datos].\n",
      "Persona:[persona_6] - hora:[42.00] - accion [Llegó a la vacunacion].\n",
      "Persona:[persona_7] - hora:[42.00] - accion [Llegó a la vacunacion].\n",
      "Persona:[persona_8] - hora:[42.00] - accion [Llegó a la vacunacion].\n",
      "Persona:[persona_9] - hora:[42.00] - accion [Llegó a la vacunacion].\n",
      "Persona:[persona_16] - hora:[43.00] - accion [Llega al recinto].\n",
      "Persona:[persona_5] - hora:[44.00] - accion [Se tomaron los datos].\n",
      "Persona:[persona_5] - hora:[44.00] - accion [Llegó a la vacunacion].\n",
      "Persona:[persona_17] - hora:[47.00] - accion [Llega al recinto].\n",
      "Persona:[persona_7] - hora:[48.00] - accion [Vacunacion correcta].\n",
      "Persona:[persona_8] - hora:[48.00] - accion [Vacunacion correcta].\n",
      "Persona:[persona_7] - hora:[50.00] - accion [Se entrega el certicado, la siguiente cita es ].\n",
      "Persona:[persona_7] - hora:[50.00] - accion [Sale del recinto].\n",
      "Persona:[persona_8] - hora:[50.00] - accion [Se entrega el certicado, la siguiente cita es ].\n",
      "Persona:[persona_8] - hora:[50.00] - accion [Sale del recinto].\n",
      "Persona:[persona_18] - hora:[51.00] - accion [Llega al recinto].\n",
      "Persona:[persona_9] - hora:[51.00] - accion [Vacunacion correcta].\n",
      "Persona:[persona_5] - hora:[51.00] - accion [Vacunacion correcta].\n",
      "Persona:[persona_6] - hora:[52.00] - accion [Vacunacion correcta].\n",
      "Persona:[persona_9] - hora:[52.00] - accion [Se entrega el certicado, la siguiente cita es ].\n",
      "Persona:[persona_9] - hora:[52.00] - accion [Sale del recinto].\n",
      "Persona:[persona_5] - hora:[54.00] - accion [Se entrega el certicado, la siguiente cita es ].\n",
      "Persona:[persona_5] - hora:[54.00] - accion [Sale del recinto].\n",
      "Persona:[persona_6] - hora:[55.00] - accion [Se entrega el certicado, la siguiente cita es ].\n",
      "Persona:[persona_6] - hora:[55.00] - accion [Sale del recinto].\n",
      "Persona:[persona_19] - hora:[56.00] - accion [Llega al recinto].\n",
      "Persona:[persona_20] - hora:[60.00] - accion [Llega al recinto].\n",
      "Persona:[persona_10] - hora:[60.00] - accion [Paso el proceso de revisión].\n",
      "Persona:[persona_10] - hora:[60.00] - accion [Entra al proceso de toma de datos].\n",
      "Persona:[persona_11] - hora:[60.00] - accion [Paso el proceso de revisión].\n",
      "Persona:[persona_11] - hora:[60.00] - accion [Entra al proceso de toma de datos].\n",
      "Persona:[persona_12] - hora:[60.00] - accion [Paso el proceso de revisión].\n",
      "Persona:[persona_12] - hora:[60.00] - accion [Entra al proceso de toma de datos].\n",
      "Persona:[persona_13] - hora:[60.00] - accion [Paso el proceso de revisión].\n",
      "Persona:[persona_13] - hora:[60.00] - accion [Entra al proceso de toma de datos].\n",
      "Persona:[persona_14] - hora:[60.00] - accion [Paso el proceso de revisión].\n",
      "Persona:[persona_14] - hora:[60.00] - accion [Entra al proceso de toma de datos].\n",
      "Persona:[persona_15] - hora:[60.00] - accion [Llego a la mesa].\n",
      "Persona:[persona_15] - hora:[60.00] - accion [Entra al proceso de examen].\n",
      "Persona:[persona_16] - hora:[60.00] - accion [Llego a la mesa].\n",
      "Persona:[persona_16] - hora:[60.00] - accion [Entra al proceso de examen].\n",
      "Persona:[persona_17] - hora:[60.00] - accion [Llego a la mesa].\n",
      "Persona:[persona_17] - hora:[60.00] - accion [Entra al proceso de examen].\n",
      "Persona:[persona_18] - hora:[60.00] - accion [Llego a la mesa].\n",
      "Persona:[persona_18] - hora:[60.00] - accion [Entra al proceso de examen].\n",
      "Persona:[persona_19] - hora:[60.00] - accion [Llego a la mesa].\n",
      "Persona:[persona_19] - hora:[60.00] - accion [Entra al proceso de examen].\n",
      "Persona:[persona_11] - hora:[62.00] - accion [Se tomaron los datos].\n",
      "Persona:[persona_12] - hora:[62.00] - accion [Se tomaron los datos].\n",
      "Persona:[persona_11] - hora:[62.00] - accion [Llegó a la vacunacion].\n",
      "Persona:[persona_12] - hora:[62.00] - accion [Llegó a la vacunacion].\n",
      "Persona:[persona_10] - hora:[63.00] - accion [Se tomaron los datos].\n",
      "Persona:[persona_13] - hora:[63.00] - accion [Se tomaron los datos].\n",
      "Persona:[persona_10] - hora:[63.00] - accion [Llegó a la vacunacion].\n",
      "Persona:[persona_13] - hora:[63.00] - accion [Llegó a la vacunacion].\n",
      "Persona:[persona_14] - hora:[64.00] - accion [Se tomaron los datos].\n",
      "Persona:[persona_14] - hora:[64.00] - accion [Llegó a la vacunacion].\n",
      "Persona:[persona_21] - hora:[65.00] - accion [Llega al recinto].\n",
      "Persona:[persona_11] - hora:[67.00] - accion [Vacunacion correcta].\n",
      "Persona:[persona_22] - hora:[69.00] - accion [Llega al recinto].\n",
      "Persona:[persona_12] - hora:[69.00] - accion [Vacunacion correcta].\n",
      "Persona:[persona_11] - hora:[69.00] - accion [Se entrega el certicado, la siguiente cita es ].\n",
      "Persona:[persona_11] - hora:[69.00] - accion [Sale del recinto].\n",
      "Persona:[persona_12] - hora:[70.00] - accion [Se entrega el certicado, la siguiente cita es ].\n",
      "Persona:[persona_12] - hora:[70.00] - accion [Sale del recinto].\n",
      "Persona:[persona_10] - hora:[71.00] - accion [Vacunacion correcta].\n",
      "Persona:[persona_13] - hora:[71.00] - accion [Vacunacion correcta].\n",
      "Persona:[persona_14] - hora:[71.00] - accion [Vacunacion correcta].\n",
      "Persona:[persona_10] - hora:[72.00] - accion [Se entrega el certicado, la siguiente cita es ].\n",
      "Persona:[persona_10] - hora:[72.00] - accion [Sale del recinto].\n",
      "Persona:[persona_14] - hora:[72.00] - accion [Se entrega el certicado, la siguiente cita es ].\n",
      "Persona:[persona_14] - hora:[72.00] - accion [Sale del recinto].\n",
      "Persona:[persona_13] - hora:[73.00] - accion [Se entrega el certicado, la siguiente cita es ].\n",
      "Persona:[persona_13] - hora:[73.00] - accion [Sale del recinto].\n",
      "Persona:[persona_23] - hora:[74.00] - accion [Llega al recinto].\n",
      "Persona:[persona_24] - hora:[78.00] - accion [Llega al recinto].\n",
      "Persona:[persona_15] - hora:[80.00] - accion [Paso el proceso de revisión].\n",
      "Persona:[persona_15] - hora:[80.00] - accion [Entra al proceso de toma de datos].\n",
      "Persona:[persona_16] - hora:[80.00] - accion [Paso el proceso de revisión].\n",
      "Persona:[persona_16] - hora:[80.00] - accion [Entra al proceso de toma de datos].\n",
      "Persona:[persona_17] - hora:[80.00] - accion [Paso el proceso de revisión].\n",
      "Persona:[persona_17] - hora:[80.00] - accion [Entra al proceso de toma de datos].\n",
      "Persona:[persona_18] - hora:[80.00] - accion [Paso el proceso de revisión].\n",
      "Persona:[persona_18] - hora:[80.00] - accion [Entra al proceso de toma de datos].\n",
      "Persona:[persona_19] - hora:[80.00] - accion [Paso el proceso de revisión].\n",
      "Persona:[persona_19] - hora:[80.00] - accion [Entra al proceso de toma de datos].\n",
      "Persona:[persona_20] - hora:[80.00] - accion [Llego a la mesa].\n",
      "Persona:[persona_20] - hora:[80.00] - accion [Entra al proceso de examen].\n",
      "Persona:[persona_21] - hora:[80.00] - accion [Llego a la mesa].\n",
      "Persona:[persona_21] - hora:[80.00] - accion [Entra al proceso de examen].\n",
      "Persona:[persona_22] - hora:[80.00] - accion [Llego a la mesa].\n",
      "Persona:[persona_22] - hora:[80.00] - accion [Entra al proceso de examen].\n",
      "Persona:[persona_23] - hora:[80.00] - accion [Llego a la mesa].\n",
      "Persona:[persona_23] - hora:[80.00] - accion [Entra al proceso de examen].\n",
      "Persona:[persona_24] - hora:[80.00] - accion [Llego a la mesa].\n",
      "Persona:[persona_24] - hora:[80.00] - accion [Entra al proceso de examen].\n",
      "Persona:[persona_25] - hora:[83.00] - accion [Llega al recinto].\n",
      "Persona:[persona_15] - hora:[83.00] - accion [Se tomaron los datos].\n",
      "Persona:[persona_16] - hora:[83.00] - accion [Se tomaron los datos].\n",
      "Persona:[persona_18] - hora:[83.00] - accion [Se tomaron los datos].\n",
      "Persona:[persona_19] - hora:[83.00] - accion [Se tomaron los datos].\n",
      "Persona:[persona_15] - hora:[83.00] - accion [Llegó a la vacunacion].\n",
      "Persona:[persona_16] - hora:[83.00] - accion [Llegó a la vacunacion].\n",
      "Persona:[persona_18] - hora:[83.00] - accion [Llegó a la vacunacion].\n",
      "Persona:[persona_19] - hora:[83.00] - accion [Llegó a la vacunacion].\n",
      "Persona:[persona_17] - hora:[84.00] - accion [Se tomaron los datos].\n",
      "Persona:[persona_17] - hora:[84.00] - accion [Llegó a la vacunacion].\n",
      "Persona:[persona_26] - hora:[88.00] - accion [Llega al recinto].\n",
      "Persona:[persona_16] - hora:[88.00] - accion [Vacunacion correcta].\n",
      "Persona:[persona_18] - hora:[89.00] - accion [Vacunacion correcta].\n",
      "Persona:[persona_16] - hora:[90.00] - accion [Se entrega el certicado, la siguiente cita es ].\n",
      "Persona:[persona_16] - hora:[90.00] - accion [Sale del recinto].\n",
      "Persona:[persona_18] - hora:[90.00] - accion [Se entrega el certicado, la siguiente cita es ].\n",
      "Persona:[persona_18] - hora:[90.00] - accion [Sale del recinto].\n",
      "Persona:[persona_15] - hora:[91.00] - accion [Vacunacion correcta].\n",
      "Persona:[persona_19] - hora:[91.00] - accion [Vacunacion correcta].\n",
      "Persona:[persona_27] - hora:[92.00] - accion [Llega al recinto].\n",
      "Persona:[persona_17] - hora:[93.00] - accion [Vacunacion correcta].\n",
      "Persona:[persona_15] - hora:[93.00] - accion [Se entrega el certicado, la siguiente cita es ].\n",
      "Persona:[persona_15] - hora:[93.00] - accion [Sale del recinto].\n",
      "Persona:[persona_19] - hora:[93.00] - accion [Se entrega el certicado, la siguiente cita es ].\n",
      "Persona:[persona_19] - hora:[93.00] - accion [Sale del recinto].\n",
      "Persona:[persona_17] - hora:[96.00] - accion [Se entrega el certicado, la siguiente cita es ].\n",
      "Persona:[persona_17] - hora:[96.00] - accion [Sale del recinto].\n",
      "Persona:[persona_28] - hora:[97.00] - accion [Llega al recinto].\n",
      "Persona:[persona_20] - hora:[100.00] - accion [Paso el proceso de revisión].\n",
      "Persona:[persona_20] - hora:[100.00] - accion [Entra al proceso de toma de datos].\n",
      "Persona:[persona_21] - hora:[100.00] - accion [Paso el proceso de revisión].\n",
      "Persona:[persona_21] - hora:[100.00] - accion [Entra al proceso de toma de datos].\n",
      "Persona:[persona_22] - hora:[100.00] - accion [Paso el proceso de revisión].\n",
      "Persona:[persona_22] - hora:[100.00] - accion [Entra al proceso de toma de datos].\n",
      "Persona:[persona_23] - hora:[100.00] - accion [Paso el proceso de revisión].\n",
      "Persona:[persona_23] - hora:[100.00] - accion [Entra al proceso de toma de datos].\n",
      "Persona:[persona_24] - hora:[100.00] - accion [Paso el proceso de revisión].\n",
      "Persona:[persona_24] - hora:[100.00] - accion [Entra al proceso de toma de datos].\n",
      "Persona:[persona_25] - hora:[100.00] - accion [Llego a la mesa].\n",
      "Persona:[persona_25] - hora:[100.00] - accion [Entra al proceso de examen].\n",
      "Persona:[persona_26] - hora:[100.00] - accion [Llego a la mesa].\n",
      "Persona:[persona_26] - hora:[100.00] - accion [Entra al proceso de examen].\n",
      "Persona:[persona_27] - hora:[100.00] - accion [Llego a la mesa].\n",
      "Persona:[persona_27] - hora:[100.00] - accion [Entra al proceso de examen].\n",
      "Persona:[persona_28] - hora:[100.00] - accion [Llego a la mesa].\n",
      "Persona:[persona_28] - hora:[100.00] - accion [Entra al proceso de examen].\n",
      "Persona:[persona_29] - hora:[101.00] - accion [Llega al recinto].\n",
      "Persona:[persona_29] - hora:[101.00] - accion [Llego a la mesa].\n",
      "Persona:[persona_29] - hora:[101.00] - accion [Entra al proceso de examen].\n",
      "Persona:[persona_21] - hora:[102.00] - accion [Se tomaron los datos].\n",
      "Persona:[persona_21] - hora:[102.00] - accion [Llegó a la vacunacion].\n",
      "Persona:[persona_20] - hora:[103.00] - accion [Se tomaron los datos].\n",
      "Persona:[persona_24] - hora:[103.00] - accion [Se tomaron los datos].\n",
      "Persona:[persona_20] - hora:[103.00] - accion [Llegó a la vacunacion].\n",
      "Persona:[persona_24] - hora:[103.00] - accion [Llegó a la vacunacion].\n",
      "Persona:[persona_22] - hora:[104.00] - accion [Se tomaron los datos].\n",
      "Persona:[persona_23] - hora:[104.00] - accion [Se tomaron los datos].\n",
      "Persona:[persona_22] - hora:[104.00] - accion [Llegó a la vacunacion].\n",
      "Persona:[persona_23] - hora:[104.00] - accion [Llegó a la vacunacion].\n",
      "Persona:[persona_30] - hora:[106.00] - accion [Llega al recinto].\n",
      "Persona:[persona_20] - hora:[109.00] - accion [Vacunacion correcta].\n",
      "Persona:[persona_22] - hora:[109.00] - accion [Vacunacion correcta].\n",
      "Persona:[persona_23] - hora:[109.00] - accion [Vacunacion correcta].\n",
      "Persona:[persona_31] - hora:[110.00] - accion [Llega al recinto].\n",
      "Persona:[persona_23] - hora:[111.00] - accion [Se entrega el certicado, la siguiente cita es ].\n",
      "Persona:[persona_23] - hora:[111.00] - accion [Sale del recinto].\n",
      "Persona:[persona_21] - hora:[112.00] - accion [Vacunacion correcta].\n",
      "Persona:[persona_24] - hora:[112.00] - accion [Vacunacion correcta].\n",
      "Persona:[persona_20] - hora:[112.00] - accion [Se entrega el certicado, la siguiente cita es ].\n",
      "Persona:[persona_20] - hora:[112.00] - accion [Sale del recinto].\n",
      "Persona:[persona_22] - hora:[112.00] - accion [Se entrega el certicado, la siguiente cita es ].\n",
      "Persona:[persona_22] - hora:[112.00] - accion [Sale del recinto].\n",
      "Persona:[persona_24] - hora:[113.00] - accion [Se entrega el certicado, la siguiente cita es ].\n",
      "Persona:[persona_24] - hora:[113.00] - accion [Sale del recinto].\n",
      "Persona:[persona_32] - hora:[115.00] - accion [Llega al recinto].\n",
      "Persona:[persona_21] - hora:[115.00] - accion [Se entrega el certicado, la siguiente cita es ].\n",
      "Persona:[persona_21] - hora:[115.00] - accion [Sale del recinto].\n",
      "Persona:[persona_33] - hora:[119.00] - accion [Llega al recinto].\n",
      "Persona:[persona_25] - hora:[120.00] - accion [Paso el proceso de revisión].\n",
      "Persona:[persona_25] - hora:[120.00] - accion [Entra al proceso de toma de datos].\n",
      "Persona:[persona_26] - hora:[120.00] - accion [Paso el proceso de revisión].\n",
      "Persona:[persona_26] - hora:[120.00] - accion [Entra al proceso de toma de datos].\n",
      "Persona:[persona_27] - hora:[120.00] - accion [Paso el proceso de revisión].\n",
      "Persona:[persona_27] - hora:[120.00] - accion [Entra al proceso de toma de datos].\n",
      "Persona:[persona_28] - hora:[120.00] - accion [Paso el proceso de revisión].\n",
      "Persona:[persona_28] - hora:[120.00] - accion [Entra al proceso de toma de datos].\n",
      "Persona:[persona_30] - hora:[120.00] - accion [Llego a la mesa].\n",
      "Persona:[persona_30] - hora:[120.00] - accion [Entra al proceso de examen].\n",
      "Persona:[persona_31] - hora:[120.00] - accion [Llego a la mesa].\n",
      "Persona:[persona_31] - hora:[120.00] - accion [Entra al proceso de examen].\n",
      "Persona:[persona_32] - hora:[120.00] - accion [Llego a la mesa].\n",
      "Persona:[persona_32] - hora:[120.00] - accion [Entra al proceso de examen].\n",
      "Persona:[persona_33] - hora:[120.00] - accion [Llego a la mesa].\n",
      "Persona:[persona_33] - hora:[120.00] - accion [Entra al proceso de examen].\n",
      "Persona:[persona_29] - hora:[121.00] - accion [Paso el proceso de revisión].\n",
      "Persona:[persona_29] - hora:[121.00] - accion [Entra al proceso de toma de datos].\n",
      "Persona:[persona_26] - hora:[122.00] - accion [Se tomaron los datos].\n",
      "Persona:[persona_26] - hora:[122.00] - accion [Llegó a la vacunacion].\n",
      "Persona:[persona_34] - hora:[123.00] - accion [Llega al recinto].\n",
      "Persona:[persona_34] - hora:[123.00] - accion [Llego a la mesa].\n",
      "Persona:[persona_34] - hora:[123.00] - accion [Entra al proceso de examen].\n",
      "Persona:[persona_25] - hora:[124.00] - accion [Se tomaron los datos].\n",
      "Persona:[persona_27] - hora:[124.00] - accion [Se tomaron los datos].\n",
      "Persona:[persona_28] - hora:[124.00] - accion [Se tomaron los datos].\n",
      "Persona:[persona_29] - hora:[124.00] - accion [Se tomaron los datos].\n",
      "Persona:[persona_25] - hora:[124.00] - accion [Llegó a la vacunacion].\n",
      "Persona:[persona_27] - hora:[124.00] - accion [Llegó a la vacunacion].\n",
      "Persona:[persona_28] - hora:[124.00] - accion [Llegó a la vacunacion].\n",
      "Persona:[persona_29] - hora:[124.00] - accion [Llegó a la vacunacion].\n",
      "Persona:[persona_35] - hora:[128.00] - accion [Llega al recinto].\n",
      "Persona:[persona_25] - hora:[129.00] - accion [Vacunacion correcta].\n",
      "Persona:[persona_29] - hora:[130.00] - accion [Vacunacion correcta].\n",
      "Persona:[persona_28] - hora:[131.00] - accion [Vacunacion correcta].\n",
      "Persona:[persona_36] - hora:[132.00] - accion [Llega al recinto].\n",
      "Persona:[persona_26] - hora:[132.00] - accion [Vacunacion correcta].\n",
      "Persona:[persona_25] - hora:[132.00] - accion [Se entrega el certicado, la siguiente cita es ].\n",
      "Persona:[persona_25] - hora:[132.00] - accion [Sale del recinto].\n",
      "Persona:[persona_29] - hora:[132.00] - accion [Se entrega el certicado, la siguiente cita es ].\n",
      "Persona:[persona_29] - hora:[132.00] - accion [Sale del recinto].\n",
      "Persona:[persona_27] - hora:[133.00] - accion [Vacunacion correcta].\n",
      "Persona:[persona_28] - hora:[133.00] - accion [Se entrega el certicado, la siguiente cita es ].\n",
      "Persona:[persona_28] - hora:[133.00] - accion [Sale del recinto].\n",
      "Persona:[persona_26] - hora:[134.00] - accion [Se entrega el certicado, la siguiente cita es ].\n",
      "Persona:[persona_26] - hora:[134.00] - accion [Sale del recinto].\n",
      "Persona:[persona_27] - hora:[135.00] - accion [Se entrega el certicado, la siguiente cita es ].\n",
      "Persona:[persona_27] - hora:[135.00] - accion [Sale del recinto].\n",
      "Persona:[persona_37] - hora:[137.00] - accion [Llega al recinto].\n",
      "Persona:[persona_30] - hora:[140.00] - accion [Paso el proceso de revisión].\n",
      "Persona:[persona_30] - hora:[140.00] - accion [Entra al proceso de toma de datos].\n",
      "Persona:[persona_31] - hora:[140.00] - accion [Paso el proceso de revisión].\n",
      "Persona:[persona_31] - hora:[140.00] - accion [Entra al proceso de toma de datos].\n",
      "Persona:[persona_32] - hora:[140.00] - accion [Paso el proceso de revisión].\n",
      "Persona:[persona_32] - hora:[140.00] - accion [Entra al proceso de toma de datos].\n",
      "Persona:[persona_33] - hora:[140.00] - accion [Paso el proceso de revisión].\n",
      "Persona:[persona_33] - hora:[140.00] - accion [Entra al proceso de toma de datos].\n",
      "Persona:[persona_35] - hora:[140.00] - accion [Llego a la mesa].\n",
      "Persona:[persona_35] - hora:[140.00] - accion [Entra al proceso de examen].\n",
      "Persona:[persona_36] - hora:[140.00] - accion [Llego a la mesa].\n",
      "Persona:[persona_36] - hora:[140.00] - accion [Entra al proceso de examen].\n",
      "Persona:[persona_37] - hora:[140.00] - accion [Llego a la mesa].\n",
      "Persona:[persona_37] - hora:[140.00] - accion [Entra al proceso de examen].\n",
      "Persona:[persona_38] - hora:[142.00] - accion [Llega al recinto].\n",
      "Persona:[persona_38] - hora:[142.00] - accion [Llego a la mesa].\n",
      "Persona:[persona_38] - hora:[142.00] - accion [Entra al proceso de examen].\n",
      "Persona:[persona_30] - hora:[142.00] - accion [Se tomaron los datos].\n",
      "Persona:[persona_30] - hora:[142.00] - accion [Llegó a la vacunacion].\n",
      "Persona:[persona_34] - hora:[143.00] - accion [Paso el proceso de revisión].\n",
      "Persona:[persona_34] - hora:[143.00] - accion [Entra al proceso de toma de datos].\n",
      "Persona:[persona_32] - hora:[143.00] - accion [Se tomaron los datos].\n",
      "Persona:[persona_32] - hora:[143.00] - accion [Llegó a la vacunacion].\n",
      "Persona:[persona_31] - hora:[144.00] - accion [Se tomaron los datos].\n",
      "Persona:[persona_33] - hora:[144.00] - accion [Se tomaron los datos].\n",
      "Persona:[persona_31] - hora:[144.00] - accion [Llegó a la vacunacion].\n",
      "Persona:[persona_33] - hora:[144.00] - accion [Llegó a la vacunacion].\n",
      "Persona:[persona_39] - hora:[146.00] - accion [Llega al recinto].\n",
      "Persona:[persona_39] - hora:[146.00] - accion [Llego a la mesa].\n",
      "Persona:[persona_39] - hora:[146.00] - accion [Entra al proceso de examen].\n",
      "Persona:[persona_34] - hora:[147.00] - accion [Se tomaron los datos].\n",
      "Persona:[persona_34] - hora:[147.00] - accion [Llegó a la vacunacion].\n",
      "Persona:[persona_31] - hora:[149.00] - accion [Vacunacion correcta].\n",
      "Persona:[persona_32] - hora:[150.00] - accion [Vacunacion correcta].\n",
      "Persona:[persona_40] - hora:[151.00] - accion [Llega al recinto].\n",
      "Persona:[persona_31] - hora:[151.00] - accion [Se entrega el certicado, la siguiente cita es ].\n",
      "Persona:[persona_31] - hora:[151.00] - accion [Sale del recinto].\n",
      "Persona:[persona_32] - hora:[151.00] - accion [Se entrega el certicado, la siguiente cita es ].\n",
      "Persona:[persona_32] - hora:[151.00] - accion [Sale del recinto].\n",
      "Persona:[persona_30] - hora:[152.00] - accion [Vacunacion correcta].\n",
      "Persona:[persona_33] - hora:[152.00] - accion [Vacunacion correcta].\n",
      "Persona:[persona_33] - hora:[153.00] - accion [Se entrega el certicado, la siguiente cita es ].\n",
      "Persona:[persona_33] - hora:[153.00] - accion [Sale del recinto].\n",
      "Persona:[persona_30] - hora:[154.00] - accion [Se entrega el certicado, la siguiente cita es ].\n",
      "Persona:[persona_30] - hora:[154.00] - accion [Sale del recinto].\n",
      "Persona:[persona_41] - hora:[156.00] - accion [Llega al recinto].\n",
      "Persona:[persona_34] - hora:[156.00] - accion [Vacunacion correcta].\n",
      "Persona:[persona_34] - hora:[158.00] - accion [Se entrega el certicado, la siguiente cita es ].\n",
      "Persona:[persona_34] - hora:[158.00] - accion [Sale del recinto].\n",
      "Persona:[persona_42] - hora:[160.00] - accion [Llega al recinto].\n",
      "Persona:[persona_35] - hora:[160.00] - accion [No pasó el proceso de vacunacion, Proxima fecha 2021/06/08].\n",
      "Persona:[persona_35] - hora:[160.00] - accion [Sale del recinto].\n",
      "Persona:[persona_36] - hora:[160.00] - accion [No pasó el proceso de vacunacion, Proxima fecha 2021/06/07].\n",
      "Persona:[persona_36] - hora:[160.00] - accion [Sale del recinto].\n",
      "Persona:[persona_37] - hora:[160.00] - accion [No pasó el proceso de vacunacion, Proxima fecha 2021/06/07].\n",
      "Persona:[persona_37] - hora:[160.00] - accion [Sale del recinto].\n",
      "Persona:[persona_40] - hora:[160.00] - accion [Llego a la mesa].\n",
      "Persona:[persona_40] - hora:[160.00] - accion [Entra al proceso de examen].\n",
      "Persona:[persona_41] - hora:[160.00] - accion [Llego a la mesa].\n",
      "Persona:[persona_41] - hora:[160.00] - accion [Entra al proceso de examen].\n",
      "Persona:[persona_42] - hora:[160.00] - accion [Llego a la mesa].\n",
      "Persona:[persona_42] - hora:[160.00] - accion [Entra al proceso de examen].\n",
      "Persona:[persona_38] - hora:[162.00] - accion [Paso el proceso de revisión].\n",
      "Persona:[persona_38] - hora:[162.00] - accion [Entra al proceso de toma de datos].\n",
      "Persona:[persona_43] - hora:[164.00] - accion [Llega al recinto].\n",
      "Persona:[persona_43] - hora:[164.00] - accion [Llego a la mesa].\n",
      "Persona:[persona_43] - hora:[164.00] - accion [Entra al proceso de examen].\n",
      "Persona:[persona_38] - hora:[165.00] - accion [Se tomaron los datos].\n",
      "Persona:[persona_38] - hora:[165.00] - accion [Llegó a la vacunacion].\n",
      "Persona:[persona_39] - hora:[166.00] - accion [Paso el proceso de revisión].\n",
      "Persona:[persona_39] - hora:[166.00] - accion [Entra al proceso de toma de datos].\n",
      "Persona:[persona_39] - hora:[168.00] - accion [Se tomaron los datos].\n",
      "Persona:[persona_39] - hora:[168.00] - accion [Llegó a la vacunacion].\n",
      "Persona:[persona_44] - hora:[169.00] - accion [Llega al recinto].\n",
      "Persona:[persona_44] - hora:[169.00] - accion [Llego a la mesa].\n",
      "Persona:[persona_44] - hora:[169.00] - accion [Entra al proceso de examen].\n",
      "Persona:[persona_38] - hora:[171.00] - accion [Vacunacion correcta].\n",
      "Persona:[persona_38] - hora:[172.00] - accion [Se entrega el certicado, la siguiente cita es ].\n",
      "Persona:[persona_38] - hora:[172.00] - accion [Sale del recinto].\n",
      "Persona:[persona_45] - hora:[173.00] - accion [Llega al recinto].\n",
      "Persona:[persona_39] - hora:[176.00] - accion [Vacunacion correcta].\n",
      "Persona:[persona_39] - hora:[177.00] - accion [Se entrega el certicado, la siguiente cita es ].\n",
      "Persona:[persona_39] - hora:[177.00] - accion [Sale del recinto].\n",
      "Persona:[persona_46] - hora:[178.00] - accion [Llega al recinto].\n",
      "Persona:[persona_40] - hora:[180.00] - accion [Paso el proceso de revisión].\n",
      "Persona:[persona_40] - hora:[180.00] - accion [Entra al proceso de toma de datos].\n",
      "Persona:[persona_41] - hora:[180.00] - accion [Paso el proceso de revisión].\n",
      "Persona:[persona_41] - hora:[180.00] - accion [Entra al proceso de toma de datos].\n",
      "Persona:[persona_42] - hora:[180.00] - accion [Paso el proceso de revisión].\n",
      "Persona:[persona_42] - hora:[180.00] - accion [Entra al proceso de toma de datos].\n",
      "Persona:[persona_45] - hora:[180.00] - accion [Llego a la mesa].\n",
      "Persona:[persona_45] - hora:[180.00] - accion [Entra al proceso de examen].\n",
      "Persona:[persona_46] - hora:[180.00] - accion [Llego a la mesa].\n",
      "Persona:[persona_46] - hora:[180.00] - accion [Entra al proceso de examen].\n",
      "Persona:[persona_40] - hora:[182.00] - accion [Se tomaron los datos].\n",
      "Persona:[persona_40] - hora:[182.00] - accion [Llegó a la vacunacion].\n",
      "Persona:[persona_47] - hora:[183.00] - accion [Llega al recinto].\n",
      "Persona:[persona_47] - hora:[183.00] - accion [Llego a la mesa].\n",
      "Persona:[persona_47] - hora:[183.00] - accion [Entra al proceso de examen].\n",
      "Persona:[persona_41] - hora:[183.00] - accion [Se tomaron los datos].\n",
      "Persona:[persona_41] - hora:[183.00] - accion [Llegó a la vacunacion].\n",
      "Persona:[persona_43] - hora:[184.00] - accion [Paso el proceso de revisión].\n",
      "Persona:[persona_43] - hora:[184.00] - accion [Entra al proceso de toma de datos].\n",
      "Persona:[persona_42] - hora:[184.00] - accion [Se tomaron los datos].\n",
      "Persona:[persona_42] - hora:[184.00] - accion [Llegó a la vacunacion].\n",
      "Persona:[persona_48] - hora:[187.00] - accion [Llega al recinto].\n",
      "Persona:[persona_48] - hora:[187.00] - accion [Llego a la mesa].\n",
      "Persona:[persona_48] - hora:[187.00] - accion [Entra al proceso de examen].\n",
      "Persona:[persona_43] - hora:[188.00] - accion [Se tomaron los datos].\n",
      "Persona:[persona_43] - hora:[188.00] - accion [Llegó a la vacunacion].\n",
      "Persona:[persona_44] - hora:[189.00] - accion [No pasó el proceso de vacunacion, Proxima fecha 2021/06/06].\n",
      "Persona:[persona_44] - hora:[189.00] - accion [Sale del recinto].\n",
      "Persona:[persona_41] - hora:[189.00] - accion [Vacunacion correcta].\n",
      "Persona:[persona_41] - hora:[190.00] - accion [Se entrega el certicado, la siguiente cita es ].\n",
      "Persona:[persona_41] - hora:[190.00] - accion [Sale del recinto].\n",
      "Persona:[persona_49] - hora:[191.00] - accion [Llega al recinto].\n",
      "Persona:[persona_49] - hora:[191.00] - accion [Llego a la mesa].\n",
      "Persona:[persona_49] - hora:[191.00] - accion [Entra al proceso de examen].\n",
      "Persona:[persona_40] - hora:[192.00] - accion [Vacunacion correcta].\n",
      "Persona:[persona_42] - hora:[193.00] - accion [Vacunacion correcta].\n",
      "Persona:[persona_43] - hora:[193.00] - accion [Vacunacion correcta].\n",
      "Persona:[persona_40] - hora:[194.00] - accion [Se entrega el certicado, la siguiente cita es ].\n",
      "Persona:[persona_40] - hora:[194.00] - accion [Sale del recinto].\n",
      "Persona:[persona_42] - hora:[194.00] - accion [Se entrega el certicado, la siguiente cita es ].\n",
      "Persona:[persona_42] - hora:[194.00] - accion [Sale del recinto].\n",
      "Persona:[persona_43] - hora:[194.00] - accion [Se entrega el certicado, la siguiente cita es ].\n",
      "Persona:[persona_43] - hora:[194.00] - accion [Sale del recinto].\n",
      "Persona:[persona_50] - hora:[196.00] - accion [Llega al recinto].\n",
      "Persona:[persona_51] - hora:[200.00] - accion [Llega al recinto].\n",
      "Persona:[persona_45] - hora:[200.00] - accion [Paso el proceso de revisión].\n",
      "Persona:[persona_45] - hora:[200.00] - accion [Entra al proceso de toma de datos].\n",
      "Persona:[persona_46] - hora:[200.00] - accion [Paso el proceso de revisión].\n",
      "Persona:[persona_46] - hora:[200.00] - accion [Entra al proceso de toma de datos].\n",
      "Persona:[persona_50] - hora:[200.00] - accion [Llego a la mesa].\n",
      "Persona:[persona_50] - hora:[200.00] - accion [Entra al proceso de examen].\n",
      "Persona:[persona_51] - hora:[200.00] - accion [Llego a la mesa].\n",
      "Persona:[persona_51] - hora:[200.00] - accion [Entra al proceso de examen].\n",
      "Persona:[persona_45] - hora:[202.00] - accion [Se tomaron los datos].\n",
      "Persona:[persona_45] - hora:[202.00] - accion [Llegó a la vacunacion].\n",
      "Persona:[persona_47] - hora:[203.00] - accion [Paso el proceso de revisión].\n",
      "Persona:[persona_47] - hora:[203.00] - accion [Entra al proceso de toma de datos].\n",
      "Persona:[persona_46] - hora:[203.00] - accion [Se tomaron los datos].\n",
      "Persona:[persona_46] - hora:[203.00] - accion [Llegó a la vacunacion].\n",
      "Persona:[persona_52] - hora:[205.00] - accion [Llega al recinto].\n",
      "Persona:[persona_52] - hora:[205.00] - accion [Llego a la mesa].\n",
      "Persona:[persona_52] - hora:[205.00] - accion [Entra al proceso de examen].\n",
      "Persona:[persona_47] - hora:[205.00] - accion [Se tomaron los datos].\n",
      "Persona:[persona_47] - hora:[205.00] - accion [Llegó a la vacunacion].\n",
      "Persona:[persona_48] - hora:[207.00] - accion [Paso el proceso de revisión].\n",
      "Persona:[persona_48] - hora:[207.00] - accion [Entra al proceso de toma de datos].\n",
      "Persona:[persona_53] - hora:[209.00] - accion [Llega al recinto].\n",
      "Persona:[persona_45] - hora:[209.00] - accion [Vacunacion correcta].\n",
      "Persona:[persona_53] - hora:[209.00] - accion [Llego a la mesa].\n",
      "Persona:[persona_53] - hora:[209.00] - accion [Entra al proceso de examen].\n",
      "Persona:[persona_48] - hora:[209.00] - accion [Se tomaron los datos].\n",
      "Persona:[persona_48] - hora:[209.00] - accion [Llegó a la vacunacion].\n",
      "Persona:[persona_47] - hora:[210.00] - accion [Vacunacion correcta].\n",
      "Persona:[persona_45] - hora:[210.00] - accion [Se entrega el certicado, la siguiente cita es ].\n",
      "Persona:[persona_45] - hora:[210.00] - accion [Sale del recinto].\n",
      "Persona:[persona_49] - hora:[211.00] - accion [Paso el proceso de revisión].\n",
      "Persona:[persona_49] - hora:[211.00] - accion [Entra al proceso de toma de datos].\n",
      "Persona:[persona_46] - hora:[212.00] - accion [Vacunacion correcta].\n",
      "Persona:[persona_47] - hora:[212.00] - accion [Se entrega el certicado, la siguiente cita es ].\n",
      "Persona:[persona_47] - hora:[212.00] - accion [Sale del recinto].\n",
      "Persona:[persona_54] - hora:[213.00] - accion [Llega al recinto].\n",
      "Persona:[persona_54] - hora:[213.00] - accion [Llego a la mesa].\n",
      "Persona:[persona_54] - hora:[213.00] - accion [Entra al proceso de examen].\n",
      "Persona:[persona_49] - hora:[214.00] - accion [Se tomaron los datos].\n",
      "Persona:[persona_46] - hora:[214.00] - accion [Se entrega el certicado, la siguiente cita es ].\n",
      "Persona:[persona_46] - hora:[214.00] - accion [Sale del recinto].\n",
      "Persona:[persona_49] - hora:[214.00] - accion [Llegó a la vacunacion].\n",
      "Persona:[persona_48] - hora:[216.00] - accion [Vacunacion correcta].\n",
      "Persona:[persona_55] - hora:[217.00] - accion [Llega al recinto].\n",
      "Persona:[persona_48] - hora:[217.00] - accion [Se entrega el certicado, la siguiente cita es ].\n",
      "Persona:[persona_48] - hora:[217.00] - accion [Sale del recinto].\n",
      "Persona:[persona_50] - hora:[220.00] - accion [Paso el proceso de revisión].\n",
      "Persona:[persona_50] - hora:[220.00] - accion [Entra al proceso de toma de datos].\n",
      "Persona:[persona_51] - hora:[220.00] - accion [Paso el proceso de revisión].\n",
      "Persona:[persona_51] - hora:[220.00] - accion [Entra al proceso de toma de datos].\n",
      "Persona:[persona_55] - hora:[220.00] - accion [Llego a la mesa].\n",
      "Persona:[persona_55] - hora:[220.00] - accion [Entra al proceso de examen].\n",
      "Persona:[persona_56] - hora:[222.00] - accion [Llega al recinto].\n",
      "Persona:[persona_56] - hora:[222.00] - accion [Llego a la mesa].\n",
      "Persona:[persona_56] - hora:[222.00] - accion [Entra al proceso de examen].\n",
      "Persona:[persona_49] - hora:[223.00] - accion [Vacunacion correcta].\n",
      "Persona:[persona_50] - hora:[223.00] - accion [Se tomaron los datos].\n",
      "Persona:[persona_50] - hora:[223.00] - accion [Llegó a la vacunacion].\n",
      "Persona:[persona_51] - hora:[224.00] - accion [Se tomaron los datos].\n",
      "Persona:[persona_51] - hora:[224.00] - accion [Llegó a la vacunacion].\n",
      "Persona:[persona_52] - hora:[225.00] - accion [Paso el proceso de revisión].\n",
      "Persona:[persona_52] - hora:[225.00] - accion [Entra al proceso de toma de datos].\n",
      "Persona:[persona_49] - hora:[225.00] - accion [Se entrega el certicado, la siguiente cita es ].\n",
      "Persona:[persona_49] - hora:[225.00] - accion [Sale del recinto].\n",
      "Persona:[persona_57] - hora:[227.00] - accion [Llega al recinto].\n",
      "Persona:[persona_57] - hora:[227.00] - accion [Llego a la mesa].\n",
      "Persona:[persona_57] - hora:[227.00] - accion [Entra al proceso de examen].\n",
      "Persona:[persona_52] - hora:[227.00] - accion [Se tomaron los datos].\n",
      "Persona:[persona_52] - hora:[227.00] - accion [Llegó a la vacunacion].\n",
      "Persona:[persona_53] - hora:[229.00] - accion [Paso el proceso de revisión].\n",
      "Persona:[persona_53] - hora:[229.00] - accion [Entra al proceso de toma de datos].\n",
      "Persona:[persona_58] - hora:[231.00] - accion [Llega al recinto].\n",
      "Persona:[persona_51] - hora:[231.00] - accion [Vacunacion correcta].\n",
      "Persona:[persona_58] - hora:[231.00] - accion [Llego a la mesa].\n",
      "Persona:[persona_58] - hora:[231.00] - accion [Entra al proceso de examen].\n",
      "Persona:[persona_53] - hora:[231.00] - accion [Se tomaron los datos].\n",
      "Persona:[persona_53] - hora:[231.00] - accion [Llegó a la vacunacion].\n",
      "Persona:[persona_50] - hora:[232.00] - accion [Vacunacion correcta].\n",
      "Persona:[persona_54] - hora:[233.00] - accion [No pasó el proceso de vacunacion, Proxima fecha 2021/06/08].\n",
      "Persona:[persona_54] - hora:[233.00] - accion [Sale del recinto].\n",
      "Persona:[persona_52] - hora:[233.00] - accion [Vacunacion correcta].\n",
      "Persona:[persona_51] - hora:[234.00] - accion [Se entrega el certicado, la siguiente cita es ].\n",
      "Persona:[persona_51] - hora:[234.00] - accion [Sale del recinto].\n",
      "Persona:[persona_50] - hora:[234.00] - accion [Se entrega el certicado, la siguiente cita es ].\n",
      "Persona:[persona_50] - hora:[234.00] - accion [Sale del recinto].\n",
      "Persona:[persona_59] - hora:[236.00] - accion [Llega al recinto].\n",
      "Persona:[persona_59] - hora:[236.00] - accion [Llego a la mesa].\n",
      "Persona:[persona_59] - hora:[236.00] - accion [Entra al proceso de examen].\n",
      "Persona:[persona_52] - hora:[236.00] - accion [Se entrega el certicado, la siguiente cita es ].\n",
      "Persona:[persona_52] - hora:[236.00] - accion [Sale del recinto].\n",
      "Persona:[persona_53] - hora:[239.00] - accion [Vacunacion correcta].\n",
      "Persona:[persona_60] - hora:[240.00] - accion [Llega al recinto].\n",
      "Persona:[persona_55] - hora:[240.00] - accion [Paso el proceso de revisión].\n",
      "Persona:[persona_55] - hora:[240.00] - accion [Entra al proceso de toma de datos].\n",
      "Persona:[persona_60] - hora:[240.00] - accion [Llego a la mesa].\n",
      "Persona:[persona_60] - hora:[240.00] - accion [Entra al proceso de examen].\n",
      "Persona:[persona_56] - hora:[242.00] - accion [Paso el proceso de revisión].\n",
      "Persona:[persona_56] - hora:[242.00] - accion [Entra al proceso de toma de datos].\n",
      "Persona:[persona_53] - hora:[242.00] - accion [Se entrega el certicado, la siguiente cita es ].\n",
      "Persona:[persona_53] - hora:[242.00] - accion [Sale del recinto].\n",
      "Persona:[persona_55] - hora:[244.00] - accion [Se tomaron los datos].\n",
      "Persona:[persona_56] - hora:[244.00] - accion [Se tomaron los datos].\n",
      "Persona:[persona_55] - hora:[244.00] - accion [Llegó a la vacunacion].\n",
      "Persona:[persona_56] - hora:[244.00] - accion [Llegó a la vacunacion].\n",
      "Persona:[persona_61] - hora:[245.00] - accion [Llega al recinto].\n",
      "Persona:[persona_61] - hora:[245.00] - accion [Llego a la mesa].\n",
      "Persona:[persona_61] - hora:[245.00] - accion [Entra al proceso de examen].\n",
      "Persona:[persona_57] - hora:[247.00] - accion [Paso el proceso de revisión].\n",
      "Persona:[persona_57] - hora:[247.00] - accion [Entra al proceso de toma de datos].\n",
      "Persona:[persona_62] - hora:[249.00] - accion [Llega al recinto].\n",
      "Persona:[persona_62] - hora:[249.00] - accion [Llego a la mesa].\n",
      "Persona:[persona_62] - hora:[249.00] - accion [Entra al proceso de examen].\n",
      "Persona:[persona_56] - hora:[250.00] - accion [Vacunacion correcta].\n",
      "Persona:[persona_57] - hora:[250.00] - accion [Se tomaron los datos].\n",
      "Persona:[persona_57] - hora:[250.00] - accion [Llegó a la vacunacion].\n",
      "Persona:[persona_58] - hora:[251.00] - accion [Paso el proceso de revisión].\n",
      "Persona:[persona_58] - hora:[251.00] - accion [Entra al proceso de toma de datos].\n",
      "Persona:[persona_55] - hora:[252.00] - accion [Vacunacion correcta].\n",
      "Persona:[persona_56] - hora:[252.00] - accion [Se entrega el certicado, la siguiente cita es ].\n",
      "Persona:[persona_56] - hora:[252.00] - accion [Sale del recinto].\n",
      "Persona:[persona_63] - hora:[253.00] - accion [Llega al recinto].\n",
      "Persona:[persona_63] - hora:[253.00] - accion [Llego a la mesa].\n",
      "Persona:[persona_63] - hora:[253.00] - accion [Entra al proceso de examen].\n",
      "Persona:[persona_58] - hora:[253.00] - accion [Se tomaron los datos].\n",
      "Persona:[persona_55] - hora:[253.00] - accion [Se entrega el certicado, la siguiente cita es ].\n",
      "Persona:[persona_55] - hora:[253.00] - accion [Sale del recinto].\n",
      "Persona:[persona_58] - hora:[253.00] - accion [Llegó a la vacunacion].\n",
      "Persona:[persona_57] - hora:[255.00] - accion [Vacunacion correcta].\n",
      "Persona:[persona_59] - hora:[256.00] - accion [Paso el proceso de revisión].\n",
      "Persona:[persona_59] - hora:[256.00] - accion [Entra al proceso de toma de datos].\n",
      "Persona:[persona_64] - hora:[257.00] - accion [Llega al recinto].\n",
      "Persona:[persona_64] - hora:[257.00] - accion [Llego a la mesa].\n",
      "Persona:[persona_64] - hora:[257.00] - accion [Entra al proceso de examen].\n",
      "Persona:[persona_57] - hora:[257.00] - accion [Se entrega el certicado, la siguiente cita es ].\n",
      "Persona:[persona_57] - hora:[257.00] - accion [Sale del recinto].\n",
      "Persona:[persona_59] - hora:[258.00] - accion [Se tomaron los datos].\n",
      "Persona:[persona_59] - hora:[258.00] - accion [Llegó a la vacunacion].\n",
      "Persona:[persona_60] - hora:[260.00] - accion [Paso el proceso de revisión].\n",
      "Persona:[persona_60] - hora:[260.00] - accion [Entra al proceso de toma de datos].\n",
      "Persona:[persona_65] - hora:[262.00] - accion [Llega al recinto].\n",
      "Persona:[persona_58] - hora:[262.00] - accion [Vacunacion correcta].\n",
      "Persona:[persona_65] - hora:[262.00] - accion [Llego a la mesa].\n",
      "Persona:[persona_65] - hora:[262.00] - accion [Entra al proceso de examen].\n",
      "Persona:[persona_60] - hora:[262.00] - accion [Se tomaron los datos].\n",
      "Persona:[persona_60] - hora:[262.00] - accion [Llegó a la vacunacion].\n",
      "Persona:[persona_58] - hora:[263.00] - accion [Se entrega el certicado, la siguiente cita es ].\n",
      "Persona:[persona_58] - hora:[263.00] - accion [Sale del recinto].\n",
      "Persona:[persona_61] - hora:[265.00] - accion [Paso el proceso de revisión].\n",
      "Persona:[persona_61] - hora:[265.00] - accion [Entra al proceso de toma de datos].\n",
      "Persona:[persona_66] - hora:[266.00] - accion [Llega al recinto].\n",
      "Persona:[persona_59] - hora:[266.00] - accion [Vacunacion correcta].\n",
      "Persona:[persona_66] - hora:[266.00] - accion [Llego a la mesa].\n",
      "Persona:[persona_66] - hora:[266.00] - accion [Entra al proceso de examen].\n",
      "Persona:[persona_59] - hora:[267.00] - accion [Se entrega el certicado, la siguiente cita es ].\n",
      "Persona:[persona_59] - hora:[267.00] - accion [Sale del recinto].\n",
      "Persona:[persona_61] - hora:[268.00] - accion [Se tomaron los datos].\n",
      "Persona:[persona_61] - hora:[268.00] - accion [Llegó a la vacunacion].\n",
      "Persona:[persona_62] - hora:[269.00] - accion [Paso el proceso de revisión].\n",
      "Persona:[persona_62] - hora:[269.00] - accion [Entra al proceso de toma de datos].\n",
      "Persona:[persona_67] - hora:[271.00] - accion [Llega al recinto].\n",
      "Persona:[persona_67] - hora:[271.00] - accion [Llego a la mesa].\n",
      "Persona:[persona_67] - hora:[271.00] - accion [Entra al proceso de examen].\n",
      "Persona:[persona_60] - hora:[272.00] - accion [Vacunacion correcta].\n",
      "Persona:[persona_62] - hora:[272.00] - accion [Se tomaron los datos].\n",
      "Persona:[persona_62] - hora:[272.00] - accion [Llegó a la vacunacion].\n",
      "Persona:[persona_63] - hora:[273.00] - accion [No pasó el proceso de vacunacion, Proxima fecha 2021/06/07].\n",
      "Persona:[persona_63] - hora:[273.00] - accion [Sale del recinto].\n",
      "Persona:[persona_60] - hora:[274.00] - accion [Se entrega el certicado, la siguiente cita es ].\n",
      "Persona:[persona_60] - hora:[274.00] - accion [Sale del recinto].\n",
      "Persona:[persona_61] - hora:[275.00] - accion [Vacunacion correcta].\n",
      "Persona:[persona_68] - hora:[276.00] - accion [Llega al recinto].\n",
      "Persona:[persona_68] - hora:[276.00] - accion [Llego a la mesa].\n",
      "Persona:[persona_68] - hora:[276.00] - accion [Entra al proceso de examen].\n",
      "Persona:[persona_64] - hora:[277.00] - accion [Paso el proceso de revisión].\n",
      "Persona:[persona_64] - hora:[277.00] - accion [Entra al proceso de toma de datos].\n",
      "Persona:[persona_61] - hora:[277.00] - accion [Se entrega el certicado, la siguiente cita es ].\n",
      "Persona:[persona_61] - hora:[277.00] - accion [Sale del recinto].\n",
      "Persona:[persona_62] - hora:[279.00] - accion [Vacunacion correcta].\n",
      "Persona:[persona_64] - hora:[279.00] - accion [Se tomaron los datos].\n",
      "Persona:[persona_64] - hora:[279.00] - accion [Llegó a la vacunacion].\n",
      "Persona:[persona_62] - hora:[280.00] - accion [Se entrega el certicado, la siguiente cita es ].\n",
      "Persona:[persona_62] - hora:[280.00] - accion [Sale del recinto].\n",
      "Persona:[persona_69] - hora:[281.00] - accion [Llega al recinto].\n",
      "Persona:[persona_69] - hora:[281.00] - accion [Llego a la mesa].\n",
      "Persona:[persona_69] - hora:[281.00] - accion [Entra al proceso de examen].\n",
      "Persona:[persona_65] - hora:[282.00] - accion [Paso el proceso de revisión].\n",
      "Persona:[persona_65] - hora:[282.00] - accion [Entra al proceso de toma de datos].\n",
      "Persona:[persona_70] - hora:[286.00] - accion [Llega al recinto].\n",
      "Persona:[persona_66] - hora:[286.00] - accion [Paso el proceso de revisión].\n",
      "Persona:[persona_66] - hora:[286.00] - accion [Entra al proceso de toma de datos].\n",
      "Persona:[persona_70] - hora:[286.00] - accion [Llego a la mesa].\n",
      "Persona:[persona_70] - hora:[286.00] - accion [Entra al proceso de examen].\n",
      "Persona:[persona_65] - hora:[286.00] - accion [Se tomaron los datos].\n",
      "Persona:[persona_65] - hora:[286.00] - accion [Llegó a la vacunacion].\n",
      "Persona:[persona_64] - hora:[287.00] - accion [Vacunacion correcta].\n",
      "Persona:[persona_66] - hora:[288.00] - accion [Se tomaron los datos].\n",
      "Persona:[persona_66] - hora:[288.00] - accion [Llegó a la vacunacion].\n",
      "Persona:[persona_64] - hora:[289.00] - accion [Se entrega el certicado, la siguiente cita es ].\n",
      "Persona:[persona_64] - hora:[289.00] - accion [Sale del recinto].\n",
      "Persona:[persona_71] - hora:[290.00] - accion [Llega al recinto].\n",
      "Persona:[persona_71] - hora:[290.00] - accion [Llego a la mesa].\n",
      "Persona:[persona_71] - hora:[290.00] - accion [Entra al proceso de examen].\n",
      "Persona:[persona_67] - hora:[291.00] - accion [Paso el proceso de revisión].\n",
      "Persona:[persona_67] - hora:[291.00] - accion [Entra al proceso de toma de datos].\n",
      "Persona:[persona_67] - hora:[293.00] - accion [Se tomaron los datos].\n",
      "Persona:[persona_67] - hora:[293.00] - accion [Llegó a la vacunacion].\n",
      "Persona:[persona_72] - hora:[294.00] - accion [Llega al recinto].\n",
      "Persona:[persona_72] - hora:[294.00] - accion [Llego a la mesa].\n",
      "Persona:[persona_72] - hora:[294.00] - accion [Entra al proceso de examen].\n",
      "Persona:[persona_65] - hora:[295.00] - accion [Vacunacion correcta].\n",
      "Persona:[persona_68] - hora:[296.00] - accion [Paso el proceso de revisión].\n",
      "Persona:[persona_68] - hora:[296.00] - accion [Entra al proceso de toma de datos].\n",
      "Persona:[persona_66] - hora:[297.00] - accion [Vacunacion correcta].\n",
      "Persona:[persona_65] - hora:[298.00] - accion [Se entrega el certicado, la siguiente cita es ].\n",
      "Persona:[persona_65] - hora:[298.00] - accion [Sale del recinto].\n",
      "Persona:[persona_73] - hora:[299.00] - accion [Llega al recinto].\n",
      "Persona:[persona_73] - hora:[299.00] - accion [Llego a la mesa].\n",
      "Persona:[persona_73] - hora:[299.00] - accion [Entra al proceso de examen].\n",
      "Persona:[persona_68] - hora:[300.00] - accion [Se tomaron los datos].\n",
      "Persona:[persona_66] - hora:[300.00] - accion [Se entrega el certicado, la siguiente cita es ].\n",
      "Persona:[persona_66] - hora:[300.00] - accion [Sale del recinto].\n",
      "Persona:[persona_68] - hora:[300.00] - accion [Llegó a la vacunacion].\n",
      "Persona:[persona_69] - hora:[301.00] - accion [Paso el proceso de revisión].\n",
      "Persona:[persona_69] - hora:[301.00] - accion [Entra al proceso de toma de datos].\n",
      "Persona:[persona_67] - hora:[302.00] - accion [Vacunacion correcta].\n",
      "Persona:[persona_74] - hora:[303.00] - accion [Llega al recinto].\n",
      "Persona:[persona_74] - hora:[303.00] - accion [Llego a la mesa].\n",
      "Persona:[persona_74] - hora:[303.00] - accion [Entra al proceso de examen].\n",
      "Persona:[persona_67] - hora:[303.00] - accion [Se entrega el certicado, la siguiente cita es ].\n",
      "Persona:[persona_67] - hora:[303.00] - accion [Sale del recinto].\n",
      "Persona:[persona_69] - hora:[304.00] - accion [Se tomaron los datos].\n",
      "Persona:[persona_69] - hora:[304.00] - accion [Llegó a la vacunacion].\n",
      "Persona:[persona_70] - hora:[306.00] - accion [Paso el proceso de revisión].\n",
      "Persona:[persona_70] - hora:[306.00] - accion [Entra al proceso de toma de datos].\n",
      "Persona:[persona_68] - hora:[307.00] - accion [Vacunacion correcta].\n",
      "Persona:[persona_75] - hora:[308.00] - accion [Llega al recinto].\n",
      "Persona:[persona_75] - hora:[308.00] - accion [Llego a la mesa].\n",
      "Persona:[persona_75] - hora:[308.00] - accion [Entra al proceso de examen].\n",
      "Persona:[persona_70] - hora:[308.00] - accion [Se tomaron los datos].\n",
      "Persona:[persona_70] - hora:[308.00] - accion [Llegó a la vacunacion].\n",
      "Persona:[persona_68] - hora:[309.00] - accion [Se entrega el certicado, la siguiente cita es ].\n",
      "Persona:[persona_68] - hora:[309.00] - accion [Sale del recinto].\n",
      "Persona:[persona_71] - hora:[310.00] - accion [Paso el proceso de revisión].\n",
      "Persona:[persona_71] - hora:[310.00] - accion [Entra al proceso de toma de datos].\n",
      "Persona:[persona_69] - hora:[312.00] - accion [Vacunacion correcta].\n",
      "Persona:[persona_71] - hora:[312.00] - accion [Se tomaron los datos].\n",
      "Persona:[persona_71] - hora:[312.00] - accion [Llegó a la vacunacion].\n",
      "Persona:[persona_76] - hora:[313.00] - accion [Llega al recinto].\n",
      "Persona:[persona_76] - hora:[313.00] - accion [Llego a la mesa].\n",
      "Persona:[persona_76] - hora:[313.00] - accion [Entra al proceso de examen].\n",
      "Persona:[persona_72] - hora:[314.00] - accion [Paso el proceso de revisión].\n",
      "Persona:[persona_72] - hora:[314.00] - accion [Entra al proceso de toma de datos].\n",
      "Persona:[persona_69] - hora:[315.00] - accion [Se entrega el certicado, la siguiente cita es ].\n",
      "Persona:[persona_69] - hora:[315.00] - accion [Sale del recinto].\n",
      "Persona:[persona_77] - hora:[317.00] - accion [Llega al recinto].\n",
      "Persona:[persona_77] - hora:[317.00] - accion [Llego a la mesa].\n",
      "Persona:[persona_77] - hora:[317.00] - accion [Entra al proceso de examen].\n",
      "Persona:[persona_72] - hora:[317.00] - accion [Se tomaron los datos].\n",
      "Persona:[persona_72] - hora:[317.00] - accion [Llegó a la vacunacion].\n",
      "Persona:[persona_70] - hora:[318.00] - accion [Vacunacion correcta].\n",
      "Persona:[persona_73] - hora:[319.00] - accion [Paso el proceso de revisión].\n",
      "Persona:[persona_73] - hora:[319.00] - accion [Entra al proceso de toma de datos].\n",
      "Persona:[persona_78] - hora:[321.00] - accion [Llega al recinto].\n",
      "Persona:[persona_78] - hora:[321.00] - accion [Llego a la mesa].\n",
      "Persona:[persona_78] - hora:[321.00] - accion [Entra al proceso de examen].\n",
      "Persona:[persona_70] - hora:[321.00] - accion [Se entrega el certicado, la siguiente cita es ].\n",
      "Persona:[persona_70] - hora:[321.00] - accion [Sale del recinto].\n",
      "Persona:[persona_71] - hora:[322.00] - accion [Vacunacion correcta].\n",
      "Persona:[persona_73] - hora:[322.00] - accion [Se tomaron los datos].\n",
      "Persona:[persona_73] - hora:[322.00] - accion [Llegó a la vacunacion].\n",
      "Persona:[persona_74] - hora:[323.00] - accion [Paso el proceso de revisión].\n",
      "Persona:[persona_74] - hora:[323.00] - accion [Entra al proceso de toma de datos].\n",
      "Persona:[persona_72] - hora:[324.00] - accion [Vacunacion correcta].\n",
      "Persona:[persona_71] - hora:[325.00] - accion [Se entrega el certicado, la siguiente cita es ].\n",
      "Persona:[persona_71] - hora:[325.00] - accion [Sale del recinto].\n",
      "Persona:[persona_72] - hora:[325.00] - accion [Se entrega el certicado, la siguiente cita es ].\n",
      "Persona:[persona_72] - hora:[325.00] - accion [Sale del recinto].\n",
      "Persona:[persona_79] - hora:[326.00] - accion [Llega al recinto].\n",
      "Persona:[persona_79] - hora:[326.00] - accion [Llego a la mesa].\n",
      "Persona:[persona_79] - hora:[326.00] - accion [Entra al proceso de examen].\n",
      "Persona:[persona_74] - hora:[326.00] - accion [Se tomaron los datos].\n",
      "Persona:[persona_74] - hora:[326.00] - accion [Llegó a la vacunacion].\n",
      "Persona:[persona_73] - hora:[327.00] - accion [Vacunacion correcta].\n",
      "Persona:[persona_75] - hora:[328.00] - accion [Paso el proceso de revisión].\n",
      "Persona:[persona_75] - hora:[328.00] - accion [Entra al proceso de toma de datos].\n",
      "Persona:[persona_73] - hora:[329.00] - accion [Se entrega el certicado, la siguiente cita es ].\n",
      "Persona:[persona_73] - hora:[329.00] - accion [Sale del recinto].\n",
      "Persona:[persona_75] - hora:[330.00] - accion [Se tomaron los datos].\n",
      "Persona:[persona_75] - hora:[330.00] - accion [Llegó a la vacunacion].\n",
      "Persona:[persona_80] - hora:[331.00] - accion [Llega al recinto].\n",
      "Persona:[persona_80] - hora:[331.00] - accion [Llego a la mesa].\n",
      "Persona:[persona_80] - hora:[331.00] - accion [Entra al proceso de examen].\n",
      "Persona:[persona_74] - hora:[331.00] - accion [Vacunacion correcta].\n",
      "Persona:[persona_76] - hora:[333.00] - accion [Paso el proceso de revisión].\n",
      "Persona:[persona_76] - hora:[333.00] - accion [Entra al proceso de toma de datos].\n",
      "Persona:[persona_74] - hora:[333.00] - accion [Se entrega el certicado, la siguiente cita es ].\n",
      "Persona:[persona_74] - hora:[333.00] - accion [Sale del recinto].\n",
      "Persona:[persona_76] - hora:[335.00] - accion [Se tomaron los datos].\n",
      "Persona:[persona_76] - hora:[335.00] - accion [Llegó a la vacunacion].\n",
      "Persona:[persona_81] - hora:[336.00] - accion [Llega al recinto].\n",
      "Persona:[persona_81] - hora:[336.00] - accion [Llego a la mesa].\n",
      "Persona:[persona_81] - hora:[336.00] - accion [Entra al proceso de examen].\n",
      "Persona:[persona_77] - hora:[337.00] - accion [Paso el proceso de revisión].\n",
      "Persona:[persona_77] - hora:[337.00] - accion [Entra al proceso de toma de datos].\n",
      "Persona:[persona_75] - hora:[338.00] - accion [Vacunacion correcta].\n",
      "Persona:[persona_75] - hora:[339.00] - accion [Se entrega el certicado, la siguiente cita es ].\n",
      "Persona:[persona_75] - hora:[339.00] - accion [Sale del recinto].\n",
      "Persona:[persona_77] - hora:[340.00] - accion [Se tomaron los datos].\n",
      "Persona:[persona_77] - hora:[340.00] - accion [Llegó a la vacunacion].\n",
      "Persona:[persona_82] - hora:[341.00] - accion [Llega al recinto].\n",
      "Persona:[persona_78] - hora:[341.00] - accion [Paso el proceso de revisión].\n",
      "Persona:[persona_78] - hora:[341.00] - accion [Entra al proceso de toma de datos].\n",
      "Persona:[persona_82] - hora:[341.00] - accion [Llego a la mesa].\n",
      "Persona:[persona_82] - hora:[341.00] - accion [Entra al proceso de examen].\n",
      "Persona:[persona_76] - hora:[342.00] - accion [Vacunacion correcta].\n",
      "Persona:[persona_78] - hora:[344.00] - accion [Se tomaron los datos].\n",
      "Persona:[persona_76] - hora:[344.00] - accion [Se entrega el certicado, la siguiente cita es ].\n",
      "Persona:[persona_76] - hora:[344.00] - accion [Sale del recinto].\n",
      "Persona:[persona_78] - hora:[344.00] - accion [Llegó a la vacunacion].\n",
      "Persona:[persona_83] - hora:[346.00] - accion [Llega al recinto].\n",
      "Persona:[persona_79] - hora:[346.00] - accion [Paso el proceso de revisión].\n",
      "Persona:[persona_79] - hora:[346.00] - accion [Entra al proceso de toma de datos].\n",
      "Persona:[persona_83] - hora:[346.00] - accion [Llego a la mesa].\n",
      "Persona:[persona_83] - hora:[346.00] - accion [Entra al proceso de examen].\n",
      "Persona:[persona_77] - hora:[347.00] - accion [Vacunacion correcta].\n",
      "Persona:[persona_79] - hora:[350.00] - accion [Se tomaron los datos].\n",
      "Persona:[persona_77] - hora:[350.00] - accion [Se entrega el certicado, la siguiente cita es ].\n",
      "Persona:[persona_77] - hora:[350.00] - accion [Sale del recinto].\n",
      "Persona:[persona_79] - hora:[350.00] - accion [Llegó a la vacunacion].\n",
      "Persona:[persona_84] - hora:[351.00] - accion [Llega al recinto].\n",
      "Persona:[persona_80] - hora:[351.00] - accion [Paso el proceso de revisión].\n",
      "Persona:[persona_80] - hora:[351.00] - accion [Entra al proceso de toma de datos].\n",
      "Persona:[persona_84] - hora:[351.00] - accion [Llego a la mesa].\n",
      "Persona:[persona_84] - hora:[351.00] - accion [Entra al proceso de examen].\n",
      "Persona:[persona_78] - hora:[352.00] - accion [Vacunacion correcta].\n",
      "Persona:[persona_80] - hora:[353.00] - accion [Se tomaron los datos].\n",
      "Persona:[persona_78] - hora:[353.00] - accion [Se entrega el certicado, la siguiente cita es ].\n",
      "Persona:[persona_78] - hora:[353.00] - accion [Sale del recinto].\n",
      "Persona:[persona_80] - hora:[353.00] - accion [Llegó a la vacunacion].\n",
      "Persona:[persona_85] - hora:[356.00] - accion [Llega al recinto].\n",
      "Persona:[persona_81] - hora:[356.00] - accion [Paso el proceso de revisión].\n",
      "Persona:[persona_81] - hora:[356.00] - accion [Entra al proceso de toma de datos].\n",
      "Persona:[persona_85] - hora:[356.00] - accion [Llego a la mesa].\n",
      "Persona:[persona_85] - hora:[356.00] - accion [Entra al proceso de examen].\n",
      "Persona:[persona_80] - hora:[358.00] - accion [Vacunacion correcta].\n",
      "Persona:[persona_81] - hora:[359.00] - accion [Se tomaron los datos].\n",
      "Persona:[persona_80] - hora:[359.00] - accion [Se entrega el certicado, la siguiente cita es ].\n",
      "Persona:[persona_80] - hora:[359.00] - accion [Sale del recinto].\n",
      "Persona:[persona_81] - hora:[359.00] - accion [Llegó a la vacunacion].\n",
      "Persona:[persona_79] - hora:[360.00] - accion [Vacunacion correcta].\n",
      "Persona:[persona_86] - hora:[361.00] - accion [Llega al recinto].\n",
      "Persona:[persona_82] - hora:[361.00] - accion [Paso el proceso de revisión].\n",
      "Persona:[persona_82] - hora:[361.00] - accion [Entra al proceso de toma de datos].\n",
      "Persona:[persona_86] - hora:[361.00] - accion [Llego a la mesa].\n",
      "Persona:[persona_86] - hora:[361.00] - accion [Entra al proceso de examen].\n",
      "Persona:[persona_79] - hora:[363.00] - accion [Se entrega el certicado, la siguiente cita es ].\n",
      "Persona:[persona_79] - hora:[363.00] - accion [Sale del recinto].\n",
      "Persona:[persona_82] - hora:[363.00] - accion [Se tomaron los datos].\n",
      "Persona:[persona_82] - hora:[363.00] - accion [Llegó a la vacunacion].\n",
      "Persona:[persona_81] - hora:[364.00] - accion [Vacunacion correcta].\n",
      "Persona:[persona_81] - hora:[365.00] - accion [Se entrega el certicado, la siguiente cita es ].\n",
      "Persona:[persona_81] - hora:[365.00] - accion [Sale del recinto].\n",
      "Persona:[persona_87] - hora:[366.00] - accion [Llega al recinto].\n",
      "Persona:[persona_83] - hora:[366.00] - accion [Paso el proceso de revisión].\n",
      "Persona:[persona_83] - hora:[366.00] - accion [Entra al proceso de toma de datos].\n",
      "Persona:[persona_87] - hora:[366.00] - accion [Llego a la mesa].\n",
      "Persona:[persona_87] - hora:[366.00] - accion [Entra al proceso de examen].\n",
      "Persona:[persona_82] - hora:[368.00] - accion [Vacunacion correcta].\n",
      "Persona:[persona_83] - hora:[370.00] - accion [Se tomaron los datos].\n",
      "Persona:[persona_82] - hora:[370.00] - accion [Se entrega el certicado, la siguiente cita es ].\n",
      "Persona:[persona_82] - hora:[370.00] - accion [Sale del recinto].\n",
      "Persona:[persona_83] - hora:[370.00] - accion [Llegó a la vacunacion].\n",
      "Persona:[persona_88] - hora:[371.00] - accion [Llega al recinto].\n",
      "Persona:[persona_84] - hora:[371.00] - accion [Paso el proceso de revisión].\n",
      "Persona:[persona_84] - hora:[371.00] - accion [Entra al proceso de toma de datos].\n",
      "Persona:[persona_88] - hora:[371.00] - accion [Llego a la mesa].\n",
      "Persona:[persona_88] - hora:[371.00] - accion [Entra al proceso de examen].\n",
      "Persona:[persona_84] - hora:[373.00] - accion [Se tomaron los datos].\n",
      "Persona:[persona_84] - hora:[373.00] - accion [Llegó a la vacunacion].\n",
      "Persona:[persona_89] - hora:[376.00] - accion [Llega al recinto].\n",
      "Persona:[persona_85] - hora:[376.00] - accion [No pasó el proceso de vacunacion, Proxima fecha 2021/06/06].\n",
      "Persona:[persona_85] - hora:[376.00] - accion [Sale del recinto].\n",
      "Persona:[persona_89] - hora:[376.00] - accion [Llego a la mesa].\n",
      "Persona:[persona_89] - hora:[376.00] - accion [Entra al proceso de examen].\n",
      "Persona:[persona_84] - hora:[378.00] - accion [Vacunacion correcta].\n",
      "Persona:[persona_83] - hora:[380.00] - accion [Vacunacion correcta].\n",
      "Persona:[persona_90] - hora:[381.00] - accion [Llega al recinto].\n",
      "Persona:[persona_86] - hora:[381.00] - accion [Paso el proceso de revisión].\n",
      "Persona:[persona_86] - hora:[381.00] - accion [Entra al proceso de toma de datos].\n",
      "Persona:[persona_90] - hora:[381.00] - accion [Llego a la mesa].\n",
      "Persona:[persona_90] - hora:[381.00] - accion [Entra al proceso de examen].\n",
      "Persona:[persona_84] - hora:[381.00] - accion [Se entrega el certicado, la siguiente cita es ].\n",
      "Persona:[persona_84] - hora:[381.00] - accion [Sale del recinto].\n",
      "Persona:[persona_83] - hora:[383.00] - accion [Se entrega el certicado, la siguiente cita es ].\n",
      "Persona:[persona_83] - hora:[383.00] - accion [Sale del recinto].\n",
      "Persona:[persona_86] - hora:[384.00] - accion [Se tomaron los datos].\n",
      "Persona:[persona_86] - hora:[384.00] - accion [Llegó a la vacunacion].\n",
      "Persona:[persona_91] - hora:[385.00] - accion [Llega al recinto].\n",
      "Persona:[persona_91] - hora:[385.00] - accion [Llego a la mesa].\n",
      "Persona:[persona_91] - hora:[385.00] - accion [Entra al proceso de examen].\n",
      "Persona:[persona_87] - hora:[386.00] - accion [Paso el proceso de revisión].\n",
      "Persona:[persona_87] - hora:[386.00] - accion [Entra al proceso de toma de datos].\n",
      "Persona:[persona_87] - hora:[388.00] - accion [Se tomaron los datos].\n",
      "Persona:[persona_87] - hora:[388.00] - accion [No se realizo la vacunacion, Proxima fecha 2021/06/05].\n",
      "Persona:[persona_87] - hora:[388.00] - accion [Sale del recinto].\n",
      "Persona:[persona_92] - hora:[389.00] - accion [Llega al recinto].\n",
      "Persona:[persona_86] - hora:[389.00] - accion [Vacunacion correcta].\n",
      "Persona:[persona_92] - hora:[389.00] - accion [Llego a la mesa].\n",
      "Persona:[persona_92] - hora:[389.00] - accion [Entra al proceso de examen].\n",
      "Persona:[persona_88] - hora:[391.00] - accion [Paso el proceso de revisión].\n",
      "Persona:[persona_88] - hora:[391.00] - accion [Entra al proceso de toma de datos].\n",
      "Persona:[persona_86] - hora:[391.00] - accion [Se entrega el certicado, la siguiente cita es ].\n",
      "Persona:[persona_86] - hora:[391.00] - accion [Sale del recinto].\n",
      "Persona:[persona_93] - hora:[393.00] - accion [Llega al recinto].\n",
      "Persona:[persona_93] - hora:[393.00] - accion [Llego a la mesa].\n",
      "Persona:[persona_93] - hora:[393.00] - accion [Entra al proceso de examen].\n",
      "Persona:[persona_88] - hora:[394.00] - accion [Se tomaron los datos].\n",
      "Persona:[persona_88] - hora:[394.00] - accion [No se realizo la vacunacion, Proxima fecha 2021/06/08].\n",
      "Persona:[persona_88] - hora:[394.00] - accion [Sale del recinto].\n",
      "Persona:[persona_89] - hora:[396.00] - accion [Paso el proceso de revisión].\n",
      "Persona:[persona_89] - hora:[396.00] - accion [Entra al proceso de toma de datos].\n",
      "Persona:[persona_94] - hora:[398.00] - accion [Llega al recinto].\n",
      "Persona:[persona_94] - hora:[398.00] - accion [Llego a la mesa].\n",
      "Persona:[persona_94] - hora:[398.00] - accion [Entra al proceso de examen].\n",
      "Persona:[persona_89] - hora:[400.00] - accion [Se tomaron los datos].\n",
      "Persona:[persona_89] - hora:[400.00] - accion [No se realizo la vacunacion, Proxima fecha 2021/06/08].\n",
      "Persona:[persona_89] - hora:[400.00] - accion [Sale del recinto].\n",
      "Persona:[persona_90] - hora:[401.00] - accion [Paso el proceso de revisión].\n",
      "Persona:[persona_90] - hora:[401.00] - accion [Entra al proceso de toma de datos].\n",
      "Persona:[persona_95] - hora:[402.00] - accion [Llega al recinto].\n",
      "Persona:[persona_95] - hora:[402.00] - accion [Llego a la mesa].\n",
      "Persona:[persona_95] - hora:[402.00] - accion [Entra al proceso de examen].\n",
      "Persona:[persona_90] - hora:[403.00] - accion [Se tomaron los datos].\n",
      "Persona:[persona_90] - hora:[403.00] - accion [No se realizo la vacunacion, Proxima fecha 2021/06/07].\n",
      "Persona:[persona_90] - hora:[403.00] - accion [Sale del recinto].\n",
      "Persona:[persona_91] - hora:[405.00] - accion [No pasó el proceso de vacunacion, Proxima fecha 2021/06/05].\n",
      "Persona:[persona_91] - hora:[405.00] - accion [Sale del recinto].\n",
      "Persona:[persona_96] - hora:[407.00] - accion [Llega al recinto].\n",
      "Persona:[persona_96] - hora:[407.00] - accion [Llego a la mesa].\n",
      "Persona:[persona_96] - hora:[407.00] - accion [Entra al proceso de examen].\n",
      "Persona:[persona_92] - hora:[409.00] - accion [No pasó el proceso de vacunacion, Proxima fecha 2021/06/05].\n",
      "Persona:[persona_92] - hora:[409.00] - accion [Sale del recinto].\n",
      "Persona:[persona_97] - hora:[411.00] - accion [Llega al recinto].\n",
      "Persona:[persona_97] - hora:[411.00] - accion [Llego a la mesa].\n",
      "Persona:[persona_97] - hora:[411.00] - accion [Entra al proceso de examen].\n",
      "Persona:[persona_93] - hora:[413.00] - accion [Paso el proceso de revisión].\n",
      "Persona:[persona_93] - hora:[413.00] - accion [Entra al proceso de toma de datos].\n",
      "Persona:[persona_98] - hora:[415.00] - accion [Llega al recinto].\n",
      "Persona:[persona_98] - hora:[415.00] - accion [Llego a la mesa].\n",
      "Persona:[persona_98] - hora:[415.00] - accion [Entra al proceso de examen].\n",
      "Persona:[persona_93] - hora:[417.00] - accion [Se tomaron los datos].\n",
      "Persona:[persona_93] - hora:[417.00] - accion [No se realizo la vacunacion, Proxima fecha 2021/06/06].\n",
      "Persona:[persona_93] - hora:[417.00] - accion [Sale del recinto].\n",
      "Persona:[persona_94] - hora:[418.00] - accion [Paso el proceso de revisión].\n",
      "Persona:[persona_94] - hora:[418.00] - accion [Entra al proceso de toma de datos].\n",
      "Persona:[persona_99] - hora:[420.00] - accion [Llega al recinto].\n",
      "Persona:[persona_99] - hora:[420.00] - accion [Llego a la mesa].\n",
      "Persona:[persona_99] - hora:[420.00] - accion [Entra al proceso de examen].\n",
      "Persona:[persona_94] - hora:[421.00] - accion [Se tomaron los datos].\n",
      "Persona:[persona_94] - hora:[421.00] - accion [No se realizo la vacunacion, Proxima fecha 2021/06/08].\n",
      "Persona:[persona_94] - hora:[421.00] - accion [Sale del recinto].\n",
      "Persona:[persona_95] - hora:[422.00] - accion [Paso el proceso de revisión].\n",
      "Persona:[persona_95] - hora:[422.00] - accion [Entra al proceso de toma de datos].\n",
      "Persona:[persona_100] - hora:[425.00] - accion [Llega al recinto].\n",
      "Persona:[persona_100] - hora:[425.00] - accion [Llego a la mesa].\n",
      "Persona:[persona_100] - hora:[425.00] - accion [Entra al proceso de examen].\n",
      "Persona:[persona_95] - hora:[425.00] - accion [Se tomaron los datos].\n",
      "Persona:[persona_95] - hora:[425.00] - accion [No se realizo la vacunacion, Proxima fecha 2021/06/08].\n",
      "Persona:[persona_95] - hora:[425.00] - accion [Sale del recinto].\n",
      "Persona:[persona_96] - hora:[427.00] - accion [Paso el proceso de revisión].\n",
      "Persona:[persona_96] - hora:[427.00] - accion [Entra al proceso de toma de datos].\n",
      "Persona:[persona_101] - hora:[429.00] - accion [Llega al recinto].\n",
      "Persona:[persona_101] - hora:[429.00] - accion [Llego a la mesa].\n",
      "Persona:[persona_101] - hora:[429.00] - accion [Entra al proceso de examen].\n",
      "Persona:[persona_96] - hora:[429.00] - accion [Se tomaron los datos].\n",
      "Persona:[persona_96] - hora:[429.00] - accion [No se realizo la vacunacion, Proxima fecha 2021/06/07].\n",
      "Persona:[persona_96] - hora:[429.00] - accion [Sale del recinto].\n",
      "Persona:[persona_97] - hora:[431.00] - accion [Paso el proceso de revisión].\n",
      "Persona:[persona_97] - hora:[431.00] - accion [Entra al proceso de toma de datos].\n",
      "Persona:[persona_97] - hora:[433.00] - accion [Se tomaron los datos].\n",
      "Persona:[persona_97] - hora:[433.00] - accion [No se realizo la vacunacion, Proxima fecha 2021/06/05].\n",
      "Persona:[persona_97] - hora:[433.00] - accion [Sale del recinto].\n",
      "Persona:[persona_102] - hora:[434.00] - accion [Llega al recinto].\n",
      "Persona:[persona_102] - hora:[434.00] - accion [Llego a la mesa].\n",
      "Persona:[persona_102] - hora:[434.00] - accion [Entra al proceso de examen].\n",
      "Persona:[persona_98] - hora:[435.00] - accion [Paso el proceso de revisión].\n",
      "Persona:[persona_98] - hora:[435.00] - accion [Entra al proceso de toma de datos].\n",
      "Persona:[persona_98] - hora:[437.00] - accion [Se tomaron los datos].\n",
      "Persona:[persona_98] - hora:[437.00] - accion [No se realizo la vacunacion, Proxima fecha 2021/06/08].\n",
      "Persona:[persona_98] - hora:[437.00] - accion [Sale del recinto].\n",
      "Persona:[persona_103] - hora:[439.00] - accion [Llega al recinto].\n",
      "Persona:[persona_103] - hora:[439.00] - accion [Llego a la mesa].\n",
      "Persona:[persona_103] - hora:[439.00] - accion [Entra al proceso de examen].\n",
      "Persona:[persona_99] - hora:[440.00] - accion [Paso el proceso de revisión].\n",
      "Persona:[persona_99] - hora:[440.00] - accion [Entra al proceso de toma de datos].\n",
      "Persona:[persona_104] - hora:[444.00] - accion [Llega al recinto].\n",
      "Persona:[persona_104] - hora:[444.00] - accion [Llego a la mesa].\n",
      "Persona:[persona_104] - hora:[444.00] - accion [Entra al proceso de examen].\n",
      "Persona:[persona_99] - hora:[444.00] - accion [Se tomaron los datos].\n",
      "Persona:[persona_99] - hora:[444.00] - accion [No se realizo la vacunacion, Proxima fecha 2021/06/08].\n",
      "Persona:[persona_99] - hora:[444.00] - accion [Sale del recinto].\n",
      "Persona:[persona_100] - hora:[445.00] - accion [Paso el proceso de revisión].\n",
      "Persona:[persona_100] - hora:[445.00] - accion [Entra al proceso de toma de datos].\n",
      "Persona:[persona_105] - hora:[448.00] - accion [Llega al recinto].\n",
      "Persona:[persona_105] - hora:[448.00] - accion [Llego a la mesa].\n",
      "Persona:[persona_105] - hora:[448.00] - accion [Entra al proceso de examen].\n",
      "Persona:[persona_101] - hora:[449.00] - accion [Paso el proceso de revisión].\n",
      "Persona:[persona_101] - hora:[449.00] - accion [Entra al proceso de toma de datos].\n",
      "Persona:[persona_100] - hora:[449.00] - accion [Se tomaron los datos].\n",
      "Persona:[persona_100] - hora:[449.00] - accion [No se realizo la vacunacion, Proxima fecha 2021/06/06].\n",
      "Persona:[persona_100] - hora:[449.00] - accion [Sale del recinto].\n",
      "Persona:[persona_101] - hora:[451.00] - accion [Se tomaron los datos].\n",
      "Persona:[persona_101] - hora:[451.00] - accion [No se realizo la vacunacion, Proxima fecha 2021/06/08].\n",
      "Persona:[persona_101] - hora:[451.00] - accion [Sale del recinto].\n",
      "Persona:[persona_106] - hora:[453.00] - accion [Llega al recinto].\n",
      "Persona:[persona_106] - hora:[453.00] - accion [Llego a la mesa].\n",
      "Persona:[persona_106] - hora:[453.00] - accion [Entra al proceso de examen].\n",
      "Persona:[persona_102] - hora:[454.00] - accion [Paso el proceso de revisión].\n",
      "Persona:[persona_102] - hora:[454.00] - accion [Entra al proceso de toma de datos].\n",
      "Persona:[persona_102] - hora:[456.00] - accion [Se tomaron los datos].\n",
      "Persona:[persona_102] - hora:[456.00] - accion [No se realizo la vacunacion, Proxima fecha 2021/06/05].\n",
      "Persona:[persona_102] - hora:[456.00] - accion [Sale del recinto].\n",
      "Persona:[persona_107] - hora:[457.00] - accion [Llega al recinto].\n",
      "Persona:[persona_107] - hora:[457.00] - accion [Llego a la mesa].\n",
      "Persona:[persona_107] - hora:[457.00] - accion [Entra al proceso de examen].\n",
      "Persona:[persona_103] - hora:[459.00] - accion [Paso el proceso de revisión].\n",
      "Persona:[persona_103] - hora:[459.00] - accion [Entra al proceso de toma de datos].\n",
      "Persona:[persona_108] - hora:[461.00] - accion [Llega al recinto].\n",
      "Persona:[persona_108] - hora:[461.00] - accion [Llego a la mesa].\n",
      "Persona:[persona_108] - hora:[461.00] - accion [Entra al proceso de examen].\n",
      "Persona:[persona_103] - hora:[462.00] - accion [Se tomaron los datos].\n",
      "Persona:[persona_103] - hora:[462.00] - accion [No se realizo la vacunacion, Proxima fecha 2021/06/06].\n",
      "Persona:[persona_103] - hora:[462.00] - accion [Sale del recinto].\n",
      "Persona:[persona_104] - hora:[464.00] - accion [Paso el proceso de revisión].\n",
      "Persona:[persona_104] - hora:[464.00] - accion [Entra al proceso de toma de datos].\n",
      "Persona:[persona_109] - hora:[465.00] - accion [Llega al recinto].\n",
      "Persona:[persona_109] - hora:[465.00] - accion [Llego a la mesa].\n",
      "Persona:[persona_109] - hora:[465.00] - accion [Entra al proceso de examen].\n",
      "Persona:[persona_104] - hora:[466.00] - accion [Se tomaron los datos].\n",
      "Persona:[persona_104] - hora:[466.00] - accion [No se realizo la vacunacion, Proxima fecha 2021/06/05].\n",
      "Persona:[persona_104] - hora:[466.00] - accion [Sale del recinto].\n",
      "Persona:[persona_105] - hora:[468.00] - accion [Paso el proceso de revisión].\n",
      "Persona:[persona_105] - hora:[468.00] - accion [Entra al proceso de toma de datos].\n",
      "Persona:[persona_110] - hora:[470.00] - accion [Llega al recinto].\n",
      "Persona:[persona_110] - hora:[470.00] - accion [Llego a la mesa].\n",
      "Persona:[persona_110] - hora:[470.00] - accion [Entra al proceso de examen].\n",
      "Persona:[persona_105] - hora:[472.00] - accion [Se tomaron los datos].\n",
      "Persona:[persona_105] - hora:[472.00] - accion [No se realizo la vacunacion, Proxima fecha 2021/06/08].\n",
      "Persona:[persona_105] - hora:[472.00] - accion [Sale del recinto].\n",
      "Persona:[persona_106] - hora:[473.00] - accion [Paso el proceso de revisión].\n",
      "Persona:[persona_106] - hora:[473.00] - accion [Entra al proceso de toma de datos].\n",
      "Persona:[persona_111] - hora:[474.00] - accion [Llega al recinto].\n",
      "Persona:[persona_111] - hora:[474.00] - accion [Llego a la mesa].\n",
      "Persona:[persona_111] - hora:[474.00] - accion [Entra al proceso de examen].\n",
      "Persona:[persona_107] - hora:[477.00] - accion [Paso el proceso de revisión].\n",
      "Persona:[persona_107] - hora:[477.00] - accion [Entra al proceso de toma de datos].\n",
      "Persona:[persona_106] - hora:[477.00] - accion [Se tomaron los datos].\n",
      "Persona:[persona_106] - hora:[477.00] - accion [No se realizo la vacunacion, Proxima fecha 2021/06/07].\n",
      "Persona:[persona_106] - hora:[477.00] - accion [Sale del recinto].\n",
      "Persona:[persona_112] - hora:[479.00] - accion [Llega al recinto].\n",
      "Persona:[persona_112] - hora:[479.00] - accion [Llego a la mesa].\n",
      "Persona:[persona_112] - hora:[479.00] - accion [Entra al proceso de examen].\n",
      "Persona:[persona_107] - hora:[479.00] - accion [Se tomaron los datos].\n",
      "Persona:[persona_107] - hora:[479.00] - accion [No se realizo la vacunacion, Proxima fecha 2021/06/08].\n",
      "Persona:[persona_107] - hora:[479.00] - accion [Sale del recinto].\n",
      "Persona:[persona_108] - hora:[481.00] - accion [Paso el proceso de revisión].\n",
      "Persona:[persona_108] - hora:[481.00] - accion [Entra al proceso de toma de datos].\n",
      "Persona:[persona_113] - hora:[483.00] - accion [Llega al recinto].\n",
      "Persona:[persona_113] - hora:[483.00] - accion [Llego a la mesa].\n",
      "Persona:[persona_113] - hora:[483.00] - accion [Entra al proceso de examen].\n",
      "Persona:[persona_108] - hora:[484.00] - accion [Se tomaron los datos].\n",
      "Persona:[persona_108] - hora:[484.00] - accion [No se realizo la vacunacion, Proxima fecha 2021/06/07].\n",
      "Persona:[persona_108] - hora:[484.00] - accion [Sale del recinto].\n",
      "Persona:[persona_109] - hora:[485.00] - accion [No pasó el proceso de vacunacion, Proxima fecha 2021/06/07].\n",
      "Persona:[persona_109] - hora:[485.00] - accion [Sale del recinto].\n",
      "Persona:[persona_114] - hora:[488.00] - accion [Llega al recinto].\n",
      "Persona:[persona_114] - hora:[488.00] - accion [Llego a la mesa].\n",
      "Persona:[persona_114] - hora:[488.00] - accion [Entra al proceso de examen].\n",
      "Persona:[persona_110] - hora:[490.00] - accion [Paso el proceso de revisión].\n",
      "Persona:[persona_110] - hora:[490.00] - accion [Entra al proceso de toma de datos].\n",
      "Persona:[persona_110] - hora:[492.00] - accion [Se tomaron los datos].\n",
      "Persona:[persona_110] - hora:[492.00] - accion [No se realizo la vacunacion, Proxima fecha 2021/06/05].\n",
      "Persona:[persona_110] - hora:[492.00] - accion [Sale del recinto].\n",
      "Persona:[persona_115] - hora:[493.00] - accion [Llega al recinto].\n",
      "Persona:[persona_115] - hora:[493.00] - accion [Llego a la mesa].\n",
      "Persona:[persona_115] - hora:[493.00] - accion [Entra al proceso de examen].\n",
      "Persona:[persona_111] - hora:[494.00] - accion [Paso el proceso de revisión].\n",
      "Persona:[persona_111] - hora:[494.00] - accion [Entra al proceso de toma de datos].\n",
      "Persona:[persona_116] - hora:[497.00] - accion [Llega al recinto].\n",
      "Persona:[persona_116] - hora:[497.00] - accion [Llego a la mesa].\n",
      "Persona:[persona_116] - hora:[497.00] - accion [Entra al proceso de examen].\n",
      "Persona:[persona_111] - hora:[497.00] - accion [Se tomaron los datos].\n",
      "Persona:[persona_111] - hora:[497.00] - accion [No se realizo la vacunacion, Proxima fecha 2021/06/08].\n",
      "Persona:[persona_111] - hora:[497.00] - accion [Sale del recinto].\n",
      "Persona:[persona_112] - hora:[499.00] - accion [Paso el proceso de revisión].\n",
      "Persona:[persona_112] - hora:[499.00] - accion [Entra al proceso de toma de datos].\n",
      "Persona:[persona_117] - hora:[501.00] - accion [Llega al recinto].\n",
      "Persona:[persona_117] - hora:[501.00] - accion [Llego a la mesa].\n",
      "Persona:[persona_117] - hora:[501.00] - accion [Entra al proceso de examen].\n",
      "Persona:[persona_112] - hora:[501.00] - accion [Se tomaron los datos].\n",
      "Persona:[persona_112] - hora:[501.00] - accion [No se realizo la vacunacion, Proxima fecha 2021/06/08].\n",
      "Persona:[persona_112] - hora:[501.00] - accion [Sale del recinto].\n",
      "Persona:[persona_113] - hora:[503.00] - accion [No pasó el proceso de vacunacion, Proxima fecha 2021/06/05].\n",
      "Persona:[persona_113] - hora:[503.00] - accion [Sale del recinto].\n",
      "Persona:[persona_118] - hora:[505.00] - accion [Llega al recinto].\n",
      "Persona:[persona_118] - hora:[505.00] - accion [Llego a la mesa].\n",
      "Persona:[persona_118] - hora:[505.00] - accion [Entra al proceso de examen].\n",
      "Persona:[persona_114] - hora:[508.00] - accion [Paso el proceso de revisión].\n",
      "Persona:[persona_114] - hora:[508.00] - accion [Entra al proceso de toma de datos].\n",
      "Persona:[persona_119] - hora:[509.00] - accion [Llega al recinto].\n",
      "Persona:[persona_119] - hora:[509.00] - accion [Llego a la mesa].\n",
      "Persona:[persona_119] - hora:[509.00] - accion [Entra al proceso de examen].\n",
      "Persona:[persona_114] - hora:[511.00] - accion [Se tomaron los datos].\n",
      "Persona:[persona_114] - hora:[511.00] - accion [No se realizo la vacunacion, Proxima fecha 2021/06/07].\n",
      "Persona:[persona_114] - hora:[511.00] - accion [Sale del recinto].\n",
      "Persona:[persona_120] - hora:[513.00] - accion [Llega al recinto].\n",
      "Persona:[persona_115] - hora:[513.00] - accion [Paso el proceso de revisión].\n",
      "Persona:[persona_115] - hora:[513.00] - accion [Entra al proceso de toma de datos].\n",
      "Persona:[persona_120] - hora:[513.00] - accion [Llego a la mesa].\n",
      "Persona:[persona_120] - hora:[513.00] - accion [Entra al proceso de examen].\n",
      "Persona:[persona_115] - hora:[515.00] - accion [Se tomaron los datos].\n",
      "Persona:[persona_115] - hora:[515.00] - accion [No se realizo la vacunacion, Proxima fecha 2021/06/08].\n",
      "Persona:[persona_115] - hora:[515.00] - accion [Sale del recinto].\n",
      "Persona:[persona_121] - hora:[517.00] - accion [Llega al recinto].\n",
      "Persona:[persona_116] - hora:[517.00] - accion [No pasó el proceso de vacunacion, Proxima fecha 2021/06/06].\n",
      "Persona:[persona_116] - hora:[517.00] - accion [Sale del recinto].\n",
      "Persona:[persona_121] - hora:[517.00] - accion [Llego a la mesa].\n",
      "Persona:[persona_121] - hora:[517.00] - accion [Entra al proceso de examen].\n",
      "Persona:[persona_122] - hora:[521.00] - accion [Llega al recinto].\n",
      "Persona:[persona_117] - hora:[521.00] - accion [Paso el proceso de revisión].\n",
      "Persona:[persona_117] - hora:[521.00] - accion [Entra al proceso de toma de datos].\n",
      "Persona:[persona_122] - hora:[521.00] - accion [Llego a la mesa].\n",
      "Persona:[persona_122] - hora:[521.00] - accion [Entra al proceso de examen].\n",
      "Persona:[persona_117] - hora:[523.00] - accion [Se tomaron los datos].\n",
      "Persona:[persona_117] - hora:[523.00] - accion [No se realizo la vacunacion, Proxima fecha 2021/06/06].\n",
      "Persona:[persona_117] - hora:[523.00] - accion [Sale del recinto].\n",
      "Persona:[persona_118] - hora:[525.00] - accion [No pasó el proceso de vacunacion, Proxima fecha 2021/06/07].\n",
      "Persona:[persona_118] - hora:[525.00] - accion [Sale del recinto].\n",
      "Persona:[persona_123] - hora:[526.00] - accion [Llega al recinto].\n",
      "Persona:[persona_123] - hora:[526.00] - accion [Llego a la mesa].\n",
      "Persona:[persona_123] - hora:[526.00] - accion [Entra al proceso de examen].\n",
      "Persona:[persona_119] - hora:[529.00] - accion [Paso el proceso de revisión].\n",
      "Persona:[persona_119] - hora:[529.00] - accion [Entra al proceso de toma de datos].\n",
      "Persona:[persona_124] - hora:[530.00] - accion [Llega al recinto].\n",
      "Persona:[persona_124] - hora:[530.00] - accion [Llego a la mesa].\n",
      "Persona:[persona_124] - hora:[530.00] - accion [Entra al proceso de examen].\n",
      "Persona:[persona_119] - hora:[532.00] - accion [Se tomaron los datos].\n",
      "Persona:[persona_119] - hora:[532.00] - accion [No se realizo la vacunacion, Proxima fecha 2021/06/05].\n",
      "Persona:[persona_119] - hora:[532.00] - accion [Sale del recinto].\n",
      "Persona:[persona_120] - hora:[533.00] - accion [Paso el proceso de revisión].\n",
      "Persona:[persona_120] - hora:[533.00] - accion [Entra al proceso de toma de datos].\n",
      "Persona:[persona_125] - hora:[534.00] - accion [Llega al recinto].\n",
      "Persona:[persona_125] - hora:[534.00] - accion [Llego a la mesa].\n",
      "Persona:[persona_125] - hora:[534.00] - accion [Entra al proceso de examen].\n",
      "Persona:[persona_120] - hora:[536.00] - accion [Se tomaron los datos].\n",
      "Persona:[persona_120] - hora:[536.00] - accion [No se realizo la vacunacion, Proxima fecha 2021/06/08].\n",
      "Persona:[persona_120] - hora:[536.00] - accion [Sale del recinto].\n",
      "Persona:[persona_121] - hora:[537.00] - accion [Paso el proceso de revisión].\n",
      "Persona:[persona_121] - hora:[537.00] - accion [Entra al proceso de toma de datos].\n",
      "Persona:[persona_126] - hora:[539.00] - accion [Llega al recinto].\n",
      "Persona:[persona_126] - hora:[539.00] - accion [Llego a la mesa].\n",
      "Persona:[persona_126] - hora:[539.00] - accion [Entra al proceso de examen].\n"
     ]
    }
   ],
   "source": [
    "entorno = simpy.Environment()\n",
    "simulacion = Simulacion(7)\n",
    "entorno.process(simulacion.lanzarSimulacion(entorno))\n",
    "entorno.run(until=TIEMPO_SIM)"
   ]
  },
  {
   "cell_type": "markdown",
   "id": "f4f0d6be",
   "metadata": {},
   "source": [
    "<h2>Con los datos obtenidos de nuestra simulación, creamos un DataFrame para su facil tratamiento</h2>"
   ]
  },
  {
   "cell_type": "code",
   "execution_count": 21,
   "id": "69e568d3",
   "metadata": {},
   "outputs": [
    {
     "data": {
      "text/html": [
       "<div>\n",
       "<style scoped>\n",
       "    .dataframe tbody tr th:only-of-type {\n",
       "        vertical-align: middle;\n",
       "    }\n",
       "\n",
       "    .dataframe tbody tr th {\n",
       "        vertical-align: top;\n",
       "    }\n",
       "\n",
       "    .dataframe thead th {\n",
       "        text-align: right;\n",
       "    }\n",
       "</style>\n",
       "<table border=\"1\" class=\"dataframe\">\n",
       "  <thead>\n",
       "    <tr style=\"text-align: right;\">\n",
       "      <th></th>\n",
       "      <th>id</th>\n",
       "      <th>nombre</th>\n",
       "      <th>Siguiente Dosis</th>\n",
       "      <th>Cita Reagendada</th>\n",
       "      <th>tiempo_exam</th>\n",
       "      <th>tiempo_datos</th>\n",
       "      <th>tiempo_vacuna</th>\n",
       "      <th>tiempo_certificado</th>\n",
       "      <th>tiempo_salida</th>\n",
       "      <th>tiempo_espera</th>\n",
       "      <th>resultado_vacuna</th>\n",
       "      <th>tiempo_total</th>\n",
       "    </tr>\n",
       "  </thead>\n",
       "  <tbody>\n",
       "    <tr>\n",
       "      <th>0</th>\n",
       "      <td>4</td>\n",
       "      <td>persona_4</td>\n",
       "      <td>2021/06/24</td>\n",
       "      <td></td>\n",
       "      <td>20</td>\n",
       "      <td>2</td>\n",
       "      <td>6</td>\n",
       "      <td>1</td>\n",
       "      <td>4</td>\n",
       "      <td>0</td>\n",
       "      <td>1</td>\n",
       "      <td>33</td>\n",
       "    </tr>\n",
       "    <tr>\n",
       "      <th>1</th>\n",
       "      <td>3</td>\n",
       "      <td>persona_3</td>\n",
       "      <td>2021/06/24</td>\n",
       "      <td></td>\n",
       "      <td>20</td>\n",
       "      <td>2</td>\n",
       "      <td>6</td>\n",
       "      <td>2</td>\n",
       "      <td>2</td>\n",
       "      <td>0</td>\n",
       "      <td>1</td>\n",
       "      <td>32</td>\n",
       "    </tr>\n",
       "    <tr>\n",
       "      <th>2</th>\n",
       "      <td>2</td>\n",
       "      <td>persona_2</td>\n",
       "      <td>2021/06/24</td>\n",
       "      <td></td>\n",
       "      <td>20</td>\n",
       "      <td>2</td>\n",
       "      <td>6</td>\n",
       "      <td>3</td>\n",
       "      <td>4</td>\n",
       "      <td>0</td>\n",
       "      <td>1</td>\n",
       "      <td>35</td>\n",
       "    </tr>\n",
       "    <tr>\n",
       "      <th>3</th>\n",
       "      <td>1</td>\n",
       "      <td>persona_1</td>\n",
       "      <td>2021/06/24</td>\n",
       "      <td></td>\n",
       "      <td>20</td>\n",
       "      <td>2</td>\n",
       "      <td>7</td>\n",
       "      <td>3</td>\n",
       "      <td>2</td>\n",
       "      <td>0</td>\n",
       "      <td>1</td>\n",
       "      <td>34</td>\n",
       "    </tr>\n",
       "    <tr>\n",
       "      <th>4</th>\n",
       "      <td>0</td>\n",
       "      <td>persona_0</td>\n",
       "      <td>2021/06/24</td>\n",
       "      <td></td>\n",
       "      <td>20</td>\n",
       "      <td>4</td>\n",
       "      <td>7</td>\n",
       "      <td>3</td>\n",
       "      <td>5</td>\n",
       "      <td>0</td>\n",
       "      <td>1</td>\n",
       "      <td>39</td>\n",
       "    </tr>\n",
       "    <tr>\n",
       "      <th>...</th>\n",
       "      <td>...</td>\n",
       "      <td>...</td>\n",
       "      <td>...</td>\n",
       "      <td>...</td>\n",
       "      <td>...</td>\n",
       "      <td>...</td>\n",
       "      <td>...</td>\n",
       "      <td>...</td>\n",
       "      <td>...</td>\n",
       "      <td>...</td>\n",
       "      <td>...</td>\n",
       "      <td>...</td>\n",
       "    </tr>\n",
       "    <tr>\n",
       "      <th>116</th>\n",
       "      <td>116</td>\n",
       "      <td>persona_116</td>\n",
       "      <td></td>\n",
       "      <td>2021/06/06</td>\n",
       "      <td>20</td>\n",
       "      <td>0</td>\n",
       "      <td>0</td>\n",
       "      <td>0</td>\n",
       "      <td>4</td>\n",
       "      <td>0</td>\n",
       "      <td>0</td>\n",
       "      <td>24</td>\n",
       "    </tr>\n",
       "    <tr>\n",
       "      <th>117</th>\n",
       "      <td>117</td>\n",
       "      <td>persona_117</td>\n",
       "      <td></td>\n",
       "      <td>2021/06/06</td>\n",
       "      <td>20</td>\n",
       "      <td>2</td>\n",
       "      <td>0</td>\n",
       "      <td>0</td>\n",
       "      <td>4</td>\n",
       "      <td>0</td>\n",
       "      <td>0</td>\n",
       "      <td>26</td>\n",
       "    </tr>\n",
       "    <tr>\n",
       "      <th>118</th>\n",
       "      <td>118</td>\n",
       "      <td>persona_118</td>\n",
       "      <td></td>\n",
       "      <td>2021/06/07</td>\n",
       "      <td>20</td>\n",
       "      <td>0</td>\n",
       "      <td>0</td>\n",
       "      <td>0</td>\n",
       "      <td>3</td>\n",
       "      <td>0</td>\n",
       "      <td>0</td>\n",
       "      <td>23</td>\n",
       "    </tr>\n",
       "    <tr>\n",
       "      <th>119</th>\n",
       "      <td>119</td>\n",
       "      <td>persona_119</td>\n",
       "      <td></td>\n",
       "      <td>2021/06/05</td>\n",
       "      <td>20</td>\n",
       "      <td>3</td>\n",
       "      <td>0</td>\n",
       "      <td>0</td>\n",
       "      <td>4</td>\n",
       "      <td>0</td>\n",
       "      <td>0</td>\n",
       "      <td>27</td>\n",
       "    </tr>\n",
       "    <tr>\n",
       "      <th>120</th>\n",
       "      <td>120</td>\n",
       "      <td>persona_120</td>\n",
       "      <td></td>\n",
       "      <td>2021/06/08</td>\n",
       "      <td>20</td>\n",
       "      <td>3</td>\n",
       "      <td>0</td>\n",
       "      <td>0</td>\n",
       "      <td>4</td>\n",
       "      <td>0</td>\n",
       "      <td>0</td>\n",
       "      <td>27</td>\n",
       "    </tr>\n",
       "  </tbody>\n",
       "</table>\n",
       "<p>121 rows × 12 columns</p>\n",
       "</div>"
      ],
      "text/plain": [
       "      id       nombre Siguiente Dosis Cita Reagendada  tiempo_exam  \\\n",
       "0      4    persona_4      2021/06/24                           20   \n",
       "1      3    persona_3      2021/06/24                           20   \n",
       "2      2    persona_2      2021/06/24                           20   \n",
       "3      1    persona_1      2021/06/24                           20   \n",
       "4      0    persona_0      2021/06/24                           20   \n",
       "..   ...          ...             ...             ...          ...   \n",
       "116  116  persona_116                      2021/06/06           20   \n",
       "117  117  persona_117                      2021/06/06           20   \n",
       "118  118  persona_118                      2021/06/07           20   \n",
       "119  119  persona_119                      2021/06/05           20   \n",
       "120  120  persona_120                      2021/06/08           20   \n",
       "\n",
       "     tiempo_datos  tiempo_vacuna  tiempo_certificado  tiempo_salida  \\\n",
       "0               2              6                   1              4   \n",
       "1               2              6                   2              2   \n",
       "2               2              6                   3              4   \n",
       "3               2              7                   3              2   \n",
       "4               4              7                   3              5   \n",
       "..            ...            ...                 ...            ...   \n",
       "116             0              0                   0              4   \n",
       "117             2              0                   0              4   \n",
       "118             0              0                   0              3   \n",
       "119             3              0                   0              4   \n",
       "120             3              0                   0              4   \n",
       "\n",
       "     tiempo_espera  resultado_vacuna  tiempo_total  \n",
       "0                0                 1            33  \n",
       "1                0                 1            32  \n",
       "2                0                 1            35  \n",
       "3                0                 1            34  \n",
       "4                0                 1            39  \n",
       "..             ...               ...           ...  \n",
       "116              0                 0            24  \n",
       "117              0                 0            26  \n",
       "118              0                 0            23  \n",
       "119              0                 0            27  \n",
       "120              0                 0            27  \n",
       "\n",
       "[121 rows x 12 columns]"
      ]
     },
     "execution_count": 21,
     "metadata": {},
     "output_type": "execute_result"
    }
   ],
   "source": [
    "df_data = pd.DataFrame(List, columns=['nombre','Siguiente Dosis','Cita Reagendada','tiempo_exam','tiempo_datos','tiempo_vacuna','tiempo_certificado','tiempo_salida', 'tiempo_espera' , 'resultado_vacuna'])\n",
    "df_data['id'] = df_data['nombre'].apply(lambda x:int(x.split('_')[1]))\n",
    "df_data.set_index('id', inplace=True)\n",
    "df_data.reset_index(inplace=True)\n",
    "df_data = df_data.convert_dtypes()\n",
    "df_data['tiempo_total'] = df_data['tiempo_exam']+df_data['tiempo_datos']+df_data['tiempo_vacuna']+df_data['tiempo_certificado']+df_data['tiempo_salida']\n",
    "df_data"
   ]
  },
  {
   "cell_type": "markdown",
   "id": "869a1950",
   "metadata": {},
   "source": [
    "<h2><span style=\"color: #00ff00;\">Gráficos</span></h2>"
   ]
  },
  {
   "cell_type": "markdown",
   "id": "b5941b33",
   "metadata": {},
   "source": [
    "<h2>Total de de personas que realizaron el proceso de vacunación.</h2>"
   ]
  },
  {
   "cell_type": "code",
   "execution_count": 16,
   "id": "fb8dc8e0",
   "metadata": {},
   "outputs": [
    {
     "data": {
      "text/html": [
       "\n",
       "<div id=\"altair-viz-c3f232631b7545ccbba5d28a7ce51557\"></div>\n",
       "<script type=\"text/javascript\">\n",
       "  (function(spec, embedOpt){\n",
       "    let outputDiv = document.currentScript.previousElementSibling;\n",
       "    if (outputDiv.id !== \"altair-viz-c3f232631b7545ccbba5d28a7ce51557\") {\n",
       "      outputDiv = document.getElementById(\"altair-viz-c3f232631b7545ccbba5d28a7ce51557\");\n",
       "    }\n",
       "    const paths = {\n",
       "      \"vega\": \"https://cdn.jsdelivr.net/npm//vega@5?noext\",\n",
       "      \"vega-lib\": \"https://cdn.jsdelivr.net/npm//vega-lib?noext\",\n",
       "      \"vega-lite\": \"https://cdn.jsdelivr.net/npm//vega-lite@4.8.1?noext\",\n",
       "      \"vega-embed\": \"https://cdn.jsdelivr.net/npm//vega-embed@6?noext\",\n",
       "    };\n",
       "\n",
       "    function loadScript(lib) {\n",
       "      return new Promise(function(resolve, reject) {\n",
       "        var s = document.createElement('script');\n",
       "        s.src = paths[lib];\n",
       "        s.async = true;\n",
       "        s.onload = () => resolve(paths[lib]);\n",
       "        s.onerror = () => reject(`Error loading script: ${paths[lib]}`);\n",
       "        document.getElementsByTagName(\"head\")[0].appendChild(s);\n",
       "      });\n",
       "    }\n",
       "\n",
       "    function showError(err) {\n",
       "      outputDiv.innerHTML = `<div class=\"error\" style=\"color:red;\">${err}</div>`;\n",
       "      throw err;\n",
       "    }\n",
       "\n",
       "    function displayChart(vegaEmbed) {\n",
       "      vegaEmbed(outputDiv, spec, embedOpt)\n",
       "        .catch(err => showError(`Javascript Error: ${err.message}<br>This usually means there's a typo in your chart specification. See the javascript console for the full traceback.`));\n",
       "    }\n",
       "\n",
       "    if(typeof define === \"function\" && define.amd) {\n",
       "      requirejs.config({paths});\n",
       "      require([\"vega-embed\"], displayChart, err => showError(`Error loading script: ${err.message}`));\n",
       "    } else if (typeof vegaEmbed === \"function\") {\n",
       "      displayChart(vegaEmbed);\n",
       "    } else {\n",
       "      loadScript(\"vega\")\n",
       "        .then(() => loadScript(\"vega-lite\"))\n",
       "        .then(() => loadScript(\"vega-embed\"))\n",
       "        .catch(showError)\n",
       "        .then(() => displayChart(vegaEmbed));\n",
       "    }\n",
       "  })({\"config\": {\"view\": {\"continuousWidth\": 400, \"continuousHeight\": 300}}, \"layer\": [{\"data\": {\"name\": \"data-e67a8a041bbb280e24d793c1bc680c79\"}, \"mark\": {\"type\": \"bar\", \"color\": \"orange\"}, \"encoding\": {\"x\": {\"type\": \"nominal\", \"field\": \"nombre\", \"sort\": {\"field\": \"id\", \"op\": \"count\", \"order\": \"ascending\"}}, \"y\": {\"type\": \"quantitative\", \"field\": \"tiempo_total\"}}}, {\"data\": {\"name\": \"data-e67a8a041bbb280e24d793c1bc680c79\"}, \"mark\": {\"type\": \"point\", \"color\": \"green\"}, \"encoding\": {\"x\": {\"type\": \"nominal\", \"field\": \"nombre\", \"sort\": {\"field\": \"id\", \"op\": \"count\", \"order\": \"ascending\"}}, \"y\": {\"type\": \"quantitative\", \"field\": \"tiempo_total\"}}, \"selection\": {\"selector001\": {\"type\": \"interval\", \"bind\": \"scales\", \"encodings\": [\"x\", \"y\"]}}, \"title\": \"Tiempo total - Recinto Jefferson Perez\"}], \"$schema\": \"https://vega.github.io/schema/vega-lite/v4.8.1.json\", \"datasets\": {\"data-e67a8a041bbb280e24d793c1bc680c79\": [{\"id\": 4, \"nombre\": \"persona_4\", \"Siguiente Dosis\": \"2021/06/24\", \"Cita Reagendada\": \"\", \"tiempo_exam\": 20, \"tiempo_datos\": 2, \"tiempo_vacuna\": 6, \"tiempo_certificado\": 1, \"tiempo_salida\": 4, \"tiempo_espera\": 0, \"resultado_vacuna\": 1, \"tiempo_total\": 33}, {\"id\": 3, \"nombre\": \"persona_3\", \"Siguiente Dosis\": \"2021/06/24\", \"Cita Reagendada\": \"\", \"tiempo_exam\": 20, \"tiempo_datos\": 2, \"tiempo_vacuna\": 6, \"tiempo_certificado\": 2, \"tiempo_salida\": 2, \"tiempo_espera\": 0, \"resultado_vacuna\": 1, \"tiempo_total\": 32}, {\"id\": 2, \"nombre\": \"persona_2\", \"Siguiente Dosis\": \"2021/06/24\", \"Cita Reagendada\": \"\", \"tiempo_exam\": 20, \"tiempo_datos\": 2, \"tiempo_vacuna\": 6, \"tiempo_certificado\": 3, \"tiempo_salida\": 4, \"tiempo_espera\": 0, \"resultado_vacuna\": 1, \"tiempo_total\": 35}, {\"id\": 1, \"nombre\": \"persona_1\", \"Siguiente Dosis\": \"2021/06/24\", \"Cita Reagendada\": \"\", \"tiempo_exam\": 20, \"tiempo_datos\": 2, \"tiempo_vacuna\": 7, \"tiempo_certificado\": 3, \"tiempo_salida\": 2, \"tiempo_espera\": 0, \"resultado_vacuna\": 1, \"tiempo_total\": 34}, {\"id\": 0, \"nombre\": \"persona_0\", \"Siguiente Dosis\": \"2021/06/24\", \"Cita Reagendada\": \"\", \"tiempo_exam\": 20, \"tiempo_datos\": 4, \"tiempo_vacuna\": 7, \"tiempo_certificado\": 3, \"tiempo_salida\": 5, \"tiempo_espera\": 0, \"resultado_vacuna\": 1, \"tiempo_total\": 39}, {\"id\": 7, \"nombre\": \"persona_7\", \"Siguiente Dosis\": \"2021/06/24\", \"Cita Reagendada\": \"\", \"tiempo_exam\": 20, \"tiempo_datos\": 2, \"tiempo_vacuna\": 6, \"tiempo_certificado\": 2, \"tiempo_salida\": 5, \"tiempo_espera\": 16, \"resultado_vacuna\": 1, \"tiempo_total\": 35}, {\"id\": 8, \"nombre\": \"persona_8\", \"Siguiente Dosis\": \"2021/06/24\", \"Cita Reagendada\": \"\", \"tiempo_exam\": 20, \"tiempo_datos\": 2, \"tiempo_vacuna\": 6, \"tiempo_certificado\": 2, \"tiempo_salida\": 5, \"tiempo_espera\": 12, \"resultado_vacuna\": 1, \"tiempo_total\": 35}, {\"id\": 9, \"nombre\": \"persona_9\", \"Siguiente Dosis\": \"2021/06/24\", \"Cita Reagendada\": \"\", \"tiempo_exam\": 20, \"tiempo_datos\": 2, \"tiempo_vacuna\": 9, \"tiempo_certificado\": 1, \"tiempo_salida\": 2, \"tiempo_espera\": 8, \"resultado_vacuna\": 1, \"tiempo_total\": 34}, {\"id\": 5, \"nombre\": \"persona_5\", \"Siguiente Dosis\": \"2021/06/24\", \"Cita Reagendada\": \"\", \"tiempo_exam\": 20, \"tiempo_datos\": 4, \"tiempo_vacuna\": 7, \"tiempo_certificado\": 3, \"tiempo_salida\": 4, \"tiempo_espera\": 20, \"resultado_vacuna\": 1, \"tiempo_total\": 38}, {\"id\": 6, \"nombre\": \"persona_6\", \"Siguiente Dosis\": \"2021/06/24\", \"Cita Reagendada\": \"\", \"tiempo_exam\": 20, \"tiempo_datos\": 2, \"tiempo_vacuna\": 10, \"tiempo_certificado\": 3, \"tiempo_salida\": 2, \"tiempo_espera\": 20, \"resultado_vacuna\": 1, \"tiempo_total\": 37}, {\"id\": 11, \"nombre\": \"persona_11\", \"Siguiente Dosis\": \"2021/06/24\", \"Cita Reagendada\": \"\", \"tiempo_exam\": 20, \"tiempo_datos\": 2, \"tiempo_vacuna\": 5, \"tiempo_certificado\": 2, \"tiempo_salida\": 4, \"tiempo_espera\": 18, \"resultado_vacuna\": 1, \"tiempo_total\": 33}, {\"id\": 12, \"nombre\": \"persona_12\", \"Siguiente Dosis\": \"2021/06/24\", \"Cita Reagendada\": \"\", \"tiempo_exam\": 20, \"tiempo_datos\": 2, \"tiempo_vacuna\": 7, \"tiempo_certificado\": 1, \"tiempo_salida\": 3, \"tiempo_espera\": 14, \"resultado_vacuna\": 1, \"tiempo_total\": 33}, {\"id\": 10, \"nombre\": \"persona_10\", \"Siguiente Dosis\": \"2021/06/24\", \"Cita Reagendada\": \"\", \"tiempo_exam\": 20, \"tiempo_datos\": 3, \"tiempo_vacuna\": 8, \"tiempo_certificado\": 1, \"tiempo_salida\": 5, \"tiempo_espera\": 23, \"resultado_vacuna\": 1, \"tiempo_total\": 37}, {\"id\": 14, \"nombre\": \"persona_14\", \"Siguiente Dosis\": \"2021/06/24\", \"Cita Reagendada\": \"\", \"tiempo_exam\": 20, \"tiempo_datos\": 4, \"tiempo_vacuna\": 7, \"tiempo_certificado\": 1, \"tiempo_salida\": 3, \"tiempo_espera\": 6, \"resultado_vacuna\": 1, \"tiempo_total\": 35}, {\"id\": 13, \"nombre\": \"persona_13\", \"Siguiente Dosis\": \"2021/06/24\", \"Cita Reagendada\": \"\", \"tiempo_exam\": 20, \"tiempo_datos\": 3, \"tiempo_vacuna\": 8, \"tiempo_certificado\": 2, \"tiempo_salida\": 4, \"tiempo_espera\": 10, \"resultado_vacuna\": 1, \"tiempo_total\": 37}, {\"id\": 16, \"nombre\": \"persona_16\", \"Siguiente Dosis\": \"2021/06/24\", \"Cita Reagendada\": \"\", \"tiempo_exam\": 20, \"tiempo_datos\": 3, \"tiempo_vacuna\": 5, \"tiempo_certificado\": 2, \"tiempo_salida\": 5, \"tiempo_espera\": 17, \"resultado_vacuna\": 1, \"tiempo_total\": 35}, {\"id\": 18, \"nombre\": \"persona_18\", \"Siguiente Dosis\": \"2021/06/24\", \"Cita Reagendada\": \"\", \"tiempo_exam\": 20, \"tiempo_datos\": 3, \"tiempo_vacuna\": 6, \"tiempo_certificado\": 1, \"tiempo_salida\": 1, \"tiempo_espera\": 9, \"resultado_vacuna\": 1, \"tiempo_total\": 31}, {\"id\": 15, \"nombre\": \"persona_15\", \"Siguiente Dosis\": \"2021/06/24\", \"Cita Reagendada\": \"\", \"tiempo_exam\": 20, \"tiempo_datos\": 3, \"tiempo_vacuna\": 8, \"tiempo_certificado\": 2, \"tiempo_salida\": 2, \"tiempo_espera\": 21, \"resultado_vacuna\": 1, \"tiempo_total\": 35}, {\"id\": 19, \"nombre\": \"persona_19\", \"Siguiente Dosis\": \"2021/06/24\", \"Cita Reagendada\": \"\", \"tiempo_exam\": 20, \"tiempo_datos\": 3, \"tiempo_vacuna\": 8, \"tiempo_certificado\": 2, \"tiempo_salida\": 3, \"tiempo_espera\": 4, \"resultado_vacuna\": 1, \"tiempo_total\": 36}, {\"id\": 17, \"nombre\": \"persona_17\", \"Siguiente Dosis\": \"2021/06/24\", \"Cita Reagendada\": \"\", \"tiempo_exam\": 20, \"tiempo_datos\": 4, \"tiempo_vacuna\": 9, \"tiempo_certificado\": 3, \"tiempo_salida\": 3, \"tiempo_espera\": 13, \"resultado_vacuna\": 1, \"tiempo_total\": 39}, {\"id\": 23, \"nombre\": \"persona_23\", \"Siguiente Dosis\": \"2021/06/24\", \"Cita Reagendada\": \"\", \"tiempo_exam\": 20, \"tiempo_datos\": 4, \"tiempo_vacuna\": 5, \"tiempo_certificado\": 2, \"tiempo_salida\": 2, \"tiempo_espera\": 6, \"resultado_vacuna\": 1, \"tiempo_total\": 33}, {\"id\": 20, \"nombre\": \"persona_20\", \"Siguiente Dosis\": \"2021/06/24\", \"Cita Reagendada\": \"\", \"tiempo_exam\": 20, \"tiempo_datos\": 3, \"tiempo_vacuna\": 6, \"tiempo_certificado\": 3, \"tiempo_salida\": 3, \"tiempo_espera\": 20, \"resultado_vacuna\": 1, \"tiempo_total\": 35}, {\"id\": 22, \"nombre\": \"persona_22\", \"Siguiente Dosis\": \"2021/06/24\", \"Cita Reagendada\": \"\", \"tiempo_exam\": 20, \"tiempo_datos\": 4, \"tiempo_vacuna\": 5, \"tiempo_certificado\": 3, \"tiempo_salida\": 1, \"tiempo_espera\": 11, \"resultado_vacuna\": 1, \"tiempo_total\": 33}, {\"id\": 24, \"nombre\": \"persona_24\", \"Siguiente Dosis\": \"2021/06/24\", \"Cita Reagendada\": \"\", \"tiempo_exam\": 20, \"tiempo_datos\": 3, \"tiempo_vacuna\": 9, \"tiempo_certificado\": 1, \"tiempo_salida\": 4, \"tiempo_espera\": 2, \"resultado_vacuna\": 1, \"tiempo_total\": 37}, {\"id\": 21, \"nombre\": \"persona_21\", \"Siguiente Dosis\": \"2021/06/24\", \"Cita Reagendada\": \"\", \"tiempo_exam\": 20, \"tiempo_datos\": 2, \"tiempo_vacuna\": 10, \"tiempo_certificado\": 3, \"tiempo_salida\": 5, \"tiempo_espera\": 15, \"resultado_vacuna\": 1, \"tiempo_total\": 40}, {\"id\": 25, \"nombre\": \"persona_25\", \"Siguiente Dosis\": \"2021/06/24\", \"Cita Reagendada\": \"\", \"tiempo_exam\": 20, \"tiempo_datos\": 4, \"tiempo_vacuna\": 5, \"tiempo_certificado\": 3, \"tiempo_salida\": 2, \"tiempo_espera\": 17, \"resultado_vacuna\": 1, \"tiempo_total\": 34}, {\"id\": 29, \"nombre\": \"persona_29\", \"Siguiente Dosis\": \"2021/06/24\", \"Cita Reagendada\": \"\", \"tiempo_exam\": 20, \"tiempo_datos\": 3, \"tiempo_vacuna\": 6, \"tiempo_certificado\": 2, \"tiempo_salida\": 1, \"tiempo_espera\": 0, \"resultado_vacuna\": 1, \"tiempo_total\": 32}, {\"id\": 28, \"nombre\": \"persona_28\", \"Siguiente Dosis\": \"2021/06/24\", \"Cita Reagendada\": \"\", \"tiempo_exam\": 20, \"tiempo_datos\": 4, \"tiempo_vacuna\": 7, \"tiempo_certificado\": 2, \"tiempo_salida\": 5, \"tiempo_espera\": 3, \"resultado_vacuna\": 1, \"tiempo_total\": 38}, {\"id\": 26, \"nombre\": \"persona_26\", \"Siguiente Dosis\": \"2021/06/24\", \"Cita Reagendada\": \"\", \"tiempo_exam\": 20, \"tiempo_datos\": 2, \"tiempo_vacuna\": 10, \"tiempo_certificado\": 2, \"tiempo_salida\": 1, \"tiempo_espera\": 12, \"resultado_vacuna\": 1, \"tiempo_total\": 35}, {\"id\": 27, \"nombre\": \"persona_27\", \"Siguiente Dosis\": \"2021/06/24\", \"Cita Reagendada\": \"\", \"tiempo_exam\": 20, \"tiempo_datos\": 4, \"tiempo_vacuna\": 9, \"tiempo_certificado\": 2, \"tiempo_salida\": 5, \"tiempo_espera\": 8, \"resultado_vacuna\": 1, \"tiempo_total\": 40}, {\"id\": 31, \"nombre\": \"persona_31\", \"Siguiente Dosis\": \"2021/06/24\", \"Cita Reagendada\": \"\", \"tiempo_exam\": 20, \"tiempo_datos\": 4, \"tiempo_vacuna\": 5, \"tiempo_certificado\": 2, \"tiempo_salida\": 3, \"tiempo_espera\": 10, \"resultado_vacuna\": 1, \"tiempo_total\": 34}, {\"id\": 32, \"nombre\": \"persona_32\", \"Siguiente Dosis\": \"2021/06/24\", \"Cita Reagendada\": \"\", \"tiempo_exam\": 20, \"tiempo_datos\": 3, \"tiempo_vacuna\": 7, \"tiempo_certificado\": 1, \"tiempo_salida\": 3, \"tiempo_espera\": 5, \"resultado_vacuna\": 1, \"tiempo_total\": 34}, {\"id\": 33, \"nombre\": \"persona_33\", \"Siguiente Dosis\": \"2021/06/24\", \"Cita Reagendada\": \"\", \"tiempo_exam\": 20, \"tiempo_datos\": 4, \"tiempo_vacuna\": 8, \"tiempo_certificado\": 1, \"tiempo_salida\": 2, \"tiempo_espera\": 1, \"resultado_vacuna\": 1, \"tiempo_total\": 35}, {\"id\": 30, \"nombre\": \"persona_30\", \"Siguiente Dosis\": \"2021/06/24\", \"Cita Reagendada\": \"\", \"tiempo_exam\": 20, \"tiempo_datos\": 2, \"tiempo_vacuna\": 10, \"tiempo_certificado\": 2, \"tiempo_salida\": 1, \"tiempo_espera\": 14, \"resultado_vacuna\": 1, \"tiempo_total\": 35}, {\"id\": 34, \"nombre\": \"persona_34\", \"Siguiente Dosis\": \"2021/06/24\", \"Cita Reagendada\": \"\", \"tiempo_exam\": 20, \"tiempo_datos\": 4, \"tiempo_vacuna\": 9, \"tiempo_certificado\": 2, \"tiempo_salida\": 5, \"tiempo_espera\": 0, \"resultado_vacuna\": 1, \"tiempo_total\": 40}, {\"id\": 38, \"nombre\": \"persona_38\", \"Siguiente Dosis\": \"2021/06/24\", \"Cita Reagendada\": \"\", \"tiempo_exam\": 20, \"tiempo_datos\": 3, \"tiempo_vacuna\": 6, \"tiempo_certificado\": 1, \"tiempo_salida\": 3, \"tiempo_espera\": 0, \"resultado_vacuna\": 1, \"tiempo_total\": 33}, {\"id\": 39, \"nombre\": \"persona_39\", \"Siguiente Dosis\": \"2021/06/24\", \"Cita Reagendada\": \"\", \"tiempo_exam\": 20, \"tiempo_datos\": 2, \"tiempo_vacuna\": 8, \"tiempo_certificado\": 1, \"tiempo_salida\": 2, \"tiempo_espera\": 0, \"resultado_vacuna\": 1, \"tiempo_total\": 33}, {\"id\": 41, \"nombre\": \"persona_41\", \"Siguiente Dosis\": \"2021/06/24\", \"Cita Reagendada\": \"\", \"tiempo_exam\": 20, \"tiempo_datos\": 3, \"tiempo_vacuna\": 6, \"tiempo_certificado\": 1, \"tiempo_salida\": 4, \"tiempo_espera\": 4, \"resultado_vacuna\": 1, \"tiempo_total\": 34}, {\"id\": 40, \"nombre\": \"persona_40\", \"Siguiente Dosis\": \"2021/06/24\", \"Cita Reagendada\": \"\", \"tiempo_exam\": 20, \"tiempo_datos\": 2, \"tiempo_vacuna\": 10, \"tiempo_certificado\": 2, \"tiempo_salida\": 4, \"tiempo_espera\": 9, \"resultado_vacuna\": 1, \"tiempo_total\": 38}, {\"id\": 42, \"nombre\": \"persona_42\", \"Siguiente Dosis\": \"2021/06/24\", \"Cita Reagendada\": \"\", \"tiempo_exam\": 20, \"tiempo_datos\": 4, \"tiempo_vacuna\": 9, \"tiempo_certificado\": 1, \"tiempo_salida\": 5, \"tiempo_espera\": 0, \"resultado_vacuna\": 1, \"tiempo_total\": 39}, {\"id\": 43, \"nombre\": \"persona_43\", \"Siguiente Dosis\": \"2021/06/24\", \"Cita Reagendada\": \"\", \"tiempo_exam\": 20, \"tiempo_datos\": 4, \"tiempo_vacuna\": 5, \"tiempo_certificado\": 1, \"tiempo_salida\": 5, \"tiempo_espera\": 0, \"resultado_vacuna\": 1, \"tiempo_total\": 35}, {\"id\": 45, \"nombre\": \"persona_45\", \"Siguiente Dosis\": \"2021/06/24\", \"Cita Reagendada\": \"\", \"tiempo_exam\": 20, \"tiempo_datos\": 2, \"tiempo_vacuna\": 7, \"tiempo_certificado\": 1, \"tiempo_salida\": 4, \"tiempo_espera\": 7, \"resultado_vacuna\": 1, \"tiempo_total\": 34}, {\"id\": 47, \"nombre\": \"persona_47\", \"Siguiente Dosis\": \"2021/06/24\", \"Cita Reagendada\": \"\", \"tiempo_exam\": 20, \"tiempo_datos\": 2, \"tiempo_vacuna\": 5, \"tiempo_certificado\": 2, \"tiempo_salida\": 3, \"tiempo_espera\": 0, \"resultado_vacuna\": 1, \"tiempo_total\": 32}, {\"id\": 46, \"nombre\": \"persona_46\", \"Siguiente Dosis\": \"2021/06/24\", \"Cita Reagendada\": \"\", \"tiempo_exam\": 20, \"tiempo_datos\": 3, \"tiempo_vacuna\": 9, \"tiempo_certificado\": 2, \"tiempo_salida\": 5, \"tiempo_espera\": 2, \"resultado_vacuna\": 1, \"tiempo_total\": 39}, {\"id\": 48, \"nombre\": \"persona_48\", \"Siguiente Dosis\": \"2021/06/24\", \"Cita Reagendada\": \"\", \"tiempo_exam\": 20, \"tiempo_datos\": 2, \"tiempo_vacuna\": 7, \"tiempo_certificado\": 1, \"tiempo_salida\": 2, \"tiempo_espera\": 0, \"resultado_vacuna\": 1, \"tiempo_total\": 32}, {\"id\": 49, \"nombre\": \"persona_49\", \"Siguiente Dosis\": \"2021/06/24\", \"Cita Reagendada\": \"\", \"tiempo_exam\": 20, \"tiempo_datos\": 3, \"tiempo_vacuna\": 9, \"tiempo_certificado\": 2, \"tiempo_salida\": 4, \"tiempo_espera\": 0, \"resultado_vacuna\": 1, \"tiempo_total\": 38}, {\"id\": 51, \"nombre\": \"persona_51\", \"Siguiente Dosis\": \"2021/06/24\", \"Cita Reagendada\": \"\", \"tiempo_exam\": 20, \"tiempo_datos\": 4, \"tiempo_vacuna\": 7, \"tiempo_certificado\": 3, \"tiempo_salida\": 4, \"tiempo_espera\": 0, \"resultado_vacuna\": 1, \"tiempo_total\": 38}, {\"id\": 50, \"nombre\": \"persona_50\", \"Siguiente Dosis\": \"2021/06/24\", \"Cita Reagendada\": \"\", \"tiempo_exam\": 20, \"tiempo_datos\": 3, \"tiempo_vacuna\": 9, \"tiempo_certificado\": 2, \"tiempo_salida\": 5, \"tiempo_espera\": 4, \"resultado_vacuna\": 1, \"tiempo_total\": 39}, {\"id\": 52, \"nombre\": \"persona_52\", \"Siguiente Dosis\": \"2021/06/24\", \"Cita Reagendada\": \"\", \"tiempo_exam\": 20, \"tiempo_datos\": 2, \"tiempo_vacuna\": 6, \"tiempo_certificado\": 3, \"tiempo_salida\": 5, \"tiempo_espera\": 0, \"resultado_vacuna\": 1, \"tiempo_total\": 36}, {\"id\": 53, \"nombre\": \"persona_53\", \"Siguiente Dosis\": \"2021/06/24\", \"Cita Reagendada\": \"\", \"tiempo_exam\": 20, \"tiempo_datos\": 2, \"tiempo_vacuna\": 8, \"tiempo_certificado\": 3, \"tiempo_salida\": 3, \"tiempo_espera\": 0, \"resultado_vacuna\": 1, \"tiempo_total\": 36}, {\"id\": 56, \"nombre\": \"persona_56\", \"Siguiente Dosis\": \"2021/06/24\", \"Cita Reagendada\": \"\", \"tiempo_exam\": 20, \"tiempo_datos\": 2, \"tiempo_vacuna\": 6, \"tiempo_certificado\": 2, \"tiempo_salida\": 4, \"tiempo_espera\": 0, \"resultado_vacuna\": 1, \"tiempo_total\": 34}, {\"id\": 55, \"nombre\": \"persona_55\", \"Siguiente Dosis\": \"2021/06/24\", \"Cita Reagendada\": \"\", \"tiempo_exam\": 20, \"tiempo_datos\": 4, \"tiempo_vacuna\": 8, \"tiempo_certificado\": 1, \"tiempo_salida\": 2, \"tiempo_espera\": 3, \"resultado_vacuna\": 1, \"tiempo_total\": 35}, {\"id\": 57, \"nombre\": \"persona_57\", \"Siguiente Dosis\": \"2021/06/24\", \"Cita Reagendada\": \"\", \"tiempo_exam\": 20, \"tiempo_datos\": 3, \"tiempo_vacuna\": 5, \"tiempo_certificado\": 2, \"tiempo_salida\": 1, \"tiempo_espera\": 0, \"resultado_vacuna\": 1, \"tiempo_total\": 31}, {\"id\": 58, \"nombre\": \"persona_58\", \"Siguiente Dosis\": \"2021/06/24\", \"Cita Reagendada\": \"\", \"tiempo_exam\": 20, \"tiempo_datos\": 2, \"tiempo_vacuna\": 9, \"tiempo_certificado\": 1, \"tiempo_salida\": 5, \"tiempo_espera\": 0, \"resultado_vacuna\": 1, \"tiempo_total\": 37}, {\"id\": 59, \"nombre\": \"persona_59\", \"Siguiente Dosis\": \"2021/06/24\", \"Cita Reagendada\": \"\", \"tiempo_exam\": 20, \"tiempo_datos\": 2, \"tiempo_vacuna\": 8, \"tiempo_certificado\": 1, \"tiempo_salida\": 1, \"tiempo_espera\": 0, \"resultado_vacuna\": 1, \"tiempo_total\": 32}, {\"id\": 60, \"nombre\": \"persona_60\", \"Siguiente Dosis\": \"2021/06/24\", \"Cita Reagendada\": \"\", \"tiempo_exam\": 20, \"tiempo_datos\": 2, \"tiempo_vacuna\": 10, \"tiempo_certificado\": 2, \"tiempo_salida\": 2, \"tiempo_espera\": 0, \"resultado_vacuna\": 1, \"tiempo_total\": 36}, {\"id\": 61, \"nombre\": \"persona_61\", \"Siguiente Dosis\": \"2021/06/24\", \"Cita Reagendada\": \"\", \"tiempo_exam\": 20, \"tiempo_datos\": 3, \"tiempo_vacuna\": 7, \"tiempo_certificado\": 2, \"tiempo_salida\": 1, \"tiempo_espera\": 0, \"resultado_vacuna\": 1, \"tiempo_total\": 33}, {\"id\": 62, \"nombre\": \"persona_62\", \"Siguiente Dosis\": \"2021/06/24\", \"Cita Reagendada\": \"\", \"tiempo_exam\": 20, \"tiempo_datos\": 3, \"tiempo_vacuna\": 7, \"tiempo_certificado\": 1, \"tiempo_salida\": 2, \"tiempo_espera\": 0, \"resultado_vacuna\": 1, \"tiempo_total\": 33}, {\"id\": 64, \"nombre\": \"persona_64\", \"Siguiente Dosis\": \"2021/06/24\", \"Cita Reagendada\": \"\", \"tiempo_exam\": 20, \"tiempo_datos\": 2, \"tiempo_vacuna\": 8, \"tiempo_certificado\": 2, \"tiempo_salida\": 2, \"tiempo_espera\": 0, \"resultado_vacuna\": 1, \"tiempo_total\": 34}, {\"id\": 65, \"nombre\": \"persona_65\", \"Siguiente Dosis\": \"2021/06/24\", \"Cita Reagendada\": \"\", \"tiempo_exam\": 20, \"tiempo_datos\": 4, \"tiempo_vacuna\": 9, \"tiempo_certificado\": 3, \"tiempo_salida\": 4, \"tiempo_espera\": 0, \"resultado_vacuna\": 1, \"tiempo_total\": 40}, {\"id\": 66, \"nombre\": \"persona_66\", \"Siguiente Dosis\": \"2021/06/24\", \"Cita Reagendada\": \"\", \"tiempo_exam\": 20, \"tiempo_datos\": 2, \"tiempo_vacuna\": 9, \"tiempo_certificado\": 3, \"tiempo_salida\": 5, \"tiempo_espera\": 0, \"resultado_vacuna\": 1, \"tiempo_total\": 39}, {\"id\": 67, \"nombre\": \"persona_67\", \"Siguiente Dosis\": \"2021/06/24\", \"Cita Reagendada\": \"\", \"tiempo_exam\": 20, \"tiempo_datos\": 2, \"tiempo_vacuna\": 9, \"tiempo_certificado\": 1, \"tiempo_salida\": 1, \"tiempo_espera\": 0, \"resultado_vacuna\": 1, \"tiempo_total\": 33}, {\"id\": 68, \"nombre\": \"persona_68\", \"Siguiente Dosis\": \"2021/06/24\", \"Cita Reagendada\": \"\", \"tiempo_exam\": 20, \"tiempo_datos\": 4, \"tiempo_vacuna\": 7, \"tiempo_certificado\": 2, \"tiempo_salida\": 5, \"tiempo_espera\": 0, \"resultado_vacuna\": 1, \"tiempo_total\": 38}, {\"id\": 69, \"nombre\": \"persona_69\", \"Siguiente Dosis\": \"2021/06/24\", \"Cita Reagendada\": \"\", \"tiempo_exam\": 20, \"tiempo_datos\": 3, \"tiempo_vacuna\": 8, \"tiempo_certificado\": 3, \"tiempo_salida\": 5, \"tiempo_espera\": 0, \"resultado_vacuna\": 1, \"tiempo_total\": 39}, {\"id\": 70, \"nombre\": \"persona_70\", \"Siguiente Dosis\": \"2021/06/24\", \"Cita Reagendada\": \"\", \"tiempo_exam\": 20, \"tiempo_datos\": 2, \"tiempo_vacuna\": 10, \"tiempo_certificado\": 3, \"tiempo_salida\": 2, \"tiempo_espera\": 0, \"resultado_vacuna\": 1, \"tiempo_total\": 37}, {\"id\": 71, \"nombre\": \"persona_71\", \"Siguiente Dosis\": \"2021/06/24\", \"Cita Reagendada\": \"\", \"tiempo_exam\": 20, \"tiempo_datos\": 2, \"tiempo_vacuna\": 10, \"tiempo_certificado\": 3, \"tiempo_salida\": 1, \"tiempo_espera\": 0, \"resultado_vacuna\": 1, \"tiempo_total\": 36}, {\"id\": 72, \"nombre\": \"persona_72\", \"Siguiente Dosis\": \"2021/06/24\", \"Cita Reagendada\": \"\", \"tiempo_exam\": 20, \"tiempo_datos\": 3, \"tiempo_vacuna\": 7, \"tiempo_certificado\": 1, \"tiempo_salida\": 4, \"tiempo_espera\": 0, \"resultado_vacuna\": 1, \"tiempo_total\": 35}, {\"id\": 73, \"nombre\": \"persona_73\", \"Siguiente Dosis\": \"2021/06/24\", \"Cita Reagendada\": \"\", \"tiempo_exam\": 20, \"tiempo_datos\": 3, \"tiempo_vacuna\": 5, \"tiempo_certificado\": 2, \"tiempo_salida\": 1, \"tiempo_espera\": 0, \"resultado_vacuna\": 1, \"tiempo_total\": 31}, {\"id\": 74, \"nombre\": \"persona_74\", \"Siguiente Dosis\": \"2021/06/24\", \"Cita Reagendada\": \"\", \"tiempo_exam\": 20, \"tiempo_datos\": 3, \"tiempo_vacuna\": 5, \"tiempo_certificado\": 2, \"tiempo_salida\": 1, \"tiempo_espera\": 0, \"resultado_vacuna\": 1, \"tiempo_total\": 31}, {\"id\": 75, \"nombre\": \"persona_75\", \"Siguiente Dosis\": \"2021/06/24\", \"Cita Reagendada\": \"\", \"tiempo_exam\": 20, \"tiempo_datos\": 2, \"tiempo_vacuna\": 8, \"tiempo_certificado\": 1, \"tiempo_salida\": 1, \"tiempo_espera\": 0, \"resultado_vacuna\": 1, \"tiempo_total\": 32}, {\"id\": 76, \"nombre\": \"persona_76\", \"Siguiente Dosis\": \"2021/06/24\", \"Cita Reagendada\": \"\", \"tiempo_exam\": 20, \"tiempo_datos\": 2, \"tiempo_vacuna\": 7, \"tiempo_certificado\": 2, \"tiempo_salida\": 2, \"tiempo_espera\": 0, \"resultado_vacuna\": 1, \"tiempo_total\": 33}, {\"id\": 77, \"nombre\": \"persona_77\", \"Siguiente Dosis\": \"2021/06/24\", \"Cita Reagendada\": \"\", \"tiempo_exam\": 20, \"tiempo_datos\": 3, \"tiempo_vacuna\": 7, \"tiempo_certificado\": 3, \"tiempo_salida\": 4, \"tiempo_espera\": 0, \"resultado_vacuna\": 1, \"tiempo_total\": 37}, {\"id\": 78, \"nombre\": \"persona_78\", \"Siguiente Dosis\": \"2021/06/24\", \"Cita Reagendada\": \"\", \"tiempo_exam\": 20, \"tiempo_datos\": 3, \"tiempo_vacuna\": 8, \"tiempo_certificado\": 1, \"tiempo_salida\": 2, \"tiempo_espera\": 0, \"resultado_vacuna\": 1, \"tiempo_total\": 34}, {\"id\": 80, \"nombre\": \"persona_80\", \"Siguiente Dosis\": \"2021/06/24\", \"Cita Reagendada\": \"\", \"tiempo_exam\": 20, \"tiempo_datos\": 2, \"tiempo_vacuna\": 5, \"tiempo_certificado\": 1, \"tiempo_salida\": 3, \"tiempo_espera\": 0, \"resultado_vacuna\": 1, \"tiempo_total\": 31}, {\"id\": 79, \"nombre\": \"persona_79\", \"Siguiente Dosis\": \"2021/06/24\", \"Cita Reagendada\": \"\", \"tiempo_exam\": 20, \"tiempo_datos\": 4, \"tiempo_vacuna\": 10, \"tiempo_certificado\": 3, \"tiempo_salida\": 2, \"tiempo_espera\": 0, \"resultado_vacuna\": 1, \"tiempo_total\": 39}, {\"id\": 81, \"nombre\": \"persona_81\", \"Siguiente Dosis\": \"2021/06/24\", \"Cita Reagendada\": \"\", \"tiempo_exam\": 20, \"tiempo_datos\": 3, \"tiempo_vacuna\": 5, \"tiempo_certificado\": 1, \"tiempo_salida\": 5, \"tiempo_espera\": 0, \"resultado_vacuna\": 1, \"tiempo_total\": 34}, {\"id\": 82, \"nombre\": \"persona_82\", \"Siguiente Dosis\": \"2021/06/24\", \"Cita Reagendada\": \"\", \"tiempo_exam\": 20, \"tiempo_datos\": 2, \"tiempo_vacuna\": 5, \"tiempo_certificado\": 2, \"tiempo_salida\": 3, \"tiempo_espera\": 0, \"resultado_vacuna\": 1, \"tiempo_total\": 32}, {\"id\": 84, \"nombre\": \"persona_84\", \"Siguiente Dosis\": \"2021/06/24\", \"Cita Reagendada\": \"\", \"tiempo_exam\": 20, \"tiempo_datos\": 2, \"tiempo_vacuna\": 5, \"tiempo_certificado\": 3, \"tiempo_salida\": 1, \"tiempo_espera\": 0, \"resultado_vacuna\": 1, \"tiempo_total\": 31}, {\"id\": 83, \"nombre\": \"persona_83\", \"Siguiente Dosis\": \"2021/06/24\", \"Cita Reagendada\": \"\", \"tiempo_exam\": 20, \"tiempo_datos\": 4, \"tiempo_vacuna\": 10, \"tiempo_certificado\": 3, \"tiempo_salida\": 4, \"tiempo_espera\": 0, \"resultado_vacuna\": 1, \"tiempo_total\": 41}, {\"id\": 86, \"nombre\": \"persona_86\", \"Siguiente Dosis\": \"2021/06/24\", \"Cita Reagendada\": \"\", \"tiempo_exam\": 20, \"tiempo_datos\": 3, \"tiempo_vacuna\": 5, \"tiempo_certificado\": 2, \"tiempo_salida\": 2, \"tiempo_espera\": 0, \"resultado_vacuna\": 1, \"tiempo_total\": 32}]}}, {\"mode\": \"vega-lite\"});\n",
       "</script>"
      ],
      "text/plain": [
       "alt.LayerChart(...)"
      ]
     },
     "execution_count": 16,
     "metadata": {},
     "output_type": "execute_result"
    }
   ],
   "source": [
    "alt.Chart(df_data[df_data['resultado_vacuna']==1]).mark_bar(color='orange').encode(\n",
    "    x=alt.X('nombre',sort=alt.EncodingSortField(field=\"id\", op=\"count\", order='ascending')),\n",
    "    y='tiempo_total'\n",
    "    )+alt.Chart(df_data[df_data['resultado_vacuna']==1]).mark_point(color='green').encode(\n",
    "        x=alt.X('nombre',sort=alt.EncodingSortField(field=\"id\", op=\"count\", order='ascending')),\n",
    "        y='tiempo_total').properties(title='Tiempo total - Recinto Jefferson Perez').interactive()"
   ]
  },
  {
   "cell_type": "markdown",
   "id": "85b4995a",
   "metadata": {},
   "source": [
    "<h2>Grafico del porcentaje de personas que no recibieron la vacuna.</h2>"
   ]
  },
  {
   "cell_type": "code",
   "execution_count": 17,
   "id": "5655b3de",
   "metadata": {},
   "outputs": [
    {
     "data": {
      "text/html": [
       "<div>\n",
       "<style scoped>\n",
       "    .dataframe tbody tr th:only-of-type {\n",
       "        vertical-align: middle;\n",
       "    }\n",
       "\n",
       "    .dataframe tbody tr th {\n",
       "        vertical-align: top;\n",
       "    }\n",
       "\n",
       "    .dataframe thead th {\n",
       "        text-align: right;\n",
       "    }\n",
       "</style>\n",
       "<table border=\"1\" class=\"dataframe\">\n",
       "  <thead>\n",
       "    <tr style=\"text-align: right;\">\n",
       "      <th></th>\n",
       "      <th>vacunados</th>\n",
       "      <th>values</th>\n",
       "    </tr>\n",
       "  </thead>\n",
       "  <tbody>\n",
       "    <tr>\n",
       "      <th>0</th>\n",
       "      <td>Si</td>\n",
       "      <td>0.661157</td>\n",
       "    </tr>\n",
       "    <tr>\n",
       "      <th>1</th>\n",
       "      <td>No</td>\n",
       "      <td>0.338843</td>\n",
       "    </tr>\n",
       "  </tbody>\n",
       "</table>\n",
       "</div>"
      ],
      "text/plain": [
       "  vacunados    values\n",
       "0        Si  0.661157\n",
       "1        No  0.338843"
      ]
     },
     "execution_count": 17,
     "metadata": {},
     "output_type": "execute_result"
    }
   ],
   "source": [
    "dict_vacunas = {'vacunados':['Si','No'],\n",
    "               'values':[df_data.query('resultado_vacuna == \"1\"').count()[0]/len(df_data),\n",
    "                         df_data.query('resultado_vacuna == \"0\" ').count()[0]/len(df_data)]}\n",
    "dict_vacunas=pd.DataFrame(dict_vacunas)\n",
    "dict_vacunas"
   ]
  },
  {
   "cell_type": "code",
   "execution_count": 18,
   "id": "6d849020",
   "metadata": {},
   "outputs": [
    {
     "data": {
      "application/vnd.plotly.v1+json": {
       "config": {
        "plotlyServerURL": "https://plot.ly"
       },
       "data": [
        {
         "domain": {
          "x": [
           0,
           1
          ],
          "y": [
           0,
           1
          ]
         },
         "hovertemplate": "vacunados=%{label}<br>value=%{value}<extra></extra>",
         "labels": [
          "Si",
          "No"
         ],
         "legendgroup": "",
         "name": "",
         "showlegend": true,
         "type": "pie",
         "values": [
          0.6611570247933884,
          0.33884297520661155
         ]
        }
       ],
       "layout": {
        "height": 500,
        "legend": {
         "tracegroupgap": 0
        },
        "margin": {
         "t": 60
        },
        "piecolorway": [
         "rgb(237, 239, 93)",
         "rgb(169, 220, 103)",
         "rgb(110, 197, 116)",
         "rgb(57, 171, 126)",
         "rgb(13, 143, 129)",
         "rgb(15, 114, 121)",
         "rgb(36, 86, 104)"
        ],
        "template": {
         "data": {
          "bar": [
           {
            "error_x": {
             "color": "#2a3f5f"
            },
            "error_y": {
             "color": "#2a3f5f"
            },
            "marker": {
             "line": {
              "color": "#E5ECF6",
              "width": 0.5
             }
            },
            "type": "bar"
           }
          ],
          "barpolar": [
           {
            "marker": {
             "line": {
              "color": "#E5ECF6",
              "width": 0.5
             }
            },
            "type": "barpolar"
           }
          ],
          "carpet": [
           {
            "aaxis": {
             "endlinecolor": "#2a3f5f",
             "gridcolor": "white",
             "linecolor": "white",
             "minorgridcolor": "white",
             "startlinecolor": "#2a3f5f"
            },
            "baxis": {
             "endlinecolor": "#2a3f5f",
             "gridcolor": "white",
             "linecolor": "white",
             "minorgridcolor": "white",
             "startlinecolor": "#2a3f5f"
            },
            "type": "carpet"
           }
          ],
          "choropleth": [
           {
            "colorbar": {
             "outlinewidth": 0,
             "ticks": ""
            },
            "type": "choropleth"
           }
          ],
          "contour": [
           {
            "colorbar": {
             "outlinewidth": 0,
             "ticks": ""
            },
            "colorscale": [
             [
              0,
              "#0d0887"
             ],
             [
              0.1111111111111111,
              "#46039f"
             ],
             [
              0.2222222222222222,
              "#7201a8"
             ],
             [
              0.3333333333333333,
              "#9c179e"
             ],
             [
              0.4444444444444444,
              "#bd3786"
             ],
             [
              0.5555555555555556,
              "#d8576b"
             ],
             [
              0.6666666666666666,
              "#ed7953"
             ],
             [
              0.7777777777777778,
              "#fb9f3a"
             ],
             [
              0.8888888888888888,
              "#fdca26"
             ],
             [
              1,
              "#f0f921"
             ]
            ],
            "type": "contour"
           }
          ],
          "contourcarpet": [
           {
            "colorbar": {
             "outlinewidth": 0,
             "ticks": ""
            },
            "type": "contourcarpet"
           }
          ],
          "heatmap": [
           {
            "colorbar": {
             "outlinewidth": 0,
             "ticks": ""
            },
            "colorscale": [
             [
              0,
              "#0d0887"
             ],
             [
              0.1111111111111111,
              "#46039f"
             ],
             [
              0.2222222222222222,
              "#7201a8"
             ],
             [
              0.3333333333333333,
              "#9c179e"
             ],
             [
              0.4444444444444444,
              "#bd3786"
             ],
             [
              0.5555555555555556,
              "#d8576b"
             ],
             [
              0.6666666666666666,
              "#ed7953"
             ],
             [
              0.7777777777777778,
              "#fb9f3a"
             ],
             [
              0.8888888888888888,
              "#fdca26"
             ],
             [
              1,
              "#f0f921"
             ]
            ],
            "type": "heatmap"
           }
          ],
          "heatmapgl": [
           {
            "colorbar": {
             "outlinewidth": 0,
             "ticks": ""
            },
            "colorscale": [
             [
              0,
              "#0d0887"
             ],
             [
              0.1111111111111111,
              "#46039f"
             ],
             [
              0.2222222222222222,
              "#7201a8"
             ],
             [
              0.3333333333333333,
              "#9c179e"
             ],
             [
              0.4444444444444444,
              "#bd3786"
             ],
             [
              0.5555555555555556,
              "#d8576b"
             ],
             [
              0.6666666666666666,
              "#ed7953"
             ],
             [
              0.7777777777777778,
              "#fb9f3a"
             ],
             [
              0.8888888888888888,
              "#fdca26"
             ],
             [
              1,
              "#f0f921"
             ]
            ],
            "type": "heatmapgl"
           }
          ],
          "histogram": [
           {
            "marker": {
             "colorbar": {
              "outlinewidth": 0,
              "ticks": ""
             }
            },
            "type": "histogram"
           }
          ],
          "histogram2d": [
           {
            "colorbar": {
             "outlinewidth": 0,
             "ticks": ""
            },
            "colorscale": [
             [
              0,
              "#0d0887"
             ],
             [
              0.1111111111111111,
              "#46039f"
             ],
             [
              0.2222222222222222,
              "#7201a8"
             ],
             [
              0.3333333333333333,
              "#9c179e"
             ],
             [
              0.4444444444444444,
              "#bd3786"
             ],
             [
              0.5555555555555556,
              "#d8576b"
             ],
             [
              0.6666666666666666,
              "#ed7953"
             ],
             [
              0.7777777777777778,
              "#fb9f3a"
             ],
             [
              0.8888888888888888,
              "#fdca26"
             ],
             [
              1,
              "#f0f921"
             ]
            ],
            "type": "histogram2d"
           }
          ],
          "histogram2dcontour": [
           {
            "colorbar": {
             "outlinewidth": 0,
             "ticks": ""
            },
            "colorscale": [
             [
              0,
              "#0d0887"
             ],
             [
              0.1111111111111111,
              "#46039f"
             ],
             [
              0.2222222222222222,
              "#7201a8"
             ],
             [
              0.3333333333333333,
              "#9c179e"
             ],
             [
              0.4444444444444444,
              "#bd3786"
             ],
             [
              0.5555555555555556,
              "#d8576b"
             ],
             [
              0.6666666666666666,
              "#ed7953"
             ],
             [
              0.7777777777777778,
              "#fb9f3a"
             ],
             [
              0.8888888888888888,
              "#fdca26"
             ],
             [
              1,
              "#f0f921"
             ]
            ],
            "type": "histogram2dcontour"
           }
          ],
          "mesh3d": [
           {
            "colorbar": {
             "outlinewidth": 0,
             "ticks": ""
            },
            "type": "mesh3d"
           }
          ],
          "parcoords": [
           {
            "line": {
             "colorbar": {
              "outlinewidth": 0,
              "ticks": ""
             }
            },
            "type": "parcoords"
           }
          ],
          "pie": [
           {
            "automargin": true,
            "type": "pie"
           }
          ],
          "scatter": [
           {
            "marker": {
             "colorbar": {
              "outlinewidth": 0,
              "ticks": ""
             }
            },
            "type": "scatter"
           }
          ],
          "scatter3d": [
           {
            "line": {
             "colorbar": {
              "outlinewidth": 0,
              "ticks": ""
             }
            },
            "marker": {
             "colorbar": {
              "outlinewidth": 0,
              "ticks": ""
             }
            },
            "type": "scatter3d"
           }
          ],
          "scattercarpet": [
           {
            "marker": {
             "colorbar": {
              "outlinewidth": 0,
              "ticks": ""
             }
            },
            "type": "scattercarpet"
           }
          ],
          "scattergeo": [
           {
            "marker": {
             "colorbar": {
              "outlinewidth": 0,
              "ticks": ""
             }
            },
            "type": "scattergeo"
           }
          ],
          "scattergl": [
           {
            "marker": {
             "colorbar": {
              "outlinewidth": 0,
              "ticks": ""
             }
            },
            "type": "scattergl"
           }
          ],
          "scattermapbox": [
           {
            "marker": {
             "colorbar": {
              "outlinewidth": 0,
              "ticks": ""
             }
            },
            "type": "scattermapbox"
           }
          ],
          "scatterpolar": [
           {
            "marker": {
             "colorbar": {
              "outlinewidth": 0,
              "ticks": ""
             }
            },
            "type": "scatterpolar"
           }
          ],
          "scatterpolargl": [
           {
            "marker": {
             "colorbar": {
              "outlinewidth": 0,
              "ticks": ""
             }
            },
            "type": "scatterpolargl"
           }
          ],
          "scatterternary": [
           {
            "marker": {
             "colorbar": {
              "outlinewidth": 0,
              "ticks": ""
             }
            },
            "type": "scatterternary"
           }
          ],
          "surface": [
           {
            "colorbar": {
             "outlinewidth": 0,
             "ticks": ""
            },
            "colorscale": [
             [
              0,
              "#0d0887"
             ],
             [
              0.1111111111111111,
              "#46039f"
             ],
             [
              0.2222222222222222,
              "#7201a8"
             ],
             [
              0.3333333333333333,
              "#9c179e"
             ],
             [
              0.4444444444444444,
              "#bd3786"
             ],
             [
              0.5555555555555556,
              "#d8576b"
             ],
             [
              0.6666666666666666,
              "#ed7953"
             ],
             [
              0.7777777777777778,
              "#fb9f3a"
             ],
             [
              0.8888888888888888,
              "#fdca26"
             ],
             [
              1,
              "#f0f921"
             ]
            ],
            "type": "surface"
           }
          ],
          "table": [
           {
            "cells": {
             "fill": {
              "color": "#EBF0F8"
             },
             "line": {
              "color": "white"
             }
            },
            "header": {
             "fill": {
              "color": "#C8D4E3"
             },
             "line": {
              "color": "white"
             }
            },
            "type": "table"
           }
          ]
         },
         "layout": {
          "annotationdefaults": {
           "arrowcolor": "#2a3f5f",
           "arrowhead": 0,
           "arrowwidth": 1
          },
          "autotypenumbers": "strict",
          "coloraxis": {
           "colorbar": {
            "outlinewidth": 0,
            "ticks": ""
           }
          },
          "colorscale": {
           "diverging": [
            [
             0,
             "#8e0152"
            ],
            [
             0.1,
             "#c51b7d"
            ],
            [
             0.2,
             "#de77ae"
            ],
            [
             0.3,
             "#f1b6da"
            ],
            [
             0.4,
             "#fde0ef"
            ],
            [
             0.5,
             "#f7f7f7"
            ],
            [
             0.6,
             "#e6f5d0"
            ],
            [
             0.7,
             "#b8e186"
            ],
            [
             0.8,
             "#7fbc41"
            ],
            [
             0.9,
             "#4d9221"
            ],
            [
             1,
             "#276419"
            ]
           ],
           "sequential": [
            [
             0,
             "#0d0887"
            ],
            [
             0.1111111111111111,
             "#46039f"
            ],
            [
             0.2222222222222222,
             "#7201a8"
            ],
            [
             0.3333333333333333,
             "#9c179e"
            ],
            [
             0.4444444444444444,
             "#bd3786"
            ],
            [
             0.5555555555555556,
             "#d8576b"
            ],
            [
             0.6666666666666666,
             "#ed7953"
            ],
            [
             0.7777777777777778,
             "#fb9f3a"
            ],
            [
             0.8888888888888888,
             "#fdca26"
            ],
            [
             1,
             "#f0f921"
            ]
           ],
           "sequentialminus": [
            [
             0,
             "#0d0887"
            ],
            [
             0.1111111111111111,
             "#46039f"
            ],
            [
             0.2222222222222222,
             "#7201a8"
            ],
            [
             0.3333333333333333,
             "#9c179e"
            ],
            [
             0.4444444444444444,
             "#bd3786"
            ],
            [
             0.5555555555555556,
             "#d8576b"
            ],
            [
             0.6666666666666666,
             "#ed7953"
            ],
            [
             0.7777777777777778,
             "#fb9f3a"
            ],
            [
             0.8888888888888888,
             "#fdca26"
            ],
            [
             1,
             "#f0f921"
            ]
           ]
          },
          "colorway": [
           "#636efa",
           "#EF553B",
           "#00cc96",
           "#ab63fa",
           "#FFA15A",
           "#19d3f3",
           "#FF6692",
           "#B6E880",
           "#FF97FF",
           "#FECB52"
          ],
          "font": {
           "color": "#2a3f5f"
          },
          "geo": {
           "bgcolor": "white",
           "lakecolor": "white",
           "landcolor": "#E5ECF6",
           "showlakes": true,
           "showland": true,
           "subunitcolor": "white"
          },
          "hoverlabel": {
           "align": "left"
          },
          "hovermode": "closest",
          "mapbox": {
           "style": "light"
          },
          "paper_bgcolor": "white",
          "plot_bgcolor": "#E5ECF6",
          "polar": {
           "angularaxis": {
            "gridcolor": "white",
            "linecolor": "white",
            "ticks": ""
           },
           "bgcolor": "#E5ECF6",
           "radialaxis": {
            "gridcolor": "white",
            "linecolor": "white",
            "ticks": ""
           }
          },
          "scene": {
           "xaxis": {
            "backgroundcolor": "#E5ECF6",
            "gridcolor": "white",
            "gridwidth": 2,
            "linecolor": "white",
            "showbackground": true,
            "ticks": "",
            "zerolinecolor": "white"
           },
           "yaxis": {
            "backgroundcolor": "#E5ECF6",
            "gridcolor": "white",
            "gridwidth": 2,
            "linecolor": "white",
            "showbackground": true,
            "ticks": "",
            "zerolinecolor": "white"
           },
           "zaxis": {
            "backgroundcolor": "#E5ECF6",
            "gridcolor": "white",
            "gridwidth": 2,
            "linecolor": "white",
            "showbackground": true,
            "ticks": "",
            "zerolinecolor": "white"
           }
          },
          "shapedefaults": {
           "line": {
            "color": "#2a3f5f"
           }
          },
          "ternary": {
           "aaxis": {
            "gridcolor": "white",
            "linecolor": "white",
            "ticks": ""
           },
           "baxis": {
            "gridcolor": "white",
            "linecolor": "white",
            "ticks": ""
           },
           "bgcolor": "#E5ECF6",
           "caxis": {
            "gridcolor": "white",
            "linecolor": "white",
            "ticks": ""
           }
          },
          "title": {
           "x": 0.05
          },
          "xaxis": {
           "automargin": true,
           "gridcolor": "white",
           "linecolor": "white",
           "ticks": "",
           "title": {
            "standoff": 15
           },
           "zerolinecolor": "white",
           "zerolinewidth": 2
          },
          "yaxis": {
           "automargin": true,
           "gridcolor": "white",
           "linecolor": "white",
           "ticks": "",
           "title": {
            "standoff": 15
           },
           "zerolinecolor": "white",
           "zerolinewidth": 2
          }
         }
        },
        "title": {
         "text": "% De Personas Vacunadas",
         "x": 0.5
        },
        "width": 500
       }
      },
      "image/png": "[encoded data removed]",
      "text/html": [
       "<div>                            <div id=\"9c2ba879-0da3-400f-8f7b-dc0e6964dafa\" class=\"plotly-graph-div\" style=\"height:500px; width:500px;\"></div>            <script type=\"text/javascript\">                require([\"plotly\"], function(Plotly) {                    window.PLOTLYENV=window.PLOTLYENV || {};                                    if (document.getElementById(\"9c2ba879-0da3-400f-8f7b-dc0e6964dafa\")) {                    Plotly.newPlot(                        \"9c2ba879-0da3-400f-8f7b-dc0e6964dafa\",                        [{\"domain\": {\"x\": [0.0, 1.0], \"y\": [0.0, 1.0]}, \"hovertemplate\": \"vacunados=%{label}<br>value=%{value}<extra></extra>\", \"labels\": [\"Si\", \"No\"], \"legendgroup\": \"\", \"name\": \"\", \"showlegend\": true, \"type\": \"pie\", \"values\": [0.6611570247933884, 0.33884297520661155]}],                        {\"height\": 500, \"legend\": {\"tracegroupgap\": 0}, \"margin\": {\"t\": 60}, \"piecolorway\": [\"rgb(237, 239, 93)\", \"rgb(169, 220, 103)\", \"rgb(110, 197, 116)\", \"rgb(57, 171, 126)\", \"rgb(13, 143, 129)\", \"rgb(15, 114, 121)\", \"rgb(36, 86, 104)\"], \"template\": {\"data\": {\"bar\": [{\"error_x\": {\"color\": \"#2a3f5f\"}, \"error_y\": {\"color\": \"#2a3f5f\"}, \"marker\": {\"line\": {\"color\": \"#E5ECF6\", \"width\": 0.5}}, \"type\": \"bar\"}], \"barpolar\": [{\"marker\": {\"line\": {\"color\": \"#E5ECF6\", \"width\": 0.5}}, \"type\": \"barpolar\"}], \"carpet\": [{\"aaxis\": {\"endlinecolor\": \"#2a3f5f\", \"gridcolor\": \"white\", \"linecolor\": \"white\", \"minorgridcolor\": \"white\", \"startlinecolor\": \"#2a3f5f\"}, \"baxis\": {\"endlinecolor\": \"#2a3f5f\", \"gridcolor\": \"white\", \"linecolor\": \"white\", \"minorgridcolor\": \"white\", \"startlinecolor\": \"#2a3f5f\"}, \"type\": \"carpet\"}], \"choropleth\": [{\"colorbar\": {\"outlinewidth\": 0, \"ticks\": \"\"}, \"type\": \"choropleth\"}], \"contour\": [{\"colorbar\": {\"outlinewidth\": 0, \"ticks\": \"\"}, \"colorscale\": [[0.0, \"#0d0887\"], [0.1111111111111111, \"#46039f\"], [0.2222222222222222, \"#7201a8\"], [0.3333333333333333, \"#9c179e\"], [0.4444444444444444, \"#bd3786\"], [0.5555555555555556, \"#d8576b\"], [0.6666666666666666, \"#ed7953\"], [0.7777777777777778, \"#fb9f3a\"], [0.8888888888888888, \"#fdca26\"], [1.0, \"#f0f921\"]], \"type\": \"contour\"}], \"contourcarpet\": [{\"colorbar\": {\"outlinewidth\": 0, \"ticks\": \"\"}, \"type\": \"contourcarpet\"}], \"heatmap\": [{\"colorbar\": {\"outlinewidth\": 0, \"ticks\": \"\"}, \"colorscale\": [[0.0, \"#0d0887\"], [0.1111111111111111, \"#46039f\"], [0.2222222222222222, \"#7201a8\"], [0.3333333333333333, \"#9c179e\"], [0.4444444444444444, \"#bd3786\"], [0.5555555555555556, \"#d8576b\"], [0.6666666666666666, \"#ed7953\"], [0.7777777777777778, \"#fb9f3a\"], [0.8888888888888888, \"#fdca26\"], [1.0, \"#f0f921\"]], \"type\": \"heatmap\"}], \"heatmapgl\": [{\"colorbar\": {\"outlinewidth\": 0, \"ticks\": \"\"}, \"colorscale\": [[0.0, \"#0d0887\"], [0.1111111111111111, \"#46039f\"], [0.2222222222222222, \"#7201a8\"], [0.3333333333333333, \"#9c179e\"], [0.4444444444444444, \"#bd3786\"], [0.5555555555555556, \"#d8576b\"], [0.6666666666666666, \"#ed7953\"], [0.7777777777777778, \"#fb9f3a\"], [0.8888888888888888, \"#fdca26\"], [1.0, \"#f0f921\"]], \"type\": \"heatmapgl\"}], \"histogram\": [{\"marker\": {\"colorbar\": {\"outlinewidth\": 0, \"ticks\": \"\"}}, \"type\": \"histogram\"}], \"histogram2d\": [{\"colorbar\": {\"outlinewidth\": 0, \"ticks\": \"\"}, \"colorscale\": [[0.0, \"#0d0887\"], [0.1111111111111111, \"#46039f\"], [0.2222222222222222, \"#7201a8\"], [0.3333333333333333, \"#9c179e\"], [0.4444444444444444, \"#bd3786\"], [0.5555555555555556, \"#d8576b\"], [0.6666666666666666, \"#ed7953\"], [0.7777777777777778, \"#fb9f3a\"], [0.8888888888888888, \"#fdca26\"], [1.0, \"#f0f921\"]], \"type\": \"histogram2d\"}], \"histogram2dcontour\": [{\"colorbar\": {\"outlinewidth\": 0, \"ticks\": \"\"}, \"colorscale\": [[0.0, \"#0d0887\"], [0.1111111111111111, \"#46039f\"], [0.2222222222222222, \"#7201a8\"], [0.3333333333333333, \"#9c179e\"], [0.4444444444444444, \"#bd3786\"], [0.5555555555555556, \"#d8576b\"], [0.6666666666666666, \"#ed7953\"], [0.7777777777777778, \"#fb9f3a\"], [0.8888888888888888, \"#fdca26\"], [1.0, \"#f0f921\"]], \"type\": \"histogram2dcontour\"}], \"mesh3d\": [{\"colorbar\": {\"outlinewidth\": 0, \"ticks\": \"\"}, \"type\": \"mesh3d\"}], \"parcoords\": [{\"line\": {\"colorbar\": {\"outlinewidth\": 0, \"ticks\": \"\"}}, \"type\": \"parcoords\"}], \"pie\": [{\"automargin\": true, \"type\": \"pie\"}], \"scatter\": [{\"marker\": {\"colorbar\": {\"outlinewidth\": 0, \"ticks\": \"\"}}, \"type\": \"scatter\"}], \"scatter3d\": [{\"line\": {\"colorbar\": {\"outlinewidth\": 0, \"ticks\": \"\"}}, \"marker\": {\"colorbar\": {\"outlinewidth\": 0, \"ticks\": \"\"}}, \"type\": \"scatter3d\"}], \"scattercarpet\": [{\"marker\": {\"colorbar\": {\"outlinewidth\": 0, \"ticks\": \"\"}}, \"type\": \"scattercarpet\"}], \"scattergeo\": [{\"marker\": {\"colorbar\": {\"outlinewidth\": 0, \"ticks\": \"\"}}, \"type\": \"scattergeo\"}], \"scattergl\": [{\"marker\": {\"colorbar\": {\"outlinewidth\": 0, \"ticks\": \"\"}}, \"type\": \"scattergl\"}], \"scattermapbox\": [{\"marker\": {\"colorbar\": {\"outlinewidth\": 0, \"ticks\": \"\"}}, \"type\": \"scattermapbox\"}], \"scatterpolar\": [{\"marker\": {\"colorbar\": {\"outlinewidth\": 0, \"ticks\": \"\"}}, \"type\": \"scatterpolar\"}], \"scatterpolargl\": [{\"marker\": {\"colorbar\": {\"outlinewidth\": 0, \"ticks\": \"\"}}, \"type\": \"scatterpolargl\"}], \"scatterternary\": [{\"marker\": {\"colorbar\": {\"outlinewidth\": 0, \"ticks\": \"\"}}, \"type\": \"scatterternary\"}], \"surface\": [{\"colorbar\": {\"outlinewidth\": 0, \"ticks\": \"\"}, \"colorscale\": [[0.0, \"#0d0887\"], [0.1111111111111111, \"#46039f\"], [0.2222222222222222, \"#7201a8\"], [0.3333333333333333, \"#9c179e\"], [0.4444444444444444, \"#bd3786\"], [0.5555555555555556, \"#d8576b\"], [0.6666666666666666, \"#ed7953\"], [0.7777777777777778, \"#fb9f3a\"], [0.8888888888888888, \"#fdca26\"], [1.0, \"#f0f921\"]], \"type\": \"surface\"}], \"table\": [{\"cells\": {\"fill\": {\"color\": \"#EBF0F8\"}, \"line\": {\"color\": \"white\"}}, \"header\": {\"fill\": {\"color\": \"#C8D4E3\"}, \"line\": {\"color\": \"white\"}}, \"type\": \"table\"}]}, \"layout\": {\"annotationdefaults\": {\"arrowcolor\": \"#2a3f5f\", \"arrowhead\": 0, \"arrowwidth\": 1}, \"autotypenumbers\": \"strict\", \"coloraxis\": {\"colorbar\": {\"outlinewidth\": 0, \"ticks\": \"\"}}, \"colorscale\": {\"diverging\": [[0, \"#8e0152\"], [0.1, \"#c51b7d\"], [0.2, \"#de77ae\"], [0.3, \"#f1b6da\"], [0.4, \"#fde0ef\"], [0.5, \"#f7f7f7\"], [0.6, \"#e6f5d0\"], [0.7, \"#b8e186\"], [0.8, \"#7fbc41\"], [0.9, \"#4d9221\"], [1, \"#276419\"]], \"sequential\": [[0.0, \"#0d0887\"], [0.1111111111111111, \"#46039f\"], [0.2222222222222222, \"#7201a8\"], [0.3333333333333333, \"#9c179e\"], [0.4444444444444444, \"#bd3786\"], [0.5555555555555556, \"#d8576b\"], [0.6666666666666666, \"#ed7953\"], [0.7777777777777778, \"#fb9f3a\"], [0.8888888888888888, \"#fdca26\"], [1.0, \"#f0f921\"]], \"sequentialminus\": [[0.0, \"#0d0887\"], [0.1111111111111111, \"#46039f\"], [0.2222222222222222, \"#7201a8\"], [0.3333333333333333, \"#9c179e\"], [0.4444444444444444, \"#bd3786\"], [0.5555555555555556, \"#d8576b\"], [0.6666666666666666, \"#ed7953\"], [0.7777777777777778, \"#fb9f3a\"], [0.8888888888888888, \"#fdca26\"], [1.0, \"#f0f921\"]]}, \"colorway\": [\"#636efa\", \"#EF553B\", \"#00cc96\", \"#ab63fa\", \"#FFA15A\", \"#19d3f3\", \"#FF6692\", \"#B6E880\", \"#FF97FF\", \"#FECB52\"], \"font\": {\"color\": \"#2a3f5f\"}, \"geo\": {\"bgcolor\": \"white\", \"lakecolor\": \"white\", \"landcolor\": \"#E5ECF6\", \"showlakes\": true, \"showland\": true, \"subunitcolor\": \"white\"}, \"hoverlabel\": {\"align\": \"left\"}, \"hovermode\": \"closest\", \"mapbox\": {\"style\": \"light\"}, \"paper_bgcolor\": \"white\", \"plot_bgcolor\": \"#E5ECF6\", \"polar\": {\"angularaxis\": {\"gridcolor\": \"white\", \"linecolor\": \"white\", \"ticks\": \"\"}, \"bgcolor\": \"#E5ECF6\", \"radialaxis\": {\"gridcolor\": \"white\", \"linecolor\": \"white\", \"ticks\": \"\"}}, \"scene\": {\"xaxis\": {\"backgroundcolor\": \"#E5ECF6\", \"gridcolor\": \"white\", \"gridwidth\": 2, \"linecolor\": \"white\", \"showbackground\": true, \"ticks\": \"\", \"zerolinecolor\": \"white\"}, \"yaxis\": {\"backgroundcolor\": \"#E5ECF6\", \"gridcolor\": \"white\", \"gridwidth\": 2, \"linecolor\": \"white\", \"showbackground\": true, \"ticks\": \"\", \"zerolinecolor\": \"white\"}, \"zaxis\": {\"backgroundcolor\": \"#E5ECF6\", \"gridcolor\": \"white\", \"gridwidth\": 2, \"linecolor\": \"white\", \"showbackground\": true, \"ticks\": \"\", \"zerolinecolor\": \"white\"}}, \"shapedefaults\": {\"line\": {\"color\": \"#2a3f5f\"}}, \"ternary\": {\"aaxis\": {\"gridcolor\": \"white\", \"linecolor\": \"white\", \"ticks\": \"\"}, \"baxis\": {\"gridcolor\": \"white\", \"linecolor\": \"white\", \"ticks\": \"\"}, \"bgcolor\": \"#E5ECF6\", \"caxis\": {\"gridcolor\": \"white\", \"linecolor\": \"white\", \"ticks\": \"\"}}, \"title\": {\"x\": 0.05}, \"xaxis\": {\"automargin\": true, \"gridcolor\": \"white\", \"linecolor\": \"white\", \"ticks\": \"\", \"title\": {\"standoff\": 15}, \"zerolinecolor\": \"white\", \"zerolinewidth\": 2}, \"yaxis\": {\"automargin\": true, \"gridcolor\": \"white\", \"linecolor\": \"white\", \"ticks\": \"\", \"title\": {\"standoff\": 15}, \"zerolinecolor\": \"white\", \"zerolinewidth\": 2}}}, \"title\": {\"text\": \"% De Personas Vacunadas\", \"x\": 0.5}, \"width\": 500},                        {\"responsive\": true}                    ).then(function(){\n",
       "                            \n",
       "var gd = document.getElementById('9c2ba879-0da3-400f-8f7b-dc0e6964dafa');\n",
       "var x = new MutationObserver(function (mutations, observer) {{\n",
       "        var display = window.getComputedStyle(gd).display;\n",
       "        if (!display || display === 'none') {{\n",
       "            console.log([gd, 'removed!']);\n",
       "            Plotly.purge(gd);\n",
       "            observer.disconnect();\n",
       "        }}\n",
       "}});\n",
       "\n",
       "// Listen for the removal of the full notebook cells\n",
       "var notebookContainer = gd.closest('#notebook-container');\n",
       "if (notebookContainer) {{\n",
       "    x.observe(notebookContainer, {childList: true});\n",
       "}}\n",
       "\n",
       "// Listen for the clearing of the current output cell\n",
       "var outputEl = gd.closest('.output');\n",
       "if (outputEl) {{\n",
       "    x.observe(outputEl, {childList: true});\n",
       "}}\n",
       "\n",
       "                        })                };                });            </script>        </div>"
      ]
     },
     "metadata": {},
     "output_type": "display_data"
    }
   ],
   "source": [
    "fig = px.pie(dict_vacunas, values=\"values\",\n",
    "             names=\"vacunados\", \n",
    "             color_discrete_sequence=px.colors.sequential.Aggrnyl_r,width=500,height=500)\n",
    "fig.update_layout(title_text='% De Personas Vacunadas', title_x=0.5)"
   ]
  },
  {
   "cell_type": "markdown",
   "id": "5f6b5817",
   "metadata": {},
   "source": [
    "<h2>Tiempo promedio de espera.</h2>"
   ]
  },
  {
   "cell_type": "code",
   "execution_count": 19,
   "id": "e534e748",
   "metadata": {},
   "outputs": [
    {
     "name": "stdout",
     "output_type": "stream",
     "text": [
      "Tiempo promedio de la espera es de 3.20\n"
     ]
    }
   ],
   "source": [
    "print('Tiempo promedio de la espera es de {:.2f}'.format(df_data['tiempo_espera'].mean()))"
   ]
  },
  {
   "cell_type": "code",
   "execution_count": 20,
   "id": "405a90bb",
   "metadata": {},
   "outputs": [
    {
     "data": {
      "text/html": [
       "\n",
       "<div id=\"altair-viz-641a2d8f6bd340978d0c21b46c9cf66a\"></div>\n",
       "<script type=\"text/javascript\">\n",
       "  (function(spec, embedOpt){\n",
       "    let outputDiv = document.currentScript.previousElementSibling;\n",
       "    if (outputDiv.id !== \"altair-viz-641a2d8f6bd340978d0c21b46c9cf66a\") {\n",
       "      outputDiv = document.getElementById(\"altair-viz-641a2d8f6bd340978d0c21b46c9cf66a\");\n",
       "    }\n",
       "    const paths = {\n",
       "      \"vega\": \"https://cdn.jsdelivr.net/npm//vega@5?noext\",\n",
       "      \"vega-lib\": \"https://cdn.jsdelivr.net/npm//vega-lib?noext\",\n",
       "      \"vega-lite\": \"https://cdn.jsdelivr.net/npm//vega-lite@4.8.1?noext\",\n",
       "      \"vega-embed\": \"https://cdn.jsdelivr.net/npm//vega-embed@6?noext\",\n",
       "    };\n",
       "\n",
       "    function loadScript(lib) {\n",
       "      return new Promise(function(resolve, reject) {\n",
       "        var s = document.createElement('script');\n",
       "        s.src = paths[lib];\n",
       "        s.async = true;\n",
       "        s.onload = () => resolve(paths[lib]);\n",
       "        s.onerror = () => reject(`Error loading script: ${paths[lib]}`);\n",
       "        document.getElementsByTagName(\"head\")[0].appendChild(s);\n",
       "      });\n",
       "    }\n",
       "\n",
       "    function showError(err) {\n",
       "      outputDiv.innerHTML = `<div class=\"error\" style=\"color:red;\">${err}</div>`;\n",
       "      throw err;\n",
       "    }\n",
       "\n",
       "    function displayChart(vegaEmbed) {\n",
       "      vegaEmbed(outputDiv, spec, embedOpt)\n",
       "        .catch(err => showError(`Javascript Error: ${err.message}<br>This usually means there's a typo in your chart specification. See the javascript console for the full traceback.`));\n",
       "    }\n",
       "\n",
       "    if(typeof define === \"function\" && define.amd) {\n",
       "      requirejs.config({paths});\n",
       "      require([\"vega-embed\"], displayChart, err => showError(`Error loading script: ${err.message}`));\n",
       "    } else if (typeof vegaEmbed === \"function\") {\n",
       "      displayChart(vegaEmbed);\n",
       "    } else {\n",
       "      loadScript(\"vega\")\n",
       "        .then(() => loadScript(\"vega-lite\"))\n",
       "        .then(() => loadScript(\"vega-embed\"))\n",
       "        .catch(showError)\n",
       "        .then(() => displayChart(vegaEmbed));\n",
       "    }\n",
       "  })({\"config\": {\"view\": {\"continuousWidth\": 400, \"continuousHeight\": 300}}, \"layer\": [{\"data\": {\"name\": \"data-e67a8a041bbb280e24d793c1bc680c79\"}, \"mark\": {\"type\": \"bar\", \"color\": \"orange\"}, \"encoding\": {\"x\": {\"type\": \"nominal\", \"field\": \"nombre\", \"sort\": {\"field\": \"id\", \"op\": \"count\", \"order\": \"ascending\"}}, \"y\": {\"type\": \"quantitative\", \"field\": \"tiempo_espera\"}}}, {\"data\": {\"name\": \"data-e67a8a041bbb280e24d793c1bc680c79\"}, \"mark\": {\"type\": \"point\", \"color\": \"green\"}, \"encoding\": {\"x\": {\"type\": \"nominal\", \"field\": \"nombre\", \"sort\": {\"field\": \"id\", \"op\": \"count\", \"order\": \"ascending\"}}, \"y\": {\"type\": \"quantitative\", \"field\": \"tiempo_espera\"}}, \"selection\": {\"selector002\": {\"type\": \"interval\", \"bind\": \"scales\", \"encodings\": [\"x\", \"y\"]}}, \"title\": \"Tiempo de espera - Recinto Jefferson Perez\"}], \"$schema\": \"https://vega.github.io/schema/vega-lite/v4.8.1.json\", \"datasets\": {\"data-e67a8a041bbb280e24d793c1bc680c79\": [{\"id\": 4, \"nombre\": \"persona_4\", \"Siguiente Dosis\": \"2021/06/24\", \"Cita Reagendada\": \"\", \"tiempo_exam\": 20, \"tiempo_datos\": 2, \"tiempo_vacuna\": 6, \"tiempo_certificado\": 1, \"tiempo_salida\": 4, \"tiempo_espera\": 0, \"resultado_vacuna\": 1, \"tiempo_total\": 33}, {\"id\": 3, \"nombre\": \"persona_3\", \"Siguiente Dosis\": \"2021/06/24\", \"Cita Reagendada\": \"\", \"tiempo_exam\": 20, \"tiempo_datos\": 2, \"tiempo_vacuna\": 6, \"tiempo_certificado\": 2, \"tiempo_salida\": 2, \"tiempo_espera\": 0, \"resultado_vacuna\": 1, \"tiempo_total\": 32}, {\"id\": 2, \"nombre\": \"persona_2\", \"Siguiente Dosis\": \"2021/06/24\", \"Cita Reagendada\": \"\", \"tiempo_exam\": 20, \"tiempo_datos\": 2, \"tiempo_vacuna\": 6, \"tiempo_certificado\": 3, \"tiempo_salida\": 4, \"tiempo_espera\": 0, \"resultado_vacuna\": 1, \"tiempo_total\": 35}, {\"id\": 1, \"nombre\": \"persona_1\", \"Siguiente Dosis\": \"2021/06/24\", \"Cita Reagendada\": \"\", \"tiempo_exam\": 20, \"tiempo_datos\": 2, \"tiempo_vacuna\": 7, \"tiempo_certificado\": 3, \"tiempo_salida\": 2, \"tiempo_espera\": 0, \"resultado_vacuna\": 1, \"tiempo_total\": 34}, {\"id\": 0, \"nombre\": \"persona_0\", \"Siguiente Dosis\": \"2021/06/24\", \"Cita Reagendada\": \"\", \"tiempo_exam\": 20, \"tiempo_datos\": 4, \"tiempo_vacuna\": 7, \"tiempo_certificado\": 3, \"tiempo_salida\": 5, \"tiempo_espera\": 0, \"resultado_vacuna\": 1, \"tiempo_total\": 39}, {\"id\": 7, \"nombre\": \"persona_7\", \"Siguiente Dosis\": \"2021/06/24\", \"Cita Reagendada\": \"\", \"tiempo_exam\": 20, \"tiempo_datos\": 2, \"tiempo_vacuna\": 6, \"tiempo_certificado\": 2, \"tiempo_salida\": 5, \"tiempo_espera\": 16, \"resultado_vacuna\": 1, \"tiempo_total\": 35}, {\"id\": 8, \"nombre\": \"persona_8\", \"Siguiente Dosis\": \"2021/06/24\", \"Cita Reagendada\": \"\", \"tiempo_exam\": 20, \"tiempo_datos\": 2, \"tiempo_vacuna\": 6, \"tiempo_certificado\": 2, \"tiempo_salida\": 5, \"tiempo_espera\": 12, \"resultado_vacuna\": 1, \"tiempo_total\": 35}, {\"id\": 9, \"nombre\": \"persona_9\", \"Siguiente Dosis\": \"2021/06/24\", \"Cita Reagendada\": \"\", \"tiempo_exam\": 20, \"tiempo_datos\": 2, \"tiempo_vacuna\": 9, \"tiempo_certificado\": 1, \"tiempo_salida\": 2, \"tiempo_espera\": 8, \"resultado_vacuna\": 1, \"tiempo_total\": 34}, {\"id\": 5, \"nombre\": \"persona_5\", \"Siguiente Dosis\": \"2021/06/24\", \"Cita Reagendada\": \"\", \"tiempo_exam\": 20, \"tiempo_datos\": 4, \"tiempo_vacuna\": 7, \"tiempo_certificado\": 3, \"tiempo_salida\": 4, \"tiempo_espera\": 20, \"resultado_vacuna\": 1, \"tiempo_total\": 38}, {\"id\": 6, \"nombre\": \"persona_6\", \"Siguiente Dosis\": \"2021/06/24\", \"Cita Reagendada\": \"\", \"tiempo_exam\": 20, \"tiempo_datos\": 2, \"tiempo_vacuna\": 10, \"tiempo_certificado\": 3, \"tiempo_salida\": 2, \"tiempo_espera\": 20, \"resultado_vacuna\": 1, \"tiempo_total\": 37}, {\"id\": 11, \"nombre\": \"persona_11\", \"Siguiente Dosis\": \"2021/06/24\", \"Cita Reagendada\": \"\", \"tiempo_exam\": 20, \"tiempo_datos\": 2, \"tiempo_vacuna\": 5, \"tiempo_certificado\": 2, \"tiempo_salida\": 4, \"tiempo_espera\": 18, \"resultado_vacuna\": 1, \"tiempo_total\": 33}, {\"id\": 12, \"nombre\": \"persona_12\", \"Siguiente Dosis\": \"2021/06/24\", \"Cita Reagendada\": \"\", \"tiempo_exam\": 20, \"tiempo_datos\": 2, \"tiempo_vacuna\": 7, \"tiempo_certificado\": 1, \"tiempo_salida\": 3, \"tiempo_espera\": 14, \"resultado_vacuna\": 1, \"tiempo_total\": 33}, {\"id\": 10, \"nombre\": \"persona_10\", \"Siguiente Dosis\": \"2021/06/24\", \"Cita Reagendada\": \"\", \"tiempo_exam\": 20, \"tiempo_datos\": 3, \"tiempo_vacuna\": 8, \"tiempo_certificado\": 1, \"tiempo_salida\": 5, \"tiempo_espera\": 23, \"resultado_vacuna\": 1, \"tiempo_total\": 37}, {\"id\": 14, \"nombre\": \"persona_14\", \"Siguiente Dosis\": \"2021/06/24\", \"Cita Reagendada\": \"\", \"tiempo_exam\": 20, \"tiempo_datos\": 4, \"tiempo_vacuna\": 7, \"tiempo_certificado\": 1, \"tiempo_salida\": 3, \"tiempo_espera\": 6, \"resultado_vacuna\": 1, \"tiempo_total\": 35}, {\"id\": 13, \"nombre\": \"persona_13\", \"Siguiente Dosis\": \"2021/06/24\", \"Cita Reagendada\": \"\", \"tiempo_exam\": 20, \"tiempo_datos\": 3, \"tiempo_vacuna\": 8, \"tiempo_certificado\": 2, \"tiempo_salida\": 4, \"tiempo_espera\": 10, \"resultado_vacuna\": 1, \"tiempo_total\": 37}, {\"id\": 16, \"nombre\": \"persona_16\", \"Siguiente Dosis\": \"2021/06/24\", \"Cita Reagendada\": \"\", \"tiempo_exam\": 20, \"tiempo_datos\": 3, \"tiempo_vacuna\": 5, \"tiempo_certificado\": 2, \"tiempo_salida\": 5, \"tiempo_espera\": 17, \"resultado_vacuna\": 1, \"tiempo_total\": 35}, {\"id\": 18, \"nombre\": \"persona_18\", \"Siguiente Dosis\": \"2021/06/24\", \"Cita Reagendada\": \"\", \"tiempo_exam\": 20, \"tiempo_datos\": 3, \"tiempo_vacuna\": 6, \"tiempo_certificado\": 1, \"tiempo_salida\": 1, \"tiempo_espera\": 9, \"resultado_vacuna\": 1, \"tiempo_total\": 31}, {\"id\": 15, \"nombre\": \"persona_15\", \"Siguiente Dosis\": \"2021/06/24\", \"Cita Reagendada\": \"\", \"tiempo_exam\": 20, \"tiempo_datos\": 3, \"tiempo_vacuna\": 8, \"tiempo_certificado\": 2, \"tiempo_salida\": 2, \"tiempo_espera\": 21, \"resultado_vacuna\": 1, \"tiempo_total\": 35}, {\"id\": 19, \"nombre\": \"persona_19\", \"Siguiente Dosis\": \"2021/06/24\", \"Cita Reagendada\": \"\", \"tiempo_exam\": 20, \"tiempo_datos\": 3, \"tiempo_vacuna\": 8, \"tiempo_certificado\": 2, \"tiempo_salida\": 3, \"tiempo_espera\": 4, \"resultado_vacuna\": 1, \"tiempo_total\": 36}, {\"id\": 17, \"nombre\": \"persona_17\", \"Siguiente Dosis\": \"2021/06/24\", \"Cita Reagendada\": \"\", \"tiempo_exam\": 20, \"tiempo_datos\": 4, \"tiempo_vacuna\": 9, \"tiempo_certificado\": 3, \"tiempo_salida\": 3, \"tiempo_espera\": 13, \"resultado_vacuna\": 1, \"tiempo_total\": 39}, {\"id\": 23, \"nombre\": \"persona_23\", \"Siguiente Dosis\": \"2021/06/24\", \"Cita Reagendada\": \"\", \"tiempo_exam\": 20, \"tiempo_datos\": 4, \"tiempo_vacuna\": 5, \"tiempo_certificado\": 2, \"tiempo_salida\": 2, \"tiempo_espera\": 6, \"resultado_vacuna\": 1, \"tiempo_total\": 33}, {\"id\": 20, \"nombre\": \"persona_20\", \"Siguiente Dosis\": \"2021/06/24\", \"Cita Reagendada\": \"\", \"tiempo_exam\": 20, \"tiempo_datos\": 3, \"tiempo_vacuna\": 6, \"tiempo_certificado\": 3, \"tiempo_salida\": 3, \"tiempo_espera\": 20, \"resultado_vacuna\": 1, \"tiempo_total\": 35}, {\"id\": 22, \"nombre\": \"persona_22\", \"Siguiente Dosis\": \"2021/06/24\", \"Cita Reagendada\": \"\", \"tiempo_exam\": 20, \"tiempo_datos\": 4, \"tiempo_vacuna\": 5, \"tiempo_certificado\": 3, \"tiempo_salida\": 1, \"tiempo_espera\": 11, \"resultado_vacuna\": 1, \"tiempo_total\": 33}, {\"id\": 24, \"nombre\": \"persona_24\", \"Siguiente Dosis\": \"2021/06/24\", \"Cita Reagendada\": \"\", \"tiempo_exam\": 20, \"tiempo_datos\": 3, \"tiempo_vacuna\": 9, \"tiempo_certificado\": 1, \"tiempo_salida\": 4, \"tiempo_espera\": 2, \"resultado_vacuna\": 1, \"tiempo_total\": 37}, {\"id\": 21, \"nombre\": \"persona_21\", \"Siguiente Dosis\": \"2021/06/24\", \"Cita Reagendada\": \"\", \"tiempo_exam\": 20, \"tiempo_datos\": 2, \"tiempo_vacuna\": 10, \"tiempo_certificado\": 3, \"tiempo_salida\": 5, \"tiempo_espera\": 15, \"resultado_vacuna\": 1, \"tiempo_total\": 40}, {\"id\": 25, \"nombre\": \"persona_25\", \"Siguiente Dosis\": \"2021/06/24\", \"Cita Reagendada\": \"\", \"tiempo_exam\": 20, \"tiempo_datos\": 4, \"tiempo_vacuna\": 5, \"tiempo_certificado\": 3, \"tiempo_salida\": 2, \"tiempo_espera\": 17, \"resultado_vacuna\": 1, \"tiempo_total\": 34}, {\"id\": 29, \"nombre\": \"persona_29\", \"Siguiente Dosis\": \"2021/06/24\", \"Cita Reagendada\": \"\", \"tiempo_exam\": 20, \"tiempo_datos\": 3, \"tiempo_vacuna\": 6, \"tiempo_certificado\": 2, \"tiempo_salida\": 1, \"tiempo_espera\": 0, \"resultado_vacuna\": 1, \"tiempo_total\": 32}, {\"id\": 28, \"nombre\": \"persona_28\", \"Siguiente Dosis\": \"2021/06/24\", \"Cita Reagendada\": \"\", \"tiempo_exam\": 20, \"tiempo_datos\": 4, \"tiempo_vacuna\": 7, \"tiempo_certificado\": 2, \"tiempo_salida\": 5, \"tiempo_espera\": 3, \"resultado_vacuna\": 1, \"tiempo_total\": 38}, {\"id\": 26, \"nombre\": \"persona_26\", \"Siguiente Dosis\": \"2021/06/24\", \"Cita Reagendada\": \"\", \"tiempo_exam\": 20, \"tiempo_datos\": 2, \"tiempo_vacuna\": 10, \"tiempo_certificado\": 2, \"tiempo_salida\": 1, \"tiempo_espera\": 12, \"resultado_vacuna\": 1, \"tiempo_total\": 35}, {\"id\": 27, \"nombre\": \"persona_27\", \"Siguiente Dosis\": \"2021/06/24\", \"Cita Reagendada\": \"\", \"tiempo_exam\": 20, \"tiempo_datos\": 4, \"tiempo_vacuna\": 9, \"tiempo_certificado\": 2, \"tiempo_salida\": 5, \"tiempo_espera\": 8, \"resultado_vacuna\": 1, \"tiempo_total\": 40}, {\"id\": 31, \"nombre\": \"persona_31\", \"Siguiente Dosis\": \"2021/06/24\", \"Cita Reagendada\": \"\", \"tiempo_exam\": 20, \"tiempo_datos\": 4, \"tiempo_vacuna\": 5, \"tiempo_certificado\": 2, \"tiempo_salida\": 3, \"tiempo_espera\": 10, \"resultado_vacuna\": 1, \"tiempo_total\": 34}, {\"id\": 32, \"nombre\": \"persona_32\", \"Siguiente Dosis\": \"2021/06/24\", \"Cita Reagendada\": \"\", \"tiempo_exam\": 20, \"tiempo_datos\": 3, \"tiempo_vacuna\": 7, \"tiempo_certificado\": 1, \"tiempo_salida\": 3, \"tiempo_espera\": 5, \"resultado_vacuna\": 1, \"tiempo_total\": 34}, {\"id\": 33, \"nombre\": \"persona_33\", \"Siguiente Dosis\": \"2021/06/24\", \"Cita Reagendada\": \"\", \"tiempo_exam\": 20, \"tiempo_datos\": 4, \"tiempo_vacuna\": 8, \"tiempo_certificado\": 1, \"tiempo_salida\": 2, \"tiempo_espera\": 1, \"resultado_vacuna\": 1, \"tiempo_total\": 35}, {\"id\": 30, \"nombre\": \"persona_30\", \"Siguiente Dosis\": \"2021/06/24\", \"Cita Reagendada\": \"\", \"tiempo_exam\": 20, \"tiempo_datos\": 2, \"tiempo_vacuna\": 10, \"tiempo_certificado\": 2, \"tiempo_salida\": 1, \"tiempo_espera\": 14, \"resultado_vacuna\": 1, \"tiempo_total\": 35}, {\"id\": 34, \"nombre\": \"persona_34\", \"Siguiente Dosis\": \"2021/06/24\", \"Cita Reagendada\": \"\", \"tiempo_exam\": 20, \"tiempo_datos\": 4, \"tiempo_vacuna\": 9, \"tiempo_certificado\": 2, \"tiempo_salida\": 5, \"tiempo_espera\": 0, \"resultado_vacuna\": 1, \"tiempo_total\": 40}, {\"id\": 38, \"nombre\": \"persona_38\", \"Siguiente Dosis\": \"2021/06/24\", \"Cita Reagendada\": \"\", \"tiempo_exam\": 20, \"tiempo_datos\": 3, \"tiempo_vacuna\": 6, \"tiempo_certificado\": 1, \"tiempo_salida\": 3, \"tiempo_espera\": 0, \"resultado_vacuna\": 1, \"tiempo_total\": 33}, {\"id\": 39, \"nombre\": \"persona_39\", \"Siguiente Dosis\": \"2021/06/24\", \"Cita Reagendada\": \"\", \"tiempo_exam\": 20, \"tiempo_datos\": 2, \"tiempo_vacuna\": 8, \"tiempo_certificado\": 1, \"tiempo_salida\": 2, \"tiempo_espera\": 0, \"resultado_vacuna\": 1, \"tiempo_total\": 33}, {\"id\": 41, \"nombre\": \"persona_41\", \"Siguiente Dosis\": \"2021/06/24\", \"Cita Reagendada\": \"\", \"tiempo_exam\": 20, \"tiempo_datos\": 3, \"tiempo_vacuna\": 6, \"tiempo_certificado\": 1, \"tiempo_salida\": 4, \"tiempo_espera\": 4, \"resultado_vacuna\": 1, \"tiempo_total\": 34}, {\"id\": 40, \"nombre\": \"persona_40\", \"Siguiente Dosis\": \"2021/06/24\", \"Cita Reagendada\": \"\", \"tiempo_exam\": 20, \"tiempo_datos\": 2, \"tiempo_vacuna\": 10, \"tiempo_certificado\": 2, \"tiempo_salida\": 4, \"tiempo_espera\": 9, \"resultado_vacuna\": 1, \"tiempo_total\": 38}, {\"id\": 42, \"nombre\": \"persona_42\", \"Siguiente Dosis\": \"2021/06/24\", \"Cita Reagendada\": \"\", \"tiempo_exam\": 20, \"tiempo_datos\": 4, \"tiempo_vacuna\": 9, \"tiempo_certificado\": 1, \"tiempo_salida\": 5, \"tiempo_espera\": 0, \"resultado_vacuna\": 1, \"tiempo_total\": 39}, {\"id\": 43, \"nombre\": \"persona_43\", \"Siguiente Dosis\": \"2021/06/24\", \"Cita Reagendada\": \"\", \"tiempo_exam\": 20, \"tiempo_datos\": 4, \"tiempo_vacuna\": 5, \"tiempo_certificado\": 1, \"tiempo_salida\": 5, \"tiempo_espera\": 0, \"resultado_vacuna\": 1, \"tiempo_total\": 35}, {\"id\": 45, \"nombre\": \"persona_45\", \"Siguiente Dosis\": \"2021/06/24\", \"Cita Reagendada\": \"\", \"tiempo_exam\": 20, \"tiempo_datos\": 2, \"tiempo_vacuna\": 7, \"tiempo_certificado\": 1, \"tiempo_salida\": 4, \"tiempo_espera\": 7, \"resultado_vacuna\": 1, \"tiempo_total\": 34}, {\"id\": 47, \"nombre\": \"persona_47\", \"Siguiente Dosis\": \"2021/06/24\", \"Cita Reagendada\": \"\", \"tiempo_exam\": 20, \"tiempo_datos\": 2, \"tiempo_vacuna\": 5, \"tiempo_certificado\": 2, \"tiempo_salida\": 3, \"tiempo_espera\": 0, \"resultado_vacuna\": 1, \"tiempo_total\": 32}, {\"id\": 46, \"nombre\": \"persona_46\", \"Siguiente Dosis\": \"2021/06/24\", \"Cita Reagendada\": \"\", \"tiempo_exam\": 20, \"tiempo_datos\": 3, \"tiempo_vacuna\": 9, \"tiempo_certificado\": 2, \"tiempo_salida\": 5, \"tiempo_espera\": 2, \"resultado_vacuna\": 1, \"tiempo_total\": 39}, {\"id\": 48, \"nombre\": \"persona_48\", \"Siguiente Dosis\": \"2021/06/24\", \"Cita Reagendada\": \"\", \"tiempo_exam\": 20, \"tiempo_datos\": 2, \"tiempo_vacuna\": 7, \"tiempo_certificado\": 1, \"tiempo_salida\": 2, \"tiempo_espera\": 0, \"resultado_vacuna\": 1, \"tiempo_total\": 32}, {\"id\": 49, \"nombre\": \"persona_49\", \"Siguiente Dosis\": \"2021/06/24\", \"Cita Reagendada\": \"\", \"tiempo_exam\": 20, \"tiempo_datos\": 3, \"tiempo_vacuna\": 9, \"tiempo_certificado\": 2, \"tiempo_salida\": 4, \"tiempo_espera\": 0, \"resultado_vacuna\": 1, \"tiempo_total\": 38}, {\"id\": 51, \"nombre\": \"persona_51\", \"Siguiente Dosis\": \"2021/06/24\", \"Cita Reagendada\": \"\", \"tiempo_exam\": 20, \"tiempo_datos\": 4, \"tiempo_vacuna\": 7, \"tiempo_certificado\": 3, \"tiempo_salida\": 4, \"tiempo_espera\": 0, \"resultado_vacuna\": 1, \"tiempo_total\": 38}, {\"id\": 50, \"nombre\": \"persona_50\", \"Siguiente Dosis\": \"2021/06/24\", \"Cita Reagendada\": \"\", \"tiempo_exam\": 20, \"tiempo_datos\": 3, \"tiempo_vacuna\": 9, \"tiempo_certificado\": 2, \"tiempo_salida\": 5, \"tiempo_espera\": 4, \"resultado_vacuna\": 1, \"tiempo_total\": 39}, {\"id\": 52, \"nombre\": \"persona_52\", \"Siguiente Dosis\": \"2021/06/24\", \"Cita Reagendada\": \"\", \"tiempo_exam\": 20, \"tiempo_datos\": 2, \"tiempo_vacuna\": 6, \"tiempo_certificado\": 3, \"tiempo_salida\": 5, \"tiempo_espera\": 0, \"resultado_vacuna\": 1, \"tiempo_total\": 36}, {\"id\": 53, \"nombre\": \"persona_53\", \"Siguiente Dosis\": \"2021/06/24\", \"Cita Reagendada\": \"\", \"tiempo_exam\": 20, \"tiempo_datos\": 2, \"tiempo_vacuna\": 8, \"tiempo_certificado\": 3, \"tiempo_salida\": 3, \"tiempo_espera\": 0, \"resultado_vacuna\": 1, \"tiempo_total\": 36}, {\"id\": 56, \"nombre\": \"persona_56\", \"Siguiente Dosis\": \"2021/06/24\", \"Cita Reagendada\": \"\", \"tiempo_exam\": 20, \"tiempo_datos\": 2, \"tiempo_vacuna\": 6, \"tiempo_certificado\": 2, \"tiempo_salida\": 4, \"tiempo_espera\": 0, \"resultado_vacuna\": 1, \"tiempo_total\": 34}, {\"id\": 55, \"nombre\": \"persona_55\", \"Siguiente Dosis\": \"2021/06/24\", \"Cita Reagendada\": \"\", \"tiempo_exam\": 20, \"tiempo_datos\": 4, \"tiempo_vacuna\": 8, \"tiempo_certificado\": 1, \"tiempo_salida\": 2, \"tiempo_espera\": 3, \"resultado_vacuna\": 1, \"tiempo_total\": 35}, {\"id\": 57, \"nombre\": \"persona_57\", \"Siguiente Dosis\": \"2021/06/24\", \"Cita Reagendada\": \"\", \"tiempo_exam\": 20, \"tiempo_datos\": 3, \"tiempo_vacuna\": 5, \"tiempo_certificado\": 2, \"tiempo_salida\": 1, \"tiempo_espera\": 0, \"resultado_vacuna\": 1, \"tiempo_total\": 31}, {\"id\": 58, \"nombre\": \"persona_58\", \"Siguiente Dosis\": \"2021/06/24\", \"Cita Reagendada\": \"\", \"tiempo_exam\": 20, \"tiempo_datos\": 2, \"tiempo_vacuna\": 9, \"tiempo_certificado\": 1, \"tiempo_salida\": 5, \"tiempo_espera\": 0, \"resultado_vacuna\": 1, \"tiempo_total\": 37}, {\"id\": 59, \"nombre\": \"persona_59\", \"Siguiente Dosis\": \"2021/06/24\", \"Cita Reagendada\": \"\", \"tiempo_exam\": 20, \"tiempo_datos\": 2, \"tiempo_vacuna\": 8, \"tiempo_certificado\": 1, \"tiempo_salida\": 1, \"tiempo_espera\": 0, \"resultado_vacuna\": 1, \"tiempo_total\": 32}, {\"id\": 60, \"nombre\": \"persona_60\", \"Siguiente Dosis\": \"2021/06/24\", \"Cita Reagendada\": \"\", \"tiempo_exam\": 20, \"tiempo_datos\": 2, \"tiempo_vacuna\": 10, \"tiempo_certificado\": 2, \"tiempo_salida\": 2, \"tiempo_espera\": 0, \"resultado_vacuna\": 1, \"tiempo_total\": 36}, {\"id\": 61, \"nombre\": \"persona_61\", \"Siguiente Dosis\": \"2021/06/24\", \"Cita Reagendada\": \"\", \"tiempo_exam\": 20, \"tiempo_datos\": 3, \"tiempo_vacuna\": 7, \"tiempo_certificado\": 2, \"tiempo_salida\": 1, \"tiempo_espera\": 0, \"resultado_vacuna\": 1, \"tiempo_total\": 33}, {\"id\": 62, \"nombre\": \"persona_62\", \"Siguiente Dosis\": \"2021/06/24\", \"Cita Reagendada\": \"\", \"tiempo_exam\": 20, \"tiempo_datos\": 3, \"tiempo_vacuna\": 7, \"tiempo_certificado\": 1, \"tiempo_salida\": 2, \"tiempo_espera\": 0, \"resultado_vacuna\": 1, \"tiempo_total\": 33}, {\"id\": 64, \"nombre\": \"persona_64\", \"Siguiente Dosis\": \"2021/06/24\", \"Cita Reagendada\": \"\", \"tiempo_exam\": 20, \"tiempo_datos\": 2, \"tiempo_vacuna\": 8, \"tiempo_certificado\": 2, \"tiempo_salida\": 2, \"tiempo_espera\": 0, \"resultado_vacuna\": 1, \"tiempo_total\": 34}, {\"id\": 65, \"nombre\": \"persona_65\", \"Siguiente Dosis\": \"2021/06/24\", \"Cita Reagendada\": \"\", \"tiempo_exam\": 20, \"tiempo_datos\": 4, \"tiempo_vacuna\": 9, \"tiempo_certificado\": 3, \"tiempo_salida\": 4, \"tiempo_espera\": 0, \"resultado_vacuna\": 1, \"tiempo_total\": 40}, {\"id\": 66, \"nombre\": \"persona_66\", \"Siguiente Dosis\": \"2021/06/24\", \"Cita Reagendada\": \"\", \"tiempo_exam\": 20, \"tiempo_datos\": 2, \"tiempo_vacuna\": 9, \"tiempo_certificado\": 3, \"tiempo_salida\": 5, \"tiempo_espera\": 0, \"resultado_vacuna\": 1, \"tiempo_total\": 39}, {\"id\": 67, \"nombre\": \"persona_67\", \"Siguiente Dosis\": \"2021/06/24\", \"Cita Reagendada\": \"\", \"tiempo_exam\": 20, \"tiempo_datos\": 2, \"tiempo_vacuna\": 9, \"tiempo_certificado\": 1, \"tiempo_salida\": 1, \"tiempo_espera\": 0, \"resultado_vacuna\": 1, \"tiempo_total\": 33}, {\"id\": 68, \"nombre\": \"persona_68\", \"Siguiente Dosis\": \"2021/06/24\", \"Cita Reagendada\": \"\", \"tiempo_exam\": 20, \"tiempo_datos\": 4, \"tiempo_vacuna\": 7, \"tiempo_certificado\": 2, \"tiempo_salida\": 5, \"tiempo_espera\": 0, \"resultado_vacuna\": 1, \"tiempo_total\": 38}, {\"id\": 69, \"nombre\": \"persona_69\", \"Siguiente Dosis\": \"2021/06/24\", \"Cita Reagendada\": \"\", \"tiempo_exam\": 20, \"tiempo_datos\": 3, \"tiempo_vacuna\": 8, \"tiempo_certificado\": 3, \"tiempo_salida\": 5, \"tiempo_espera\": 0, \"resultado_vacuna\": 1, \"tiempo_total\": 39}, {\"id\": 70, \"nombre\": \"persona_70\", \"Siguiente Dosis\": \"2021/06/24\", \"Cita Reagendada\": \"\", \"tiempo_exam\": 20, \"tiempo_datos\": 2, \"tiempo_vacuna\": 10, \"tiempo_certificado\": 3, \"tiempo_salida\": 2, \"tiempo_espera\": 0, \"resultado_vacuna\": 1, \"tiempo_total\": 37}, {\"id\": 71, \"nombre\": \"persona_71\", \"Siguiente Dosis\": \"2021/06/24\", \"Cita Reagendada\": \"\", \"tiempo_exam\": 20, \"tiempo_datos\": 2, \"tiempo_vacuna\": 10, \"tiempo_certificado\": 3, \"tiempo_salida\": 1, \"tiempo_espera\": 0, \"resultado_vacuna\": 1, \"tiempo_total\": 36}, {\"id\": 72, \"nombre\": \"persona_72\", \"Siguiente Dosis\": \"2021/06/24\", \"Cita Reagendada\": \"\", \"tiempo_exam\": 20, \"tiempo_datos\": 3, \"tiempo_vacuna\": 7, \"tiempo_certificado\": 1, \"tiempo_salida\": 4, \"tiempo_espera\": 0, \"resultado_vacuna\": 1, \"tiempo_total\": 35}, {\"id\": 73, \"nombre\": \"persona_73\", \"Siguiente Dosis\": \"2021/06/24\", \"Cita Reagendada\": \"\", \"tiempo_exam\": 20, \"tiempo_datos\": 3, \"tiempo_vacuna\": 5, \"tiempo_certificado\": 2, \"tiempo_salida\": 1, \"tiempo_espera\": 0, \"resultado_vacuna\": 1, \"tiempo_total\": 31}, {\"id\": 74, \"nombre\": \"persona_74\", \"Siguiente Dosis\": \"2021/06/24\", \"Cita Reagendada\": \"\", \"tiempo_exam\": 20, \"tiempo_datos\": 3, \"tiempo_vacuna\": 5, \"tiempo_certificado\": 2, \"tiempo_salida\": 1, \"tiempo_espera\": 0, \"resultado_vacuna\": 1, \"tiempo_total\": 31}, {\"id\": 75, \"nombre\": \"persona_75\", \"Siguiente Dosis\": \"2021/06/24\", \"Cita Reagendada\": \"\", \"tiempo_exam\": 20, \"tiempo_datos\": 2, \"tiempo_vacuna\": 8, \"tiempo_certificado\": 1, \"tiempo_salida\": 1, \"tiempo_espera\": 0, \"resultado_vacuna\": 1, \"tiempo_total\": 32}, {\"id\": 76, \"nombre\": \"persona_76\", \"Siguiente Dosis\": \"2021/06/24\", \"Cita Reagendada\": \"\", \"tiempo_exam\": 20, \"tiempo_datos\": 2, \"tiempo_vacuna\": 7, \"tiempo_certificado\": 2, \"tiempo_salida\": 2, \"tiempo_espera\": 0, \"resultado_vacuna\": 1, \"tiempo_total\": 33}, {\"id\": 77, \"nombre\": \"persona_77\", \"Siguiente Dosis\": \"2021/06/24\", \"Cita Reagendada\": \"\", \"tiempo_exam\": 20, \"tiempo_datos\": 3, \"tiempo_vacuna\": 7, \"tiempo_certificado\": 3, \"tiempo_salida\": 4, \"tiempo_espera\": 0, \"resultado_vacuna\": 1, \"tiempo_total\": 37}, {\"id\": 78, \"nombre\": \"persona_78\", \"Siguiente Dosis\": \"2021/06/24\", \"Cita Reagendada\": \"\", \"tiempo_exam\": 20, \"tiempo_datos\": 3, \"tiempo_vacuna\": 8, \"tiempo_certificado\": 1, \"tiempo_salida\": 2, \"tiempo_espera\": 0, \"resultado_vacuna\": 1, \"tiempo_total\": 34}, {\"id\": 80, \"nombre\": \"persona_80\", \"Siguiente Dosis\": \"2021/06/24\", \"Cita Reagendada\": \"\", \"tiempo_exam\": 20, \"tiempo_datos\": 2, \"tiempo_vacuna\": 5, \"tiempo_certificado\": 1, \"tiempo_salida\": 3, \"tiempo_espera\": 0, \"resultado_vacuna\": 1, \"tiempo_total\": 31}, {\"id\": 79, \"nombre\": \"persona_79\", \"Siguiente Dosis\": \"2021/06/24\", \"Cita Reagendada\": \"\", \"tiempo_exam\": 20, \"tiempo_datos\": 4, \"tiempo_vacuna\": 10, \"tiempo_certificado\": 3, \"tiempo_salida\": 2, \"tiempo_espera\": 0, \"resultado_vacuna\": 1, \"tiempo_total\": 39}, {\"id\": 81, \"nombre\": \"persona_81\", \"Siguiente Dosis\": \"2021/06/24\", \"Cita Reagendada\": \"\", \"tiempo_exam\": 20, \"tiempo_datos\": 3, \"tiempo_vacuna\": 5, \"tiempo_certificado\": 1, \"tiempo_salida\": 5, \"tiempo_espera\": 0, \"resultado_vacuna\": 1, \"tiempo_total\": 34}, {\"id\": 82, \"nombre\": \"persona_82\", \"Siguiente Dosis\": \"2021/06/24\", \"Cita Reagendada\": \"\", \"tiempo_exam\": 20, \"tiempo_datos\": 2, \"tiempo_vacuna\": 5, \"tiempo_certificado\": 2, \"tiempo_salida\": 3, \"tiempo_espera\": 0, \"resultado_vacuna\": 1, \"tiempo_total\": 32}, {\"id\": 84, \"nombre\": \"persona_84\", \"Siguiente Dosis\": \"2021/06/24\", \"Cita Reagendada\": \"\", \"tiempo_exam\": 20, \"tiempo_datos\": 2, \"tiempo_vacuna\": 5, \"tiempo_certificado\": 3, \"tiempo_salida\": 1, \"tiempo_espera\": 0, \"resultado_vacuna\": 1, \"tiempo_total\": 31}, {\"id\": 83, \"nombre\": \"persona_83\", \"Siguiente Dosis\": \"2021/06/24\", \"Cita Reagendada\": \"\", \"tiempo_exam\": 20, \"tiempo_datos\": 4, \"tiempo_vacuna\": 10, \"tiempo_certificado\": 3, \"tiempo_salida\": 4, \"tiempo_espera\": 0, \"resultado_vacuna\": 1, \"tiempo_total\": 41}, {\"id\": 86, \"nombre\": \"persona_86\", \"Siguiente Dosis\": \"2021/06/24\", \"Cita Reagendada\": \"\", \"tiempo_exam\": 20, \"tiempo_datos\": 3, \"tiempo_vacuna\": 5, \"tiempo_certificado\": 2, \"tiempo_salida\": 2, \"tiempo_espera\": 0, \"resultado_vacuna\": 1, \"tiempo_total\": 32}]}}, {\"mode\": \"vega-lite\"});\n",
       "</script>"
      ],
      "text/plain": [
       "alt.LayerChart(...)"
      ]
     },
     "execution_count": 20,
     "metadata": {},
     "output_type": "execute_result"
    }
   ],
   "source": [
    "alt.Chart(df_data[df_data['resultado_vacuna']==1]).mark_bar(color='orange').encode(\n",
    "    x=alt.X('nombre',sort=alt.EncodingSortField(field=\"id\", op=\"count\", order='ascending')),\n",
    "    y='tiempo_espera'\n",
    "    )+alt.Chart(df_data[df_data['resultado_vacuna']==1]).mark_point(color='green').encode(\n",
    "        x=alt.X('nombre',sort=alt.EncodingSortField(field=\"id\", op=\"count\", order='ascending')),\n",
    "        y='tiempo_espera').properties(title='Tiempo de espera - Recinto Jefferson Perez').interactive()"
   ]
  }
 ],
 "metadata": {
  "kernelspec": {
   "display_name": "Python 3",
   "language": "python",
   "name": "python3"
  },
  "language_info": {
   "codemirror_mode": {
    "name": "ipython",
    "version": 3
   },
   "file_extension": ".py",
   "mimetype": "text/x-python",
   "name": "python",
   "nbconvert_exporter": "python",
   "pygments_lexer": "ipython3",
   "version": "3.8.5"
  }
 },
 "nbformat": 4,
 "nbformat_minor": 5
}
