{
 "cells": [
  {
   "cell_type": "markdown",
   "metadata": {},
   "source": [
    "<div align=\"center\">\n",
    "    <img src=\"https://www.universidades.com.ec/logos/original/logo-universidad-politecnica-salesiana.png\">\n",
    "    <h1 style=\"text-align: center;\"><span style=\"text-align: center; color: #0000ff;\"><strong>PROYECTO INTEGRADOR FINAL</strong></span></h1>\n",
    "    <p style=\"text-align: center;\"><span style=\"text-align: center;\"><strong>ESTUDIANTES: ANGEL RUIZ - ESTEBAN ROSERO</strong></span></p>\n",
    "</div>"
   ]
  },
  {
   "cell_type": "markdown",
   "metadata": {},
   "source": [
    "# Deteccion de noticias falsas\n",
    "La Deteccion de noticias en el mundo moderno han cambiado la forma en que las noticias son generadas, en las redes sociales \n",
    "se sumergen en campañas de desinformacion no legitimas en las cuales, publican cierta infromacion con veracidad dudosa que a sus lectores logra provocar incertidumbre sobre la lectura de dicha informacion, al recalar varia de esta informacion en las redes sociales y provocar varios conflictos sociales, se a comenzado a trabajar en varios detectores de noticias falsas para que asi la gente pueda notificarse solo de informacion original.\n"
   ]
  },
  {
   "cell_type": "markdown",
   "metadata": {},
   "source": [
    "## Importamos las librerias\n",
    "Procedemos a importar las librerias que vamos a ocupar para el analisis de noticias falsas"
   ]
  },
  {
   "cell_type": "code",
   "execution_count": 1,
   "metadata": {},
   "outputs": [],
   "source": [
    "import pandas as pd\n",
    "import numpy as np\n",
    "import matplotlib.pyplot as plt\n",
    "import seaborn as sns \n",
    "from sklearn.feature_extraction.text import CountVectorizer\n",
    "from sklearn.feature_extraction.text import TfidfTransformer\n",
    "from sklearn import feature_extraction, linear_model, model_selection, preprocessing\n",
    "from sklearn.metrics import accuracy_score\n",
    "from sklearn.model_selection import train_test_split\n",
    "from sklearn.pipeline import Pipeline"
   ]
  },
  {
   "cell_type": "markdown",
   "metadata": {},
   "source": [
    "## Datos\n",
    "Recogemos la informacion de las noticias de politica sobre los EEUU tanto originales en un dataset y en el otro son noticias falsas con relacion a las noticias originales, esta informacion la sacamos del siguiente link\n",
    "<a href=\"https://www.kaggle.com/clmentbisaillon/fake-and-real-news-dataset\">Abrir Kaggle</a>"
   ]
  },
  {
   "cell_type": "code",
   "execution_count": 2,
   "metadata": {},
   "outputs": [],
   "source": [
    "fake = pd.read_csv(\"data/Fake.csv\")\n",
    "true = pd.read_csv(\"data/True.csv\")"
   ]
  },
  {
   "cell_type": "code",
   "execution_count": 3,
   "metadata": {},
   "outputs": [
    {
     "data": {
      "text/plain": [
       "(23481, 4)"
      ]
     },
     "execution_count": 3,
     "metadata": {},
     "output_type": "execute_result"
    }
   ],
   "source": [
    "fake.shape"
   ]
  },
  {
   "cell_type": "code",
   "execution_count": 4,
   "metadata": {},
   "outputs": [
    {
     "data": {
      "text/plain": [
       "(21417, 4)"
      ]
     },
     "execution_count": 4,
     "metadata": {},
     "output_type": "execute_result"
    }
   ],
   "source": [
    "true.shape"
   ]
  },
  {
   "cell_type": "markdown",
   "metadata": {},
   "source": [
    "## Limpiamos la Data y Preparacion\n",
    "Procedemos a preparar la data en esta seccion nosotros debemos limpiar la informacion relevante del dataset, y despues procedmos tambien a eliminar las columnas innecesarias, como tambien limpiar el texto, que sea solo en minusculas y eliminar los signos dentro del texto."
   ]
  },
  {
   "cell_type": "code",
   "execution_count": 5,
   "metadata": {},
   "outputs": [],
   "source": [
    "fake['target'] = 'fake'\n",
    "true['target'] = 'true'"
   ]
  },
  {
   "cell_type": "code",
   "execution_count": 6,
   "metadata": {},
   "outputs": [
    {
     "data": {
      "text/plain": [
       "(44898, 5)"
      ]
     },
     "execution_count": 6,
     "metadata": {},
     "output_type": "execute_result"
    }
   ],
   "source": [
    "data = pd.concat([fake, true]).reset_index(drop = True)\n",
    "data.shape"
   ]
  },
  {
   "cell_type": "code",
   "execution_count": 7,
   "metadata": {},
   "outputs": [],
   "source": [
    "from sklearn.utils import shuffle\n",
    "data = shuffle(data)\n",
    "data = data.reset_index(drop=True)"
   ]
  },
  {
   "cell_type": "code",
   "execution_count": 8,
   "metadata": {},
   "outputs": [
    {
     "data": {
      "text/html": [
       "<div>\n",
       "<style scoped>\n",
       "    .dataframe tbody tr th:only-of-type {\n",
       "        vertical-align: middle;\n",
       "    }\n",
       "\n",
       "    .dataframe tbody tr th {\n",
       "        vertical-align: top;\n",
       "    }\n",
       "\n",
       "    .dataframe thead th {\n",
       "        text-align: right;\n",
       "    }\n",
       "</style>\n",
       "<table border=\"1\" class=\"dataframe\">\n",
       "  <thead>\n",
       "    <tr style=\"text-align: right;\">\n",
       "      <th></th>\n",
       "      <th>title</th>\n",
       "      <th>text</th>\n",
       "      <th>subject</th>\n",
       "      <th>date</th>\n",
       "      <th>target</th>\n",
       "    </tr>\n",
       "  </thead>\n",
       "  <tbody>\n",
       "    <tr>\n",
       "      <th>0</th>\n",
       "      <td>‘DEAD BROKE’ HILLARY’S HAMPTONS VACATION WITH ...</td>\n",
       "      <td>Hillary s been campaigning so hard that she ne...</td>\n",
       "      <td>politics</td>\n",
       "      <td>Aug 16, 2015</td>\n",
       "      <td>fake</td>\n",
       "    </tr>\n",
       "    <tr>\n",
       "      <th>1</th>\n",
       "      <td>New fires ravage Rohingya villages in northwes...</td>\n",
       "      <td>YANGON (Reuters) - Up to eight villages were b...</td>\n",
       "      <td>worldnews</td>\n",
       "      <td>September 9, 2017</td>\n",
       "      <td>true</td>\n",
       "    </tr>\n",
       "    <tr>\n",
       "      <th>2</th>\n",
       "      <td>TOP NAVY COMMANDER RELEASED After Reportedly R...</td>\n",
       "      <td>Seven years ago, this story would ve seemed li...</td>\n",
       "      <td>left-news</td>\n",
       "      <td>Feb 1, 2016</td>\n",
       "      <td>fake</td>\n",
       "    </tr>\n",
       "    <tr>\n",
       "      <th>3</th>\n",
       "      <td>SHOCKING! EVIDENCE SHOWS WHY OBAMA IS HEART OF...</td>\n",
       "      <td>There will be no peace in America until white...</td>\n",
       "      <td>left-news</td>\n",
       "      <td>Sep 8, 2015</td>\n",
       "      <td>fake</td>\n",
       "    </tr>\n",
       "    <tr>\n",
       "      <th>4</th>\n",
       "      <td>AWESOME PRO-GUN AD Removed From Airport After ...</td>\n",
       "      <td>The rainbows and unicorn crowd decided they ju...</td>\n",
       "      <td>politics</td>\n",
       "      <td>Jul 9, 2016</td>\n",
       "      <td>fake</td>\n",
       "    </tr>\n",
       "  </tbody>\n",
       "</table>\n",
       "</div>"
      ],
      "text/plain": [
       "                                               title  \\\n",
       "0  ‘DEAD BROKE’ HILLARY’S HAMPTONS VACATION WITH ...   \n",
       "1  New fires ravage Rohingya villages in northwes...   \n",
       "2  TOP NAVY COMMANDER RELEASED After Reportedly R...   \n",
       "3  SHOCKING! EVIDENCE SHOWS WHY OBAMA IS HEART OF...   \n",
       "4  AWESOME PRO-GUN AD Removed From Airport After ...   \n",
       "\n",
       "                                                text    subject  \\\n",
       "0  Hillary s been campaigning so hard that she ne...   politics   \n",
       "1  YANGON (Reuters) - Up to eight villages were b...  worldnews   \n",
       "2  Seven years ago, this story would ve seemed li...  left-news   \n",
       "3   There will be no peace in America until white...  left-news   \n",
       "4  The rainbows and unicorn crowd decided they ju...   politics   \n",
       "\n",
       "                 date target  \n",
       "0        Aug 16, 2015   fake  \n",
       "1  September 9, 2017    true  \n",
       "2         Feb 1, 2016   fake  \n",
       "3         Sep 8, 2015   fake  \n",
       "4         Jul 9, 2016   fake  "
      ]
     },
     "execution_count": 8,
     "metadata": {},
     "output_type": "execute_result"
    }
   ],
   "source": [
    "data.head()"
   ]
  },
  {
   "cell_type": "code",
   "execution_count": 9,
   "metadata": {},
   "outputs": [
    {
     "data": {
      "text/html": [
       "<div>\n",
       "<style scoped>\n",
       "    .dataframe tbody tr th:only-of-type {\n",
       "        vertical-align: middle;\n",
       "    }\n",
       "\n",
       "    .dataframe tbody tr th {\n",
       "        vertical-align: top;\n",
       "    }\n",
       "\n",
       "    .dataframe thead th {\n",
       "        text-align: right;\n",
       "    }\n",
       "</style>\n",
       "<table border=\"1\" class=\"dataframe\">\n",
       "  <thead>\n",
       "    <tr style=\"text-align: right;\">\n",
       "      <th></th>\n",
       "      <th>title</th>\n",
       "      <th>text</th>\n",
       "      <th>subject</th>\n",
       "      <th>target</th>\n",
       "    </tr>\n",
       "  </thead>\n",
       "  <tbody>\n",
       "    <tr>\n",
       "      <th>0</th>\n",
       "      <td>‘DEAD BROKE’ HILLARY’S HAMPTONS VACATION WITH ...</td>\n",
       "      <td>Hillary s been campaigning so hard that she ne...</td>\n",
       "      <td>politics</td>\n",
       "      <td>fake</td>\n",
       "    </tr>\n",
       "    <tr>\n",
       "      <th>1</th>\n",
       "      <td>New fires ravage Rohingya villages in northwes...</td>\n",
       "      <td>YANGON (Reuters) - Up to eight villages were b...</td>\n",
       "      <td>worldnews</td>\n",
       "      <td>true</td>\n",
       "    </tr>\n",
       "    <tr>\n",
       "      <th>2</th>\n",
       "      <td>TOP NAVY COMMANDER RELEASED After Reportedly R...</td>\n",
       "      <td>Seven years ago, this story would ve seemed li...</td>\n",
       "      <td>left-news</td>\n",
       "      <td>fake</td>\n",
       "    </tr>\n",
       "    <tr>\n",
       "      <th>3</th>\n",
       "      <td>SHOCKING! EVIDENCE SHOWS WHY OBAMA IS HEART OF...</td>\n",
       "      <td>There will be no peace in America until white...</td>\n",
       "      <td>left-news</td>\n",
       "      <td>fake</td>\n",
       "    </tr>\n",
       "    <tr>\n",
       "      <th>4</th>\n",
       "      <td>AWESOME PRO-GUN AD Removed From Airport After ...</td>\n",
       "      <td>The rainbows and unicorn crowd decided they ju...</td>\n",
       "      <td>politics</td>\n",
       "      <td>fake</td>\n",
       "    </tr>\n",
       "  </tbody>\n",
       "</table>\n",
       "</div>"
      ],
      "text/plain": [
       "                                               title  \\\n",
       "0  ‘DEAD BROKE’ HILLARY’S HAMPTONS VACATION WITH ...   \n",
       "1  New fires ravage Rohingya villages in northwes...   \n",
       "2  TOP NAVY COMMANDER RELEASED After Reportedly R...   \n",
       "3  SHOCKING! EVIDENCE SHOWS WHY OBAMA IS HEART OF...   \n",
       "4  AWESOME PRO-GUN AD Removed From Airport After ...   \n",
       "\n",
       "                                                text    subject target  \n",
       "0  Hillary s been campaigning so hard that she ne...   politics   fake  \n",
       "1  YANGON (Reuters) - Up to eight villages were b...  worldnews   true  \n",
       "2  Seven years ago, this story would ve seemed li...  left-news   fake  \n",
       "3   There will be no peace in America until white...  left-news   fake  \n",
       "4  The rainbows and unicorn crowd decided they ju...   politics   fake  "
      ]
     },
     "execution_count": 9,
     "metadata": {},
     "output_type": "execute_result"
    }
   ],
   "source": [
    "data.drop([\"date\"],axis=1,inplace=True)\n",
    "data.head()"
   ]
  },
  {
   "cell_type": "code",
   "execution_count": 10,
   "metadata": {},
   "outputs": [
    {
     "data": {
      "text/html": [
       "<div>\n",
       "<style scoped>\n",
       "    .dataframe tbody tr th:only-of-type {\n",
       "        vertical-align: middle;\n",
       "    }\n",
       "\n",
       "    .dataframe tbody tr th {\n",
       "        vertical-align: top;\n",
       "    }\n",
       "\n",
       "    .dataframe thead th {\n",
       "        text-align: right;\n",
       "    }\n",
       "</style>\n",
       "<table border=\"1\" class=\"dataframe\">\n",
       "  <thead>\n",
       "    <tr style=\"text-align: right;\">\n",
       "      <th></th>\n",
       "      <th>text</th>\n",
       "      <th>subject</th>\n",
       "      <th>target</th>\n",
       "    </tr>\n",
       "  </thead>\n",
       "  <tbody>\n",
       "    <tr>\n",
       "      <th>0</th>\n",
       "      <td>Hillary s been campaigning so hard that she ne...</td>\n",
       "      <td>politics</td>\n",
       "      <td>fake</td>\n",
       "    </tr>\n",
       "    <tr>\n",
       "      <th>1</th>\n",
       "      <td>YANGON (Reuters) - Up to eight villages were b...</td>\n",
       "      <td>worldnews</td>\n",
       "      <td>true</td>\n",
       "    </tr>\n",
       "    <tr>\n",
       "      <th>2</th>\n",
       "      <td>Seven years ago, this story would ve seemed li...</td>\n",
       "      <td>left-news</td>\n",
       "      <td>fake</td>\n",
       "    </tr>\n",
       "    <tr>\n",
       "      <th>3</th>\n",
       "      <td>There will be no peace in America until white...</td>\n",
       "      <td>left-news</td>\n",
       "      <td>fake</td>\n",
       "    </tr>\n",
       "    <tr>\n",
       "      <th>4</th>\n",
       "      <td>The rainbows and unicorn crowd decided they ju...</td>\n",
       "      <td>politics</td>\n",
       "      <td>fake</td>\n",
       "    </tr>\n",
       "  </tbody>\n",
       "</table>\n",
       "</div>"
      ],
      "text/plain": [
       "                                                text    subject target\n",
       "0  Hillary s been campaigning so hard that she ne...   politics   fake\n",
       "1  YANGON (Reuters) - Up to eight villages were b...  worldnews   true\n",
       "2  Seven years ago, this story would ve seemed li...  left-news   fake\n",
       "3   There will be no peace in America until white...  left-news   fake\n",
       "4  The rainbows and unicorn crowd decided they ju...   politics   fake"
      ]
     },
     "execution_count": 10,
     "metadata": {},
     "output_type": "execute_result"
    }
   ],
   "source": [
    "data.drop([\"title\"],axis=1,inplace=True)\n",
    "data.head()"
   ]
  },
  {
   "cell_type": "code",
   "execution_count": 11,
   "metadata": {},
   "outputs": [
    {
     "data": {
      "text/html": [
       "<div>\n",
       "<style scoped>\n",
       "    .dataframe tbody tr th:only-of-type {\n",
       "        vertical-align: middle;\n",
       "    }\n",
       "\n",
       "    .dataframe tbody tr th {\n",
       "        vertical-align: top;\n",
       "    }\n",
       "\n",
       "    .dataframe thead th {\n",
       "        text-align: right;\n",
       "    }\n",
       "</style>\n",
       "<table border=\"1\" class=\"dataframe\">\n",
       "  <thead>\n",
       "    <tr style=\"text-align: right;\">\n",
       "      <th></th>\n",
       "      <th>text</th>\n",
       "      <th>subject</th>\n",
       "      <th>target</th>\n",
       "    </tr>\n",
       "  </thead>\n",
       "  <tbody>\n",
       "    <tr>\n",
       "      <th>0</th>\n",
       "      <td>hillary s been campaigning so hard that she ne...</td>\n",
       "      <td>politics</td>\n",
       "      <td>fake</td>\n",
       "    </tr>\n",
       "    <tr>\n",
       "      <th>1</th>\n",
       "      <td>yangon (reuters) - up to eight villages were b...</td>\n",
       "      <td>worldnews</td>\n",
       "      <td>true</td>\n",
       "    </tr>\n",
       "    <tr>\n",
       "      <th>2</th>\n",
       "      <td>seven years ago, this story would ve seemed li...</td>\n",
       "      <td>left-news</td>\n",
       "      <td>fake</td>\n",
       "    </tr>\n",
       "    <tr>\n",
       "      <th>3</th>\n",
       "      <td>there will be no peace in america until white...</td>\n",
       "      <td>left-news</td>\n",
       "      <td>fake</td>\n",
       "    </tr>\n",
       "    <tr>\n",
       "      <th>4</th>\n",
       "      <td>the rainbows and unicorn crowd decided they ju...</td>\n",
       "      <td>politics</td>\n",
       "      <td>fake</td>\n",
       "    </tr>\n",
       "  </tbody>\n",
       "</table>\n",
       "</div>"
      ],
      "text/plain": [
       "                                                text    subject target\n",
       "0  hillary s been campaigning so hard that she ne...   politics   fake\n",
       "1  yangon (reuters) - up to eight villages were b...  worldnews   true\n",
       "2  seven years ago, this story would ve seemed li...  left-news   fake\n",
       "3   there will be no peace in america until white...  left-news   fake\n",
       "4  the rainbows and unicorn crowd decided they ju...   politics   fake"
      ]
     },
     "execution_count": 11,
     "metadata": {},
     "output_type": "execute_result"
    }
   ],
   "source": [
    "data['text'] = data['text'].apply(lambda x: x.lower())\n",
    "data.head()"
   ]
  },
  {
   "cell_type": "code",
   "execution_count": 12,
   "metadata": {},
   "outputs": [],
   "source": [
    "\n",
    "import string\n",
    "\n",
    "def punctuation_removal(text):\n",
    "    all_list = [char for char in text if char not in string.punctuation]\n",
    "    clean_str = ''.join(all_list)\n",
    "    return clean_str\n",
    "\n",
    "data['text'] = data['text'].apply(punctuation_removal)"
   ]
  },
  {
   "cell_type": "markdown",
   "metadata": {},
   "source": [
    "### Procedemos a remover las stopwords en ingles\n",
    "Para el analisis de las noticias falsas procedemos a borrar la informacion que nos es inncesaria como lo son las stopwords, estas son las denominadas palabras vacias, que son los articulos, los pronombres, preposiciones, etc."
   ]
  },
  {
   "cell_type": "code",
   "execution_count": 13,
   "metadata": {},
   "outputs": [
    {
     "name": "stderr",
     "output_type": "stream",
     "text": [
      "[nltk_data] Downloading package stopwords to\n",
      "[nltk_data]     C:\\Users\\angel\\AppData\\Roaming\\nltk_data...\n",
      "[nltk_data]   Package stopwords is already up-to-date!\n"
     ]
    }
   ],
   "source": [
    "import nltk\n",
    "nltk.download('stopwords')\n",
    "from nltk.corpus import stopwords\n",
    "stop = stopwords.words('english')\n",
    "\n",
    "data['text'] = data['text'].apply(lambda x: ' '.join([word for word in x.split() if word not in (stop)]))"
   ]
  },
  {
   "cell_type": "code",
   "execution_count": 14,
   "metadata": {},
   "outputs": [
    {
     "data": {
      "text/html": [
       "<div>\n",
       "<style scoped>\n",
       "    .dataframe tbody tr th:only-of-type {\n",
       "        vertical-align: middle;\n",
       "    }\n",
       "\n",
       "    .dataframe tbody tr th {\n",
       "        vertical-align: top;\n",
       "    }\n",
       "\n",
       "    .dataframe thead th {\n",
       "        text-align: right;\n",
       "    }\n",
       "</style>\n",
       "<table border=\"1\" class=\"dataframe\">\n",
       "  <thead>\n",
       "    <tr style=\"text-align: right;\">\n",
       "      <th></th>\n",
       "      <th>text</th>\n",
       "      <th>subject</th>\n",
       "      <th>target</th>\n",
       "    </tr>\n",
       "  </thead>\n",
       "  <tbody>\n",
       "    <tr>\n",
       "      <th>0</th>\n",
       "      <td>hillary campaigning hard needs hamptons vacati...</td>\n",
       "      <td>politics</td>\n",
       "      <td>fake</td>\n",
       "    </tr>\n",
       "    <tr>\n",
       "      <th>1</th>\n",
       "      <td>yangon reuters eight villages burned friday pa...</td>\n",
       "      <td>worldnews</td>\n",
       "      <td>true</td>\n",
       "    </tr>\n",
       "    <tr>\n",
       "      <th>2</th>\n",
       "      <td>seven years ago story would seemed like someth...</td>\n",
       "      <td>left-news</td>\n",
       "      <td>fake</td>\n",
       "    </tr>\n",
       "    <tr>\n",
       "      <th>3</th>\n",
       "      <td>peace america whites begin hate whiteness reve...</td>\n",
       "      <td>left-news</td>\n",
       "      <td>fake</td>\n",
       "    </tr>\n",
       "    <tr>\n",
       "      <th>4</th>\n",
       "      <td>rainbows unicorn crowd decided complain gun ma...</td>\n",
       "      <td>politics</td>\n",
       "      <td>fake</td>\n",
       "    </tr>\n",
       "  </tbody>\n",
       "</table>\n",
       "</div>"
      ],
      "text/plain": [
       "                                                text    subject target\n",
       "0  hillary campaigning hard needs hamptons vacati...   politics   fake\n",
       "1  yangon reuters eight villages burned friday pa...  worldnews   true\n",
       "2  seven years ago story would seemed like someth...  left-news   fake\n",
       "3  peace america whites begin hate whiteness reve...  left-news   fake\n",
       "4  rainbows unicorn crowd decided complain gun ma...   politics   fake"
      ]
     },
     "execution_count": 14,
     "metadata": {},
     "output_type": "execute_result"
    }
   ],
   "source": [
    "data.head()"
   ]
  },
  {
   "cell_type": "markdown",
   "metadata": {},
   "source": [
    "## Contador de Palabras mas frecuentes\n",
    "Procedemos a generar el tokenizer, el contador de palabras mas frecuentes dentro del texto"
   ]
  },
  {
   "cell_type": "code",
   "execution_count": 15,
   "metadata": {},
   "outputs": [],
   "source": [
    "from nltk import tokenize\n",
    "\n",
    "token_space = tokenize.WhitespaceTokenizer()\n",
    "\n",
    "def counter(text, column_text, quantity):\n",
    "    all_words = ' '.join([text for text in text[column_text]])\n",
    "    token_phrase = token_space.tokenize(all_words)\n",
    "    frequency = nltk.FreqDist(token_phrase)\n",
    "    df_frequency = pd.DataFrame({\"Word\": list(frequency.keys()),\n",
    "                                   \"Frequency\": list(frequency.values())})\n",
    "    df_frequency = df_frequency.nlargest(columns = \"Frequency\", n = quantity)\n",
    "    plt.figure(figsize=(12,8))\n",
    "    ax = sns.barplot(data = df_frequency, x = \"Word\", y = \"Frequency\", color = 'blue')\n",
    "    ax.set(ylabel = \"Count\")\n",
    "    plt.xticks(rotation='vertical')\n",
    "    plt.show()"
   ]
  },
  {
   "cell_type": "markdown",
   "metadata": {},
   "source": [
    "## Modelo"
   ]
  },
  {
   "cell_type": "code",
   "execution_count": 16,
   "metadata": {},
   "outputs": [],
   "source": [
    "\n",
    "from sklearn import metrics\n",
    "import itertools\n",
    "\n",
    "def plot_confusion_matrix(cm, classes,\n",
    "                          normalize=False,\n",
    "                          title='Confusion matrix',\n",
    "                          cmap=plt.cm.Blues):\n",
    "    \n",
    "    plt.imshow(cm, interpolation='nearest', cmap=cmap)\n",
    "    plt.title(title)\n",
    "    plt.colorbar()\n",
    "    tick_marks = np.arange(len(classes))\n",
    "    plt.xticks(tick_marks, classes, rotation=45)\n",
    "    plt.yticks(tick_marks, classes)\n",
    "\n",
    "    if normalize:\n",
    "        cm = cm.astype('float') / cm.sum(axis=1)[:, np.newaxis]\n",
    "        print(\"Normalized confusion matrix\")\n",
    "    else:\n",
    "        print('Confusion matrix, without normalization')\n",
    "\n",
    "    thresh = cm.max() / 2.\n",
    "    for i, j in itertools.product(range(cm.shape[0]), range(cm.shape[1])):\n",
    "        plt.text(j, i, cm[i, j],\n",
    "                 horizontalalignment=\"center\",\n",
    "                 color=\"white\" if cm[i, j] > thresh else \"black\")\n",
    "\n",
    "    plt.tight_layout()\n",
    "    plt.ylabel('True label')\n",
    "    plt.xlabel('Predicted label')"
   ]
  },
  {
   "cell_type": "markdown",
   "metadata": {},
   "source": [
    "### Peparamos la data para el entrenamiento y la prueba\n",
    "Para las pruebas vamos a realizar la separacion 80% y 20%, en la cual el 80% se va al entrenamiento y el 20% a las pruebas."
   ]
  },
  {
   "cell_type": "code",
   "execution_count": 17,
   "metadata": {},
   "outputs": [],
   "source": [
    "X_train,X_test,y_train,y_test = train_test_split(data['text'], data.target, test_size=0.2, random_state=42)"
   ]
  },
  {
   "cell_type": "markdown",
   "metadata": {},
   "source": [
    "# Modelos\n",
    "Para la creacion de los modelos nosotros decidimos compararlo enre el modelo de regresion que es uno de los mas basicos, con el clasificador random forest, que nos da un mejor resultado"
   ]
  },
  {
   "cell_type": "markdown",
   "metadata": {},
   "source": [
    "### Modelo de regresion"
   ]
  },
  {
   "cell_type": "code",
   "execution_count": 18,
   "metadata": {},
   "outputs": [
    {
     "name": "stdout",
     "output_type": "stream",
     "text": [
      "accuracy: 98.46%\n"
     ]
    }
   ],
   "source": [
    "\n",
    "from sklearn.linear_model import LogisticRegression\n",
    "\n",
    "pipe = Pipeline([('vect', CountVectorizer()),\n",
    "                 ('tfidf', TfidfTransformer()),\n",
    "                 ('model', LogisticRegression())])\n",
    "\n",
    "\n",
    "model = pipe.fit(X_train, y_train)\n",
    "\n",
    "\n",
    "prediction = model.predict(X_test)\n",
    "print(\"accuracy: {}%\".format(round(accuracy_score(y_test, prediction)*100,2)))"
   ]
  },
  {
   "cell_type": "code",
   "execution_count": 19,
   "metadata": {},
   "outputs": [
    {
     "name": "stdout",
     "output_type": "stream",
     "text": [
      "Confusion matrix, without normalization\n"
     ]
    },
    {
     "data": {
      "image/png": "[encoded data removed]",
      "text/plain": [
       "<Figure size 432x288 with 2 Axes>"
      ]
     },
     "metadata": {
      "needs_background": "light"
     },
     "output_type": "display_data"
    }
   ],
   "source": [
    "cm = metrics.confusion_matrix(y_test, prediction)\n",
    "plot_confusion_matrix(cm, classes=['Fake', 'Real'])"
   ]
  },
  {
   "cell_type": "markdown",
   "metadata": {},
   "source": [
    "### Random Forest Clasificador"
   ]
  },
  {
   "cell_type": "code",
   "execution_count": 20,
   "metadata": {},
   "outputs": [
    {
     "name": "stdout",
     "output_type": "stream",
     "text": [
      "accuracy: 98.85%\n"
     ]
    }
   ],
   "source": [
    "from sklearn.ensemble import RandomForestClassifier\n",
    "\n",
    "pipe = Pipeline([('vect', CountVectorizer()),\n",
    "                 ('tfidf', TfidfTransformer()),\n",
    "                 ('model', RandomForestClassifier(n_estimators=50, criterion=\"entropy\"))])\n",
    "\n",
    "model = pipe.fit(X_train, y_train)\n",
    "prediction = model.predict(X_test)\n",
    "print(\"accuracy: {}%\".format(round(accuracy_score(y_test, prediction)*100,2)))"
   ]
  },
  {
   "cell_type": "code",
   "execution_count": 21,
   "metadata": {},
   "outputs": [
    {
     "name": "stdout",
     "output_type": "stream",
     "text": [
      "Confusion matrix, without normalization\n"
     ]
    },
    {
     "data": {
      "image/png": "[encoded data removed]",
      "text/plain": [
       "<Figure size 432x288 with 2 Axes>"
      ]
     },
     "metadata": {
      "needs_background": "light"
     },
     "output_type": "display_data"
    }
   ],
   "source": [
    "cm = metrics.confusion_matrix(y_test, prediction)\n",
    "plot_confusion_matrix(cm, classes=['Fake', 'Real'])"
   ]
  },
  {
   "cell_type": "markdown",
   "metadata": {},
   "source": [
    "## Pruebas\n",
    "Para las pruebas procedemos a realizar con dos noticias, una de ellas es una noticia original y la otra es falsa, despues procederemos a realizar el analisis de sentimientos."
   ]
  },
  {
   "cell_type": "code",
   "execution_count": 22,
   "metadata": {},
   "outputs": [
    {
     "data": {
      "text/plain": [
       "0        hillary campaigning hard needs hamptons vacati...\n",
       "1        yangon reuters eight villages burned friday pa...\n",
       "2        seven years ago story would seemed like someth...\n",
       "3        peace america whites begin hate whiteness reve...\n",
       "4        rainbows unicorn crowd decided complain gun ma...\n",
       "                               ...                        \n",
       "44893    one time ann coulter thought donald trump grea...\n",
       "44894    following mass exodus hispanic surrogates trum...\n",
       "44895    msnbc casey hunt interviewing warhawk rino sen...\n",
       "44896    donald trump fell face repeatedly sunday night...\n",
       "44897    rome reuters united nations preparing deploy 1...\n",
       "Name: text, Length: 44898, dtype: object"
      ]
     },
     "execution_count": 22,
     "metadata": {},
     "output_type": "execute_result"
    }
   ],
   "source": [
    "data['text']"
   ]
  },
  {
   "cell_type": "code",
   "execution_count": 23,
   "metadata": {},
   "outputs": [
    {
     "name": "stdout",
     "output_type": "stream",
     "text": [
      "yangon reuters eight villages burned friday part northwest myanmar large numbers muslim rohingya sheltering wave violence engulfing area witness three sources briefed matter told reuters fires blazing ethnically mixed rathedaung township populations rohingya muslims rakhine buddhists live side side today around 4 pm saw smoke coming villages burning saw chin village staying said villager area contacted reuters phone unclear set fire villages independent journalists allowed area myanmar says security forces carrying clearance operations defend extremist terrorists rights monitors fleeing rohingya say army rakhine vigilantes unleashed campaign arson aimed driving muslim population burning villages likely fuel exodus rohingya neighboring bangladesh nearly 270000 fled less two weeks creating humanitarian crisis myanmar leader aung san suu kyi said thursday government best protect everyone drawn criticism around world failing speak violence muslim minority including calls revoke 1991 nobel peace prize rathedaung site latest fires furthest rohingyainhabited area border bangladesh humanitarian workers concerned large number muslims trapped blazes confirmed sources including two monitors network informants ground local journalist based nearby town buthidaung said among torched villages hamlets ah htet nan yar auk nan yar 65 km 40 miles north sittwe capital rakhine state one source said camp internally displaced people area also went flames one sources said 300 400 rohingya escaped burnings sheltering ah htet nan yar day fire broke escaped started source said quoting eyewitness villagers hiding forest attempting perilous dayslong journey foot monsoon rain toward maungdaw region west river naf separating myanmar bangladesh latest flight rohingya homes myanmar began two weeks ago rohingya insurgents attacked several police posts rakhine triggered army counteroffensive least 400 people killed\n"
     ]
    }
   ],
   "source": [
    "print(X_test.get(1))"
   ]
  },
  {
   "cell_type": "code",
   "execution_count": 24,
   "metadata": {},
   "outputs": [
    {
     "data": {
      "text/plain": [
       "'true'"
      ]
     },
     "execution_count": 24,
     "metadata": {},
     "output_type": "execute_result"
    }
   ],
   "source": [
    "prediction[1]"
   ]
  },
  {
   "cell_type": "code",
   "execution_count": 25,
   "metadata": {},
   "outputs": [
    {
     "name": "stdout",
     "output_type": "stream",
     "text": [
      "welcome big leagues kiddonald trump supreme court justice made senate confirmation republicans changed rules could complete robbery seat president obama pick merrick garlandneil gorsuch sits high court first day monday course like trump embarrassed getgogorsuch first case involved census bureau worker dismissed filed lawsuit itthe former government employee lawyers want entire case allowed move forward instead part heard federal appeals courts rather keep mouth shut learn gorsuch apparently decided try prove belonged thereand waste time gorsuch argumentative spent lots time wording words looks like gorsuch going asshole judge going base every decision makes exact wording interpretation words going nitpick decide cases technicalitiesbut gorsuch decided go even changing decorum court channeling trump gorsuch literally accused attorney chris landau lying open courtaccording bloomberglandau asked court let man entire suit go forward federal district court rather waiting part case addressed first federal appeals court landau said asking court break new ground gorsuch gave pointed response continue make gorsuch saidbut landau correct bloomberg points plenty precedent supreme court allowing lawsuits move forward entirety landau really asking high court anything different asking uphold precedent something gorsuch clearly interest regardless law saysbut justice elena kagan quick put gorsuch place humiliated process would kind revolution began mean extent revolution kind case room laughed everyone recognized good supreme court burnso like donald trump gorsuch embarrassmentfrankly trump impeached gorsuch impeached well belong position currently holds clear respect supreme court decorum make partisan decisions regardless precedent law republicans ones blame chose trump leader forced gorsuch upon supreme court democrats fix embarrassments soon take back control congressfeatured image win mcnameegetty images\n"
     ]
    }
   ],
   "source": [
    "print(X_test.get(7))"
   ]
  },
  {
   "cell_type": "code",
   "execution_count": 26,
   "metadata": {},
   "outputs": [
    {
     "data": {
      "text/plain": [
       "'true'"
      ]
     },
     "execution_count": 26,
     "metadata": {},
     "output_type": "execute_result"
    }
   ],
   "source": [
    "prediction[7]"
   ]
  },
  {
   "cell_type": "markdown",
   "metadata": {},
   "source": [
    "# Analisis de sentimiento\n",
    "Con el analisis de sentimiento podemos observar el patron de comportamiento de las noticias verdaderas y falsa, ademas si somos una empresa que utilice la data de noticias podremos obtener mejores conclusiones de la misma."
   ]
  },
  {
   "cell_type": "markdown",
   "metadata": {},
   "source": [
    "<h2><span style=\"color: #000000;\"> Importaci&oacute;n de librerias</span></h2>"
   ]
  },
  {
   "cell_type": "code",
   "execution_count": 27,
   "metadata": {},
   "outputs": [],
   "source": [
    "from collections import Counter\n",
    "import numpy as np\n",
    "import time\n",
    "import sys\n",
    "import numpy as np\n",
    "from collections import Counter"
   ]
  },
  {
   "cell_type": "markdown",
   "metadata": {},
   "source": [
    "<h2><span style=\"color: #000000;\"> Importaci&oacute;n de datos</span></h2>\n",
    "<p>Se importan los datasets que se ultizaran para obtener todos los datos necesarios</p>"
   ]
  },
  {
   "cell_type": "code",
   "execution_count": 29,
   "metadata": {},
   "outputs": [],
   "source": [
    "def review_and_label(i):\n",
    "    print(labels[i] + \"\\t:\\t\" + reviews[i][:80] + \"...\")\n",
    "\n",
    "g = open('./data/reviews.txt','r')\n",
    "reviews = list(map(lambda x:x[:-1],g.readlines()))\n",
    "g.close()\n",
    "\n",
    "g = open('./data/labels.txt','r')\n",
    "labels = list(map(lambda x:x[:-1].upper(),g.readlines()))\n",
    "g.close()"
   ]
  },
  {
   "cell_type": "markdown",
   "metadata": {},
   "source": [
    "<h2><span style=\"color: #000000;\">Variables</span></h2>\n",
    "<p>Count para almacenar conteos positivos, negativos y totales</p>"
   ]
  },
  {
   "cell_type": "code",
   "execution_count": 30,
   "metadata": {},
   "outputs": [],
   "source": [
    "positive_counts = Counter()\n",
    "negative_counts = Counter()\n",
    "total_counts = Counter()\n",
    "\n",
    "counter = 0\n",
    "for review in reviews:\n",
    "    words = review.split(' ')\n",
    "    if labels[counter] == 'POSITIVE':\n",
    "        positive_counts.update(words)\n",
    "    else:\n",
    "        negative_counts.update(words)\n",
    "    total_counts.update(words)\n",
    "    counter += 1"
   ]
  },
  {
   "cell_type": "markdown",
   "metadata": {},
   "source": [
    "<h2><span style=\"color: #000000;\">Muestra</span></h2>\n",
    "<p>Los 20 primeros recuentos de las palabras más comunes en las revisiones positivas</p>"
   ]
  },
  {
   "cell_type": "code",
   "execution_count": 31,
   "metadata": {},
   "outputs": [
    {
     "data": {
      "text/plain": [
       "[('', 550468),\n",
       " ('the', 173324),\n",
       " ('.', 159654),\n",
       " ('and', 89722),\n",
       " ('a', 83688),\n",
       " ('of', 76855),\n",
       " ('to', 66746),\n",
       " ('is', 57245),\n",
       " ('in', 50215),\n",
       " ('br', 49235),\n",
       " ('it', 48025),\n",
       " ('i', 40743),\n",
       " ('that', 35630),\n",
       " ('this', 35080),\n",
       " ('s', 33815),\n",
       " ('as', 26308),\n",
       " ('with', 23247),\n",
       " ('for', 22416),\n",
       " ('was', 21917),\n",
       " ('film', 20937)]"
      ]
     },
     "execution_count": 31,
     "metadata": {},
     "output_type": "execute_result"
    }
   ],
   "source": [
    "positive_counts.most_common()[:20]"
   ]
  },
  {
   "cell_type": "markdown",
   "metadata": {},
   "source": [
    "<h2><span style=\"color: #000000;\">Muestra</span></h2>\n",
    "<p>Los 20 primeros recuentos de las palabras más comunes en las revisiones negativas</p>"
   ]
  },
  {
   "cell_type": "code",
   "execution_count": 32,
   "metadata": {},
   "outputs": [
    {
     "data": {
      "text/plain": [
       "[('', 561462),\n",
       " ('.', 167538),\n",
       " ('the', 163389),\n",
       " ('a', 79321),\n",
       " ('and', 74385),\n",
       " ('of', 69009),\n",
       " ('to', 68974),\n",
       " ('br', 52637),\n",
       " ('is', 50083),\n",
       " ('it', 48327),\n",
       " ('i', 46880),\n",
       " ('in', 43753),\n",
       " ('this', 40920),\n",
       " ('that', 37615),\n",
       " ('s', 31546),\n",
       " ('was', 26291),\n",
       " ('movie', 24965),\n",
       " ('for', 21927),\n",
       " ('but', 21781),\n",
       " ('with', 20878)]"
      ]
     },
     "execution_count": 32,
     "metadata": {},
     "output_type": "execute_result"
    }
   ],
   "source": [
    "negative_counts.most_common()[:20]"
   ]
  },
  {
   "cell_type": "markdown",
   "metadata": {},
   "source": [
    "<h2><span style=\"color: #000000;\">Analisis</span></h2>\n",
    "<p>Las proporciones nos dicen qué palabras se usan con más frecuencia en las revisiones positivas o positivas, pero los valores específicos que hemos calculado son un poco difíciles de trabajar. Una palabra muy positiva como \"amazing\" tiene un valor superior a 4, mientras que una palabra muy negativa como \"terrible\" tiene un valor de alrededor de 0.18. Para solucionar estos problemas, convertiremos todas nuestras proporciones en nuevos valores utilizando logaritmos.</p>"
   ]
  },
  {
   "cell_type": "code",
   "execution_count": 33,
   "metadata": {},
   "outputs": [
    {
     "name": "stdout",
     "output_type": "stream",
     "text": [
      "Pos-to-neg ratio para 'the' = 1.0607993145235326\n",
      "Pos-to-neg ratio para 'amazing' = 4.022813688212928\n",
      "Pos-to-neg ratio para 'terrible' = 0.17744252873563218\n"
     ]
    }
   ],
   "source": [
    "pos_neg_ratios = Counter()\n",
    "for word in total_counts.elements():\n",
    "    if total_counts[word] >= 100:\n",
    "        pos_neg_ratios[word] = positive_counts[word] / float(negative_counts[word] + 1)\n",
    "        \n",
    "print(\"Pos-to-neg ratio para 'the' = {}\".format(pos_neg_ratios[\"the\"]))\n",
    "print(\"Pos-to-neg ratio para 'amazing' = {}\".format(pos_neg_ratios[\"amazing\"]))\n",
    "print(\"Pos-to-neg ratio para 'terrible' = {}\".format(pos_neg_ratios[\"terrible\"]))"
   ]
  },
  {
   "cell_type": "markdown",
   "metadata": {},
   "source": [
    "<h2><span style=\"color: #000000;\">Analisis</span></h2>\n",
    "<p>Examinamos las nuevas proporciones que hemos calculado para las mismas palabras de antes:</p>"
   ]
  },
  {
   "cell_type": "code",
   "execution_count": 34,
   "metadata": {},
   "outputs": [
    {
     "name": "stdout",
     "output_type": "stream",
     "text": [
      "Pos-to-neg ratio para 'the' = 0.05902269426102881\n",
      "Pos-to-neg ratio para 'amazing' = 1.3919815802404802\n",
      "Pos-to-neg ratio para 'terrible' = -1.7291085042663878\n"
     ]
    }
   ],
   "source": [
    "for word in pos_neg_ratios:\n",
    "    ratio = pos_neg_ratios[word]\n",
    "    pos_neg_ratios[word] = np.log(ratio)\n",
    "\n",
    "print(\"Pos-to-neg ratio para 'the' = {}\".format(pos_neg_ratios[\"the\"]))\n",
    "print(\"Pos-to-neg ratio para 'amazing' = {}\".format(pos_neg_ratios[\"amazing\"]))\n",
    "print(\"Pos-to-neg ratio para 'terrible' = {}\".format(pos_neg_ratios[\"terrible\"]))"
   ]
  },
  {
   "cell_type": "code",
   "execution_count": 35,
   "metadata": {},
   "outputs": [
    {
     "data": {
      "text/plain": [
       "[('edie', 4.6913478822291435),\n",
       " ('paulie', 4.07753744390572),\n",
       " ('felix', 3.152736022363656),\n",
       " ('polanski', 2.8233610476132043),\n",
       " ('matthau', 2.80672172860924),\n",
       " ('victoria', 2.681021528714291),\n",
       " ('mildred', 2.6026896854443837),\n",
       " ('gandhi', 2.538973871058276),\n",
       " ('flawless', 2.451005098112319),\n",
       " ('superbly', 2.26002547857525),\n",
       " ('perfection', 2.159484249353372),\n",
       " ('astaire', 2.1400661634962708),\n",
       " ('captures', 2.038619547159581),\n",
       " ('voight', 2.030170492673053),\n",
       " ('wonderfully', 2.0218960560332353),\n",
       " ('powell', 1.978345424808467),\n",
       " ('brosnan', 1.9547990964725592),\n",
       " ('lily', 1.9203768470501485),\n",
       " ('bakshi', 1.9029851043382795),\n",
       " ('lincoln', 1.9014583864844796)]"
      ]
     },
     "execution_count": 35,
     "metadata": {},
     "output_type": "execute_result"
    }
   ],
   "source": [
    "pos_neg_ratios.most_common()[:20]"
   ]
  },
  {
   "cell_type": "markdown",
   "metadata": {},
   "source": [
    "<h2><span style=\"color: #000000;\">Analisis</span></h2>\n",
    "<p>Analizamos palabras que se ven con mayor frecuencia en una revisión con una etiqueta \"NEGATIVA\"</p>"
   ]
  },
  {
   "cell_type": "code",
   "execution_count": 36,
   "metadata": {},
   "outputs": [
    {
     "data": {
      "text/plain": [
       "[('boll', -4.969813299576001),\n",
       " ('uwe', -4.624972813284271),\n",
       " ('seagal', -3.644143560272545),\n",
       " ('unwatchable', -3.258096538021482),\n",
       " ('stinker', -3.2088254890146994),\n",
       " ('mst', -2.9502698994772336),\n",
       " ('incoherent', -2.9368917735310576),\n",
       " ('unfunny', -2.6922395950755678),\n",
       " ('waste', -2.6193845640165536),\n",
       " ('blah', -2.5704288232261625),\n",
       " ('horrid', -2.4849066497880004),\n",
       " ('pointless', -2.4553061800117097),\n",
       " ('atrocious', -2.4259083090260445),\n",
       " ('redeeming', -2.3682390632154826),\n",
       " ('prom', -2.3608540011180215),\n",
       " ('drivel', -2.3470368555648795),\n",
       " ('lousy', -2.307572634505085),\n",
       " ('worst', -2.286987896180378),\n",
       " ('laughable', -2.264363880173848),\n",
       " ('awful', -2.227194247027435)]"
      ]
     },
     "execution_count": 36,
     "metadata": {},
     "output_type": "execute_result"
    }
   ],
   "source": [
    "list(reversed(pos_neg_ratios.most_common()))[0:20]"
   ]
  },
  {
   "cell_type": "markdown",
   "metadata": {},
   "source": [
    "<h2><span style=\"color: #000000;\">Creacion de datos de entrada/salida</span></h2>\n",
    "<p>Creamos un conjunto denominado vocab que contenga cada palabra en el vocabulario.</p>"
   ]
  },
  {
   "cell_type": "code",
   "execution_count": 37,
   "metadata": {},
   "outputs": [
    {
     "name": "stdout",
     "output_type": "stream",
     "text": [
      "74074\n"
     ]
    },
    {
     "data": {
      "text/plain": [
       "(1, 74074)"
      ]
     },
     "execution_count": 37,
     "metadata": {},
     "output_type": "execute_result"
    }
   ],
   "source": [
    "vocab = set(total_counts)\n",
    "vocab_size = len(vocab)\n",
    "print(vocab_size)\n",
    "layer_0 = np.zeros((1, vocab_size))\n",
    "layer_0.shape"
   ]
  },
  {
   "cell_type": "markdown",
   "metadata": {},
   "source": [
    "<h2><span style=\"color: #000000;\">Creacion de un diccionario</span></h2>\n",
    "<p>Creamos un diccionario de palabras en el vocabulario asignado a las posiciones de índice</p>"
   ]
  },
  {
   "cell_type": "code",
   "execution_count": 38,
   "metadata": {},
   "outputs": [
    {
     "name": "stdout",
     "output_type": "stream",
     "text": [
      " : 0\n",
      "pokey : 1\n",
      "christianty : 2\n",
      "brattiness : 3\n",
      "rapacious : 4\n",
      "excuses : 5\n",
      "platitudinous : 6\n",
      "truffle : 7\n",
      "dethman : 8\n",
      "thrill : 9\n",
      "oblige : 10\n",
      "marischka : 11\n",
      "cusp : 12\n",
      "quatermain : 13\n",
      "clment : 14\n",
      "grayscale : 15\n",
      "investigator : 16\n",
      "borrows : 17\n",
      "earthlings : 18\n",
      "begrudgingly : 19\n"
     ]
    }
   ],
   "source": [
    "word2index = {}\n",
    "for i,word in enumerate(vocab):\n",
    "    word2index[word] = i\n",
    "\n",
    "c = 0\n",
    "for w in word2index:\n",
    "    if c < 20:\n",
    "        print(w, end=\"\")\n",
    "        print(' : ', end=\"\")\n",
    "        print(word2index[w])\n",
    "    c = c + 1"
   ]
  },
  {
   "cell_type": "markdown",
   "metadata": {},
   "source": [
    "<h2><span style=\"color: #000000;\">Funciones</span></h2>\n",
    "<p>Debe contar cuántas veces se usa cada palabra en la revisión dada, y luego almacenar esos conteos en los índices apropiados dentro de layer_0.</p>"
   ]
  },
  {
   "cell_type": "code",
   "execution_count": 39,
   "metadata": {},
   "outputs": [],
   "source": [
    "def update_input_layer(review):\n",
    "    global layer_0\n",
    "    layer_0 *= 0\n",
    "    for word in review.split(\" \"):\n",
    "        layer_0[0][word2index[word]] += 1\n",
    "\n",
    "update_input_layer(reviews[0])\n",
    "layer_0\n",
    "\n",
    "def get_target_for_label(label):\n",
    "    if (label==\"POSITIVE\"):\n",
    "        return 1\n",
    "    else:\n",
    "        return 0"
   ]
  },
  {
   "cell_type": "markdown",
   "metadata": {},
   "source": [
    "<h2><span style=\"color: #000000;\">Red Neuronal</span></h2>\n",
    "Se utiliza una clase llamada SentimentNetwork. \n",
    "Los pasos a seguir son los siguientes:\n",
    "\n",
    "* Crear una red neuronal básica como las redes con una capa de entrada, una capa oculta y una capa de salida.\n",
    "* No agregamos una non-linearity en la capa oculta. Es decir, no usa una función de activación cuando calcule las salidas de la capa oculta.\n",
    "* Implementamos la función pre_process_data para crear el vocabulario de nuestras funciones de generación de datos de capacitación\n",
    "* Asegurar que se entrene sobre todo el corpus"
   ]
  },
  {
   "cell_type": "code",
   "execution_count": 40,
   "metadata": {},
   "outputs": [],
   "source": [
    "class SentimentNetwork:\n",
    "\n",
    "    def __init__(self, reviews,labels,min_count = 10,polarity_cutoff = 0.1,hidden_nodes = 10, learning_rate = 0.1):\n",
    "        \"\"\"Creamos SentimenNetwork con la configuración dada\n",
    "         Args:\n",
    "             revisiones (lista) - Lista de revisiones usadas para entrenamiento\n",
    "             labels (list) - Lista de etiquetas POSITIVAS / NEGATIVAS asociadas con las revisiones dadas\n",
    "             min_count (int) - Las palabras solo deben agregarse al vocabulario\n",
    "                              si ocurren más que esto muchas veces\n",
    "             polarity_cutoff (float) - El valor absoluto de la palabra positiva a negativa\n",
    "                                      la proporción debe ser al menos tan grande como para ser considerada.\n",
    "             hidden_nodes (int) - Número de nodos para crear en la capa oculta\n",
    "             learning_rate (float) - Tasa de aprendizaje para usar durante el entrenamiento\n",
    "        \n",
    "        \"\"\"\n",
    "        # Asignar una semilla a nuestro generador de números aleatorios para asegurarnos de obtener resultados reproducibles durante el desarrollo\n",
    "        np.random.seed(1)\n",
    "\n",
    "        # procesar las revisiones y sus etiquetas asociadas para que todo está listo para el entrenamiento\n",
    "        self.pre_process_data(reviews, labels, polarity_cutoff, min_count)\n",
    "        \n",
    "        # Construye la red para tener la cantidad de nodos ocultos y la velocidad de aprendizaje que se pasaron a este inicializador. Haga la misma cantidad de nodos de entrada como hay palabras de vocabulario y crea un solo nodo de salida.\n",
    "        self.init_network(len(self.review_vocab),hidden_nodes, 1, learning_rate)\n",
    "\n",
    "    def pre_process_data(self, reviews, labels, polarity_cutoff, min_count):\n",
    "        \n",
    "        positive_counts = Counter()\n",
    "        negative_counts = Counter()\n",
    "        total_counts = Counter()\n",
    "\n",
    "        for i in range(len(reviews)):\n",
    "            if(labels[i] == 'POSITIVE'):\n",
    "                for word in reviews[i].split(\" \"):\n",
    "                    positive_counts[word] += 1\n",
    "                    total_counts[word] += 1\n",
    "            else:\n",
    "                for word in reviews[i].split(\" \"):\n",
    "                    negative_counts[word] += 1\n",
    "                    total_counts[word] += 1\n",
    "\n",
    "        pos_neg_ratios = Counter()\n",
    "\n",
    "        for term,cnt in list(total_counts.most_common()):\n",
    "            if(cnt >= 50):\n",
    "                pos_neg_ratio = positive_counts[term] / float(negative_counts[term]+1)\n",
    "                pos_neg_ratios[term] = pos_neg_ratio\n",
    "\n",
    "        for word,ratio in pos_neg_ratios.most_common():\n",
    "            if(ratio > 1):\n",
    "                pos_neg_ratios[word] = np.log(ratio)\n",
    "            else:\n",
    "                pos_neg_ratios[word] = -np.log((1 / (ratio + 0.01)))\n",
    "\n",
    "        # poblar review_vocab con todas las palabras en las revisiones dadas\n",
    "        review_vocab = set()\n",
    "        for review in reviews:\n",
    "            for word in review.split(\" \"):\n",
    "                if(total_counts[word] > min_count):\n",
    "                    if(word in pos_neg_ratios.keys()):\n",
    "                        if((pos_neg_ratios[word] >= polarity_cutoff) or (pos_neg_ratios[word] <= -polarity_cutoff)):\n",
    "                            review_vocab.add(word)\n",
    "                    else:\n",
    "                        review_vocab.add(word)\n",
    "\n",
    "        # Convertir el conjunto de vocabulario en una lista para que podamos acceder a las palabras a través de índices\n",
    "        self.review_vocab = list(review_vocab)\n",
    "        \n",
    "        # poblar etiqueta_vocab con todas las palabras en las etiquetas dadas.\n",
    "        label_vocab = set()\n",
    "        for label in labels:\n",
    "            label_vocab.add(label)\n",
    "        \n",
    "        # Convertir el conjunto de vocabulario de la etiqueta en una lista para que podamos acceder a las etiquetas a través de índices\n",
    "        self.label_vocab = list(label_vocab)\n",
    "        \n",
    "        # Almacenar los tamaños de los vocabularios de revisión y etiqueta.\n",
    "        self.review_vocab_size = len(self.review_vocab)\n",
    "        self.label_vocab_size = len(self.label_vocab)\n",
    "        \n",
    "        # Crear un diccionario de palabras en el vocabulario asignado a las posiciones de índice\n",
    "        self.word2index = {}\n",
    "        for i, word in enumerate(self.review_vocab):\n",
    "            self.word2index[word] = i\n",
    "        \n",
    "        # Crear un diccionario de etiquetas mapeadas a posiciones de índice\n",
    "        self.label2index = {}\n",
    "        for i, label in enumerate(self.label_vocab):\n",
    "            self.label2index[label] = i\n",
    "\n",
    "    def init_network(self, input_nodes, hidden_nodes, output_nodes, learning_rate):\n",
    "        # Establecer el número de nodos en las capas de entrada, ocultas y de salida.\n",
    "        self.input_nodes = input_nodes\n",
    "        self.hidden_nodes = hidden_nodes\n",
    "        self.output_nodes = output_nodes\n",
    "\n",
    "        # Almacenar la tasa de aprendizaje\n",
    "        self.learning_rate = learning_rate\n",
    "\n",
    "        # Inicializar los pesos Estos son los pesos entre la capa de entrada y la capa oculta.\n",
    "        self.weights_0_1 = np.zeros((self.input_nodes,self.hidden_nodes))\n",
    "\n",
    "        # Estos son los pesos entre la capa oculta y la capa de salida.\n",
    "        self.weights_1_2 = np.random.normal(0.0, self.output_nodes**-0.5, \n",
    "                                                (self.hidden_nodes, self.output_nodes))\n",
    "        \n",
    "        # La capa de entrada, una matriz bidimensional con forma 1 x hidden_nodes\n",
    "        self.layer_1 = np.zeros((1,hidden_nodes))\n",
    "    \n",
    "    def get_target_for_label(self,label):\n",
    "        if(label == 'POSITIVE'):\n",
    "            return 1\n",
    "        else:\n",
    "            return 0\n",
    "        \n",
    "    def sigmoid(self,x):\n",
    "        return 1 / (1 + np.exp(-x))\n",
    "    \n",
    "    def sigmoid_output_2_derivative(self,output):\n",
    "        return output * (1 - output)\n",
    "    \n",
    "    def train(self, training_reviews_raw, training_labels):\n",
    "\n",
    "        ## Preprocesamiento de las evaluaciones de capacitación para que podamos tratar directamente con los índices de entradas distintas de cero\n",
    "        training_reviews = list()\n",
    "        for review in training_reviews_raw:\n",
    "            indices = set()\n",
    "            for word in review.split(\" \"):\n",
    "                if(word in self.word2index.keys()):\n",
    "                    indices.add(self.word2index[word])\n",
    "            training_reviews.append(list(indices))\n",
    "\n",
    "        # asegúrate de que tenemos un número coincidente de reseñas y etiquetas\n",
    "        assert(len(training_reviews) == len(training_labels))\n",
    "        \n",
    "        # Realizar un seguimiento de las predicciones correctas para mostrar la precisión durante el entrenamiento\n",
    "        correct_so_far = 0\n",
    "\n",
    "        # Recuerda cuando comenzamos a imprimir las estadísticas de tiempo\n",
    "        start = time.time()\n",
    "        \n",
    "        # recorrer todas las evaluaciones dadas y ejecutar un pase hacia adelante y hacia atrás, actualización de pesos para cada artículo\n",
    "        for i in range(len(training_reviews)):\n",
    "            \n",
    "            # Obtener la siguiente revisión y su etiqueta correcta\n",
    "            review = training_reviews[i]\n",
    "            label = training_labels[i]\n",
    "            self.layer_1 *= 0\n",
    "            for index in review:\n",
    "                self.layer_1 += self.weights_0_1[index]\n",
    "\n",
    "            # Output layer\n",
    "            layer_2 = self.sigmoid(self.layer_1.dot(self.weights_1_2))            \n",
    "            \n",
    "            # Output error\n",
    "            layer_2_error = layer_2 - self.get_target_for_label(label) # El error de la capa de salida es la diferencia entre el objetivo deseado y la salida real.\n",
    "            layer_2_delta = layer_2_error * self.sigmoid_output_2_derivative(layer_2)\n",
    "\n",
    "            # Backpropagated error\n",
    "            layer_1_error = layer_2_delta.dot(self.weights_1_2.T) # errores propagados a la capa oculta\n",
    "            layer_1_delta = layer_1_error # gradientes de capas ocultas, sin falta de linealidad, es el mismo que el error\n",
    "\n",
    "            # Actualiza los pesos\n",
    "            self.weights_1_2 -= self.layer_1.T.dot(layer_2_delta) * self.learning_rate # actualizar pesos ocultos a salida con paso de descenso de degradado\n",
    "            \n",
    "            for index in review:\n",
    "                self.weights_0_1[index] -= layer_1_delta[0] * self.learning_rate # actualizar pesos de entrada a ocultos con paso de descenso de gradiente\n",
    "\n",
    "            # Manten un registro de las predicciones correctas.\n",
    "            if(layer_2 >= 0.5 and label == 'POSITIVE'):\n",
    "                correct_so_far += 1\n",
    "            elif(layer_2 < 0.5 and label == 'NEGATIVE'):\n",
    "                correct_so_far += 1\n",
    "            \n",
    "            # Para depuración, imprime nuestra precisión y velocidad de predicción a lo largo del proceso de capacitación.\n",
    "            elapsed_time = float(time.time() - start)\n",
    "            reviews_per_second = i / elapsed_time if elapsed_time > 0 else 0\n",
    "            \n",
    "            sys.stdout.write(\"\\rProgress:\" + str(100 * i/float(len(training_reviews)))[:4] \\\n",
    "                             + \"% Speed(reviews/sec):\" + str(reviews_per_second)[0:5] \\\n",
    "                             + \" #Correct:\" + str(correct_so_far) + \" #Trained:\" + str(i+1) \\\n",
    "                             + \" Training Accuracy:\" + str(correct_so_far * 100 / float(i+1))[:4] + \"%\")\n",
    "            if(i % 2500 == 0):\n",
    "                print(\"\")\n",
    "    \n",
    "    def test(self, testing_reviews, testing_labels):\n",
    "        \"\"\"\n",
    "        Intenta predecir las etiquetas para las evaluaciones de prueba dadas,\n",
    "         y usa test_labels para calcular la precisión de esas predicciones.\n",
    "        \"\"\"\n",
    "        \n",
    "        # realizar un seguimiento de la cantidad de predicciones correctas que hacemos\n",
    "        correct = 0\n",
    "\n",
    "        # vamos a cronometrar cuántas predicciones por segundo hacemos\n",
    "        start = time.time()\n",
    "\n",
    "        # Pasa por cada una de las revisiones dadas y ejecuta la llamada para predecir su etiqueta.\n",
    "        for i in range(len(testing_reviews)):\n",
    "            pred = self.run(testing_reviews[i])\n",
    "            if(pred == testing_labels[i]):\n",
    "                correct += 1\n",
    "            \n",
    "            # Para depuración, imprima nuestra precisión y velocidad de predicción durante todo el proceso de predicción.\n",
    "\n",
    "            elapsed_time = float(time.time() - start)\n",
    "            reviews_per_second = i / elapsed_time if elapsed_time > 0 else 0\n",
    "            \n",
    "            sys.stdout.write(\"\\rProgress:\" + str(100 * i/float(len(testing_reviews)))[:4] \\\n",
    "                             + \"% Speed(reviews/sec):\" + str(reviews_per_second)[0:5] \\\n",
    "                             + \" #Correct:\" + str(correct) + \" #Tested:\" + str(i+1) \\\n",
    "                             + \" Testing Accuracy:\" + str(correct * 100 / float(i+1))[:4] + \"%\")\n",
    "    \n",
    "    def run(self, review):\n",
    "        \"\"\"\n",
    "        Devuelve una predicción POSITIVA o NEGATIVA para la revisión dada.\n",
    "        \"\"\"\n",
    "        ## Hidden layer\n",
    "        self.layer_1 *= 0\n",
    "        unique_indices = set()\n",
    "        for word in review.lower().split(\" \"):\n",
    "            if word in self.word2index.keys():\n",
    "                unique_indices.add(self.word2index[word])\n",
    "        for index in unique_indices:\n",
    "            self.layer_1 += self.weights_0_1[index]\n",
    "        \n",
    "        ## Output layer\n",
    "        layer_2 = self.sigmoid(self.layer_1.dot(self.weights_1_2))\n",
    "         \n",
    "        # Devuelve POSITIVO para valores superiores a mayor que o igual a 0.5 en la capa de salida; devuelve NEGATIVO para otros valores\n",
    "        if(layer_2[0] >= 0.5):\n",
    "            return \"POSITIVE\"\n",
    "        else:\n",
    "            return \"NEGATIVE\""
   ]
  },
  {
   "cell_type": "markdown",
   "metadata": {},
   "source": [
    "<h2><span style=\"color: #000000;\">Entrenamiento</span></h2>"
   ]
  },
  {
   "cell_type": "code",
   "execution_count": 41,
   "metadata": {},
   "outputs": [
    {
     "name": "stdout",
     "output_type": "stream",
     "text": [
      "Progress:0.0% Speed(reviews/sec):0.0 #Correct:1 #Trained:1 Training Accuracy:100.%\n",
      "Progress:10.4% Speed(reviews/sec):2021. #Correct:1962 #Trained:2501 Training Accuracy:78.4%\n",
      "Progress:20.8% Speed(reviews/sec):1996. #Correct:4002 #Trained:5001 Training Accuracy:80.0%\n",
      "Progress:31.2% Speed(reviews/sec):2025. #Correct:6120 #Trained:7501 Training Accuracy:81.5%\n",
      "Progress:41.6% Speed(reviews/sec):2041. #Correct:8271 #Trained:10001 Training Accuracy:82.7%\n",
      "Progress:52.0% Speed(reviews/sec):2048. #Correct:10431 #Trained:12501 Training Accuracy:83.4%\n",
      "Progress:62.5% Speed(reviews/sec):2042. #Correct:12565 #Trained:15001 Training Accuracy:83.7%\n",
      "Progress:72.9% Speed(reviews/sec):2034. #Correct:14670 #Trained:17501 Training Accuracy:83.8%\n",
      "Progress:83.3% Speed(reviews/sec):2022. #Correct:16833 #Trained:20001 Training Accuracy:84.1%\n",
      "Progress:93.7% Speed(reviews/sec):2020. #Correct:19015 #Trained:22501 Training Accuracy:84.5%\n",
      "Progress:99.9% Speed(reviews/sec):2021. #Correct:20335 #Trained:24000 Training Accuracy:84.7%"
     ]
    }
   ],
   "source": [
    "mlp_full = SentimentNetwork(reviews[:-1000],labels[:-1000],min_count=0,polarity_cutoff=0,learning_rate=0.01)\n",
    "mlp_full.train(reviews[:-1000],labels[:-1000])"
   ]
  },
  {
   "cell_type": "markdown",
   "metadata": {},
   "source": [
    "<h2><span style=\"color: #000000;\">Pruebas</span></h2>\n",
    "Con las noticias que comprobamos anteriormente analizamos el sentimiento de las mismas."
   ]
  },
  {
   "cell_type": "code",
   "execution_count": 42,
   "metadata": {},
   "outputs": [
    {
     "data": {
      "text/plain": [
       "'POSITIVE'"
      ]
     },
     "execution_count": 42,
     "metadata": {},
     "output_type": "execute_result"
    }
   ],
   "source": [
    "mlp_full.run(\"front page news every major media outletrussian intelligence targeted hillary clinton became secretary state 2009 fbi documents shownew fbi information corruption clintonapproved uranium deal russia raises questions clinton actions fbi broke deepcover russian spy ring 2010for decade fbi ran operation called ghost stories monitor rip apart deepcover russian agent network ghost stories tracked ring russian spies lived boston washington dc false identities one fbi elaborate successful counterintelligence operations historyafter fbi arrested 10 spies june 2010 secretary state clinton worked feverishly return russian agents moscow hastily arranged lopsided deal putinit happened uranium deal play arrangement provide moscow state rosatom nuclear agency 20 percent american uranium capacity 145000000 pour clinton family foundation projectsfor clintons fbi biggest counterintelligence bust history come worse timethe day fbi arrested russian agents june 28 2010 day secretary state husband bill clinton give speech moscow kremlinconnected investment bank renaissance capital paid former president 500000 hourlong appearancean unnamed hillary clinton spokesman told abc news reason think secretary target spy ring lieunder code name operation ghost stories fbi working ring decade targets burrowed along acela corridor boston new york washington dc lived normal daily lives americans attend universities run businesses marry conceive raise children infiltrate society subvert government institutions one svr agents stolen identity sixweekold canadian baby died 1963 prompted ghost stories code name ring inspired fx network television series americans secretary state hillary clinton would primary target circumstance much known quantity predictable vain ruthless insatiable desire cash enrich family friends political machine blindly ambitious become president world superpower swearing come back losing 2008 barack obama 21st century kgb perfect markread daily caller\")"
   ]
  },
  {
   "cell_type": "code",
   "execution_count": 43,
   "metadata": {},
   "outputs": [
    {
     "data": {
      "text/plain": [
       "'NEGATIVE'"
      ]
     },
     "execution_count": 43,
     "metadata": {},
     "output_type": "execute_result"
    }
   ],
   "source": [
    "mlp_full.run(\"berlin reuters european union chief brexit negotiator michel barnier said wednesday bloc united dealing britain withdrawal bloc warned failure reach agreement would bad deal would bad deal barnier said switching french english speech germany bda employers association third speech german audience brexit day far barnier also said hoped made progress principles britain divorce eu next week london knew could one foot single market one foot\")"
   ]
  }
 ],
 "metadata": {
  "kernelspec": {
   "display_name": "Python 3",
   "language": "python",
   "name": "python3"
  },
  "language_info": {
   "codemirror_mode": {
    "name": "ipython",
    "version": 3
   },
   "file_extension": ".py",
   "mimetype": "text/x-python",
   "name": "python",
   "nbconvert_exporter": "python",
   "pygments_lexer": "ipython3",
   "version": "3.8.8"
  }
 },
 "nbformat": 4,
 "nbformat_minor": 4
}
