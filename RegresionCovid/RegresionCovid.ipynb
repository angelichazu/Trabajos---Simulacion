{
 "cells": [
  {
   "cell_type": "code",
   "execution_count": 59,
   "metadata": {},
   "outputs": [],
   "source": [
    "# Imports necesarios\n",
    "import numpy as np\n",
    "import pandas as pd\n",
    "import seaborn as sb\n",
    "import matplotlib.pyplot as plt\n",
    "%matplotlib inline\n",
    "import altair as alt\n",
    "from mpl_toolkits.mplot3d import Axes3D\n",
    "from matplotlib import cm\n",
    "plt.rcParams['figure.figsize'] = (16, 9)\n",
    "plt.style.use('ggplot')\n",
    "from sklearn import linear_model\n",
    "from sklearn.metrics import mean_squared_error, r2_score"
   ]
  },
  {
   "cell_type": "code",
   "execution_count": 60,
   "metadata": {},
   "outputs": [
    {
     "data": {
      "text/html": [
       "<div>\n",
       "<style scoped>\n",
       "    .dataframe tbody tr th:only-of-type {\n",
       "        vertical-align: middle;\n",
       "    }\n",
       "\n",
       "    .dataframe tbody tr th {\n",
       "        vertical-align: top;\n",
       "    }\n",
       "\n",
       "    .dataframe thead th {\n",
       "        text-align: right;\n",
       "    }\n",
       "</style>\n",
       "<table border=\"1\" class=\"dataframe\">\n",
       "  <thead>\n",
       "    <tr style=\"text-align: right;\">\n",
       "      <th></th>\n",
       "      <th>date</th>\n",
       "      <th>confirmed</th>\n",
       "      <th>deaths</th>\n",
       "      <th>recovered</th>\n",
       "      <th>day</th>\n",
       "    </tr>\n",
       "  </thead>\n",
       "  <tbody>\n",
       "    <tr>\n",
       "      <th>0</th>\n",
       "      <td>2020-03-01</td>\n",
       "      <td>6</td>\n",
       "      <td>0</td>\n",
       "      <td>0</td>\n",
       "      <td>60</td>\n",
       "    </tr>\n",
       "    <tr>\n",
       "      <th>1</th>\n",
       "      <td>2020-03-02</td>\n",
       "      <td>6</td>\n",
       "      <td>0</td>\n",
       "      <td>0</td>\n",
       "      <td>61</td>\n",
       "    </tr>\n",
       "    <tr>\n",
       "      <th>2</th>\n",
       "      <td>2020-03-03</td>\n",
       "      <td>7</td>\n",
       "      <td>0</td>\n",
       "      <td>0</td>\n",
       "      <td>62</td>\n",
       "    </tr>\n",
       "    <tr>\n",
       "      <th>3</th>\n",
       "      <td>2020-03-04</td>\n",
       "      <td>10</td>\n",
       "      <td>0</td>\n",
       "      <td>0</td>\n",
       "      <td>63</td>\n",
       "    </tr>\n",
       "    <tr>\n",
       "      <th>4</th>\n",
       "      <td>2020-03-05</td>\n",
       "      <td>13</td>\n",
       "      <td>0</td>\n",
       "      <td>0</td>\n",
       "      <td>64</td>\n",
       "    </tr>\n",
       "  </tbody>\n",
       "</table>\n",
       "</div>"
      ],
      "text/plain": [
       "         date  confirmed  deaths  recovered  day\n",
       "0  2020-03-01          6       0          0   60\n",
       "1  2020-03-02          6       0          0   61\n",
       "2  2020-03-03          7       0          0   62\n",
       "3  2020-03-04         10       0          0   63\n",
       "4  2020-03-05         13       0          0   64"
      ]
     },
     "execution_count": 60,
     "metadata": {},
     "output_type": "execute_result"
    }
   ],
   "source": [
    "data = pd.read_csv('covid.csv')\n",
    "data.head()"
   ]
  },
  {
   "cell_type": "code",
   "execution_count": 61,
   "metadata": {},
   "outputs": [],
   "source": [
    "# Visualizamos rápidamente las caraterísticas de entrada\n",
    "plt.show()\n"
   ]
  },
  {
   "cell_type": "code",
   "execution_count": 62,
   "metadata": {},
   "outputs": [
    {
     "name": "stdout",
     "output_type": "stream",
     "text": [
      "Coefficients: \n",
      " [[848.55626859]]\n",
      "Independent term: \n",
      " [-85238.88099252]\n",
      "Mean squared error: 159597257.49\n",
      "Variance score: 0.98\n"
     ]
    }
   ],
   "source": [
    "# Asignamos nuestra variable de entrada X para entrenamiento y las etiquetas Y.\n",
    "features = data.iloc[:,4:5].values\n",
    "target = data.iloc[:,1:2].values\n",
    "X_train, X_test, y_train, y_test = train_test_split(features, target, test_size=0.2)\n",
    " \n",
    "# Creamos el objeto de Regresión Linear\n",
    "regr = linear_model.LinearRegression()\n",
    " \n",
    "# Entrenamos nuestro modelo\n",
    "regr.fit(X_train, y_train)\n",
    " \n",
    "# Hacemos las predicciones que en definitiva una línea (en este caso, al ser 2D)\n",
    "y_pred = regr.predict(X_train)\n",
    " \n",
    "# Veamos los coeficienetes obtenidos, En nuestro caso, serán la Tangente\n",
    "print('Coefficients: \\n', regr.coef_)\n",
    "# Este es el valor donde corta el eje Y (en X=0)\n",
    "print('Independent term: \\n', regr.intercept_)\n",
    "# Error Cuadrado Medio\n",
    "print(\"Mean squared error: %.2f\" % mean_squared_error(y_train, y_pred))\n",
    "# Puntaje de Varianza. El mejor puntaje es un 1.0\n",
    "print('Variance score: %.2f' % r2_score(y_train, y_pred))"
   ]
  },
  {
   "cell_type": "code",
   "execution_count": 68,
   "metadata": {},
   "outputs": [
    {
     "data": {
      "text/html": [
       "\n",
       "<div id=\"altair-viz-64af535c1378412a93d769f1aa2ee095\"></div>\n",
       "<script type=\"text/javascript\">\n",
       "  (function(spec, embedOpt){\n",
       "    let outputDiv = document.currentScript.previousElementSibling;\n",
       "    if (outputDiv.id !== \"altair-viz-64af535c1378412a93d769f1aa2ee095\") {\n",
       "      outputDiv = document.getElementById(\"altair-viz-64af535c1378412a93d769f1aa2ee095\");\n",
       "    }\n",
       "    const paths = {\n",
       "      \"vega\": \"https://cdn.jsdelivr.net/npm//vega@5?noext\",\n",
       "      \"vega-lib\": \"https://cdn.jsdelivr.net/npm//vega-lib?noext\",\n",
       "      \"vega-lite\": \"https://cdn.jsdelivr.net/npm//vega-lite@4.8.1?noext\",\n",
       "      \"vega-embed\": \"https://cdn.jsdelivr.net/npm//vega-embed@6?noext\",\n",
       "    };\n",
       "\n",
       "    function loadScript(lib) {\n",
       "      return new Promise(function(resolve, reject) {\n",
       "        var s = document.createElement('script');\n",
       "        s.src = paths[lib];\n",
       "        s.async = true;\n",
       "        s.onload = () => resolve(paths[lib]);\n",
       "        s.onerror = () => reject(`Error loading script: ${paths[lib]}`);\n",
       "        document.getElementsByTagName(\"head\")[0].appendChild(s);\n",
       "      });\n",
       "    }\n",
       "\n",
       "    function showError(err) {\n",
       "      outputDiv.innerHTML = `<div class=\"error\" style=\"color:red;\">${err}</div>`;\n",
       "      throw err;\n",
       "    }\n",
       "\n",
       "    function displayChart(vegaEmbed) {\n",
       "      vegaEmbed(outputDiv, spec, embedOpt)\n",
       "        .catch(err => showError(`Javascript Error: ${err.message}<br>This usually means there's a typo in your chart specification. See the javascript console for the full traceback.`));\n",
       "    }\n",
       "\n",
       "    if(typeof define === \"function\" && define.amd) {\n",
       "      requirejs.config({paths});\n",
       "      require([\"vega-embed\"], displayChart, err => showError(`Error loading script: ${err.message}`));\n",
       "    } else if (typeof vegaEmbed === \"function\") {\n",
       "      displayChart(vegaEmbed);\n",
       "    } else {\n",
       "      loadScript(\"vega\")\n",
       "        .then(() => loadScript(\"vega-lite\"))\n",
       "        .then(() => loadScript(\"vega-embed\"))\n",
       "        .catch(showError)\n",
       "        .then(() => displayChart(vegaEmbed));\n",
       "    }\n",
       "  })({\"config\": {\"view\": {\"continuousWidth\": 400, \"continuousHeight\": 300}}, \"data\": {\"name\": \"data-448de9738de73f0806e2c650f0ec64e0\"}, \"mark\": \"line\", \"encoding\": {\"color\": {\"type\": \"nominal\", \"field\": \"variable\"}, \"x\": {\"type\": \"quantitative\", \"field\": \"Dias\"}, \"y\": {\"type\": \"quantitative\", \"field\": \"value\"}}, \"selection\": {\"selector006\": {\"type\": \"interval\", \"bind\": \"scales\", \"encodings\": [\"x\", \"y\"]}}, \"title\": \"Datos Reales vs Prediccion\", \"$schema\": \"https://vega.github.io/schema/vega-lite/v4.8.1.json\", \"datasets\": {\"data-448de9738de73f0806e2c650f0ec64e0\": [{\"Dias\": 135, \"variable\": \"y\", \"value\": 31467.0}, {\"Dias\": 218, \"variable\": \"y\", \"value\": 90537.0}, {\"Dias\": 142, \"variable\": \"y\", \"value\": 35828.0}, {\"Dias\": 318, \"variable\": \"y\", \"value\": 179627.0}, {\"Dias\": 389, \"variable\": \"y\", \"value\": 241292.0}, {\"Dias\": 181, \"variable\": \"y\", \"value\": 56432.0}, {\"Dias\": 393, \"variable\": \"y\", \"value\": 246000.0}, {\"Dias\": 170, \"variable\": \"y\", \"value\": 49731.0}, {\"Dias\": 340, \"variable\": \"y\", \"value\": 197998.0}, {\"Dias\": 249, \"variable\": \"y\", \"value\": 118045.0}, {\"Dias\": 88, \"variable\": \"y\", \"value\": 1924.0}, {\"Dias\": 169, \"variable\": \"y\", \"value\": 49097.0}, {\"Dias\": 201, \"variable\": \"y\", \"value\": 74620.0}, {\"Dias\": 265, \"variable\": \"y\", \"value\": 127643.0}, {\"Dias\": 411, \"variable\": \"y\", \"value\": 267701.0}, {\"Dias\": 110, \"variable\": \"y\", \"value\": 10128.0}, {\"Dias\": 184, \"variable\": \"y\", \"value\": 60657.0}, {\"Dias\": 354, \"variable\": \"y\", \"value\": 206257.0}, {\"Dias\": 199, \"variable\": \"y\", \"value\": 73382.0}, {\"Dias\": 468, \"variable\": \"y\", \"value\": 347589.0}, {\"Dias\": 118, \"variable\": \"y\", \"value\": 24258.0}, {\"Dias\": 283, \"variable\": \"y\", \"value\": 146828.0}, {\"Dias\": 68, \"variable\": \"y\", \"value\": 15.0}, {\"Dias\": 350, \"variable\": \"y\", \"value\": 203461.0}, {\"Dias\": 290, \"variable\": \"y\", \"value\": 152422.0}, {\"Dias\": 206, \"variable\": \"y\", \"value\": 80036.0}, {\"Dias\": 378, \"variable\": \"y\", \"value\": 224315.0}, {\"Dias\": 150, \"variable\": \"y\", \"value\": 38571.0}, {\"Dias\": 466, \"variable\": \"y\", \"value\": 346817.0}, {\"Dias\": 137, \"variable\": \"y\", \"value\": 33182.0}, {\"Dias\": 405, \"variable\": \"y\", \"value\": 259783.0}, {\"Dias\": 426, \"variable\": \"y\", \"value\": 286725.0}, {\"Dias\": 168, \"variable\": \"y\", \"value\": 48490.0}, {\"Dias\": 420, \"variable\": \"y\", \"value\": 278779.0}, {\"Dias\": 212, \"variable\": \"y\", \"value\": 85355.0}, {\"Dias\": 77, \"variable\": \"y\", \"value\": 111.0}, {\"Dias\": 427, \"variable\": \"y\", \"value\": 289472.0}, {\"Dias\": 397, \"variable\": \"y\", \"value\": 250986.0}, {\"Dias\": 126, \"variable\": \"y\", \"value\": 31881.0}, {\"Dias\": 75, \"variable\": \"y\", \"value\": 37.0}, {\"Dias\": 147, \"variable\": \"y\", \"value\": 38103.0}, {\"Dias\": 243, \"variable\": \"y\", \"value\": 113767.0}, {\"Dias\": 96, \"variable\": \"y\", \"value\": 3747.0}, {\"Dias\": 330, \"variable\": \"y\", \"value\": 188138.0}, {\"Dias\": 143, \"variable\": \"y\", \"value\": 36258.0}, {\"Dias\": 158, \"variable\": \"y\", \"value\": 43120.0}, {\"Dias\": 282, \"variable\": \"y\", \"value\": 145848.0}, {\"Dias\": 369, \"variable\": \"y\", \"value\": 215080.0}, {\"Dias\": 357, \"variable\": \"y\", \"value\": 207084.0}, {\"Dias\": 182, \"variable\": \"y\", \"value\": 58257.0}, {\"Dias\": 361, \"variable\": \"y\", \"value\": 209355.0}, {\"Dias\": 193, \"variable\": \"y\", \"value\": 67870.0}, {\"Dias\": 140, \"variable\": \"y\", \"value\": 34854.0}, {\"Dias\": 102, \"variable\": \"y\", \"value\": 7466.0}, {\"Dias\": 251, \"variable\": \"y\", \"value\": 110757.0}, {\"Dias\": 341, \"variable\": \"y\", \"value\": 198244.0}, {\"Dias\": 176, \"variable\": \"y\", \"value\": 53156.0}, {\"Dias\": 441, \"variable\": \"y\", \"value\": 305598.0}, {\"Dias\": 281, \"variable\": \"y\", \"value\": 145045.0}, {\"Dias\": 398, \"variable\": \"y\", \"value\": 251279.0}, {\"Dias\": 462, \"variable\": \"y\", \"value\": 339604.0}, {\"Dias\": 456, \"variable\": \"y\", \"value\": 330388.0}, {\"Dias\": 433, \"variable\": \"y\", \"value\": 295114.0}, {\"Dias\": 336, \"variable\": \"y\", \"value\": 194876.0}, {\"Dias\": 109, \"variable\": \"y\", \"value\": 9468.0}, {\"Dias\": 421, \"variable\": \"y\", \"value\": 281169.0}, {\"Dias\": 196, \"variable\": \"y\", \"value\": 70329.0}, {\"Dias\": 244, \"variable\": \"y\", \"value\": 114309.0}, {\"Dias\": 302, \"variable\": \"y\", \"value\": 166302.0}, {\"Dias\": 191, \"variable\": \"y\", \"value\": 65018.0}, {\"Dias\": 410, \"variable\": \"y\", \"value\": 267223.0}, {\"Dias\": 366, \"variable\": \"y\", \"value\": 213378.0}, {\"Dias\": 284, \"variable\": \"y\", \"value\": 147033.0}, {\"Dias\": 144, \"variable\": \"y\", \"value\": 36756.0}, {\"Dias\": 396, \"variable\": \"y\", \"value\": 250828.0}, {\"Dias\": 227, \"variable\": \"y\", \"value\": 100688.0}, {\"Dias\": 101, \"variable\": \"y\", \"value\": 7257.0}, {\"Dias\": 138, \"variable\": \"y\", \"value\": 33582.0}, {\"Dias\": 76, \"variable\": \"y\", \"value\": 58.0}, {\"Dias\": 115, \"variable\": \"y\", \"value\": 22719.0}, {\"Dias\": 259, \"variable\": \"y\", \"value\": 121525.0}, {\"Dias\": 241, \"variable\": \"y\", \"value\": 112906.0}, {\"Dias\": 135, \"variable\": \"y_pred\", \"value\": 29316.215267216132}, {\"Dias\": 218, \"variable\": \"y_pred\", \"value\": 99746.38556023664}, {\"Dias\": 142, \"variable\": \"y_pred\", \"value\": 35256.10914735039}, {\"Dias\": 318, \"variable\": \"y_pred\", \"value\": 184602.01241929748}, {\"Dias\": 389, \"variable\": \"y_pred\", \"value\": 244849.50748923066}, {\"Dias\": 181, \"variable\": \"y_pred\", \"value\": 68349.80362238412}, {\"Dias\": 393, \"variable\": \"y_pred\", \"value\": 248243.73256359308}, {\"Dias\": 170, \"variable\": \"y_pred\", \"value\": 59015.68466788743}, {\"Dias\": 340, \"variable\": \"y_pred\", \"value\": 203270.25032829086}, {\"Dias\": 249, \"variable\": \"y_pred\", \"value\": 126051.6298865455}, {\"Dias\": 88, \"variable\": \"y_pred\", \"value\": -10565.92935654246}, {\"Dias\": 169, \"variable\": \"y_pred\", \"value\": 58167.12839929681}, {\"Dias\": 201, \"variable\": \"y_pred\", \"value\": 85320.92899419629}, {\"Dias\": 265, \"variable\": \"y_pred\", \"value\": 139628.53018399523}, {\"Dias\": 411, \"variable\": \"y_pred\", \"value\": 263517.74539822404}, {\"Dias\": 110, \"variable\": \"y_pred\", \"value\": 8102.308552450922}, {\"Dias\": 184, \"variable\": \"y_pred\", \"value\": 70895.47242815595}, {\"Dias\": 354, \"variable\": \"y_pred\", \"value\": 215150.03808855935}, {\"Dias\": 199, \"variable\": \"y_pred\", \"value\": 83623.81645701505}, {\"Dias\": 468, \"variable\": \"y_pred\", \"value\": 311885.45270788873}, {\"Dias\": 118, \"variable\": \"y_pred\", \"value\": 14890.758701175786}, {\"Dias\": 283, \"variable\": \"y_pred\", \"value\": 154902.54301862617}, {\"Dias\": 68, \"variable\": \"y_pred\", \"value\": -27537.054728354633}, {\"Dias\": 350, \"variable\": \"y_pred\", \"value\": 211755.81301419693}, {\"Dias\": 290, \"variable\": \"y_pred\", \"value\": 160842.43689876044}, {\"Dias\": 206, \"variable\": \"y_pred\", \"value\": 89563.71033714933}, {\"Dias\": 378, \"variable\": \"y_pred\", \"value\": 235515.38853473397}, {\"Dias\": 150, \"variable\": \"y_pred\", \"value\": 42044.559296075255}, {\"Dias\": 466, \"variable\": \"y_pred\", \"value\": 310188.3401707075}, {\"Dias\": 137, \"variable\": \"y_pred\", \"value\": 31013.327804397355}, {\"Dias\": 405, \"variable\": \"y_pred\", \"value\": 258426.4077866804}, {\"Dias\": 426, \"variable\": \"y_pred\", \"value\": 276246.08942708315}, {\"Dias\": 168, \"variable\": \"y_pred\", \"value\": 57318.57213070622}, {\"Dias\": 420, \"variable\": \"y_pred\", \"value\": 271154.75181553955}, {\"Dias\": 212, \"variable\": \"y_pred\", \"value\": 94655.04794869298}, {\"Dias\": 77, \"variable\": \"y_pred\", \"value\": -19900.048311039158}, {\"Dias\": 427, \"variable\": \"y_pred\", \"value\": 277094.64569567377}, {\"Dias\": 397, \"variable\": \"y_pred\", \"value\": 251637.95763795555}, {\"Dias\": 126, \"variable\": \"y_pred\", \"value\": 21679.20884990065}, {\"Dias\": 75, \"variable\": \"y_pred\", \"value\": -21597.160848220374}, {\"Dias\": 147, \"variable\": \"y_pred\", \"value\": 39498.89049030343}, {\"Dias\": 243, \"variable\": \"y_pred\", \"value\": 120960.29227500185}, {\"Dias\": 96, \"variable\": \"y_pred\", \"value\": -3777.479207817596}, {\"Dias\": 330, \"variable\": \"y_pred\", \"value\": 194784.6876423848}, {\"Dias\": 143, \"variable\": \"y_pred\", \"value\": 36104.665415940995}, {\"Dias\": 158, \"variable\": \"y_pred\", \"value\": 48833.00944480012}, {\"Dias\": 282, \"variable\": \"y_pred\", \"value\": 154053.98675003558}, {\"Dias\": 369, \"variable\": \"y_pred\", \"value\": 227878.3821174185}, {\"Dias\": 357, \"variable\": \"y_pred\", \"value\": 217695.7068943312}, {\"Dias\": 182, \"variable\": \"y_pred\", \"value\": 69198.35989097474}, {\"Dias\": 361, \"variable\": \"y_pred\", \"value\": 221089.93196869362}, {\"Dias\": 193, \"variable\": \"y_pred\", \"value\": 78532.47884547143}, {\"Dias\": 140, \"variable\": \"y_pred\", \"value\": 33558.99661016917}, {\"Dias\": 102, \"variable\": \"y_pred\", \"value\": 1313.858403726059}, {\"Dias\": 251, \"variable\": \"y_pred\", \"value\": 127748.74242372671}, {\"Dias\": 341, \"variable\": \"y_pred\", \"value\": 204118.80659688148}, {\"Dias\": 176, \"variable\": \"y_pred\", \"value\": 64107.02227943108}, {\"Dias\": 441, \"variable\": \"y_pred\", \"value\": 288974.4334559423}, {\"Dias\": 281, \"variable\": \"y_pred\", \"value\": 153205.43048144496}, {\"Dias\": 398, \"variable\": \"y_pred\", \"value\": 252486.5139065461}, {\"Dias\": 462, \"variable\": \"y_pred\", \"value\": 306794.1150963451}, {\"Dias\": 456, \"variable\": \"y_pred\", \"value\": 301702.7774848014}, {\"Dias\": 433, \"variable\": \"y_pred\", \"value\": 282185.9833072174}, {\"Dias\": 336, \"variable\": \"y_pred\", \"value\": 199876.02525392844}, {\"Dias\": 109, \"variable\": \"y_pred\", \"value\": 7253.752283860318}, {\"Dias\": 421, \"variable\": \"y_pred\", \"value\": 272003.3080841301}, {\"Dias\": 196, \"variable\": \"y_pred\", \"value\": 81078.14765124326}, {\"Dias\": 244, \"variable\": \"y_pred\", \"value\": 121808.84854359244}, {\"Dias\": 302, \"variable\": \"y_pred\", \"value\": 171025.11212184772}, {\"Dias\": 191, \"variable\": \"y_pred\", \"value\": 76835.36630829019}, {\"Dias\": 410, \"variable\": \"y_pred\", \"value\": 262669.1891296334}, {\"Dias\": 366, \"variable\": \"y_pred\", \"value\": 225332.71331164666}, {\"Dias\": 284, \"variable\": \"y_pred\", \"value\": 155751.09928721678}, {\"Dias\": 144, \"variable\": \"y_pred\", \"value\": 36953.2216845316}, {\"Dias\": 396, \"variable\": \"y_pred\", \"value\": 250789.40136936493}, {\"Dias\": 227, \"variable\": \"y_pred\", \"value\": 107383.39197755209}, {\"Dias\": 101, \"variable\": \"y_pred\", \"value\": 465.30213513544004}, {\"Dias\": 138, \"variable\": \"y_pred\", \"value\": 31861.88407298796}, {\"Dias\": 76, \"variable\": \"y_pred\", \"value\": -20748.604579629762}, {\"Dias\": 115, \"variable\": \"y_pred\", \"value\": 12345.089895403959}, {\"Dias\": 259, \"variable\": \"y_pred\", \"value\": 134537.19257245157}, {\"Dias\": 241, \"variable\": \"y_pred\", \"value\": 119263.17973782061}]}}, {\"mode\": \"vega-lite\"});\n",
       "</script>"
      ],
      "text/plain": [
       "alt.Chart(...)"
      ]
     },
     "execution_count": 68,
     "metadata": {},
     "output_type": "execute_result"
    }
   ],
   "source": [
    "data_linear=pd.DataFrame({'Dias':X_test.reshape(-1),'y':y_test.reshape(-1),'y_pred':regr.predict(X_test).reshape(-1)})\n",
    "alt.Chart(data_linear.melt('Dias')).mark_line().encode(\n",
    "    x='Dias',\n",
    "    y='value',\n",
    "    color='variable'\n",
    ").properties(title='Datos Reales vs Prediccion').interactive()"
   ]
  }
 ],
 "metadata": {
  "kernelspec": {
   "display_name": "Python 3",
   "language": "python",
   "name": "python3"
  },
  "language_info": {
   "codemirror_mode": {
    "name": "ipython",
    "version": 3
   },
   "file_extension": ".py",
   "mimetype": "text/x-python",
   "name": "python",
   "nbconvert_exporter": "python",
   "pygments_lexer": "ipython3",
   "version": "3.8.5"
  }
 },
 "nbformat": 4,
 "nbformat_minor": 4
}
