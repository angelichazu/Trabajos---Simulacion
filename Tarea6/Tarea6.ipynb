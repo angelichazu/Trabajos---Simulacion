{
 "cells": [
  {
   "cell_type": "markdown",
   "id": "8d8e11c3",
   "metadata": {},
   "source": [
    "<div align=\"center\">\n",
    "    <img src=\"https://www.universidades.com.ec/logos/original/logo-universidad-politecnica-salesiana.png\">\n",
    "    <h1 style=\"text-align: center;\"><span style=\"text-align: center; color: #0000ff;\"><strong>TAREA 6 DE SIMULACION</strong></span></h1>\n",
    "    <p style=\"text-align: center;\"><span style=\"text-align: center;\"><strong>ESTUDIANTE: ANGEL RUIZ</strong></span></p>\n",
    "</div>"
   ]
  },
  {
   "cell_type": "markdown",
   "id": "51427206",
   "metadata": {},
   "source": [
    "<h2>\n",
    "\t<span style=\"color: #00ff00;\">\n",
    "\t\t Importaci&oacute;n de librerias\n",
    "\t</span>\n",
    "</h2>\n",
    "<p>\n",
    "\t<span>\n",
    "\t</span>\n",
    "\t A continuaci&oacute;n se importaran todas las librer&iacute;as que se utilizaran en el proceso del\n",
    "\t<span class=\"misspelling correction\" data-type=\"misspelling\" data-suggestions=\"[{&quot;value&quot;:&quot;an&aacute;lisis&quot;},{&quot;value&quot;:&quot;ana lisis&quot;}]\" data-rule=\"MORFOLOGIK_RULE_ES\" title=\"Se ha encontrado un posible error ortogr&aacute;fico.\" data-word=\"analisis\">\n",
    "\t\t an&aacute;lisis\n",
    "\t</span>\n",
    "\t y simulaci&oacute;n de los datos.\n",
    "</p>"
   ]
  },
  {
   "cell_type": "code",
   "execution_count": 1,
   "id": "14d83c5b",
   "metadata": {},
   "outputs": [],
   "source": [
    "import random\n",
    "import simpy"
   ]
  },
  {
   "cell_type": "markdown",
   "id": "9c0593d6",
   "metadata": {},
   "source": [
    "<h2>\n",
    "\t<span style=\"color: #00ff00;\">\n",
    "\t\t Declaramos variables\n",
    "\t</span>\n",
    "</h2>\n",
    "\n",
    "Semilla - Nos permite obtener siempre los mismos valores<br>\n",
    "Num_Maquinas - Definimos el numero de maquinas en el lavado de autos<br>\n",
    "Min_lavado - Definimos el tiempo en minutos de cuanto dura un lavado<br>\n",
    "Intervalo - Cada cuanto llega un vehiculo<br>\n",
    "Tiempo_sim - El tiempo que durara la simulación<br>"
   ]
  },
  {
   "cell_type": "code",
   "execution_count": 2,
   "id": "dd2707eb",
   "metadata": {},
   "outputs": [],
   "source": [
    "SEMILLA = 30\n",
    "NUM_MAQUINAS = 3  \n",
    "MIN_LAVADO = 5      \n",
    "INTERVALO = 7      \n",
    "TIEMPO_SIM = 60  "
   ]
  },
  {
   "cell_type": "markdown",
   "id": "f017dcaa",
   "metadata": {},
   "source": [
    "<h2>\n",
    "\t<span style=\"color: #00ff00;\">\n",
    "\t\t Lógica\n",
    "\t</span>\n",
    "</h2>\n",
    "\n",
    "Definimos las clases de nuestra simulación y escribimos toda la lógica de la misma"
   ]
  },
  {
   "cell_type": "code",
   "execution_count": 3,
   "id": "516113c3",
   "metadata": {},
   "outputs": [],
   "source": [
    "class Autolavado(object):\n",
    "\n",
    "    def __init__(self, env, NUM_MAQUINAS, MIN_LAVADO):\n",
    "        self.env = env\n",
    "        self.machine = simpy.Resource(env, NUM_MAQUINAS)\n",
    "        self.MIN_LAVADO = MIN_LAVADO\n",
    "\n",
    "    def lavado(self, vehiculo):\n",
    "        yield self.env.timeout(MIN_LAVADO)\n",
    "        print(\"El autolavado eliminó el %d%% de la suciedad del  %s\" %\n",
    "              (random.randint(50, 99), vehiculo))\n",
    "\n",
    "\n",
    "def vehiculo(env, nombre, cw):\n",
    "    print('%s llegó al autolavado a las %.2f.' % (nombre, env.now))\n",
    "    with cw.machine.request() as request:\n",
    "        yield request\n",
    "\n",
    "        print('%s entró al autolavado a las %.2f.' % (nombre, env.now))\n",
    "        yield env.process(cw.lavado(nombre))\n",
    "\n",
    "        print('%s salió del autolavado a las %.2f.' % (nombre, env.now))\n",
    "\n",
    "\n",
    "def setup(env, NUM_MAQUINAS, MIN_LAVADO, INTERVALO):\n",
    "    # Creamos el autolavado\n",
    "    autolavado = Autolavado(env, NUM_MAQUINAS, MIN_LAVADO)\n",
    "\n",
    "    # Creamos los 4 vehiculos iniciales\n",
    "    for i in range(4):\n",
    "        env.process(vehiculo(env, 'Vehiculo %d' % i, autolavado))\n",
    "\n",
    "    # Creamos todos los vehiculos mientras la simulacion siga en curso\n",
    "    while True:\n",
    "        yield env.timeout(random.randint(INTERVALO - 2, INTERVALO + 2))\n",
    "        i += 1\n",
    "        env.process(vehiculo(env, 'Vehiculo %d' % i, autolavado))"
   ]
  },
  {
   "cell_type": "markdown",
   "id": "b9dd0261",
   "metadata": {},
   "source": [
    "<h2>\n",
    "\t<span style=\"color: #00ff00;\">\n",
    "\t\t Ejecución\n",
    "\t</span>\n",
    "</h2>\n"
   ]
  },
  {
   "cell_type": "code",
   "execution_count": 4,
   "id": "66653952",
   "metadata": {},
   "outputs": [
    {
     "name": "stdout",
     "output_type": "stream",
     "text": [
      "*****Autolavado*****\n",
      "Vehiculo 0 llegó al autolavado a las 0.00.\n",
      "Vehiculo 1 llegó al autolavado a las 0.00.\n",
      "Vehiculo 2 llegó al autolavado a las 0.00.\n",
      "Vehiculo 3 llegó al autolavado a las 0.00.\n",
      "Vehiculo 0 entró al autolavado a las 0.00.\n",
      "Vehiculo 1 entró al autolavado a las 0.00.\n",
      "Vehiculo 2 entró al autolavado a las 0.00.\n",
      "El autolavado eliminó el 68% de la suciedad del  Vehiculo 0\n",
      "El autolavado eliminó el 89% de la suciedad del  Vehiculo 1\n",
      "El autolavado eliminó el 51% de la suciedad del  Vehiculo 2\n",
      "Vehiculo 0 salió del autolavado a las 5.00.\n",
      "Vehiculo 1 salió del autolavado a las 5.00.\n",
      "Vehiculo 2 salió del autolavado a las 5.00.\n",
      "Vehiculo 3 entró al autolavado a las 5.00.\n",
      "Vehiculo 4 llegó al autolavado a las 9.00.\n",
      "Vehiculo 4 entró al autolavado a las 9.00.\n",
      "El autolavado eliminó el 91% de la suciedad del  Vehiculo 3\n",
      "Vehiculo 3 salió del autolavado a las 10.00.\n",
      "El autolavado eliminó el 63% de la suciedad del  Vehiculo 4\n",
      "Vehiculo 4 salió del autolavado a las 14.00.\n",
      "Vehiculo 5 llegó al autolavado a las 18.00.\n",
      "Vehiculo 5 entró al autolavado a las 18.00.\n",
      "El autolavado eliminó el 53% de la suciedad del  Vehiculo 5\n",
      "Vehiculo 5 salió del autolavado a las 23.00.\n",
      "Vehiculo 6 llegó al autolavado a las 25.00.\n",
      "Vehiculo 6 entró al autolavado a las 25.00.\n",
      "El autolavado eliminó el 74% de la suciedad del  Vehiculo 6\n",
      "Vehiculo 6 salió del autolavado a las 30.00.\n",
      "Vehiculo 7 llegó al autolavado a las 33.00.\n",
      "Vehiculo 7 entró al autolavado a las 33.00.\n",
      "El autolavado eliminó el 55% de la suciedad del  Vehiculo 7\n",
      "Vehiculo 7 salió del autolavado a las 38.00.\n",
      "Vehiculo 8 llegó al autolavado a las 39.00.\n",
      "Vehiculo 8 entró al autolavado a las 39.00.\n",
      "El autolavado eliminó el 50% de la suciedad del  Vehiculo 8\n",
      "Vehiculo 8 salió del autolavado a las 44.00.\n",
      "Vehiculo 9 llegó al autolavado a las 47.00.\n",
      "Vehiculo 9 entró al autolavado a las 47.00.\n",
      "El autolavado eliminó el 65% de la suciedad del  Vehiculo 9\n",
      "Vehiculo 9 salió del autolavado a las 52.00.\n",
      "Vehiculo 10 llegó al autolavado a las 56.00.\n",
      "Vehiculo 10 entró al autolavado a las 56.00.\n"
     ]
    }
   ],
   "source": [
    "print('*'*5 +'Autolavado' + '*'*5)\n",
    "random.seed(SEMILLA)  # Nos ayuda a reprudicr los resultado\n",
    "\n",
    "# Creamos el ambiente de simulacion y lo ejecutamos\n",
    "env = simpy.Environment()\n",
    "env.process(setup(env, NUM_MAQUINAS, MIN_LAVADO, INTERVALO))\n",
    "env.run(until=TIEMPO_SIM)"
   ]
  }
 ],
 "metadata": {
  "kernelspec": {
   "display_name": "Python 3",
   "language": "python",
   "name": "python3"
  },
  "language_info": {
   "codemirror_mode": {
    "name": "ipython",
    "version": 3
   },
   "file_extension": ".py",
   "mimetype": "text/x-python",
   "name": "python",
   "nbconvert_exporter": "python",
   "pygments_lexer": "ipython3",
   "version": "3.8.5"
  }
 },
 "nbformat": 4,
 "nbformat_minor": 5
}
