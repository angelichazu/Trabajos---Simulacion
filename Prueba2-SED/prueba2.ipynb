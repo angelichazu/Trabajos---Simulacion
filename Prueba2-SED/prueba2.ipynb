{
 "cells": [
  {
   "cell_type": "markdown",
   "id": "50a8bb9c",
   "metadata": {},
   "source": [
    "<div align=\"center\">\n",
    "    <img src=\"https://www.universidades.com.ec/logos/original/logo-universidad-politecnica-salesiana.png\">\n",
    "    <h1 style=\"text-align: center;\"><span style=\"text-align: center; color: #0000ff;\"><strong>PRUEBA DE SIMULACION</strong></span></h1>\n",
    "    <p style=\"text-align: center;\"><span style=\"text-align: center;\"><strong>ESTUDIANTE: ANGEL RUIZ</strong></span></p>\n",
    "</div>"
   ]
  },
  {
   "cell_type": "markdown",
   "id": "cbd7393d",
   "metadata": {},
   "source": [
    "<h2>\n",
    "\t<span style=\"color: #00ff00;\">\n",
    "\t\t Importaci&oacute;n de librerias\n",
    "\t</span>\n",
    "</h2>\n",
    "<p>\n",
    "\t<span>\n",
    "\t</span>\n",
    "\t A continuaci&oacute;n se importaran todas las librer&iacute;as que se utilizaran en el proceso del\n",
    "\t<span class=\"misspelling correction\" data-type=\"misspelling\" data-suggestions=\"[{&quot;value&quot;:&quot;an&aacute;lisis&quot;},{&quot;value&quot;:&quot;ana lisis&quot;}]\" data-rule=\"MORFOLOGIK_RULE_ES\" title=\"Se ha encontrado un posible error ortogr&aacute;fico.\" data-word=\"analisis\">\n",
    "\t\t an&aacute;lisis\n",
    "\t</span>\n",
    "\t y simulaci&oacute;n de los datos.\n",
    "</p>"
   ]
  },
  {
   "cell_type": "code",
   "execution_count": 1,
   "id": "04ce28ed",
   "metadata": {},
   "outputs": [],
   "source": [
    "import simpy\n",
    "import random\n",
    "import numpy\n",
    "import pandas as pd\n",
    "import matplotlib.pyplot as pp"
   ]
  },
  {
   "cell_type": "markdown",
   "id": "7f3cc636",
   "metadata": {},
   "source": [
    "<h2><span style=\"color: #00ff00;\">Variables</span></h2>\n",
    "<p>Declaramos todas las variables que utilizaremos en nuestra simulación </p>"
   ]
  },
  {
   "cell_type": "code",
   "execution_count": 2,
   "id": "4470733a",
   "metadata": {},
   "outputs": [],
   "source": [
    "tiempo_simulacion = 367200 \n",
    "estudiantes=200\n",
    "docentes=30\n",
    "cursos=40\n",
    "dias=0"
   ]
  },
  {
   "cell_type": "markdown",
   "id": "23fdbcd8",
   "metadata": {},
   "source": [
    "<h2><span style=\"color: #00ff00;\">Logíca</span></h2>\n",
    "<p>Para poder realizar una simulacion real, asignamos los estudiantes de forma aleatoria a los cursos</p>"
   ]
  },
  {
   "cell_type": "code",
   "execution_count": 3,
   "id": "3fa1a9dd",
   "metadata": {},
   "outputs": [],
   "source": [
    "estudiantesCursos = {}\n",
    "def estudiantesCursosList():\n",
    "    for i in range(estudiantes):\n",
    "        estudiantesCursos[i+1] = 'estudiante_{}'.format(i+1),random.randint(1,cursos)\n",
    "    return estudiantesCursos"
   ]
  },
  {
   "cell_type": "markdown",
   "id": "fccf73e0",
   "metadata": {},
   "source": [
    "<h2><span style=\"color: #00ff00;\">Simulación</span></h2>\n",
    "<p>Creamos toda nuestra lógica de simulación, el cual definimos cada cuanto los estudiantes salen a los recesos y vuelven a su casa, y así observar como se propaga virus y se retoma con normalidad las clases</p>"
   ]
  },
  {
   "cell_type": "code",
   "execution_count": 4,
   "id": "dc2ada86",
   "metadata": {},
   "outputs": [],
   "source": [
    "class simulacionDeClases():\n",
    "    def __init__(self,entorno):\n",
    "        self.env = entorno\n",
    "\n",
    "    def llegarCurso(self,tiempo):\n",
    "        yield self.env.timeout(tiempo)\n",
    "\n",
    "    def primeraHora(self,tiempo):\n",
    "        yield self.env.timeout(tiempo)\n",
    "\n",
    "    def receso(self,tiempo):\n",
    "        yield self.env.timeout(tiempo)\n",
    "\n",
    "    def segundaHora(self,tiempo):\n",
    "        yield self.env.timeout(tiempo)\n",
    "\n",
    "    def irCasa(self,tiempo):\n",
    "        yield self.env.timeout(tiempo)\n",
    "        \n",
    "    def pruebaPcr(self,listado):\n",
    "        estudiantes_pcr = []\n",
    "        for i in range(int(len(listado.keys()))):\n",
    "            if((random.randint(1,100))<=14):\n",
    "                estudiantes_pcr.append(i)\n",
    "        return estudiantes_pcr\n",
    "\n",
    "    def clases(self,persona):\n",
    "        tiempo_llegada = random.uniform(0.016,0.032)\n",
    "        yield self.env.process(self.llegarCurso(tiempo_llegada))            \n",
    "        tiempo_primera_hora = 3 \n",
    "        yield self.env.process(self.primeraHora(tiempo_primera_hora))\n",
    "        tiempo_receso = 0.5\n",
    "        yield self.env.process(self.receso(tiempo_receso))\n",
    "        tiempo_segunda_hora = 2.5 \n",
    "        yield self.env.process(self.segundaHora(tiempo_segunda_hora))\n",
    "        tiempo_en_casa = 18\n",
    "        yield self.env.process(self.irCasa(tiempo_en_casa))   "
   ]
  },
  {
   "cell_type": "markdown",
   "id": "4a3c8792",
   "metadata": {},
   "source": [
    "<h2><span style=\"color: #00ff00;\">Ejecución de Simulación</span></h2>\n",
    "<p>Ejecutamos nuestra simulación, para ello definimos los días que simulamos en este caso son 30 y al día 31 realizamos la prueba PCR</p>"
   ]
  },
  {
   "cell_type": "code",
   "execution_count": 5,
   "id": "4dafd210",
   "metadata": {},
   "outputs": [],
   "source": [
    "cerrarCursos = []\n",
    "contagiadosNuevo = []\n",
    "contagiosEstudiantes = []\n",
    "class Simulacion():\n",
    "    def ejecutar_simulacion(self,env,listadoEstudiantes):\n",
    "        proceso = simulacionDeClases(env)\n",
    "        if dias < 31:\n",
    "            print('Numero de estudiantes que entran a clases: {}'.format(len(listadoEstudiantes)))\n",
    "            for i in listadoEstudiantes.items():\n",
    "                yield env.process(proceso.clases(i))\n",
    "        else:\n",
    "            contagiadosNuevo = proceso.pruebaPcr(listadoEstudiantes)\n",
    "            contagiosEstudiantes.append(len(contagiadosNuevo))\n",
    "            for i in range(len(contagiadosNuevo)):\n",
    "                for j in range(int(len(listadoEstudiantes.keys()))):\n",
    "                    if(contagiadosNuevo[i]==j):\n",
    "                        cerrarCursos.append(listadoEstudiantes.get(j)[1])"
   ]
  },
  {
   "cell_type": "markdown",
   "id": "913e056e",
   "metadata": {},
   "source": [
    "<h2><span style=\"color: #00ff00;\">Resultados</span></h2>\n",
    "<p>Procedemos a visualizar los resultados de nuestro modelo.</p>"
   ]
  },
  {
   "cell_type": "code",
   "execution_count": 6,
   "id": "7035f3f1",
   "metadata": {},
   "outputs": [
    {
     "name": "stdout",
     "output_type": "stream",
     "text": [
      "DÍA: 0\n",
      "Numero de estudiantes que entran a clases: 200\n",
      "DÍA: 1\n",
      "Numero de estudiantes que entran a clases: 200\n",
      "DÍA: 2\n",
      "Numero de estudiantes que entran a clases: 200\n",
      "DÍA: 3\n",
      "Numero de estudiantes que entran a clases: 200\n",
      "DÍA: 4\n",
      "Numero de estudiantes que entran a clases: 200\n",
      "DÍA: 5\n",
      "Numero de estudiantes que entran a clases: 200\n",
      "DÍA: 6\n",
      "Numero de estudiantes que entran a clases: 200\n",
      "DÍA: 7\n",
      "Numero de estudiantes que entran a clases: 200\n",
      "DÍA: 8\n",
      "Numero de estudiantes que entran a clases: 200\n",
      "DÍA: 9\n",
      "Numero de estudiantes que entran a clases: 200\n",
      "DÍA: 10\n",
      "Numero de estudiantes que entran a clases: 200\n",
      "DÍA: 11\n",
      "Numero de estudiantes que entran a clases: 200\n",
      "DÍA: 12\n",
      "Numero de estudiantes que entran a clases: 200\n",
      "DÍA: 13\n",
      "Numero de estudiantes que entran a clases: 200\n",
      "DÍA: 14\n",
      "Numero de estudiantes que entran a clases: 200\n",
      "DÍA: 15\n",
      "Numero de estudiantes que entran a clases: 200\n",
      "DÍA: 16\n",
      "Numero de estudiantes que entran a clases: 200\n",
      "DÍA: 17\n",
      "Numero de estudiantes que entran a clases: 200\n",
      "DÍA: 18\n",
      "Numero de estudiantes que entran a clases: 200\n",
      "DÍA: 19\n",
      "Numero de estudiantes que entran a clases: 200\n",
      "DÍA: 20\n",
      "Numero de estudiantes que entran a clases: 200\n",
      "DÍA: 21\n",
      "Numero de estudiantes que entran a clases: 200\n",
      "DÍA: 22\n",
      "Numero de estudiantes que entran a clases: 200\n",
      "DÍA: 23\n",
      "Numero de estudiantes que entran a clases: 200\n",
      "DÍA: 24\n",
      "Numero de estudiantes que entran a clases: 200\n",
      "DÍA: 25\n",
      "Numero de estudiantes que entran a clases: 200\n",
      "DÍA: 26\n",
      "Numero de estudiantes que entran a clases: 200\n",
      "DÍA: 27\n",
      "Numero de estudiantes que entran a clases: 200\n",
      "DÍA: 28\n",
      "Numero de estudiantes que entran a clases: 200\n",
      "DÍA: 29\n",
      "Numero de estudiantes que entran a clases: 200\n",
      "DÍA: 30\n",
      "Numero de estudiantes que entran a clases: 200\n",
      "DÍA: 31\n"
     ]
    }
   ],
   "source": [
    "for i in range(32):\n",
    "    print('DÍA: {}'.format(i))\n",
    "    env = simpy.Environment()\n",
    "    simulacion = Simulacion()\n",
    "    env.process(simulacion.ejecutar_simulacion(env,estudiantesCursosList()))\n",
    "    env.run(until=tiempo_simulacion)\n",
    "    dias+=1"
   ]
  },
  {
   "cell_type": "markdown",
   "id": "c179c8c4",
   "metadata": {},
   "source": [
    "<h2><span style=\"color: #00ff00;\">Resultados</span></h2>"
   ]
  },
  {
   "cell_type": "code",
   "execution_count": 7,
   "id": "1890fc54",
   "metadata": {},
   "outputs": [
    {
     "name": "stdout",
     "output_type": "stream",
     "text": [
      "Total de estudiantes y docentes: 230\n",
      "Total de estudiantes contagiados: [30]\n",
      "Total de cursos cerrados:\n",
      "{1, 4, 7, 8, 10, 12, 14, 15, 16, 17, 19, 21, 23, 29, 30, 33, 34, 35, 36, 37, 38, 39}\n"
     ]
    }
   ],
   "source": [
    "print('Total de estudiantes y docentes: {}'.format(estudiantes+docentes))\n",
    "print('Total de estudiantes contagiados: {}'.format(contagiosEstudiantes))\n",
    "print('Total de cursos cerrados:')\n",
    "print(set(cerrarCursos))"
   ]
  },
  {
   "cell_type": "markdown",
   "id": "04b192e0",
   "metadata": {},
   "source": [
    "<h2><span style=\"color: #00ff00;\">Gráfica</span></h2>"
   ]
  },
  {
   "cell_type": "code",
   "execution_count": 8,
   "id": "a15e6381",
   "metadata": {},
   "outputs": [
    {
     "data": {
      "image/png": "[encoded data removed]",
      "text/plain": [
       "<Figure size 432x288 with 1 Axes>"
      ]
     },
     "metadata": {},
     "output_type": "display_data"
    }
   ],
   "source": [
    "totalEstudiantes=int(len(estudiantesCursos.keys()))\n",
    "etiquetas = ['Estudiantes no contagiados', 'Estudiantes contagiados']\n",
    "pp.pie([totalEstudiantes, contagiosEstudiantes[0]], labels=etiquetas, autopct=\"%0.1f %%\", colors=['green','yellow'])\n",
    "pp.show()"
   ]
  },
  {
   "cell_type": "markdown",
   "id": "fe85c24c",
   "metadata": {},
   "source": [
    "<h2><span style=\"color: #00ff00;\">Opinión</span></h2>\n",
    "<p>Lo idea a la hora de realizar una simulación es tener fuentes confiables, es lo primoridal, ya que las simulaciones se basan en asemejarse a la realidad para obtener resultados que sirvan para el análisis.</p>"
   ]
  },
  {
   "cell_type": "markdown",
   "id": "fcd70b29",
   "metadata": {},
   "source": [
    "<h2><span style=\"color: #00ff00;\">Conclusiones</span></h2>\n",
    "<p>Aún no estamos preparados para entrar a clases presenciales, ya que observamos un porcentaje alto de estudiantes contagiados y con el sistema sanitario que poseemos colapsaría rápidamente, ya que podemos observar que estamos simulando un solo colegio, pero si abrieran todos presenciales se desbordaría rápidamente todo el sistema. Pero sin embargo considero que al ritmo de vacunación que poseemos actualmente en poco meses se podría tomar las clases presenciales.</p>"
   ]
  }
 ],
 "metadata": {
  "kernelspec": {
   "display_name": "Python 3",
   "language": "python",
   "name": "python3"
  },
  "language_info": {
   "codemirror_mode": {
    "name": "ipython",
    "version": 3
   },
   "file_extension": ".py",
   "mimetype": "text/x-python",
   "name": "python",
   "nbconvert_exporter": "python",
   "pygments_lexer": "ipython3",
   "version": "3.8.5"
  }
 },
 "nbformat": 4,
 "nbformat_minor": 5
}
